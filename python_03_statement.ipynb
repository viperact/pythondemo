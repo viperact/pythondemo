{
  "nbformat": 4,
  "nbformat_minor": 0,
  "metadata": {
    "colab": {
      "provenance": [],
      "authorship_tag": "ABX9TyOSpZcMjiPcbeKf906mEqwi",
      "include_colab_link": true
    },
    "kernelspec": {
      "name": "python3",
      "display_name": "Python 3"
    },
    "language_info": {
      "name": "python"
    }
  },
  "cells": [
    {
      "cell_type": "markdown",
      "metadata": {
        "id": "view-in-github",
        "colab_type": "text"
      },
      "source": [
        "<a href=\"https://colab.research.google.com/github/viperact/pythondemo/blob/main/python_03_statement.ipynb\" target=\"_parent\"><img src=\"https://colab.research.google.com/assets/colab-badge.svg\" alt=\"Open In Colab\"/></a>"
      ]
    },
    {
      "cell_type": "code",
      "execution_count": 1,
      "metadata": {
        "colab": {
          "base_uri": "https://localhost:8080/"
        },
        "id": "tBxtWOZUryOh",
        "outputId": "6431b759-056c-409c-e231-294b9a4a7b4c"
      },
      "outputs": [
        {
          "output_type": "stream",
          "name": "stdout",
          "text": [
            "No\n"
          ]
        }
      ],
      "source": [
        "a = 1\n",
        "if a > 3 :\n",
        "  print('Yes')\n",
        "else : \n",
        "  print('No')"
      ]
    },
    {
      "cell_type": "code",
      "source": [
        "if a > 0 :\n",
        "  print('Yes')\n",
        "  print('Ok')\n",
        "else : \n",
        "  print('No')"
      ],
      "metadata": {
        "colab": {
          "base_uri": "https://localhost:8080/"
        },
        "id": "9LFGEvTtsbdm",
        "outputId": "f72bf82d-6e1d-467d-bffb-34cd3b3410ac"
      },
      "execution_count": 3,
      "outputs": [
        {
          "output_type": "stream",
          "name": "stdout",
          "text": [
            "Yes\n",
            "Ok\n"
          ]
        }
      ]
    },
    {
      "cell_type": "code",
      "source": [
        "# jumsu가 80이상 '상', 80미만 ~ 60이상 '중', 60미만 '하'\n",
        "jumsu = 55\n",
        "if jumsu >= 80 :\n",
        "  print('상')\n",
        "elif jumsu >= 60 :\n",
        "  print('중')\n",
        "else :\n",
        "  print('하') "
      ],
      "metadata": {
        "colab": {
          "base_uri": "https://localhost:8080/"
        },
        "id": "l75YSOyVsm29",
        "outputId": "0dd3f907-d59e-489e-9971-b14e200f4d32"
      },
      "execution_count": 6,
      "outputs": [
        {
          "output_type": "stream",
          "name": "stdout",
          "text": [
            "하\n"
          ]
        }
      ]
    },
    {
      "cell_type": "markdown",
      "source": [
        "### existance\n",
        "  python에서 조건은 존재론(existance)적이다. -> truthy, falsy"
      ],
      "metadata": {
        "id": "_SWhbwlVtljL"
      }
    },
    {
      "cell_type": "code",
      "source": [
        "# 0은 숫자가 없는것과 같음 -> falsy\n",
        "a = 0.0\n",
        "if a:\n",
        "  print('Yes')\n",
        "else:\n",
        "  print('No')"
      ],
      "metadata": {
        "colab": {
          "base_uri": "https://localhost:8080/"
        },
        "id": "5lFpaJFZtvOt",
        "outputId": "6e912dcf-9464-4b79-e36f-13eafbac403f"
      },
      "execution_count": 13,
      "outputs": [
        {
          "output_type": "stream",
          "name": "stdout",
          "text": [
            "No\n"
          ]
        }
      ]
    },
    {
      "cell_type": "code",
      "source": [
        "a = 1\n",
        "if a:\n",
        "  print('Yes')\n",
        "else:\n",
        "  print('No')"
      ],
      "metadata": {
        "colab": {
          "base_uri": "https://localhost:8080/"
        },
        "id": "ZZKmIeOtt4SN",
        "outputId": "b213dd77-6fc5-4581-d4ea-13ae88e8d922"
      },
      "execution_count": 11,
      "outputs": [
        {
          "output_type": "stream",
          "name": "stdout",
          "text": [
            "Yes\n"
          ]
        }
      ]
    },
    {
      "cell_type": "code",
      "source": [
        "# None은 객체가 없는 것과 같음 -> falsy\n",
        "a = None\n",
        "if a:\n",
        "  print('Yes')\n",
        "else:\n",
        "  print('No')"
      ],
      "metadata": {
        "colab": {
          "base_uri": "https://localhost:8080/"
        },
        "id": "jyKMrB03uGW0",
        "outputId": "6746543e-d54c-4df8-d571-59868993425c"
      },
      "execution_count": 14,
      "outputs": [
        {
          "output_type": "stream",
          "name": "stdout",
          "text": [
            "No\n"
          ]
        }
      ]
    },
    {
      "cell_type": "code",
      "source": [
        "# 비어있는 dict는 없는것과 같음 -> falsy\n",
        "a = {}\n",
        "if a:\n",
        "  print('Yes')\n",
        "else:\n",
        "  print('No')"
      ],
      "metadata": {
        "colab": {
          "base_uri": "https://localhost:8080/"
        },
        "id": "mrEQzbQrvCGV",
        "outputId": "6388455d-996e-440b-b66b-5bebeee041f8"
      },
      "execution_count": 15,
      "outputs": [
        {
          "output_type": "stream",
          "name": "stdout",
          "text": [
            "No\n"
          ]
        }
      ]
    },
    {
      "cell_type": "code",
      "source": [
        "#인스턴스 방식으로 값을 만들 때 괄호안이 비어있으면, 비어있는 값을 만든다.\n",
        "#if에서 모드 false이다.\n",
        "a = int()\n",
        "b = float()\n",
        "c = complex()\n",
        "d = list()\n"
      ],
      "metadata": {
        "id": "eS3V2sEcvVzF"
      },
      "execution_count": null,
      "outputs": []
    },
    {
      "cell_type": "code",
      "source": [
        "if a:\n",
        "  print('Yes')\n",
        "else:\n",
        "  print('No')"
      ],
      "metadata": {
        "colab": {
          "base_uri": "https://localhost:8080/"
        },
        "id": "vHaOTKKfvsY-",
        "outputId": "3a2f3edd-3489-4ea2-dfd2-7941df0ecf0a"
      },
      "execution_count": 22,
      "outputs": [
        {
          "output_type": "stream",
          "name": "stdout",
          "text": [
            "No\n"
          ]
        }
      ]
    },
    {
      "cell_type": "code",
      "source": [
        "3 < 2 or 4 < 5"
      ],
      "metadata": {
        "colab": {
          "base_uri": "https://localhost:8080/"
        },
        "id": "lh4zsFQtwEgU",
        "outputId": "9dea7eb6-1b53-4343-a8e2-b78a1f655423"
      },
      "execution_count": 23,
      "outputs": [
        {
          "output_type": "execute_result",
          "data": {
            "text/plain": [
              "True"
            ]
          },
          "metadata": {},
          "execution_count": 23
        }
      ]
    },
    {
      "cell_type": "code",
      "source": [
        "#파이썬은 존재론적으로 따짐\n",
        "# and는 앞이 True이면 뒤에 값을 반환한다.\n",
        "# 3은 존재론적으로 True\n",
        "3 and 5"
      ],
      "metadata": {
        "colab": {
          "base_uri": "https://localhost:8080/"
        },
        "id": "gPFswNIUxtBi",
        "outputId": "a466a4fb-e80a-473f-fdd6-6e06a170b16c"
      },
      "execution_count": 26,
      "outputs": [
        {
          "output_type": "execute_result",
          "data": {
            "text/plain": [
              "5"
            ]
          },
          "metadata": {},
          "execution_count": 26
        }
      ]
    },
    {
      "cell_type": "code",
      "source": [
        "# and는 앞의 값이 False이면 앞에 값을 반환한다.\n",
        "# 공백 문자열은 없는것과 같음 -> flasy\n",
        "\"\" and 4"
      ],
      "metadata": {
        "colab": {
          "base_uri": "https://localhost:8080/",
          "height": 35
        },
        "id": "zepMGvCHyNBi",
        "outputId": "9543d141-51ee-4223-b142-c1646fe3f9b6"
      },
      "execution_count": 29,
      "outputs": [
        {
          "output_type": "execute_result",
          "data": {
            "text/plain": [
              "''"
            ],
            "application/vnd.google.colaboratory.intrinsic+json": {
              "type": "string"
            }
          },
          "metadata": {},
          "execution_count": 29
        }
      ]
    },
    {
      "cell_type": "code",
      "source": [
        "# or는 and의 반대\n",
        "# 앞이 True이면 앞, 앞이 False이면 뒤의 값을 반환한다.\n",
        "3 or 4"
      ],
      "metadata": {
        "colab": {
          "base_uri": "https://localhost:8080/"
        },
        "id": "bS_Ly7A1yPBS",
        "outputId": "b43da3ff-5290-41b4-98c3-44e5a5a20644"
      },
      "execution_count": 32,
      "outputs": [
        {
          "output_type": "execute_result",
          "data": {
            "text/plain": [
              "3"
            ]
          },
          "metadata": {},
          "execution_count": 32
        }
      ]
    },
    {
      "cell_type": "code",
      "source": [
        "\"\" or 4"
      ],
      "metadata": {
        "colab": {
          "base_uri": "https://localhost:8080/"
        },
        "id": "dQlUs3WqzApL",
        "outputId": "576d9eca-11b5-4b58-9047-c028c521781b"
      },
      "execution_count": 34,
      "outputs": [
        {
          "output_type": "execute_result",
          "data": {
            "text/plain": [
              "4"
            ]
          },
          "metadata": {},
          "execution_count": 34
        }
      ]
    },
    {
      "cell_type": "code",
      "source": [
        "# 조건식에는 문장을 사용할 수 없다.\n",
        "if a=4:\n",
        "  print('Yes')"
      ],
      "metadata": {
        "colab": {
          "base_uri": "https://localhost:8080/",
          "height": 137
        },
        "id": "7CUmDT-8zFIr",
        "outputId": "08f07396-c64f-4012-9482-d98210b3a5c2"
      },
      "execution_count": 36,
      "outputs": [
        {
          "output_type": "error",
          "ename": "SyntaxError",
          "evalue": "ignored",
          "traceback": [
            "\u001b[0;36m  File \u001b[0;32m\"<ipython-input-36-95e1901956c7>\"\u001b[0;36m, line \u001b[0;32m2\u001b[0m\n\u001b[0;31m    if a=4:\u001b[0m\n\u001b[0m        ^\u001b[0m\n\u001b[0;31mSyntaxError\u001b[0m\u001b[0;31m:\u001b[0m invalid syntax\n"
          ]
        }
      ]
    },
    {
      "cell_type": "code",
      "source": [
        "#for 문\n",
        "# 범위를 지정하는 방법에는 두가지가 있다.(1/2)\n",
        "# 첫 번째 방법은 순서형 또는 딕셔너리를 사용하는 것이다.\n",
        "for v in [1, 2, 3, 4, 5]:\n",
        "  print(v)"
      ],
      "metadata": {
        "colab": {
          "base_uri": "https://localhost:8080/"
        },
        "id": "WDjn1Q8V3t48",
        "outputId": "4e01c8b3-874e-471b-cf4c-bda40b1a791a"
      },
      "execution_count": 37,
      "outputs": [
        {
          "output_type": "stream",
          "name": "stdout",
          "text": [
            "1\n",
            "2\n",
            "3\n",
            "4\n",
            "5\n"
          ]
        }
      ]
    },
    {
      "cell_type": "code",
      "source": [
        "for v in 'python':\n",
        "  print(v)"
      ],
      "metadata": {
        "colab": {
          "base_uri": "https://localhost:8080/"
        },
        "id": "ReLjWvRP557u",
        "outputId": "8cd9bfe0-ed64-489a-bfa8-583712187862"
      },
      "execution_count": 40,
      "outputs": [
        {
          "output_type": "stream",
          "name": "stdout",
          "text": [
            "p\n",
            "y\n",
            "t\n",
            "h\n",
            "o\n",
            "n\n"
          ]
        }
      ]
    },
    {
      "cell_type": "code",
      "source": [
        "t = [('one',1), ('two',2)]\n",
        "for k, v in t:\n",
        "  print('{0}, {1}'.format(k, v))"
      ],
      "metadata": {
        "colab": {
          "base_uri": "https://localhost:8080/"
        },
        "id": "1w-494Qg5_J1",
        "outputId": "744cd1b3-53aa-4ed7-fe30-46de79ed4ce5"
      },
      "execution_count": 47,
      "outputs": [
        {
          "output_type": "stream",
          "name": "stdout",
          "text": [
            "one, 1\n",
            "two, 2\n"
          ]
        }
      ]
    },
    {
      "cell_type": "code",
      "source": [
        "#python에서 자료를 가져올땐 [ ] 대괄호를 사용하여 가져옴 (자바에서의 get메소드)\n",
        "dic = {'a':1, 'b':2}\n",
        "for k in dic:\n",
        "  print('{0} : {1}'.format(k, dic[k]))"
      ],
      "metadata": {
        "colab": {
          "base_uri": "https://localhost:8080/"
        },
        "id": "mr000zyf6O_k",
        "outputId": "421fd16a-2d84-436e-b4a9-f2674e55bbf6"
      },
      "execution_count": 56,
      "outputs": [
        {
          "output_type": "stream",
          "name": "stdout",
          "text": [
            "a : 1\n",
            "b : 2\n"
          ]
        }
      ]
    },
    {
      "cell_type": "code",
      "source": [
        "#dic 와 dict의 타입은 같다\n",
        "print(len(dir(dict)), len(dir(dic)))"
      ],
      "metadata": {
        "colab": {
          "base_uri": "https://localhost:8080/"
        },
        "id": "4nLF3zzN7QsC",
        "outputId": "6b38e480-e401-4020-c604-245ed1eb66d8"
      },
      "execution_count": 51,
      "outputs": [
        {
          "output_type": "stream",
          "name": "stdout",
          "text": [
            "41 41\n"
          ]
        }
      ]
    },
    {
      "cell_type": "code",
      "source": [
        "dic.__doc__"
      ],
      "metadata": {
        "colab": {
          "base_uri": "https://localhost:8080/",
          "height": 89
        },
        "id": "KzgFug8b8M7F",
        "outputId": "9f55932e-8448-4eb9-e575-3c4dceda8762"
      },
      "execution_count": 53,
      "outputs": [
        {
          "output_type": "execute_result",
          "data": {
            "text/plain": [
              "\"dict() -> new empty dictionary\\ndict(mapping) -> new dictionary initialized from a mapping object's\\n    (key, value) pairs\\ndict(iterable) -> new dictionary initialized as if via:\\n    d = {}\\n    for k, v in iterable:\\n        d[k] = v\\ndict(**kwargs) -> new dictionary initialized with the name=value pairs\\n    in the keyword argument list.  For example:  dict(one=1, two=2)\""
            ],
            "application/vnd.google.colaboratory.intrinsic+json": {
              "type": "string"
            }
          },
          "metadata": {},
          "execution_count": 53
        }
      ]
    },
    {
      "cell_type": "code",
      "source": [
        "dict.__doc__"
      ],
      "metadata": {
        "colab": {
          "base_uri": "https://localhost:8080/",
          "height": 89
        },
        "id": "Z2XQi9je8SbZ",
        "outputId": "7f8f7ed3-68ae-4832-824c-640e0ac4b5c8"
      },
      "execution_count": 54,
      "outputs": [
        {
          "output_type": "execute_result",
          "data": {
            "text/plain": [
              "\"dict() -> new empty dictionary\\ndict(mapping) -> new dictionary initialized from a mapping object's\\n    (key, value) pairs\\ndict(iterable) -> new dictionary initialized as if via:\\n    d = {}\\n    for k, v in iterable:\\n        d[k] = v\\ndict(**kwargs) -> new dictionary initialized with the name=value pairs\\n    in the keyword argument list.  For example:  dict(one=1, two=2)\""
            ],
            "application/vnd.google.colaboratory.intrinsic+json": {
              "type": "string"
            }
          },
          "metadata": {},
          "execution_count": 54
        }
      ]
    },
    {
      "cell_type": "code",
      "source": [
        "a = 10;\n",
        "\n",
        "while a > 10:\n",
        "  a -= 1\n",
        "  print(a)\n",
        "else:\n",
        "  print('end')"
      ],
      "metadata": {
        "colab": {
          "base_uri": "https://localhost:8080/"
        },
        "id": "edIkdTWl9yzN",
        "outputId": "6cae2a62-4829-49d0-fa78-3243aed19199"
      },
      "execution_count": 60,
      "outputs": [
        {
          "output_type": "stream",
          "name": "stdout",
          "text": [
            "end\n"
          ]
        }
      ]
    },
    {
      "cell_type": "markdown",
      "source": [
        "### 반복문\n",
        "\n",
        "반복문에서의 else는 반복문이 완벽하게 끝났을 때 실행된다.  \n",
        "대부분의 프로그래밍 언어는 while과 for을 지원한다.  \n",
        "\n",
        "\n"
      ],
      "metadata": {
        "id": "XqFzVjan-ima"
      }
    },
    {
      "cell_type": "code",
      "source": [
        "# 아래는 while문이 완벽히 돌았으므로 end가 출력된다.\n",
        "a = 20;\n",
        "\n",
        "while a > 10:\n",
        "  a -= 1\n",
        "  print(a)\n",
        "else:\n",
        "  print('end')"
      ],
      "metadata": {
        "colab": {
          "base_uri": "https://localhost:8080/"
        },
        "id": "5khcMhde-f66",
        "outputId": "37eaa955-f984-47b0-c38a-593efa69fedc"
      },
      "execution_count": 61,
      "outputs": [
        {
          "output_type": "stream",
          "name": "stdout",
          "text": [
            "19\n",
            "18\n",
            "17\n",
            "16\n",
            "15\n",
            "14\n",
            "13\n",
            "12\n",
            "11\n",
            "10\n",
            "end\n"
          ]
        }
      ]
    },
    {
      "cell_type": "code",
      "source": [
        "# break는 반복문을 중단시킨다.\n",
        "# break가 실행되면 반복문이 완벽하게 실행된 것이 아니므로 else가 실행되지 않는다.\n",
        "a = 10\n",
        "while a > 1:\n",
        "  a -= 1\n",
        "  if a == 5:\n",
        "    break #중단\n",
        "  print(a)\n",
        "else:\n",
        "  print('end')"
      ],
      "metadata": {
        "colab": {
          "base_uri": "https://localhost:8080/"
        },
        "id": "aRQ_r5_W_Bxd",
        "outputId": "44e2e6a7-0aac-4bca-a383-d639c8977a34"
      },
      "execution_count": 62,
      "outputs": [
        {
          "output_type": "stream",
          "name": "stdout",
          "text": [
            "9\n",
            "8\n",
            "7\n",
            "6\n"
          ]
        }
      ]
    },
    {
      "cell_type": "code",
      "source": [
        "# continue는 다음 루프로 바로 넘어간다.\n",
        "# 반복문을 중단하지는 않으므로 else문이 실행된다.\n",
        "a = 10\n",
        "while a > 1:\n",
        "  a -= 1\n",
        "  if a == 5:\n",
        "    continue\n",
        "  print(a)\n",
        "else:\n",
        "  print('end')"
      ],
      "metadata": {
        "colab": {
          "base_uri": "https://localhost:8080/"
        },
        "id": "qScnzi9t_6tt",
        "outputId": "c9c65a34-b586-4cbf-a8f5-9787acd1087d"
      },
      "execution_count": 63,
      "outputs": [
        {
          "output_type": "stream",
          "name": "stdout",
          "text": [
            "9\n",
            "8\n",
            "7\n",
            "6\n",
            "4\n",
            "3\n",
            "2\n",
            "1\n",
            "end\n"
          ]
        }
      ]
    },
    {
      "cell_type": "markdown",
      "source": [
        "#반복문과 함께 사용되는 함수\n",
        "- range 함수  \n",
        " - range(start, stop, step)함수는 주로 for문과 같이 사용된다\n",
        " - range(start, stop, step)함수는 숫자범위에 대하여 반복을 하거나 특정한 범위의 숫자를 나열하도록 해주는 특별한 함수이다\n",
        " - range 함수를 사용하는 형식은 선택사항인 시작값(start), 종료값(stop), 증감분(step)이다.\n",
        " -range(0,10,2) => 0, 2, 4, 8  \n",
        "  0부터 시작하여 2의 간격으로 10의 미만까지의 정수"
      ],
      "metadata": {
        "id": "HLFzFmLNBOsa"
      }
    },
    {
      "cell_type": "code",
      "source": [
        "#for문\n",
        "#범위를 지정하는 방법에는 두가지가 있다.(2/2)\n",
        "#두 번째 방법은 변수 자체를 출력하는 방법이다.\n",
        "#for 변수 in range(시작번호, 마지막 번호, 증가값)\n",
        "for i in range(1, 6): # 1부터 6미만까지의 값 출력\n",
        "  print(i)"
      ],
      "metadata": {
        "colab": {
          "base_uri": "https://localhost:8080/"
        },
        "id": "HCfxQjPDA3Qg",
        "outputId": "b04a9d57-7d0a-404d-d8c7-63d60fc97306"
      },
      "execution_count": 65,
      "outputs": [
        {
          "output_type": "stream",
          "name": "stdout",
          "text": [
            "1\n",
            "2\n",
            "3\n",
            "4\n",
            "5\n"
          ]
        }
      ]
    },
    {
      "cell_type": "markdown",
      "source": [
        "#for문과 함께 사용되는 함수\n",
        " - enumerate 함수\n",
        "  - enumerate()함수는 인덱스와 객체를 동시에 저장할 수 있는 특징을 가진 form문을 좀 더 효율적으로 사용하기 위한 함수이다.\n",
        "  - enumerate()함수는 순서자료형(리스트, 튜플, 문자열)을 입력으로 받아 인덱스를 포함하는 enumerate객체를 리턴한다.\n",
        "  - enumerate([순서자료형], [시작값 = 0])의 형식을 가지며 순서자료형은 반복자가 가능한 객체가 입력되고 시작값은 입력시 해당수 부터 증가하며, 생략했을 경우 기본값은 0이다."
      ],
      "metadata": {
        "id": "XqrQgnp5Jr8T"
      }
    },
    {
      "cell_type": "code",
      "source": [
        "# enumerate 함수\n",
        "for k, v in enumerate(['apple', 'python', 'microsoft']):\n",
        "  print('{0} : {1}'.format(k, v))"
      ],
      "metadata": {
        "colab": {
          "base_uri": "https://localhost:8080/"
        },
        "id": "sV7My8xeJmf5",
        "outputId": "43922b48-58e7-4f2e-9adc-ad158f59d2b8"
      },
      "execution_count": 68,
      "outputs": [
        {
          "output_type": "stream",
          "name": "stdout",
          "text": [
            "0 : apple\n",
            "1 : python\n",
            "2 : microsoft\n"
          ]
        }
      ]
    },
    {
      "cell_type": "code",
      "source": [
        "# 1 = 시작인덱스값을 정해줌\n",
        "for j in enumerate(['apple', 'python', 'microsoft'], 1):\n",
        "  print('{0}'.format(j))"
      ],
      "metadata": {
        "colab": {
          "base_uri": "https://localhost:8080/"
        },
        "id": "MlkTbZZkLCyD",
        "outputId": "b96f63df-91c0-492c-ef11-38181dfa590b"
      },
      "execution_count": 70,
      "outputs": [
        {
          "output_type": "stream",
          "name": "stdout",
          "text": [
            "(1, 'apple')\n",
            "(2, 'python')\n",
            "(3, 'microsoft')\n"
          ]
        }
      ]
    },
    {
      "cell_type": "code",
      "source": [
        "#zip 함수\n",
        "# 매개 인자로 여러 목록을 받아 각 목록의 요소를 튜플에 담아 목록에 저장한다.\n",
        "a = [1, 2, 3, 4, 5]\n",
        "b = ['a', 'b', 'c', 'd', 'e']\n",
        "\n",
        "for x, y in zip (a, b):\n",
        "  print(x, y)\n",
        "  t = x, y\n",
        "print(type(t))"
      ],
      "metadata": {
        "colab": {
          "base_uri": "https://localhost:8080/"
        },
        "id": "qODdBAHgLebp",
        "outputId": "de190413-f652-4150-d35c-2d96e743fa5f"
      },
      "execution_count": 77,
      "outputs": [
        {
          "output_type": "stream",
          "name": "stdout",
          "text": [
            "1 a\n",
            "2 b\n",
            "3 c\n",
            "4 d\n",
            "5 e\n",
            "<class 'tuple'>\n"
          ]
        }
      ]
    },
    {
      "cell_type": "code",
      "source": [
        "#item 함수\n",
        "# dict의 내장함수로 키와 값을 동시에 검색한다.\n",
        "dic = {'애플' : 'www.apple.com', '파이썬':'www.python.org'}\n",
        "for k, v in dic.items():\n",
        "  print('{0} : {1}'.format(k, v))\n",
        "  m = k, v\n",
        "print(type(m))"
      ],
      "metadata": {
        "colab": {
          "base_uri": "https://localhost:8080/"
        },
        "id": "U7ehuYifMAxC",
        "outputId": "18b6bf9f-6381-4a07-d6cf-b4637d4f3245"
      },
      "execution_count": 80,
      "outputs": [
        {
          "output_type": "stream",
          "name": "stdout",
          "text": [
            "애플 : www.apple.com\n",
            "파이썬 : www.python.org\n",
            "<class 'tuple'>\n"
          ]
        }
      ]
    },
    {
      "cell_type": "markdown",
      "source": [
        "#중요\n",
        "#iterable\n",
        "#range\n",
        "#enumerate\n",
        "#zip\n",
        "#item"
      ],
      "metadata": {
        "id": "N_a3HVD3N5-h"
      }
    },
    {
      "cell_type": "markdown",
      "source": [
        "#python의 예외처리\n",
        " - 예외(Exception)\n",
        "  - 프로그램을 수행하다 보면 문법적으로 문제가 없는 코드를 실행하는 중에 더 이상 진행할 수 없는 상황이 발생하는 경우를 의미한다\n",
        "  - 모든 예외는 클래스로 표현되며 최상위 클래스는 \n",
        "  BaseException클래스이다\n",
        "  -예외 상황\n",
        "    - 0으로 숫자나누기\n",
        "    - 문자열과 숫자 더하기\n",
        "    - 참조 범위를 넘어서 인덱스 참조하기\n",
        "    - 등록되어 있지 않은 키로 사전 검색하기"
      ],
      "metadata": {
        "id": "kJMUjg9hOEQA"
      }
    },
    {
      "cell_type": "code",
      "source": [
        "#예외상황\n",
        "# 나누기 연산에서 ZeroDivisonError 에러 발생\n",
        "# 0으로 숫자를 나눔\n",
        "a, b = 5, 0\n",
        "c = a / b\n",
        "c"
      ],
      "metadata": {
        "colab": {
          "base_uri": "https://localhost:8080/",
          "height": 229
        },
        "id": "JOrEiUr0Ovbp",
        "outputId": "d0554814-3e7e-4c87-be40-679dd9a99bb7"
      },
      "execution_count": 88,
      "outputs": [
        {
          "output_type": "error",
          "ename": "ZeroDivisionError",
          "evalue": "ignored",
          "traceback": [
            "\u001b[0;31m---------------------------------------------------------------------------\u001b[0m",
            "\u001b[0;31mZeroDivisionError\u001b[0m                         Traceback (most recent call last)",
            "\u001b[0;32m<ipython-input-88-07a15b23378c>\u001b[0m in \u001b[0;36m<module>\u001b[0;34m\u001b[0m\n\u001b[1;32m      2\u001b[0m \u001b[0;31m# 나누기 연산에서 ZeroDivisonError 에러 발생 0으로 숫자를 나눈상황\u001b[0m\u001b[0;34m\u001b[0m\u001b[0;34m\u001b[0m\u001b[0;34m\u001b[0m\u001b[0m\n\u001b[1;32m      3\u001b[0m \u001b[0ma\u001b[0m\u001b[0;34m,\u001b[0m \u001b[0mb\u001b[0m \u001b[0;34m=\u001b[0m \u001b[0;36m5\u001b[0m\u001b[0;34m,\u001b[0m \u001b[0;36m0\u001b[0m\u001b[0;34m\u001b[0m\u001b[0;34m\u001b[0m\u001b[0m\n\u001b[0;32m----> 4\u001b[0;31m \u001b[0mc\u001b[0m \u001b[0;34m=\u001b[0m \u001b[0ma\u001b[0m \u001b[0;34m/\u001b[0m \u001b[0mb\u001b[0m\u001b[0;34m\u001b[0m\u001b[0;34m\u001b[0m\u001b[0m\n\u001b[0m\u001b[1;32m      5\u001b[0m \u001b[0mc\u001b[0m\u001b[0;34m\u001b[0m\u001b[0;34m\u001b[0m\u001b[0m\n",
            "\u001b[0;31mZeroDivisionError\u001b[0m: division by zero"
          ]
        }
      ]
    },
    {
      "cell_type": "code",
      "source": [
        "# 정의되지 않은 변수를 사용하면 NameError 에러 발생 \"name 'spam' is not defined\"\n",
        "4 + spam * 3"
      ],
      "metadata": {
        "colab": {
          "base_uri": "https://localhost:8080/",
          "height": 193
        },
        "id": "aUS-hVs4PVXJ",
        "outputId": "53fda2d0-e83c-4591-867b-253eddcba8cf"
      },
      "execution_count": 89,
      "outputs": [
        {
          "output_type": "error",
          "ename": "NameError",
          "evalue": "ignored",
          "traceback": [
            "\u001b[0;31m---------------------------------------------------------------------------\u001b[0m",
            "\u001b[0;31mNameError\u001b[0m                                 Traceback (most recent call last)",
            "\u001b[0;32m<ipython-input-89-cddf315524f5>\u001b[0m in \u001b[0;36m<module>\u001b[0;34m\u001b[0m\n\u001b[1;32m      1\u001b[0m \u001b[0;31m# 정의되지 않은 변수를 사용하면 NameError 에러 발생\u001b[0m\u001b[0;34m\u001b[0m\u001b[0;34m\u001b[0m\u001b[0;34m\u001b[0m\u001b[0m\n\u001b[0;32m----> 2\u001b[0;31m \u001b[0;36m4\u001b[0m \u001b[0;34m+\u001b[0m \u001b[0mspam\u001b[0m \u001b[0;34m*\u001b[0m \u001b[0;36m3\u001b[0m\u001b[0;34m\u001b[0m\u001b[0;34m\u001b[0m\u001b[0m\n\u001b[0m",
            "\u001b[0;31mNameError\u001b[0m: name 'spam' is not defined"
          ]
        }
      ]
    },
    {
      "cell_type": "code",
      "source": [
        "# 숫자가 아닌 데이터를 int로 변형할때 ValueError 에러 발생 \"invalid literal for int() with base 10: 'abc'\"\n",
        "int(3) ** int('abc')"
      ],
      "metadata": {
        "colab": {
          "base_uri": "https://localhost:8080/",
          "height": 193
        },
        "id": "zxDINDsnPilk",
        "outputId": "78b60f0c-3bb7-49f6-d763-2bd65a56e68c"
      },
      "execution_count": 90,
      "outputs": [
        {
          "output_type": "error",
          "ename": "ValueError",
          "evalue": "ignored",
          "traceback": [
            "\u001b[0;31m---------------------------------------------------------------------------\u001b[0m",
            "\u001b[0;31mValueError\u001b[0m                                Traceback (most recent call last)",
            "\u001b[0;32m<ipython-input-90-9b0c54a18be1>\u001b[0m in \u001b[0;36m<module>\u001b[0;34m\u001b[0m\n\u001b[1;32m      1\u001b[0m \u001b[0;31m# 숫자가 아닌 데이터를 int로 변형할때 ValueError 에러 발생\u001b[0m\u001b[0;34m\u001b[0m\u001b[0;34m\u001b[0m\u001b[0;34m\u001b[0m\u001b[0m\n\u001b[0;32m----> 2\u001b[0;31m \u001b[0mint\u001b[0m\u001b[0;34m(\u001b[0m\u001b[0;36m3\u001b[0m\u001b[0;34m)\u001b[0m \u001b[0;34m**\u001b[0m \u001b[0mint\u001b[0m\u001b[0;34m(\u001b[0m\u001b[0;34m'abc'\u001b[0m\u001b[0;34m)\u001b[0m\u001b[0;34m\u001b[0m\u001b[0;34m\u001b[0m\u001b[0m\n\u001b[0m",
            "\u001b[0;31mValueError\u001b[0m: invalid literal for int() with base 10: 'abc'"
          ]
        }
      ]
    },
    {
      "cell_type": "code",
      "source": [
        "# 연산 중에 인수의 타입이 맞지 않으면 TypeError 에러 발생 \"can only concatenate str (not \"int\") to str\"\n",
        "'2' + 2"
      ],
      "metadata": {
        "colab": {
          "base_uri": "https://localhost:8080/",
          "height": 193
        },
        "id": "V0oqdR1MQErc",
        "outputId": "c2ec9a47-af60-4a0a-f4b3-6a3dc09df57b"
      },
      "execution_count": 91,
      "outputs": [
        {
          "output_type": "error",
          "ename": "TypeError",
          "evalue": "ignored",
          "traceback": [
            "\u001b[0;31m---------------------------------------------------------------------------\u001b[0m",
            "\u001b[0;31mTypeError\u001b[0m                                 Traceback (most recent call last)",
            "\u001b[0;32m<ipython-input-91-262d6b46672d>\u001b[0m in \u001b[0;36m<module>\u001b[0;34m\u001b[0m\n\u001b[1;32m      1\u001b[0m \u001b[0;31m# 연산 중에 인수의 타입이 맞지 않으면 TypeError 에러 발생\u001b[0m\u001b[0;34m\u001b[0m\u001b[0;34m\u001b[0m\u001b[0;34m\u001b[0m\u001b[0m\n\u001b[0;32m----> 2\u001b[0;31m \u001b[0;34m'2'\u001b[0m \u001b[0;34m+\u001b[0m \u001b[0;36m2\u001b[0m\u001b[0;34m\u001b[0m\u001b[0;34m\u001b[0m\u001b[0m\n\u001b[0m",
            "\u001b[0;31mTypeError\u001b[0m: can only concatenate str (not \"int\") to str"
          ]
        }
      ]
    },
    {
      "cell_type": "markdown",
      "source": [
        "[예외(Exception)의 분류, 정의, 발생](https://python.bakyeono.net/chapter-9-4.html) \n",
        "\n",
        "#예외의 분류\n",
        "![exception](https://python.bakyeono.net/img/img-9-4.png)"
      ],
      "metadata": {
        "id": "4n2mX0_iRqWh"
      }
    },
    {
      "cell_type": "markdown",
      "source": [
        "#예외처리(Exception Handling)\n",
        " - 예외처리란 예외가 발생했을때 프로그램이 정상적으로 종료될 수 있도록 예외가 발생되는 곳에서 해주는 기능이다.\n",
        " - 형식\n",
        "\n",
        " try:  \n",
        "    <예외가 발생될 가능성이 있는 문장>  \n",
        " except[발생 오류[as 오류 메시지 변수]]:  \n",
        "    <예외가 발생했을 때 실행되는 문장>  \n",
        "else:  \n",
        "    <예외가 발생하지 않았을 때 실행되는 문장>  \n",
        "finally:  \n",
        "    <예외 발생 여부에 상관없이 무조건 실행되는 문장>"
      ],
      "metadata": {
        "id": "uP2SgYxJTGmI"
      }
    },
    {
      "cell_type": "code",
      "source": [
        "# try ~ except\n",
        "#try ~ except  \n",
        "#try절 안에 문제가 발생할 가능성이 있는 코드 블록을 배치하고  \n",
        "#except 절에는 문제가 생겼을 때 뒤처리를 하는 코드 블록 배치  \n",
        "\n",
        "#try:  \n",
        "# 문제가 발생할 가능성이 있는 코드  \n",
        "#except:  \n",
        "# 문제가 생겼을 때 실행할 코드\n",
        "\n",
        "def divide(x, y):\n",
        "  return x / y\n",
        "\n",
        "try:\n",
        "  result = divide(1, 0) #devide함수에서 1/0을 실행하다 0으로 나누려는 시도임을 파악하고 예외를 일으킨다\n",
        "except ZeroDivisionError: #발생한 예외를 처리할 곳을 찾다가 except절을 만나 프로그램 흐름을 변경한다\n",
        "  print('분모는 0이면 안됨')\n",
        "else:\n",
        "  print(result)\n",
        "finally:\n",
        "  print('문제풀이 끝')"
      ],
      "metadata": {
        "id": "2i3Arla5SunO"
      },
      "execution_count": 92,
      "outputs": []
    },
    {
      "cell_type": "code",
      "source": [
        "# 복수개의 except\n",
        "# try 블록 안에서 여러 종류의 예외가 발생하는 경우에 사용\n",
        "# try :\n",
        "#  문제가 발생할 가능성이 있는 코드\n",
        "# except 예외형식1:\n",
        "#  문제가 생겼을 때 실행할 코드\n",
        "# except 예외형식2:\n",
        "#  문제가 생겼을 때 실행할 코드\n",
        "\n",
        "my_list = [1, 2, 3]\n",
        "\n",
        "try:\n",
        "  print(\"첨자를 입력하세요:\")\n",
        "  index = int(input())\n",
        "  print(my_list[index] / 0)\n",
        "except ZeroDivisionError: # index가 0~2 사이로 입력된다면 ZeroDivisionError가 일어난다\n",
        "  print(\"0으로 나눌 수 없습니다.\")\n",
        "except IndexError:\n",
        "  print(\"잘못된 첨자입니다.\") # index가 0~2를 벗어나면 my_list[index]에서 indexError가 발생한다"
      ],
      "metadata": {
        "colab": {
          "base_uri": "https://localhost:8080/"
        },
        "id": "qQu_DOFfYVVs",
        "outputId": "561ef4f3-9750-47d7-a57b-1ab52b826c71"
      },
      "execution_count": 102,
      "outputs": [
        {
          "output_type": "stream",
          "name": "stdout",
          "text": [
            "첨자를 입력하세요:\n",
            "2\n",
            "0으로 나눌 수 없습니다.\n"
          ]
        }
      ]
    },
    {
      "cell_type": "code",
      "source": [
        "# 복수개의 except\n",
        "# 예외의 인스턴스를 활용하는 방법 : as문 사용\n",
        "# try:\n",
        "#  문제가 없을 경우 실행할 코드\n",
        "# except 예외형식1 as err:\n",
        "#  문제가 생겼을 때 실행할 코드\n",
        "# except 예외형식 2 as err:\n",
        "#  문제가 생겼을 때 실행할 코드\n",
        "\n",
        "my_list = [1, 2, 3]\n",
        "\n",
        "try:\n",
        "  print(\"첨자를 입력하세요\")\n",
        "  index = int(input())\n",
        "  print(my_list[index] / 0)\n",
        "except ZeroDivisionError as err: #ZeroDivisionError 예외만을 처리하는 except절이다.\n",
        "  print('0으로 나눌 수 없습니다.({0})'.format(err))\n",
        "except IndexError as err: #IndextError 예외만을 처리하는 except절이다.\n",
        "  print(\"잘못된 첨자입니다.({0})\".format(err))"
      ],
      "metadata": {
        "colab": {
          "base_uri": "https://localhost:8080/"
        },
        "id": "UC7KnokeaZry",
        "outputId": "336bc401-3dfd-4622-a2e1-bce856ffa0c9"
      },
      "execution_count": 104,
      "outputs": [
        {
          "output_type": "stream",
          "name": "stdout",
          "text": [
            "첨자를 입력하세요\n",
            "10\n",
            "잘못된 첨자입니다.(list index out of range)\n"
          ]
        }
      ]
    },
    {
      "cell_type": "code",
      "source": [
        "# try ~ except ~ else\n",
        "# try와 함께 사용하는 else 절은 try절에 있는 코드블록 실행중에 아무런 예외가 일어나지 않으면 실행됨.\n",
        "# try:\n",
        "#  실행할 코드블록\n",
        "# except:\n",
        "#  예외처리 코드블록\n",
        "# else:\n",
        "#  except절을 만나지 않았을 경우 실행하는 코드블록\n",
        "\n",
        "my_list = [1, 2, 3]\n",
        "\n",
        "try:\n",
        "  print('첨자를 입력하세요:')\n",
        "  index = int(input())\n",
        "  print('my_list[{0}]: {1}'.format(index, my_list[index]))\n",
        "except:\n",
        "  print(\"조건이 아닙니다\")\n",
        "else:\n",
        "  print(\"리스트의 요소 출력에 성공했습니다.\")"
      ],
      "metadata": {
        "colab": {
          "base_uri": "https://localhost:8080/"
        },
        "id": "QYB9nH2yb7do",
        "outputId": "7637d356-7271-4b4d-bd01-cbd3121d4fbf"
      },
      "execution_count": 130,
      "outputs": [
        {
          "output_type": "stream",
          "name": "stdout",
          "text": [
            "첨자를 입력하세요:\n",
            "4\n",
            "조건이 아닙니다\n"
          ]
        }
      ]
    },
    {
      "cell_type": "code",
      "source": [
        "# raise\n",
        "# raise는 프로그래머가 의도적으로 예외를 발생시켜야 하는 경우에 사용한다.\n",
        "# raise 구문은 해당 예외를 단순히 발생시키거나 예외 발생시 필요한 정보를 같이 전달하기 위하여 인자로 넘겨줄 수 있다.\n",
        "# 또한 예외를 상위에서 처리하도록 그대로 전달할 수 도 있다.\n",
        "# raise 구문의 예외로 올 수 있는 것으로 내장예외와 사용자정의 예외가 있다.\n",
        "\n",
        "# raise [Exception] #해당 예외를 발생함\n",
        "# raise [Exception(data)] #예외를 발생시 관련 데이터를 전달함\n",
        "# raise #발생된 예외를 상위로 전달함\n",
        "\n",
        "def RaiseErrorFunc():\n",
        "  #raise문을 통해 예외를 일으킨다 (0)\n",
        "  raise NameError(\"NameError의 인자\") # RaiseErrorFunc()함수에 의해서 NameError에러가 발생하며,(1)\n",
        "\n",
        "def PropagateError():\n",
        "  try:\n",
        "    RaiseErrorFunc()\n",
        "  except: # 처리하는 부분이 없기 때문에 발생한 에러는 PropagateError()함수로 전달됨(2)\n",
        "    print(\"에러전달 이전에 먼저 이 메시지가 출력됨\")\n",
        "  raise # 예외를 받은 PropagateError()함수에서는 화면에 메세지를, 출력하고 받은 예외를 그대로 상위로 전달함. (3)\n",
        "        # 전달된 예외는 처리하는 부분이 없기 때문에 출력결과에서 확인할 수 있듯이, 에러를 출력함 (4)\n",
        "try:\n",
        "  PropagateError() # 예외를 받은 PropagateError()함수에서는 화면에 메세지를 출력하고 받은 예외를 그대로 상위로 전달함 (5)\n",
        "except Exception as err:\n",
        " print('{0} 예외가 발생했습니다.'.format(err))\n"
      ],
      "metadata": {
        "colab": {
          "base_uri": "https://localhost:8080/"
        },
        "id": "uASyslU1dlez",
        "outputId": "870ca0e2-9b5b-4f23-913b-63c75da7386c"
      },
      "execution_count": 126,
      "outputs": [
        {
          "output_type": "stream",
          "name": "stdout",
          "text": [
            "에러전달 이전에 먼저 이 메시지가 출력됨\n",
            "No active exception to reraise 예외가 발생했습니다.\n"
          ]
        }
      ]
    },
    {
      "cell_type": "code",
      "source": [],
      "metadata": {
        "id": "Uraj5cfpkoeP"
      },
      "execution_count": null,
      "outputs": []
    }
  ]
}