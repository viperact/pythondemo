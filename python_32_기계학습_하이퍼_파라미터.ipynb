{
  "nbformat": 4,
  "nbformat_minor": 0,
  "metadata": {
    "colab": {
      "provenance": [],
      "authorship_tag": "ABX9TyP07bZkXc9c4KGoQhYJMcC2",
      "include_colab_link": true
    },
    "kernelspec": {
      "name": "python3",
      "display_name": "Python 3"
    },
    "language_info": {
      "name": "python"
    }
  },
  "cells": [
    {
      "cell_type": "markdown",
      "metadata": {
        "id": "view-in-github",
        "colab_type": "text"
      },
      "source": [
        "<a href=\"https://colab.research.google.com/github/viperact/pythondemo/blob/main/python_32_%EA%B8%B0%EA%B3%84%ED%95%99%EC%8A%B5_%ED%95%98%EC%9D%B4%ED%8D%BC_%ED%8C%8C%EB%9D%BC%EB%AF%B8%ED%84%B0.ipynb\" target=\"_parent\"><img src=\"https://colab.research.google.com/assets/colab-badge.svg\" alt=\"Open In Colab\"/></a>"
      ]
    },
    {
      "cell_type": "code",
      "execution_count": 1,
      "metadata": {
        "colab": {
          "base_uri": "https://localhost:8080/"
        },
        "id": "ibW5vhfHuSnV",
        "outputId": "aefcee57-39a5-4dc5-84af-f32f35b6e31b"
      },
      "outputs": [
        {
          "output_type": "stream",
          "name": "stdout",
          "text": [
            "Reading package lists... Done\n",
            "Building dependency tree       \n",
            "Reading state information... Done\n",
            "The following package was automatically installed and is no longer required:\n",
            "  libnvidia-common-460\n",
            "Use 'sudo apt autoremove' to remove it.\n",
            "The following NEW packages will be installed:\n",
            "  fonts-nanum\n",
            "0 upgraded, 1 newly installed, 0 to remove and 20 not upgraded.\n",
            "Need to get 9,604 kB of archives.\n",
            "After this operation, 29.5 MB of additional disk space will be used.\n",
            "Get:1 http://archive.ubuntu.com/ubuntu bionic/universe amd64 fonts-nanum all 20170925-1 [9,604 kB]\n",
            "Fetched 9,604 kB in 1s (15.4 MB/s)\n",
            "debconf: unable to initialize frontend: Dialog\n",
            "debconf: (No usable dialog-like program is installed, so the dialog based frontend cannot be used. at /usr/share/perl5/Debconf/FrontEnd/Dialog.pm line 76, <> line 1.)\n",
            "debconf: falling back to frontend: Readline\n",
            "debconf: unable to initialize frontend: Readline\n",
            "debconf: (This frontend requires a controlling tty.)\n",
            "debconf: falling back to frontend: Teletype\n",
            "dpkg-preconfigure: unable to re-open stdin: \n",
            "Selecting previously unselected package fonts-nanum.\n",
            "(Reading database ... 124016 files and directories currently installed.)\n",
            "Preparing to unpack .../fonts-nanum_20170925-1_all.deb ...\n",
            "Unpacking fonts-nanum (20170925-1) ...\n",
            "Setting up fonts-nanum (20170925-1) ...\n",
            "Processing triggers for fontconfig (2.12.6-0ubuntu2) ...\n",
            "/usr/share/fonts: caching, new cache contents: 0 fonts, 1 dirs\n",
            "/usr/share/fonts/truetype: caching, new cache contents: 0 fonts, 3 dirs\n",
            "/usr/share/fonts/truetype/humor-sans: caching, new cache contents: 1 fonts, 0 dirs\n",
            "/usr/share/fonts/truetype/liberation: caching, new cache contents: 16 fonts, 0 dirs\n",
            "/usr/share/fonts/truetype/nanum: caching, new cache contents: 10 fonts, 0 dirs\n",
            "/usr/local/share/fonts: caching, new cache contents: 0 fonts, 0 dirs\n",
            "/root/.local/share/fonts: skipping, no such directory\n",
            "/root/.fonts: skipping, no such directory\n",
            "/var/cache/fontconfig: cleaning cache directory\n",
            "/root/.cache/fontconfig: not cleaning non-existent cache directory\n",
            "/root/.fontconfig: not cleaning non-existent cache directory\n",
            "fc-cache: succeeded\n"
          ]
        }
      ],
      "source": [
        "# 한글이 깨질때 폰트 설치\n",
        "# 재시작시 설치 후 런타임 재시작, 구글드라이브 재연동, 다시 import\n",
        "\n",
        "!sudo apt-get install -y fonts-nanum\n",
        "!sudo fc-cache -fv\n",
        "!rm ~/.cache/matplotlib -rf"
      ]
    },
    {
      "cell_type": "code",
      "source": [
        "# 구글 드라이브 연동\n",
        "from google.colab import drive\n",
        "drive.mount('/content/drive')\n",
        "\n",
        "%cd /content/drive/MyDrive/python_demo"
      ],
      "metadata": {
        "colab": {
          "base_uri": "https://localhost:8080/"
        },
        "id": "2m33FvsEubP6",
        "outputId": "15d88a81-bfd1-44f9-f56e-e2c9312990b3"
      },
      "execution_count": 1,
      "outputs": [
        {
          "output_type": "stream",
          "name": "stdout",
          "text": [
            "Mounted at /content/drive\n",
            "/content/drive/MyDrive/python_demo\n"
          ]
        }
      ]
    },
    {
      "cell_type": "code",
      "source": [
        "from sklearn.datasets import load_iris"
      ],
      "metadata": {
        "id": "UtQn4Jrcu0Iv"
      },
      "execution_count": 2,
      "outputs": []
    },
    {
      "cell_type": "code",
      "source": [
        "data = load_iris()"
      ],
      "metadata": {
        "id": "BeUhwDVuvA1U"
      },
      "execution_count": 3,
      "outputs": []
    },
    {
      "cell_type": "code",
      "source": [
        "import pandas as pd"
      ],
      "metadata": {
        "id": "kAVF9oacvCPp"
      },
      "execution_count": 4,
      "outputs": []
    },
    {
      "cell_type": "code",
      "source": [
        "dir(data)"
      ],
      "metadata": {
        "colab": {
          "base_uri": "https://localhost:8080/"
        },
        "id": "pDsuz_NZvHyB",
        "outputId": "40351d38-d891-439d-baad-9086efd9f79f"
      },
      "execution_count": 5,
      "outputs": [
        {
          "output_type": "execute_result",
          "data": {
            "text/plain": [
              "['DESCR',\n",
              " 'data',\n",
              " 'data_module',\n",
              " 'feature_names',\n",
              " 'filename',\n",
              " 'frame',\n",
              " 'target',\n",
              " 'target_names']"
            ]
          },
          "metadata": {},
          "execution_count": 5
        }
      ]
    },
    {
      "cell_type": "code",
      "source": [
        "data_pd = pd.DataFrame(data.data, columns = data.feature_names)\n",
        "target_pd = pd.DataFrame(data.target, columns = ['target'])\n",
        "iris = pd.concat([data_pd, target_pd], axis = 1)"
      ],
      "metadata": {
        "id": "FT1iEyAQvJ8I"
      },
      "execution_count": 10,
      "outputs": []
    },
    {
      "cell_type": "code",
      "source": [
        "iris.head()"
      ],
      "metadata": {
        "colab": {
          "base_uri": "https://localhost:8080/",
          "height": 206
        },
        "id": "E4TfhmU3vW0p",
        "outputId": "49dbb0e7-d311-44c5-b414-e96cb66ebd1d"
      },
      "execution_count": 11,
      "outputs": [
        {
          "output_type": "execute_result",
          "data": {
            "text/plain": [
              "   sepal length (cm)  sepal width (cm)  petal length (cm)  petal width (cm)  \\\n",
              "0                5.1               3.5                1.4               0.2   \n",
              "1                4.9               3.0                1.4               0.2   \n",
              "2                4.7               3.2                1.3               0.2   \n",
              "3                4.6               3.1                1.5               0.2   \n",
              "4                5.0               3.6                1.4               0.2   \n",
              "\n",
              "   target  \n",
              "0       0  \n",
              "1       0  \n",
              "2       0  \n",
              "3       0  \n",
              "4       0  "
            ],
            "text/html": [
              "\n",
              "  <div id=\"df-f149c14b-d8a8-42fd-ba6d-eb5d8e22ad32\">\n",
              "    <div class=\"colab-df-container\">\n",
              "      <div>\n",
              "<style scoped>\n",
              "    .dataframe tbody tr th:only-of-type {\n",
              "        vertical-align: middle;\n",
              "    }\n",
              "\n",
              "    .dataframe tbody tr th {\n",
              "        vertical-align: top;\n",
              "    }\n",
              "\n",
              "    .dataframe thead th {\n",
              "        text-align: right;\n",
              "    }\n",
              "</style>\n",
              "<table border=\"1\" class=\"dataframe\">\n",
              "  <thead>\n",
              "    <tr style=\"text-align: right;\">\n",
              "      <th></th>\n",
              "      <th>sepal length (cm)</th>\n",
              "      <th>sepal width (cm)</th>\n",
              "      <th>petal length (cm)</th>\n",
              "      <th>petal width (cm)</th>\n",
              "      <th>target</th>\n",
              "    </tr>\n",
              "  </thead>\n",
              "  <tbody>\n",
              "    <tr>\n",
              "      <th>0</th>\n",
              "      <td>5.1</td>\n",
              "      <td>3.5</td>\n",
              "      <td>1.4</td>\n",
              "      <td>0.2</td>\n",
              "      <td>0</td>\n",
              "    </tr>\n",
              "    <tr>\n",
              "      <th>1</th>\n",
              "      <td>4.9</td>\n",
              "      <td>3.0</td>\n",
              "      <td>1.4</td>\n",
              "      <td>0.2</td>\n",
              "      <td>0</td>\n",
              "    </tr>\n",
              "    <tr>\n",
              "      <th>2</th>\n",
              "      <td>4.7</td>\n",
              "      <td>3.2</td>\n",
              "      <td>1.3</td>\n",
              "      <td>0.2</td>\n",
              "      <td>0</td>\n",
              "    </tr>\n",
              "    <tr>\n",
              "      <th>3</th>\n",
              "      <td>4.6</td>\n",
              "      <td>3.1</td>\n",
              "      <td>1.5</td>\n",
              "      <td>0.2</td>\n",
              "      <td>0</td>\n",
              "    </tr>\n",
              "    <tr>\n",
              "      <th>4</th>\n",
              "      <td>5.0</td>\n",
              "      <td>3.6</td>\n",
              "      <td>1.4</td>\n",
              "      <td>0.2</td>\n",
              "      <td>0</td>\n",
              "    </tr>\n",
              "  </tbody>\n",
              "</table>\n",
              "</div>\n",
              "      <button class=\"colab-df-convert\" onclick=\"convertToInteractive('df-f149c14b-d8a8-42fd-ba6d-eb5d8e22ad32')\"\n",
              "              title=\"Convert this dataframe to an interactive table.\"\n",
              "              style=\"display:none;\">\n",
              "        \n",
              "  <svg xmlns=\"http://www.w3.org/2000/svg\" height=\"24px\"viewBox=\"0 0 24 24\"\n",
              "       width=\"24px\">\n",
              "    <path d=\"M0 0h24v24H0V0z\" fill=\"none\"/>\n",
              "    <path d=\"M18.56 5.44l.94 2.06.94-2.06 2.06-.94-2.06-.94-.94-2.06-.94 2.06-2.06.94zm-11 1L8.5 8.5l.94-2.06 2.06-.94-2.06-.94L8.5 2.5l-.94 2.06-2.06.94zm10 10l.94 2.06.94-2.06 2.06-.94-2.06-.94-.94-2.06-.94 2.06-2.06.94z\"/><path d=\"M17.41 7.96l-1.37-1.37c-.4-.4-.92-.59-1.43-.59-.52 0-1.04.2-1.43.59L10.3 9.45l-7.72 7.72c-.78.78-.78 2.05 0 2.83L4 21.41c.39.39.9.59 1.41.59.51 0 1.02-.2 1.41-.59l7.78-7.78 2.81-2.81c.8-.78.8-2.07 0-2.86zM5.41 20L4 18.59l7.72-7.72 1.47 1.35L5.41 20z\"/>\n",
              "  </svg>\n",
              "      </button>\n",
              "      \n",
              "  <style>\n",
              "    .colab-df-container {\n",
              "      display:flex;\n",
              "      flex-wrap:wrap;\n",
              "      gap: 12px;\n",
              "    }\n",
              "\n",
              "    .colab-df-convert {\n",
              "      background-color: #E8F0FE;\n",
              "      border: none;\n",
              "      border-radius: 50%;\n",
              "      cursor: pointer;\n",
              "      display: none;\n",
              "      fill: #1967D2;\n",
              "      height: 32px;\n",
              "      padding: 0 0 0 0;\n",
              "      width: 32px;\n",
              "    }\n",
              "\n",
              "    .colab-df-convert:hover {\n",
              "      background-color: #E2EBFA;\n",
              "      box-shadow: 0px 1px 2px rgba(60, 64, 67, 0.3), 0px 1px 3px 1px rgba(60, 64, 67, 0.15);\n",
              "      fill: #174EA6;\n",
              "    }\n",
              "\n",
              "    [theme=dark] .colab-df-convert {\n",
              "      background-color: #3B4455;\n",
              "      fill: #D2E3FC;\n",
              "    }\n",
              "\n",
              "    [theme=dark] .colab-df-convert:hover {\n",
              "      background-color: #434B5C;\n",
              "      box-shadow: 0px 1px 3px 1px rgba(0, 0, 0, 0.15);\n",
              "      filter: drop-shadow(0px 1px 2px rgba(0, 0, 0, 0.3));\n",
              "      fill: #FFFFFF;\n",
              "    }\n",
              "  </style>\n",
              "\n",
              "      <script>\n",
              "        const buttonEl =\n",
              "          document.querySelector('#df-f149c14b-d8a8-42fd-ba6d-eb5d8e22ad32 button.colab-df-convert');\n",
              "        buttonEl.style.display =\n",
              "          google.colab.kernel.accessAllowed ? 'block' : 'none';\n",
              "\n",
              "        async function convertToInteractive(key) {\n",
              "          const element = document.querySelector('#df-f149c14b-d8a8-42fd-ba6d-eb5d8e22ad32');\n",
              "          const dataTable =\n",
              "            await google.colab.kernel.invokeFunction('convertToInteractive',\n",
              "                                                     [key], {});\n",
              "          if (!dataTable) return;\n",
              "\n",
              "          const docLinkHtml = 'Like what you see? Visit the ' +\n",
              "            '<a target=\"_blank\" href=https://colab.research.google.com/notebooks/data_table.ipynb>data table notebook</a>'\n",
              "            + ' to learn more about interactive tables.';\n",
              "          element.innerHTML = '';\n",
              "          dataTable['output_type'] = 'display_data';\n",
              "          await google.colab.output.renderOutput(dataTable, element);\n",
              "          const docLink = document.createElement('div');\n",
              "          docLink.innerHTML = docLinkHtml;\n",
              "          element.appendChild(docLink);\n",
              "        }\n",
              "      </script>\n",
              "    </div>\n",
              "  </div>\n",
              "  "
            ]
          },
          "metadata": {},
          "execution_count": 11
        }
      ]
    },
    {
      "cell_type": "code",
      "source": [
        "iris.info()"
      ],
      "metadata": {
        "colab": {
          "base_uri": "https://localhost:8080/"
        },
        "id": "mA0iSg38v3OB",
        "outputId": "38b7a249-d6f0-4eaf-a91a-9aeb35a7be04"
      },
      "execution_count": 12,
      "outputs": [
        {
          "output_type": "stream",
          "name": "stdout",
          "text": [
            "<class 'pandas.core.frame.DataFrame'>\n",
            "RangeIndex: 150 entries, 0 to 149\n",
            "Data columns (total 5 columns):\n",
            " #   Column             Non-Null Count  Dtype  \n",
            "---  ------             --------------  -----  \n",
            " 0   sepal length (cm)  150 non-null    float64\n",
            " 1   sepal width (cm)   150 non-null    float64\n",
            " 2   petal length (cm)  150 non-null    float64\n",
            " 3   petal width (cm)   150 non-null    float64\n",
            " 4   target             150 non-null    int64  \n",
            "dtypes: float64(4), int64(1)\n",
            "memory usage: 6.0 KB\n"
          ]
        }
      ]
    },
    {
      "cell_type": "code",
      "source": [
        "from sklearn.model_selection import train_test_split"
      ],
      "metadata": {
        "id": "QkANg3nxv-Nh"
      },
      "execution_count": 13,
      "outputs": []
    },
    {
      "cell_type": "code",
      "source": [
        "# hold out\n",
        "X_train, X_test, y_train, y_test = train_test_split(iris.iloc[:, :-1], iris.target)"
      ],
      "metadata": {
        "id": "WFcjEAzvwLyg"
      },
      "execution_count": 40,
      "outputs": []
    },
    {
      "cell_type": "code",
      "source": [
        "from sklearn.metrics import confusion_matrix"
      ],
      "metadata": {
        "id": "dVitA1-hwcTB"
      },
      "execution_count": 41,
      "outputs": []
    },
    {
      "cell_type": "code",
      "source": [
        "from sklearn.neighbors import  KNeighborsClassifier"
      ],
      "metadata": {
        "id": "jA1QodCVwq2Q"
      },
      "execution_count": 42,
      "outputs": []
    },
    {
      "cell_type": "code",
      "source": [
        "knn = KNeighborsClassifier()"
      ],
      "metadata": {
        "id": "6M02_5hMwwHh"
      },
      "execution_count": 43,
      "outputs": []
    },
    {
      "cell_type": "code",
      "source": [
        "knn.fit(X_train, y_train)"
      ],
      "metadata": {
        "colab": {
          "base_uri": "https://localhost:8080/"
        },
        "id": "pc0kVFLGw3cQ",
        "outputId": "6e28cdc9-5380-4c1f-fe0c-ab352a6d2b30"
      },
      "execution_count": 44,
      "outputs": [
        {
          "output_type": "execute_result",
          "data": {
            "text/plain": [
              "KNeighborsClassifier()"
            ]
          },
          "metadata": {},
          "execution_count": 44
        }
      ]
    },
    {
      "cell_type": "code",
      "source": [
        "# 예측\n",
        "pred = knn.predict(X_test)\n",
        "pred"
      ],
      "metadata": {
        "colab": {
          "base_uri": "https://localhost:8080/"
        },
        "id": "wwCLO9zyw8M4",
        "outputId": "62d863d9-760b-4ac1-f084-7a63285ea496"
      },
      "execution_count": 48,
      "outputs": [
        {
          "output_type": "execute_result",
          "data": {
            "text/plain": [
              "array([0, 1, 2, 2, 2, 1, 1, 0, 2, 2, 2, 0, 1, 2, 2, 0, 1, 2, 1, 1, 1, 2,\n",
              "       1, 0, 1, 2, 2, 0, 0, 2, 0, 2, 1, 2, 0, 2, 0, 0])"
            ]
          },
          "metadata": {},
          "execution_count": 48
        }
      ]
    },
    {
      "cell_type": "code",
      "source": [
        "confusion_matrix(y_test, pred)"
      ],
      "metadata": {
        "colab": {
          "base_uri": "https://localhost:8080/"
        },
        "id": "dP7-3aNsxXlg",
        "outputId": "09269531-aa68-4e98-fd90-af5357f73930"
      },
      "execution_count": 49,
      "outputs": [
        {
          "output_type": "execute_result",
          "data": {
            "text/plain": [
              "array([[11,  0,  0],\n",
              "       [ 0, 11,  2],\n",
              "       [ 0,  0, 14]])"
            ]
          },
          "metadata": {},
          "execution_count": 49
        }
      ]
    },
    {
      "cell_type": "markdown",
      "source": [
        "- 행은 실제, 열은 예측값이다.\n",
        "- 실제 0인데 0으로 예측한 값 11개\n",
        "- 실제 1인데 1로 예측한 값 11개\n",
        "- 실제 2인데 1로 예측한 값 1, 2로 예측한 값 14개\n",
        "array([[11,  0,  0],\n",
        "       [ 0, 11,  2],\n",
        "       [ 0,  0, 14]])\n",
        "\n",
        "위의 결과를 confusion matrix는 다음과 같다.  \n",
        "\n",
        "||setosa로 예측|versicolor로 예측|virginica로 예측|\n",
        "|---|---|---|---|\n",
        "|실제 setosa|11|0|0|\n",
        "|실제 versicolor|0|11|2|\n",
        "|실제 virginical|0|0|14|\n",
        "\n",
        "이진 분류하는 cofusion matrix에서 각 위치를 다음과 같이 이름 붙인다.\n",
        "\n",
        "|||Predict||\n",
        "|---|---|---|---|\n",
        "|   |   |True|False|\n",
        "|Actual|True|True Positive|False Negative|\n",
        "|      |False|False Positive|True Negative|\n",
        "\n",
        "- False positive는 1종 오류\n",
        "- False Negative는 2종 오류\n",
        "\n",
        "1종 오류와 2종 오류 중에서 어떤 것이 더 중요한지는, 의사결정자의 판단에 따라 다르다.  \n",
        "\n",
        "앞의 true false는 맞았는지 틀렸는지, (1종오류)  \n",
        "뒤의 true false는 긍정으로 예측했는지, 부정으로 예측했는지 (2종오류)  \n",
        "\n",
        " \n",
        "Confusion matrix에 기반하여 다음과 같은 모델의 성능 지표가 있다.\n",
        "정확도는 맹점이 있기 때문에 다른 평가지표도 함께 살펴볼 필요가 있다.\n",
        " \n",
        "- accuracy(정확도)\n",
        " \n",
        "    전체 데이터 중에 예측이 맞은 비율\n",
        " \n",
        "    $$accuracy = \\frac{TP+TN}{TP+FP+TN+FN}$$\n",
        " \n",
        "- precision(정밀도)\n",
        " \n",
        "    양성으로 예측한 것 중에서 양성이 맞는 비율\n",
        " \n",
        "    즉, 예측한 거 중에 맞은 비율\n",
        " \n",
        "    $$precision = \\frac{TP}{TP+FP}$$\n",
        " \n",
        "- recall(재현률)\n",
        " \n",
        "    실제 양성인 것  중에서 양성으로 예측한 비율\n",
        " \n",
        "    즉, 맞은 비율\n",
        " \n",
        "    $$reacll = \\frac{TP}{TP+FN}$$\n",
        "\n",
        "![이미지](https://2.bp.blogspot.com/-EvSXDotTOwc/XMfeOGZ-CVI/AAAAAAAAEiE/oePFfvhfOQM11dgRn9FkPxlegCXbgOF4QCLcBGAs/s1600/confusionMatrxiUpdated.jpg)"
      ],
      "metadata": {
        "id": "xtcMgrRsySUI"
      }
    },
    {
      "cell_type": "code",
      "source": [
        "from sklearn.metrics import classification_report"
      ],
      "metadata": {
        "id": "Y8H71PR30eRA"
      },
      "execution_count": 50,
      "outputs": []
    },
    {
      "cell_type": "markdown",
      "source": [
        "https://blog.naver.com/PostView.naver?blogId=hannaurora&logNo=222498671200&parentCategoryNo=&categoryNo=41&viewDate=&isShowPopularPosts=true&from=search\n"
      ],
      "metadata": {
        "id": "Ek5ESTEo9pNB"
      }
    },
    {
      "cell_type": "code",
      "source": [
        "# 내부적으로 confusion matrix를 만든 후 평가 지표별로 점수를 계산해 준다.\n",
        "print(classification_report(y_test, pred))"
      ],
      "metadata": {
        "colab": {
          "base_uri": "https://localhost:8080/"
        },
        "id": "Q9ddPBlNzcb6",
        "outputId": "f20b95b1-b65b-4fdc-b22c-b3474c1db240"
      },
      "execution_count": 52,
      "outputs": [
        {
          "output_type": "stream",
          "name": "stdout",
          "text": [
            "              precision    recall  f1-score   support\n",
            "\n",
            "           0       1.00      1.00      1.00        11\n",
            "           1       1.00      0.85      0.92        13\n",
            "           2       0.88      1.00      0.93        14\n",
            "\n",
            "    accuracy                           0.95        38\n",
            "   macro avg       0.96      0.95      0.95        38\n",
            "weighted avg       0.95      0.95      0.95        38\n",
            "\n"
          ]
        }
      ]
    },
    {
      "cell_type": "markdown",
      "source": [
        "### Hyper Parameter\n",
        "하이퍼 파라미터에 따라서 성능이 달라진다.  \n",
        "그러므로, 최적의 하이퍼 파라미터를 찾는 것이 중요하다."
      ],
      "metadata": {
        "id": "9VWaIm9p--Oo"
      }
    },
    {
      "cell_type": "code",
      "source": [
        "# 단순하게 하이퍼 파라미터를 for문으로 찾는 방법\n",
        "temp = []\n",
        "for i in range(1, 20):\n",
        "  knn = KNeighborsClassifier(n_neighbors = i)\n",
        "  knn.fit(X_train, y_train)\n",
        "  temp.append(knn.score(X_test, y_test))"
      ],
      "metadata": {
        "id": "2SMwBofN71e5"
      },
      "execution_count": 59,
      "outputs": []
    },
    {
      "cell_type": "code",
      "source": [
        "temp"
      ],
      "metadata": {
        "colab": {
          "base_uri": "https://localhost:8080/"
        },
        "id": "lyhWJaBp_N8p",
        "outputId": "e63ff198-263a-4680-e7c3-5c1ba9383086"
      },
      "execution_count": 63,
      "outputs": [
        {
          "output_type": "execute_result",
          "data": {
            "text/plain": [
              "[0.9736842105263158,\n",
              " 0.9473684210526315,\n",
              " 0.9736842105263158,\n",
              " 0.9736842105263158,\n",
              " 0.9473684210526315,\n",
              " 0.9473684210526315,\n",
              " 0.9473684210526315,\n",
              " 0.9736842105263158,\n",
              " 0.9736842105263158,\n",
              " 0.9736842105263158,\n",
              " 0.9736842105263158,\n",
              " 0.9736842105263158,\n",
              " 0.9473684210526315,\n",
              " 0.9473684210526315,\n",
              " 0.9473684210526315,\n",
              " 0.9736842105263158,\n",
              " 0.9473684210526315,\n",
              " 0.9473684210526315,\n",
              " 0.9473684210526315]"
            ]
          },
          "metadata": {},
          "execution_count": 63
        }
      ]
    },
    {
      "cell_type": "code",
      "source": [
        "import numpy as np"
      ],
      "metadata": {
        "id": "vmz-9dOg_lNI"
      },
      "execution_count": 64,
      "outputs": []
    },
    {
      "cell_type": "code",
      "source": [
        "# 가장 큰 값을 갖고있는 index를 리턴한다\n",
        "# n_neighbors가 6일때 성능이 가장 좋다. \n",
        "np.argmax(temp)"
      ],
      "metadata": {
        "id": "yr2A7v8GABGw",
        "colab": {
          "base_uri": "https://localhost:8080/"
        },
        "outputId": "5ddbe6f3-ad36-414f-d057-78e025e303d2"
      },
      "execution_count": 65,
      "outputs": [
        {
          "output_type": "execute_result",
          "data": {
            "text/plain": [
              "0"
            ]
          },
          "metadata": {},
          "execution_count": 65
        }
      ]
    },
    {
      "cell_type": "markdown",
      "source": [
        "### 교차 검증 (3 way holdout)\n",
        "데이터셋을 총 3등분한다.\n",
        "- train set : 모델 학습에 사용한다.\n",
        "- validation set : 하이퍼 파라미터를 찾기 위해서 사용한다.\n",
        "- test set : 한번도 안 본 데이터로 모델의 성능을 측정하기 위해서 사용한다."
      ],
      "metadata": {
        "id": "SSSw99S9AG5v"
      }
    },
    {
      "cell_type": "code",
      "source": [
        "X_train, X_test, y_train, y_test = train_test_split(iris.iloc[:, :-1], iris.target)"
      ],
      "metadata": {
        "id": "Z9RlhF8zBvUX"
      },
      "execution_count": 79,
      "outputs": []
    },
    {
      "cell_type": "code",
      "source": [
        "X_train, X_validation, y_train, y_validation = train_test_split(X_train, y_train)"
      ],
      "metadata": {
        "id": "XK5xHFeoB313"
      },
      "execution_count": 80,
      "outputs": []
    },
    {
      "cell_type": "code",
      "source": [
        "# 하이퍼 파라미터를 찾기 위해서 3-wat holdout을 한다.\n",
        "temp = []\n",
        "for i in range(1, 20):\n",
        "  knn = KNeighborsClassifier(n_neighbors = i)\n",
        "  knn.fit(X_train, y_train)\n",
        "  temp.append(knn.score(X_validation, y_validation))"
      ],
      "metadata": {
        "id": "TeWTQEztCSrK"
      },
      "execution_count": 81,
      "outputs": []
    },
    {
      "cell_type": "code",
      "source": [
        "print(temp)"
      ],
      "metadata": {
        "colab": {
          "base_uri": "https://localhost:8080/"
        },
        "id": "IPiNeMHfCdM_",
        "outputId": "7c6c7811-e484-4330-cd65-83885accfa48"
      },
      "execution_count": 82,
      "outputs": [
        {
          "output_type": "stream",
          "name": "stdout",
          "text": [
            "[1.0, 0.9642857142857143, 0.9642857142857143, 0.9642857142857143, 0.9642857142857143, 0.9642857142857143, 0.9642857142857143, 0.9642857142857143, 0.9642857142857143, 0.9642857142857143, 1.0, 0.9642857142857143, 0.9642857142857143, 0.9642857142857143, 0.9642857142857143, 0.9642857142857143, 0.9642857142857143, 0.9642857142857143, 0.9642857142857143]\n"
          ]
        }
      ]
    },
    {
      "cell_type": "code",
      "source": [
        "# 3-way holdout으로 했을 때, 하이퍼 파라미터 n_neighbors가 1일때 가장 성능이 좋다.\n",
        "np.argmax(temp)"
      ],
      "metadata": {
        "colab": {
          "base_uri": "https://localhost:8080/"
        },
        "id": "akCAVmHYC7lf",
        "outputId": "bdd0b921-c717-44fa-a8be-dc4ac076f7f6"
      },
      "execution_count": 83,
      "outputs": [
        {
          "output_type": "execute_result",
          "data": {
            "text/plain": [
              "0"
            ]
          },
          "metadata": {},
          "execution_count": 83
        }
      ]
    },
    {
      "cell_type": "markdown",
      "source": [
        "### cross_val_score로 하이퍼 파라미터를 찾는 방법"
      ],
      "metadata": {
        "id": "QaBeSFziDWaQ"
      }
    },
    {
      "cell_type": "code",
      "source": [
        "from sklearn.model_selection import cross_val_score"
      ],
      "metadata": {
        "id": "Jp6kpUJ5EESv"
      },
      "execution_count": 92,
      "outputs": []
    },
    {
      "cell_type": "code",
      "source": [
        "# 이 방법은 모든 데이터를 사용하기 때문에 위의 temp 방식 보다 많이 사용한다.\n",
        "temp2 = []\n",
        "for i in range(1, 20):\n",
        "  temp2.append(cross_val_score(KNeighborsClassifier(n_neighbors = i),\n",
        "                               iris.iloc[:, :-1], iris.target).mean())"
      ],
      "metadata": {
        "id": "TV07-M7oDBOA"
      },
      "execution_count": 96,
      "outputs": []
    },
    {
      "cell_type": "code",
      "source": [
        "print(temp2)"
      ],
      "metadata": {
        "colab": {
          "base_uri": "https://localhost:8080/"
        },
        "id": "xXkvtrUvFlBf",
        "outputId": "dd49dd6e-73a7-4625-fac5-ad859eef759f"
      },
      "execution_count": 97,
      "outputs": [
        {
          "output_type": "stream",
          "name": "stdout",
          "text": [
            "[0.96, 0.9466666666666665, 0.9666666666666668, 0.9733333333333334, 0.9733333333333334, 0.9800000000000001, 0.9800000000000001, 0.9666666666666668, 0.9733333333333334, 0.9800000000000001, 0.9800000000000001, 0.9800000000000001, 0.9733333333333334, 0.9666666666666666, 0.9666666666666668, 0.9666666666666668, 0.9666666666666668, 0.9666666666666666, 0.9666666666666668]\n"
          ]
        }
      ]
    },
    {
      "cell_type": "code",
      "source": [
        "# temp와 최적의 하이퍼 파라미터가 다르게 나왔다.\n",
        "np.argmax(temp2)"
      ],
      "metadata": {
        "colab": {
          "base_uri": "https://localhost:8080/"
        },
        "id": "EnhpjtWcFnOH",
        "outputId": "39ee2cba-4b6e-47c1-f959-13677399077c"
      },
      "execution_count": 98,
      "outputs": [
        {
          "output_type": "execute_result",
          "data": {
            "text/plain": [
              "5"
            ]
          },
          "metadata": {},
          "execution_count": 98
        }
      ]
    },
    {
      "cell_type": "code",
      "source": [
        "# 찾아낸 하이퍼 파라미터로 최종 모델을 만든다.\n",
        "# 최종 모델은 모든 데이터를 써서 학습한다.\n",
        "knn_final = KNeighborsClassifier(n_neighbors = 6)\n",
        "knn_final.fit(iris.iloc[:, :-1], iris.target)"
      ],
      "metadata": {
        "colab": {
          "base_uri": "https://localhost:8080/"
        },
        "id": "-mvcZ5fsFojX",
        "outputId": "8f77901c-4cc5-4444-c411-f429a0de2c93"
      },
      "execution_count": 99,
      "outputs": [
        {
          "output_type": "execute_result",
          "data": {
            "text/plain": [
              "KNeighborsClassifier(n_neighbors=6)"
            ]
          },
          "metadata": {},
          "execution_count": 99
        }
      ]
    },
    {
      "cell_type": "markdown",
      "source": [
        "### GridSearchCV\n",
        "scikit-learn에서 하이퍼파라미터를 편하게 찾는 방법을 제공하고 있는 기능이다."
      ],
      "metadata": {
        "id": "aCeZv2Z3KSCv"
      }
    },
    {
      "cell_type": "code",
      "source": [
        "from sklearn.model_selection import GridSearchCV"
      ],
      "metadata": {
        "id": "MD94yOQlKYIo"
      },
      "execution_count": 100,
      "outputs": []
    },
    {
      "cell_type": "code",
      "source": [
        "knn = KNeighborsClassifier()\n"
      ],
      "metadata": {
        "id": "HdQnoXNnGLmP"
      },
      "execution_count": 101,
      "outputs": []
    },
    {
      "cell_type": "code",
      "source": [
        "# scikit-learn의 알고리즘들은 get_params를 공통적으로 가지고 있다.\n",
        "# 알고리즘이 사용할 수 있는 하이퍼 파라미터를 알려준다.\n",
        "knn.get_params()"
      ],
      "metadata": {
        "colab": {
          "base_uri": "https://localhost:8080/"
        },
        "id": "fyyxyapTKvo_",
        "outputId": "a5c6d4ef-73d8-436e-bb3a-5d056e43bb9c"
      },
      "execution_count": 103,
      "outputs": [
        {
          "output_type": "execute_result",
          "data": {
            "text/plain": [
              "{'algorithm': 'auto',\n",
              " 'leaf_size': 30,\n",
              " 'metric': 'minkowski',\n",
              " 'metric_params': None,\n",
              " 'n_jobs': None,\n",
              " 'n_neighbors': 5,\n",
              " 'p': 2,\n",
              " 'weights': 'uniform'}"
            ]
          },
          "metadata": {},
          "execution_count": 103
        }
      ]
    },
    {
      "cell_type": "code",
      "source": [
        "# param_grid의 key는 get_params에 나오는 하이퍼 파라미터만 쓸 수 있다.\n",
        "# param_grid의 value는 테스트에 볼 하이퍼 파라미터를 리스트로 넣는다.\n",
        "grid = GridSearchCV(KNeighborsClassifier(), {'n_neighbors':[2, 3, 4, 5, 6, 7]})"
      ],
      "metadata": {
        "id": "a3R2-Yw1LOOu"
      },
      "execution_count": 104,
      "outputs": []
    },
    {
      "cell_type": "code",
      "source": [
        "grid.fit(iris.iloc[:, :-1], iris.target)"
      ],
      "metadata": {
        "colab": {
          "base_uri": "https://localhost:8080/"
        },
        "id": "KdVIz19VL1MO",
        "outputId": "a50a052f-2ee3-4002-87cf-9eafb184af7d"
      },
      "execution_count": 105,
      "outputs": [
        {
          "output_type": "execute_result",
          "data": {
            "text/plain": [
              "GridSearchCV(estimator=KNeighborsClassifier(),\n",
              "             param_grid={'n_neighbors': [2, 3, 4, 5, 6, 7]})"
            ]
          },
          "metadata": {},
          "execution_count": 105
        }
      ]
    },
    {
      "cell_type": "code",
      "source": [
        "# 가장 좋은 하이퍼 파라미터를 한번에 찾아준다.\n",
        "grid.best_params_"
      ],
      "metadata": {
        "colab": {
          "base_uri": "https://localhost:8080/"
        },
        "id": "EL8Ox0FCL5C2",
        "outputId": "3ef19163-6d2a-49cb-db6d-c4e961218e5c"
      },
      "execution_count": 106,
      "outputs": [
        {
          "output_type": "execute_result",
          "data": {
            "text/plain": [
              "{'n_neighbors': 6}"
            ]
          },
          "metadata": {},
          "execution_count": 106
        }
      ]
    },
    {
      "cell_type": "code",
      "source": [
        "# 가장 좋은 하이퍼 파라미터의 성능을 알려준다.\n",
        "grid.best_score_"
      ],
      "metadata": {
        "colab": {
          "base_uri": "https://localhost:8080/"
        },
        "id": "rK53ARMlMOaQ",
        "outputId": "5a5bc00e-314b-4642-b9ee-bd13845df359"
      },
      "execution_count": 107,
      "outputs": [
        {
          "output_type": "execute_result",
          "data": {
            "text/plain": [
              "0.9800000000000001"
            ]
          },
          "metadata": {},
          "execution_count": 107
        }
      ]
    },
    {
      "cell_type": "code",
      "source": [
        "# grid search한 결과를 총 정리해 준다.\n",
        "grid.cv_results_"
      ],
      "metadata": {
        "colab": {
          "base_uri": "https://localhost:8080/"
        },
        "id": "sPLFICfrMQlv",
        "outputId": "69b4ee1e-bf54-428c-eb7a-665e2bd4cba8"
      },
      "execution_count": 109,
      "outputs": [
        {
          "output_type": "execute_result",
          "data": {
            "text/plain": [
              "{'mean_fit_time': array([0.00336804, 0.00309024, 0.00304656, 0.00561223, 0.00303478,\n",
              "        0.00309496]),\n",
              " 'std_fit_time': array([0.0001105 , 0.00014828, 0.00034745, 0.00551353, 0.00010649,\n",
              "        0.00019147]),\n",
              " 'mean_score_time': array([0.0054862 , 0.00570931, 0.00430551, 0.00486856, 0.00614719,\n",
              "        0.00529675]),\n",
              " 'std_score_time': array([0.00203273, 0.00297968, 0.00044103, 0.00142456, 0.00274192,\n",
              "        0.00204139]),\n",
              " 'param_n_neighbors': masked_array(data=[2, 3, 4, 5, 6, 7],\n",
              "              mask=[False, False, False, False, False, False],\n",
              "        fill_value='?',\n",
              "             dtype=object),\n",
              " 'params': [{'n_neighbors': 2},\n",
              "  {'n_neighbors': 3},\n",
              "  {'n_neighbors': 4},\n",
              "  {'n_neighbors': 5},\n",
              "  {'n_neighbors': 6},\n",
              "  {'n_neighbors': 7}],\n",
              " 'split0_test_score': array([0.96666667, 0.96666667, 0.96666667, 0.96666667, 0.96666667,\n",
              "        0.96666667]),\n",
              " 'split1_test_score': array([0.93333333, 0.96666667, 0.96666667, 1.        , 1.        ,\n",
              "        1.        ]),\n",
              " 'split2_test_score': array([0.93333333, 0.93333333, 0.96666667, 0.93333333, 0.96666667,\n",
              "        0.96666667]),\n",
              " 'split3_test_score': array([0.9       , 0.96666667, 0.96666667, 0.96666667, 0.96666667,\n",
              "        0.96666667]),\n",
              " 'split4_test_score': array([1., 1., 1., 1., 1., 1.]),\n",
              " 'mean_test_score': array([0.94666667, 0.96666667, 0.97333333, 0.97333333, 0.98      ,\n",
              "        0.98      ]),\n",
              " 'std_test_score': array([0.03399346, 0.02108185, 0.01333333, 0.02494438, 0.01632993,\n",
              "        0.01632993]),\n",
              " 'rank_test_score': array([6, 5, 3, 3, 1, 1], dtype=int32)}"
            ]
          },
          "metadata": {},
          "execution_count": 109
        }
      ]
    },
    {
      "cell_type": "code",
      "source": [
        "# cv_results_의 결과를 pandas로 만들어 전치(T)해서 살펴보면 편하다.\n",
        "pd.DataFrame(grid.cv_results_).T"
      ],
      "metadata": {
        "colab": {
          "base_uri": "https://localhost:8080/",
          "height": 550
        },
        "id": "mc6rJcXoNSPH",
        "outputId": "832b8d00-074e-4267-bcfa-d2a8c3a1685f"
      },
      "execution_count": 114,
      "outputs": [
        {
          "output_type": "execute_result",
          "data": {
            "text/plain": [
              "                                    0                   1                   2  \\\n",
              "mean_fit_time                0.003368             0.00309            0.003047   \n",
              "std_fit_time                 0.000111            0.000148            0.000347   \n",
              "mean_score_time              0.005486            0.005709            0.004306   \n",
              "std_score_time               0.002033             0.00298            0.000441   \n",
              "param_n_neighbors                   2                   3                   4   \n",
              "params             {'n_neighbors': 2}  {'n_neighbors': 3}  {'n_neighbors': 4}   \n",
              "split0_test_score            0.966667            0.966667            0.966667   \n",
              "split1_test_score            0.933333            0.966667            0.966667   \n",
              "split2_test_score            0.933333            0.933333            0.966667   \n",
              "split3_test_score                 0.9            0.966667            0.966667   \n",
              "split4_test_score                 1.0                 1.0                 1.0   \n",
              "mean_test_score              0.946667            0.966667            0.973333   \n",
              "std_test_score               0.033993            0.021082            0.013333   \n",
              "rank_test_score                     6                   5                   3   \n",
              "\n",
              "                                    3                   4                   5  \n",
              "mean_fit_time                0.005612            0.003035            0.003095  \n",
              "std_fit_time                 0.005514            0.000106            0.000191  \n",
              "mean_score_time              0.004869            0.006147            0.005297  \n",
              "std_score_time               0.001425            0.002742            0.002041  \n",
              "param_n_neighbors                   5                   6                   7  \n",
              "params             {'n_neighbors': 5}  {'n_neighbors': 6}  {'n_neighbors': 7}  \n",
              "split0_test_score            0.966667            0.966667            0.966667  \n",
              "split1_test_score                 1.0                 1.0                 1.0  \n",
              "split2_test_score            0.933333            0.966667            0.966667  \n",
              "split3_test_score            0.966667            0.966667            0.966667  \n",
              "split4_test_score                 1.0                 1.0                 1.0  \n",
              "mean_test_score              0.973333                0.98                0.98  \n",
              "std_test_score               0.024944             0.01633             0.01633  \n",
              "rank_test_score                     3                   1                   1  "
            ],
            "text/html": [
              "\n",
              "  <div id=\"df-5c121d33-c06d-4b52-bf0c-6fcfd3f0f565\">\n",
              "    <div class=\"colab-df-container\">\n",
              "      <div>\n",
              "<style scoped>\n",
              "    .dataframe tbody tr th:only-of-type {\n",
              "        vertical-align: middle;\n",
              "    }\n",
              "\n",
              "    .dataframe tbody tr th {\n",
              "        vertical-align: top;\n",
              "    }\n",
              "\n",
              "    .dataframe thead th {\n",
              "        text-align: right;\n",
              "    }\n",
              "</style>\n",
              "<table border=\"1\" class=\"dataframe\">\n",
              "  <thead>\n",
              "    <tr style=\"text-align: right;\">\n",
              "      <th></th>\n",
              "      <th>0</th>\n",
              "      <th>1</th>\n",
              "      <th>2</th>\n",
              "      <th>3</th>\n",
              "      <th>4</th>\n",
              "      <th>5</th>\n",
              "    </tr>\n",
              "  </thead>\n",
              "  <tbody>\n",
              "    <tr>\n",
              "      <th>mean_fit_time</th>\n",
              "      <td>0.003368</td>\n",
              "      <td>0.00309</td>\n",
              "      <td>0.003047</td>\n",
              "      <td>0.005612</td>\n",
              "      <td>0.003035</td>\n",
              "      <td>0.003095</td>\n",
              "    </tr>\n",
              "    <tr>\n",
              "      <th>std_fit_time</th>\n",
              "      <td>0.000111</td>\n",
              "      <td>0.000148</td>\n",
              "      <td>0.000347</td>\n",
              "      <td>0.005514</td>\n",
              "      <td>0.000106</td>\n",
              "      <td>0.000191</td>\n",
              "    </tr>\n",
              "    <tr>\n",
              "      <th>mean_score_time</th>\n",
              "      <td>0.005486</td>\n",
              "      <td>0.005709</td>\n",
              "      <td>0.004306</td>\n",
              "      <td>0.004869</td>\n",
              "      <td>0.006147</td>\n",
              "      <td>0.005297</td>\n",
              "    </tr>\n",
              "    <tr>\n",
              "      <th>std_score_time</th>\n",
              "      <td>0.002033</td>\n",
              "      <td>0.00298</td>\n",
              "      <td>0.000441</td>\n",
              "      <td>0.001425</td>\n",
              "      <td>0.002742</td>\n",
              "      <td>0.002041</td>\n",
              "    </tr>\n",
              "    <tr>\n",
              "      <th>param_n_neighbors</th>\n",
              "      <td>2</td>\n",
              "      <td>3</td>\n",
              "      <td>4</td>\n",
              "      <td>5</td>\n",
              "      <td>6</td>\n",
              "      <td>7</td>\n",
              "    </tr>\n",
              "    <tr>\n",
              "      <th>params</th>\n",
              "      <td>{'n_neighbors': 2}</td>\n",
              "      <td>{'n_neighbors': 3}</td>\n",
              "      <td>{'n_neighbors': 4}</td>\n",
              "      <td>{'n_neighbors': 5}</td>\n",
              "      <td>{'n_neighbors': 6}</td>\n",
              "      <td>{'n_neighbors': 7}</td>\n",
              "    </tr>\n",
              "    <tr>\n",
              "      <th>split0_test_score</th>\n",
              "      <td>0.966667</td>\n",
              "      <td>0.966667</td>\n",
              "      <td>0.966667</td>\n",
              "      <td>0.966667</td>\n",
              "      <td>0.966667</td>\n",
              "      <td>0.966667</td>\n",
              "    </tr>\n",
              "    <tr>\n",
              "      <th>split1_test_score</th>\n",
              "      <td>0.933333</td>\n",
              "      <td>0.966667</td>\n",
              "      <td>0.966667</td>\n",
              "      <td>1.0</td>\n",
              "      <td>1.0</td>\n",
              "      <td>1.0</td>\n",
              "    </tr>\n",
              "    <tr>\n",
              "      <th>split2_test_score</th>\n",
              "      <td>0.933333</td>\n",
              "      <td>0.933333</td>\n",
              "      <td>0.966667</td>\n",
              "      <td>0.933333</td>\n",
              "      <td>0.966667</td>\n",
              "      <td>0.966667</td>\n",
              "    </tr>\n",
              "    <tr>\n",
              "      <th>split3_test_score</th>\n",
              "      <td>0.9</td>\n",
              "      <td>0.966667</td>\n",
              "      <td>0.966667</td>\n",
              "      <td>0.966667</td>\n",
              "      <td>0.966667</td>\n",
              "      <td>0.966667</td>\n",
              "    </tr>\n",
              "    <tr>\n",
              "      <th>split4_test_score</th>\n",
              "      <td>1.0</td>\n",
              "      <td>1.0</td>\n",
              "      <td>1.0</td>\n",
              "      <td>1.0</td>\n",
              "      <td>1.0</td>\n",
              "      <td>1.0</td>\n",
              "    </tr>\n",
              "    <tr>\n",
              "      <th>mean_test_score</th>\n",
              "      <td>0.946667</td>\n",
              "      <td>0.966667</td>\n",
              "      <td>0.973333</td>\n",
              "      <td>0.973333</td>\n",
              "      <td>0.98</td>\n",
              "      <td>0.98</td>\n",
              "    </tr>\n",
              "    <tr>\n",
              "      <th>std_test_score</th>\n",
              "      <td>0.033993</td>\n",
              "      <td>0.021082</td>\n",
              "      <td>0.013333</td>\n",
              "      <td>0.024944</td>\n",
              "      <td>0.01633</td>\n",
              "      <td>0.01633</td>\n",
              "    </tr>\n",
              "    <tr>\n",
              "      <th>rank_test_score</th>\n",
              "      <td>6</td>\n",
              "      <td>5</td>\n",
              "      <td>3</td>\n",
              "      <td>3</td>\n",
              "      <td>1</td>\n",
              "      <td>1</td>\n",
              "    </tr>\n",
              "  </tbody>\n",
              "</table>\n",
              "</div>\n",
              "      <button class=\"colab-df-convert\" onclick=\"convertToInteractive('df-5c121d33-c06d-4b52-bf0c-6fcfd3f0f565')\"\n",
              "              title=\"Convert this dataframe to an interactive table.\"\n",
              "              style=\"display:none;\">\n",
              "        \n",
              "  <svg xmlns=\"http://www.w3.org/2000/svg\" height=\"24px\"viewBox=\"0 0 24 24\"\n",
              "       width=\"24px\">\n",
              "    <path d=\"M0 0h24v24H0V0z\" fill=\"none\"/>\n",
              "    <path d=\"M18.56 5.44l.94 2.06.94-2.06 2.06-.94-2.06-.94-.94-2.06-.94 2.06-2.06.94zm-11 1L8.5 8.5l.94-2.06 2.06-.94-2.06-.94L8.5 2.5l-.94 2.06-2.06.94zm10 10l.94 2.06.94-2.06 2.06-.94-2.06-.94-.94-2.06-.94 2.06-2.06.94z\"/><path d=\"M17.41 7.96l-1.37-1.37c-.4-.4-.92-.59-1.43-.59-.52 0-1.04.2-1.43.59L10.3 9.45l-7.72 7.72c-.78.78-.78 2.05 0 2.83L4 21.41c.39.39.9.59 1.41.59.51 0 1.02-.2 1.41-.59l7.78-7.78 2.81-2.81c.8-.78.8-2.07 0-2.86zM5.41 20L4 18.59l7.72-7.72 1.47 1.35L5.41 20z\"/>\n",
              "  </svg>\n",
              "      </button>\n",
              "      \n",
              "  <style>\n",
              "    .colab-df-container {\n",
              "      display:flex;\n",
              "      flex-wrap:wrap;\n",
              "      gap: 12px;\n",
              "    }\n",
              "\n",
              "    .colab-df-convert {\n",
              "      background-color: #E8F0FE;\n",
              "      border: none;\n",
              "      border-radius: 50%;\n",
              "      cursor: pointer;\n",
              "      display: none;\n",
              "      fill: #1967D2;\n",
              "      height: 32px;\n",
              "      padding: 0 0 0 0;\n",
              "      width: 32px;\n",
              "    }\n",
              "\n",
              "    .colab-df-convert:hover {\n",
              "      background-color: #E2EBFA;\n",
              "      box-shadow: 0px 1px 2px rgba(60, 64, 67, 0.3), 0px 1px 3px 1px rgba(60, 64, 67, 0.15);\n",
              "      fill: #174EA6;\n",
              "    }\n",
              "\n",
              "    [theme=dark] .colab-df-convert {\n",
              "      background-color: #3B4455;\n",
              "      fill: #D2E3FC;\n",
              "    }\n",
              "\n",
              "    [theme=dark] .colab-df-convert:hover {\n",
              "      background-color: #434B5C;\n",
              "      box-shadow: 0px 1px 3px 1px rgba(0, 0, 0, 0.15);\n",
              "      filter: drop-shadow(0px 1px 2px rgba(0, 0, 0, 0.3));\n",
              "      fill: #FFFFFF;\n",
              "    }\n",
              "  </style>\n",
              "\n",
              "      <script>\n",
              "        const buttonEl =\n",
              "          document.querySelector('#df-5c121d33-c06d-4b52-bf0c-6fcfd3f0f565 button.colab-df-convert');\n",
              "        buttonEl.style.display =\n",
              "          google.colab.kernel.accessAllowed ? 'block' : 'none';\n",
              "\n",
              "        async function convertToInteractive(key) {\n",
              "          const element = document.querySelector('#df-5c121d33-c06d-4b52-bf0c-6fcfd3f0f565');\n",
              "          const dataTable =\n",
              "            await google.colab.kernel.invokeFunction('convertToInteractive',\n",
              "                                                     [key], {});\n",
              "          if (!dataTable) return;\n",
              "\n",
              "          const docLinkHtml = 'Like what you see? Visit the ' +\n",
              "            '<a target=\"_blank\" href=https://colab.research.google.com/notebooks/data_table.ipynb>data table notebook</a>'\n",
              "            + ' to learn more about interactive tables.';\n",
              "          element.innerHTML = '';\n",
              "          dataTable['output_type'] = 'display_data';\n",
              "          await google.colab.output.renderOutput(dataTable, element);\n",
              "          const docLink = document.createElement('div');\n",
              "          docLink.innerHTML = docLinkHtml;\n",
              "          element.appendChild(docLink);\n",
              "        }\n",
              "      </script>\n",
              "    </div>\n",
              "  </div>\n",
              "  "
            ]
          },
          "metadata": {},
          "execution_count": 114
        }
      ]
    },
    {
      "cell_type": "code",
      "source": [
        "# 하이퍼 파라미터 여러개를 한번에 찾을 수 있다.\n",
        "grid = GridSearchCV(KNeighborsClassifier(), {'n_neighbors':[2, 3, 4, 5, 6, 7],\n",
        "                                             'weights':['distance', 'uniform']}) "
      ],
      "metadata": {
        "id": "VzAN_Na_OaWH"
      },
      "execution_count": 115,
      "outputs": []
    },
    {
      "cell_type": "code",
      "source": [
        "grid.fit(iris.iloc[:, :-1], iris.target)"
      ],
      "metadata": {
        "colab": {
          "base_uri": "https://localhost:8080/"
        },
        "id": "0tswHCq0PCG3",
        "outputId": "9de53ca0-62f3-4a1d-d992-e88997482f2a"
      },
      "execution_count": 116,
      "outputs": [
        {
          "output_type": "execute_result",
          "data": {
            "text/plain": [
              "GridSearchCV(estimator=KNeighborsClassifier(),\n",
              "             param_grid={'n_neighbors': [2, 3, 4, 5, 6, 7],\n",
              "                         'weights': ['distance', 'uniform']})"
            ]
          },
          "metadata": {},
          "execution_count": 116
        }
      ]
    },
    {
      "cell_type": "code",
      "source": [
        "# params를 보면 입력된 하이퍼 파라미터들의 가능한 조합을 모두 계산했다.\n",
        "pd.DataFrame(grid.cv_results_).T"
      ],
      "metadata": {
        "colab": {
          "base_uri": "https://localhost:8080/",
          "height": 618
        },
        "id": "s5FqxPonPJGq",
        "outputId": "b5062330-174f-4fd0-afe5-e857ed54e193"
      },
      "execution_count": 121,
      "outputs": [
        {
          "output_type": "execute_result",
          "data": {
            "text/plain": [
              "                                                          0   \\\n",
              "mean_fit_time                                       0.002582   \n",
              "std_fit_time                                        0.000646   \n",
              "mean_score_time                                     0.002555   \n",
              "std_score_time                                      0.000726   \n",
              "param_n_neighbors                                          2   \n",
              "param_weights                                       distance   \n",
              "params             {'n_neighbors': 2, 'weights': 'distance'}   \n",
              "split0_test_score                                   0.966667   \n",
              "split1_test_score                                   0.966667   \n",
              "split2_test_score                                   0.933333   \n",
              "split3_test_score                                   0.933333   \n",
              "split4_test_score                                        1.0   \n",
              "mean_test_score                                         0.96   \n",
              "std_test_score                                      0.024944   \n",
              "rank_test_score                                           11   \n",
              "\n",
              "                                                         1   \\\n",
              "mean_fit_time                                      0.001725   \n",
              "std_fit_time                                       0.000036   \n",
              "mean_score_time                                    0.002583   \n",
              "std_score_time                                     0.000167   \n",
              "param_n_neighbors                                         2   \n",
              "param_weights                                       uniform   \n",
              "params             {'n_neighbors': 2, 'weights': 'uniform'}   \n",
              "split0_test_score                                  0.966667   \n",
              "split1_test_score                                  0.933333   \n",
              "split2_test_score                                  0.933333   \n",
              "split3_test_score                                       0.9   \n",
              "split4_test_score                                       1.0   \n",
              "mean_test_score                                    0.946667   \n",
              "std_test_score                                     0.033993   \n",
              "rank_test_score                                          12   \n",
              "\n",
              "                                                          2   \\\n",
              "mean_fit_time                                       0.001744   \n",
              "std_fit_time                                        0.000091   \n",
              "mean_score_time                                     0.002079   \n",
              "std_score_time                                      0.000342   \n",
              "param_n_neighbors                                          3   \n",
              "param_weights                                       distance   \n",
              "params             {'n_neighbors': 3, 'weights': 'distance'}   \n",
              "split0_test_score                                   0.966667   \n",
              "split1_test_score                                   0.966667   \n",
              "split2_test_score                                   0.933333   \n",
              "split3_test_score                                   0.966667   \n",
              "split4_test_score                                        1.0   \n",
              "mean_test_score                                     0.966667   \n",
              "std_test_score                                      0.021082   \n",
              "rank_test_score                                            7   \n",
              "\n",
              "                                                         3   \\\n",
              "mean_fit_time                                       0.00182   \n",
              "std_fit_time                                       0.000234   \n",
              "mean_score_time                                    0.002462   \n",
              "std_score_time                                     0.000062   \n",
              "param_n_neighbors                                         3   \n",
              "param_weights                                       uniform   \n",
              "params             {'n_neighbors': 3, 'weights': 'uniform'}   \n",
              "split0_test_score                                  0.966667   \n",
              "split1_test_score                                  0.966667   \n",
              "split2_test_score                                  0.933333   \n",
              "split3_test_score                                  0.966667   \n",
              "split4_test_score                                       1.0   \n",
              "mean_test_score                                    0.966667   \n",
              "std_test_score                                     0.021082   \n",
              "rank_test_score                                           7   \n",
              "\n",
              "                                                          4   \\\n",
              "mean_fit_time                                        0.00168   \n",
              "std_fit_time                                        0.000013   \n",
              "mean_score_time                                     0.001795   \n",
              "std_score_time                                      0.000027   \n",
              "param_n_neighbors                                          4   \n",
              "param_weights                                       distance   \n",
              "params             {'n_neighbors': 4, 'weights': 'distance'}   \n",
              "split0_test_score                                   0.966667   \n",
              "split1_test_score                                   0.966667   \n",
              "split2_test_score                                   0.933333   \n",
              "split3_test_score                                   0.966667   \n",
              "split4_test_score                                        1.0   \n",
              "mean_test_score                                     0.966667   \n",
              "std_test_score                                      0.021082   \n",
              "rank_test_score                                            7   \n",
              "\n",
              "                                                         5   \\\n",
              "mean_fit_time                                      0.001706   \n",
              "std_fit_time                                       0.000038   \n",
              "mean_score_time                                    0.002446   \n",
              "std_score_time                                     0.000013   \n",
              "param_n_neighbors                                         4   \n",
              "param_weights                                       uniform   \n",
              "params             {'n_neighbors': 4, 'weights': 'uniform'}   \n",
              "split0_test_score                                  0.966667   \n",
              "split1_test_score                                  0.966667   \n",
              "split2_test_score                                  0.966667   \n",
              "split3_test_score                                  0.966667   \n",
              "split4_test_score                                       1.0   \n",
              "mean_test_score                                    0.973333   \n",
              "std_test_score                                     0.013333   \n",
              "rank_test_score                                           5   \n",
              "\n",
              "                                                          6   \\\n",
              "mean_fit_time                                       0.001793   \n",
              "std_fit_time                                        0.000189   \n",
              "mean_score_time                                      0.00197   \n",
              "std_score_time                                      0.000194   \n",
              "param_n_neighbors                                          5   \n",
              "param_weights                                       distance   \n",
              "params             {'n_neighbors': 5, 'weights': 'distance'}   \n",
              "split0_test_score                                   0.966667   \n",
              "split1_test_score                                        1.0   \n",
              "split2_test_score                                        0.9   \n",
              "split3_test_score                                   0.966667   \n",
              "split4_test_score                                        1.0   \n",
              "mean_test_score                                     0.966667   \n",
              "std_test_score                                      0.036515   \n",
              "rank_test_score                                            7   \n",
              "\n",
              "                                                         7   \\\n",
              "mean_fit_time                                      0.001714   \n",
              "std_fit_time                                       0.000019   \n",
              "mean_score_time                                    0.002548   \n",
              "std_score_time                                     0.000086   \n",
              "param_n_neighbors                                         5   \n",
              "param_weights                                       uniform   \n",
              "params             {'n_neighbors': 5, 'weights': 'uniform'}   \n",
              "split0_test_score                                  0.966667   \n",
              "split1_test_score                                       1.0   \n",
              "split2_test_score                                  0.933333   \n",
              "split3_test_score                                  0.966667   \n",
              "split4_test_score                                       1.0   \n",
              "mean_test_score                                    0.973333   \n",
              "std_test_score                                     0.024944   \n",
              "rank_test_score                                           5   \n",
              "\n",
              "                                                          8   \\\n",
              "mean_fit_time                                       0.001685   \n",
              "std_fit_time                                         0.00004   \n",
              "mean_score_time                                     0.001821   \n",
              "std_score_time                                       0.00003   \n",
              "param_n_neighbors                                          6   \n",
              "param_weights                                       distance   \n",
              "params             {'n_neighbors': 6, 'weights': 'distance'}   \n",
              "split0_test_score                                   0.966667   \n",
              "split1_test_score                                        1.0   \n",
              "split2_test_score                                   0.966667   \n",
              "split3_test_score                                   0.966667   \n",
              "split4_test_score                                        1.0   \n",
              "mean_test_score                                         0.98   \n",
              "std_test_score                                       0.01633   \n",
              "rank_test_score                                            1   \n",
              "\n",
              "                                                         9   \\\n",
              "mean_fit_time                                      0.001723   \n",
              "std_fit_time                                       0.000091   \n",
              "mean_score_time                                    0.002471   \n",
              "std_score_time                                     0.000047   \n",
              "param_n_neighbors                                         6   \n",
              "param_weights                                       uniform   \n",
              "params             {'n_neighbors': 6, 'weights': 'uniform'}   \n",
              "split0_test_score                                  0.966667   \n",
              "split1_test_score                                       1.0   \n",
              "split2_test_score                                  0.966667   \n",
              "split3_test_score                                  0.966667   \n",
              "split4_test_score                                       1.0   \n",
              "mean_test_score                                        0.98   \n",
              "std_test_score                                      0.01633   \n",
              "rank_test_score                                           1   \n",
              "\n",
              "                                                          10  \\\n",
              "mean_fit_time                                       0.002077   \n",
              "std_fit_time                                        0.000436   \n",
              "mean_score_time                                     0.002129   \n",
              "std_score_time                                      0.000338   \n",
              "param_n_neighbors                                          7   \n",
              "param_weights                                       distance   \n",
              "params             {'n_neighbors': 7, 'weights': 'distance'}   \n",
              "split0_test_score                                   0.966667   \n",
              "split1_test_score                                        1.0   \n",
              "split2_test_score                                   0.966667   \n",
              "split3_test_score                                   0.966667   \n",
              "split4_test_score                                        1.0   \n",
              "mean_test_score                                         0.98   \n",
              "std_test_score                                       0.01633   \n",
              "rank_test_score                                            1   \n",
              "\n",
              "                                                         11  \n",
              "mean_fit_time                                      0.001692  \n",
              "std_fit_time                                       0.000034  \n",
              "mean_score_time                                    0.002716  \n",
              "std_score_time                                     0.000411  \n",
              "param_n_neighbors                                         7  \n",
              "param_weights                                       uniform  \n",
              "params             {'n_neighbors': 7, 'weights': 'uniform'}  \n",
              "split0_test_score                                  0.966667  \n",
              "split1_test_score                                       1.0  \n",
              "split2_test_score                                  0.966667  \n",
              "split3_test_score                                  0.966667  \n",
              "split4_test_score                                       1.0  \n",
              "mean_test_score                                        0.98  \n",
              "std_test_score                                      0.01633  \n",
              "rank_test_score                                           1  "
            ],
            "text/html": [
              "\n",
              "  <div id=\"df-14d4392d-17b1-4c31-9587-d6905a1ffba1\">\n",
              "    <div class=\"colab-df-container\">\n",
              "      <div>\n",
              "<style scoped>\n",
              "    .dataframe tbody tr th:only-of-type {\n",
              "        vertical-align: middle;\n",
              "    }\n",
              "\n",
              "    .dataframe tbody tr th {\n",
              "        vertical-align: top;\n",
              "    }\n",
              "\n",
              "    .dataframe thead th {\n",
              "        text-align: right;\n",
              "    }\n",
              "</style>\n",
              "<table border=\"1\" class=\"dataframe\">\n",
              "  <thead>\n",
              "    <tr style=\"text-align: right;\">\n",
              "      <th></th>\n",
              "      <th>0</th>\n",
              "      <th>1</th>\n",
              "      <th>2</th>\n",
              "      <th>3</th>\n",
              "      <th>4</th>\n",
              "      <th>5</th>\n",
              "      <th>6</th>\n",
              "      <th>7</th>\n",
              "      <th>8</th>\n",
              "      <th>9</th>\n",
              "      <th>10</th>\n",
              "      <th>11</th>\n",
              "    </tr>\n",
              "  </thead>\n",
              "  <tbody>\n",
              "    <tr>\n",
              "      <th>mean_fit_time</th>\n",
              "      <td>0.002582</td>\n",
              "      <td>0.001725</td>\n",
              "      <td>0.001744</td>\n",
              "      <td>0.00182</td>\n",
              "      <td>0.00168</td>\n",
              "      <td>0.001706</td>\n",
              "      <td>0.001793</td>\n",
              "      <td>0.001714</td>\n",
              "      <td>0.001685</td>\n",
              "      <td>0.001723</td>\n",
              "      <td>0.002077</td>\n",
              "      <td>0.001692</td>\n",
              "    </tr>\n",
              "    <tr>\n",
              "      <th>std_fit_time</th>\n",
              "      <td>0.000646</td>\n",
              "      <td>0.000036</td>\n",
              "      <td>0.000091</td>\n",
              "      <td>0.000234</td>\n",
              "      <td>0.000013</td>\n",
              "      <td>0.000038</td>\n",
              "      <td>0.000189</td>\n",
              "      <td>0.000019</td>\n",
              "      <td>0.00004</td>\n",
              "      <td>0.000091</td>\n",
              "      <td>0.000436</td>\n",
              "      <td>0.000034</td>\n",
              "    </tr>\n",
              "    <tr>\n",
              "      <th>mean_score_time</th>\n",
              "      <td>0.002555</td>\n",
              "      <td>0.002583</td>\n",
              "      <td>0.002079</td>\n",
              "      <td>0.002462</td>\n",
              "      <td>0.001795</td>\n",
              "      <td>0.002446</td>\n",
              "      <td>0.00197</td>\n",
              "      <td>0.002548</td>\n",
              "      <td>0.001821</td>\n",
              "      <td>0.002471</td>\n",
              "      <td>0.002129</td>\n",
              "      <td>0.002716</td>\n",
              "    </tr>\n",
              "    <tr>\n",
              "      <th>std_score_time</th>\n",
              "      <td>0.000726</td>\n",
              "      <td>0.000167</td>\n",
              "      <td>0.000342</td>\n",
              "      <td>0.000062</td>\n",
              "      <td>0.000027</td>\n",
              "      <td>0.000013</td>\n",
              "      <td>0.000194</td>\n",
              "      <td>0.000086</td>\n",
              "      <td>0.00003</td>\n",
              "      <td>0.000047</td>\n",
              "      <td>0.000338</td>\n",
              "      <td>0.000411</td>\n",
              "    </tr>\n",
              "    <tr>\n",
              "      <th>param_n_neighbors</th>\n",
              "      <td>2</td>\n",
              "      <td>2</td>\n",
              "      <td>3</td>\n",
              "      <td>3</td>\n",
              "      <td>4</td>\n",
              "      <td>4</td>\n",
              "      <td>5</td>\n",
              "      <td>5</td>\n",
              "      <td>6</td>\n",
              "      <td>6</td>\n",
              "      <td>7</td>\n",
              "      <td>7</td>\n",
              "    </tr>\n",
              "    <tr>\n",
              "      <th>param_weights</th>\n",
              "      <td>distance</td>\n",
              "      <td>uniform</td>\n",
              "      <td>distance</td>\n",
              "      <td>uniform</td>\n",
              "      <td>distance</td>\n",
              "      <td>uniform</td>\n",
              "      <td>distance</td>\n",
              "      <td>uniform</td>\n",
              "      <td>distance</td>\n",
              "      <td>uniform</td>\n",
              "      <td>distance</td>\n",
              "      <td>uniform</td>\n",
              "    </tr>\n",
              "    <tr>\n",
              "      <th>params</th>\n",
              "      <td>{'n_neighbors': 2, 'weights': 'distance'}</td>\n",
              "      <td>{'n_neighbors': 2, 'weights': 'uniform'}</td>\n",
              "      <td>{'n_neighbors': 3, 'weights': 'distance'}</td>\n",
              "      <td>{'n_neighbors': 3, 'weights': 'uniform'}</td>\n",
              "      <td>{'n_neighbors': 4, 'weights': 'distance'}</td>\n",
              "      <td>{'n_neighbors': 4, 'weights': 'uniform'}</td>\n",
              "      <td>{'n_neighbors': 5, 'weights': 'distance'}</td>\n",
              "      <td>{'n_neighbors': 5, 'weights': 'uniform'}</td>\n",
              "      <td>{'n_neighbors': 6, 'weights': 'distance'}</td>\n",
              "      <td>{'n_neighbors': 6, 'weights': 'uniform'}</td>\n",
              "      <td>{'n_neighbors': 7, 'weights': 'distance'}</td>\n",
              "      <td>{'n_neighbors': 7, 'weights': 'uniform'}</td>\n",
              "    </tr>\n",
              "    <tr>\n",
              "      <th>split0_test_score</th>\n",
              "      <td>0.966667</td>\n",
              "      <td>0.966667</td>\n",
              "      <td>0.966667</td>\n",
              "      <td>0.966667</td>\n",
              "      <td>0.966667</td>\n",
              "      <td>0.966667</td>\n",
              "      <td>0.966667</td>\n",
              "      <td>0.966667</td>\n",
              "      <td>0.966667</td>\n",
              "      <td>0.966667</td>\n",
              "      <td>0.966667</td>\n",
              "      <td>0.966667</td>\n",
              "    </tr>\n",
              "    <tr>\n",
              "      <th>split1_test_score</th>\n",
              "      <td>0.966667</td>\n",
              "      <td>0.933333</td>\n",
              "      <td>0.966667</td>\n",
              "      <td>0.966667</td>\n",
              "      <td>0.966667</td>\n",
              "      <td>0.966667</td>\n",
              "      <td>1.0</td>\n",
              "      <td>1.0</td>\n",
              "      <td>1.0</td>\n",
              "      <td>1.0</td>\n",
              "      <td>1.0</td>\n",
              "      <td>1.0</td>\n",
              "    </tr>\n",
              "    <tr>\n",
              "      <th>split2_test_score</th>\n",
              "      <td>0.933333</td>\n",
              "      <td>0.933333</td>\n",
              "      <td>0.933333</td>\n",
              "      <td>0.933333</td>\n",
              "      <td>0.933333</td>\n",
              "      <td>0.966667</td>\n",
              "      <td>0.9</td>\n",
              "      <td>0.933333</td>\n",
              "      <td>0.966667</td>\n",
              "      <td>0.966667</td>\n",
              "      <td>0.966667</td>\n",
              "      <td>0.966667</td>\n",
              "    </tr>\n",
              "    <tr>\n",
              "      <th>split3_test_score</th>\n",
              "      <td>0.933333</td>\n",
              "      <td>0.9</td>\n",
              "      <td>0.966667</td>\n",
              "      <td>0.966667</td>\n",
              "      <td>0.966667</td>\n",
              "      <td>0.966667</td>\n",
              "      <td>0.966667</td>\n",
              "      <td>0.966667</td>\n",
              "      <td>0.966667</td>\n",
              "      <td>0.966667</td>\n",
              "      <td>0.966667</td>\n",
              "      <td>0.966667</td>\n",
              "    </tr>\n",
              "    <tr>\n",
              "      <th>split4_test_score</th>\n",
              "      <td>1.0</td>\n",
              "      <td>1.0</td>\n",
              "      <td>1.0</td>\n",
              "      <td>1.0</td>\n",
              "      <td>1.0</td>\n",
              "      <td>1.0</td>\n",
              "      <td>1.0</td>\n",
              "      <td>1.0</td>\n",
              "      <td>1.0</td>\n",
              "      <td>1.0</td>\n",
              "      <td>1.0</td>\n",
              "      <td>1.0</td>\n",
              "    </tr>\n",
              "    <tr>\n",
              "      <th>mean_test_score</th>\n",
              "      <td>0.96</td>\n",
              "      <td>0.946667</td>\n",
              "      <td>0.966667</td>\n",
              "      <td>0.966667</td>\n",
              "      <td>0.966667</td>\n",
              "      <td>0.973333</td>\n",
              "      <td>0.966667</td>\n",
              "      <td>0.973333</td>\n",
              "      <td>0.98</td>\n",
              "      <td>0.98</td>\n",
              "      <td>0.98</td>\n",
              "      <td>0.98</td>\n",
              "    </tr>\n",
              "    <tr>\n",
              "      <th>std_test_score</th>\n",
              "      <td>0.024944</td>\n",
              "      <td>0.033993</td>\n",
              "      <td>0.021082</td>\n",
              "      <td>0.021082</td>\n",
              "      <td>0.021082</td>\n",
              "      <td>0.013333</td>\n",
              "      <td>0.036515</td>\n",
              "      <td>0.024944</td>\n",
              "      <td>0.01633</td>\n",
              "      <td>0.01633</td>\n",
              "      <td>0.01633</td>\n",
              "      <td>0.01633</td>\n",
              "    </tr>\n",
              "    <tr>\n",
              "      <th>rank_test_score</th>\n",
              "      <td>11</td>\n",
              "      <td>12</td>\n",
              "      <td>7</td>\n",
              "      <td>7</td>\n",
              "      <td>7</td>\n",
              "      <td>5</td>\n",
              "      <td>7</td>\n",
              "      <td>5</td>\n",
              "      <td>1</td>\n",
              "      <td>1</td>\n",
              "      <td>1</td>\n",
              "      <td>1</td>\n",
              "    </tr>\n",
              "  </tbody>\n",
              "</table>\n",
              "</div>\n",
              "      <button class=\"colab-df-convert\" onclick=\"convertToInteractive('df-14d4392d-17b1-4c31-9587-d6905a1ffba1')\"\n",
              "              title=\"Convert this dataframe to an interactive table.\"\n",
              "              style=\"display:none;\">\n",
              "        \n",
              "  <svg xmlns=\"http://www.w3.org/2000/svg\" height=\"24px\"viewBox=\"0 0 24 24\"\n",
              "       width=\"24px\">\n",
              "    <path d=\"M0 0h24v24H0V0z\" fill=\"none\"/>\n",
              "    <path d=\"M18.56 5.44l.94 2.06.94-2.06 2.06-.94-2.06-.94-.94-2.06-.94 2.06-2.06.94zm-11 1L8.5 8.5l.94-2.06 2.06-.94-2.06-.94L8.5 2.5l-.94 2.06-2.06.94zm10 10l.94 2.06.94-2.06 2.06-.94-2.06-.94-.94-2.06-.94 2.06-2.06.94z\"/><path d=\"M17.41 7.96l-1.37-1.37c-.4-.4-.92-.59-1.43-.59-.52 0-1.04.2-1.43.59L10.3 9.45l-7.72 7.72c-.78.78-.78 2.05 0 2.83L4 21.41c.39.39.9.59 1.41.59.51 0 1.02-.2 1.41-.59l7.78-7.78 2.81-2.81c.8-.78.8-2.07 0-2.86zM5.41 20L4 18.59l7.72-7.72 1.47 1.35L5.41 20z\"/>\n",
              "  </svg>\n",
              "      </button>\n",
              "      \n",
              "  <style>\n",
              "    .colab-df-container {\n",
              "      display:flex;\n",
              "      flex-wrap:wrap;\n",
              "      gap: 12px;\n",
              "    }\n",
              "\n",
              "    .colab-df-convert {\n",
              "      background-color: #E8F0FE;\n",
              "      border: none;\n",
              "      border-radius: 50%;\n",
              "      cursor: pointer;\n",
              "      display: none;\n",
              "      fill: #1967D2;\n",
              "      height: 32px;\n",
              "      padding: 0 0 0 0;\n",
              "      width: 32px;\n",
              "    }\n",
              "\n",
              "    .colab-df-convert:hover {\n",
              "      background-color: #E2EBFA;\n",
              "      box-shadow: 0px 1px 2px rgba(60, 64, 67, 0.3), 0px 1px 3px 1px rgba(60, 64, 67, 0.15);\n",
              "      fill: #174EA6;\n",
              "    }\n",
              "\n",
              "    [theme=dark] .colab-df-convert {\n",
              "      background-color: #3B4455;\n",
              "      fill: #D2E3FC;\n",
              "    }\n",
              "\n",
              "    [theme=dark] .colab-df-convert:hover {\n",
              "      background-color: #434B5C;\n",
              "      box-shadow: 0px 1px 3px 1px rgba(0, 0, 0, 0.15);\n",
              "      filter: drop-shadow(0px 1px 2px rgba(0, 0, 0, 0.3));\n",
              "      fill: #FFFFFF;\n",
              "    }\n",
              "  </style>\n",
              "\n",
              "      <script>\n",
              "        const buttonEl =\n",
              "          document.querySelector('#df-14d4392d-17b1-4c31-9587-d6905a1ffba1 button.colab-df-convert');\n",
              "        buttonEl.style.display =\n",
              "          google.colab.kernel.accessAllowed ? 'block' : 'none';\n",
              "\n",
              "        async function convertToInteractive(key) {\n",
              "          const element = document.querySelector('#df-14d4392d-17b1-4c31-9587-d6905a1ffba1');\n",
              "          const dataTable =\n",
              "            await google.colab.kernel.invokeFunction('convertToInteractive',\n",
              "                                                     [key], {});\n",
              "          if (!dataTable) return;\n",
              "\n",
              "          const docLinkHtml = 'Like what you see? Visit the ' +\n",
              "            '<a target=\"_blank\" href=https://colab.research.google.com/notebooks/data_table.ipynb>data table notebook</a>'\n",
              "            + ' to learn more about interactive tables.';\n",
              "          element.innerHTML = '';\n",
              "          dataTable['output_type'] = 'display_data';\n",
              "          await google.colab.output.renderOutput(dataTable, element);\n",
              "          const docLink = document.createElement('div');\n",
              "          docLink.innerHTML = docLinkHtml;\n",
              "          element.appendChild(docLink);\n",
              "        }\n",
              "      </script>\n",
              "    </div>\n",
              "  </div>\n",
              "  "
            ]
          },
          "metadata": {},
          "execution_count": 121
        }
      ]
    },
    {
      "cell_type": "markdown",
      "source": [
        "### wine dataset"
      ],
      "metadata": {
        "id": "Y-PSCyzXQGUn"
      }
    },
    {
      "cell_type": "code",
      "source": [
        "from sklearn.datasets import load_wine"
      ],
      "metadata": {
        "id": "JedV7l-mPNAO"
      },
      "execution_count": 122,
      "outputs": []
    },
    {
      "cell_type": "code",
      "source": [
        "data = load_wine()"
      ],
      "metadata": {
        "id": "819kBraFQOeO"
      },
      "execution_count": 123,
      "outputs": []
    },
    {
      "cell_type": "code",
      "source": [
        "data_pd = pd.DataFrame(data.data, columns = data.feature_names)\n",
        "data_pd['target'] = pd.DataFrame(data.target, columns = ['target'])\n"
      ],
      "metadata": {
        "id": "NGQvfOjIQPuG"
      },
      "execution_count": 124,
      "outputs": []
    },
    {
      "cell_type": "code",
      "source": [
        "wine = data_pd.copy()"
      ],
      "metadata": {
        "id": "7ZdRBQIhQi8W"
      },
      "execution_count": 125,
      "outputs": []
    },
    {
      "cell_type": "code",
      "source": [
        "wine.head()"
      ],
      "metadata": {
        "colab": {
          "base_uri": "https://localhost:8080/",
          "height": 270
        },
        "id": "QheZ9_6nQlHf",
        "outputId": "fd8c23e7-b432-4942-985a-741d6a06bc3c"
      },
      "execution_count": 126,
      "outputs": [
        {
          "output_type": "execute_result",
          "data": {
            "text/plain": [
              "   alcohol  malic_acid   ash  alcalinity_of_ash  magnesium  total_phenols  \\\n",
              "0    14.23        1.71  2.43               15.6      127.0           2.80   \n",
              "1    13.20        1.78  2.14               11.2      100.0           2.65   \n",
              "2    13.16        2.36  2.67               18.6      101.0           2.80   \n",
              "3    14.37        1.95  2.50               16.8      113.0           3.85   \n",
              "4    13.24        2.59  2.87               21.0      118.0           2.80   \n",
              "\n",
              "   flavanoids  nonflavanoid_phenols  proanthocyanins  color_intensity   hue  \\\n",
              "0        3.06                  0.28             2.29             5.64  1.04   \n",
              "1        2.76                  0.26             1.28             4.38  1.05   \n",
              "2        3.24                  0.30             2.81             5.68  1.03   \n",
              "3        3.49                  0.24             2.18             7.80  0.86   \n",
              "4        2.69                  0.39             1.82             4.32  1.04   \n",
              "\n",
              "   od280/od315_of_diluted_wines  proline  target  \n",
              "0                          3.92   1065.0       0  \n",
              "1                          3.40   1050.0       0  \n",
              "2                          3.17   1185.0       0  \n",
              "3                          3.45   1480.0       0  \n",
              "4                          2.93    735.0       0  "
            ],
            "text/html": [
              "\n",
              "  <div id=\"df-cf4fc7a6-df89-42ed-977c-1e4c8c855728\">\n",
              "    <div class=\"colab-df-container\">\n",
              "      <div>\n",
              "<style scoped>\n",
              "    .dataframe tbody tr th:only-of-type {\n",
              "        vertical-align: middle;\n",
              "    }\n",
              "\n",
              "    .dataframe tbody tr th {\n",
              "        vertical-align: top;\n",
              "    }\n",
              "\n",
              "    .dataframe thead th {\n",
              "        text-align: right;\n",
              "    }\n",
              "</style>\n",
              "<table border=\"1\" class=\"dataframe\">\n",
              "  <thead>\n",
              "    <tr style=\"text-align: right;\">\n",
              "      <th></th>\n",
              "      <th>alcohol</th>\n",
              "      <th>malic_acid</th>\n",
              "      <th>ash</th>\n",
              "      <th>alcalinity_of_ash</th>\n",
              "      <th>magnesium</th>\n",
              "      <th>total_phenols</th>\n",
              "      <th>flavanoids</th>\n",
              "      <th>nonflavanoid_phenols</th>\n",
              "      <th>proanthocyanins</th>\n",
              "      <th>color_intensity</th>\n",
              "      <th>hue</th>\n",
              "      <th>od280/od315_of_diluted_wines</th>\n",
              "      <th>proline</th>\n",
              "      <th>target</th>\n",
              "    </tr>\n",
              "  </thead>\n",
              "  <tbody>\n",
              "    <tr>\n",
              "      <th>0</th>\n",
              "      <td>14.23</td>\n",
              "      <td>1.71</td>\n",
              "      <td>2.43</td>\n",
              "      <td>15.6</td>\n",
              "      <td>127.0</td>\n",
              "      <td>2.80</td>\n",
              "      <td>3.06</td>\n",
              "      <td>0.28</td>\n",
              "      <td>2.29</td>\n",
              "      <td>5.64</td>\n",
              "      <td>1.04</td>\n",
              "      <td>3.92</td>\n",
              "      <td>1065.0</td>\n",
              "      <td>0</td>\n",
              "    </tr>\n",
              "    <tr>\n",
              "      <th>1</th>\n",
              "      <td>13.20</td>\n",
              "      <td>1.78</td>\n",
              "      <td>2.14</td>\n",
              "      <td>11.2</td>\n",
              "      <td>100.0</td>\n",
              "      <td>2.65</td>\n",
              "      <td>2.76</td>\n",
              "      <td>0.26</td>\n",
              "      <td>1.28</td>\n",
              "      <td>4.38</td>\n",
              "      <td>1.05</td>\n",
              "      <td>3.40</td>\n",
              "      <td>1050.0</td>\n",
              "      <td>0</td>\n",
              "    </tr>\n",
              "    <tr>\n",
              "      <th>2</th>\n",
              "      <td>13.16</td>\n",
              "      <td>2.36</td>\n",
              "      <td>2.67</td>\n",
              "      <td>18.6</td>\n",
              "      <td>101.0</td>\n",
              "      <td>2.80</td>\n",
              "      <td>3.24</td>\n",
              "      <td>0.30</td>\n",
              "      <td>2.81</td>\n",
              "      <td>5.68</td>\n",
              "      <td>1.03</td>\n",
              "      <td>3.17</td>\n",
              "      <td>1185.0</td>\n",
              "      <td>0</td>\n",
              "    </tr>\n",
              "    <tr>\n",
              "      <th>3</th>\n",
              "      <td>14.37</td>\n",
              "      <td>1.95</td>\n",
              "      <td>2.50</td>\n",
              "      <td>16.8</td>\n",
              "      <td>113.0</td>\n",
              "      <td>3.85</td>\n",
              "      <td>3.49</td>\n",
              "      <td>0.24</td>\n",
              "      <td>2.18</td>\n",
              "      <td>7.80</td>\n",
              "      <td>0.86</td>\n",
              "      <td>3.45</td>\n",
              "      <td>1480.0</td>\n",
              "      <td>0</td>\n",
              "    </tr>\n",
              "    <tr>\n",
              "      <th>4</th>\n",
              "      <td>13.24</td>\n",
              "      <td>2.59</td>\n",
              "      <td>2.87</td>\n",
              "      <td>21.0</td>\n",
              "      <td>118.0</td>\n",
              "      <td>2.80</td>\n",
              "      <td>2.69</td>\n",
              "      <td>0.39</td>\n",
              "      <td>1.82</td>\n",
              "      <td>4.32</td>\n",
              "      <td>1.04</td>\n",
              "      <td>2.93</td>\n",
              "      <td>735.0</td>\n",
              "      <td>0</td>\n",
              "    </tr>\n",
              "  </tbody>\n",
              "</table>\n",
              "</div>\n",
              "      <button class=\"colab-df-convert\" onclick=\"convertToInteractive('df-cf4fc7a6-df89-42ed-977c-1e4c8c855728')\"\n",
              "              title=\"Convert this dataframe to an interactive table.\"\n",
              "              style=\"display:none;\">\n",
              "        \n",
              "  <svg xmlns=\"http://www.w3.org/2000/svg\" height=\"24px\"viewBox=\"0 0 24 24\"\n",
              "       width=\"24px\">\n",
              "    <path d=\"M0 0h24v24H0V0z\" fill=\"none\"/>\n",
              "    <path d=\"M18.56 5.44l.94 2.06.94-2.06 2.06-.94-2.06-.94-.94-2.06-.94 2.06-2.06.94zm-11 1L8.5 8.5l.94-2.06 2.06-.94-2.06-.94L8.5 2.5l-.94 2.06-2.06.94zm10 10l.94 2.06.94-2.06 2.06-.94-2.06-.94-.94-2.06-.94 2.06-2.06.94z\"/><path d=\"M17.41 7.96l-1.37-1.37c-.4-.4-.92-.59-1.43-.59-.52 0-1.04.2-1.43.59L10.3 9.45l-7.72 7.72c-.78.78-.78 2.05 0 2.83L4 21.41c.39.39.9.59 1.41.59.51 0 1.02-.2 1.41-.59l7.78-7.78 2.81-2.81c.8-.78.8-2.07 0-2.86zM5.41 20L4 18.59l7.72-7.72 1.47 1.35L5.41 20z\"/>\n",
              "  </svg>\n",
              "      </button>\n",
              "      \n",
              "  <style>\n",
              "    .colab-df-container {\n",
              "      display:flex;\n",
              "      flex-wrap:wrap;\n",
              "      gap: 12px;\n",
              "    }\n",
              "\n",
              "    .colab-df-convert {\n",
              "      background-color: #E8F0FE;\n",
              "      border: none;\n",
              "      border-radius: 50%;\n",
              "      cursor: pointer;\n",
              "      display: none;\n",
              "      fill: #1967D2;\n",
              "      height: 32px;\n",
              "      padding: 0 0 0 0;\n",
              "      width: 32px;\n",
              "    }\n",
              "\n",
              "    .colab-df-convert:hover {\n",
              "      background-color: #E2EBFA;\n",
              "      box-shadow: 0px 1px 2px rgba(60, 64, 67, 0.3), 0px 1px 3px 1px rgba(60, 64, 67, 0.15);\n",
              "      fill: #174EA6;\n",
              "    }\n",
              "\n",
              "    [theme=dark] .colab-df-convert {\n",
              "      background-color: #3B4455;\n",
              "      fill: #D2E3FC;\n",
              "    }\n",
              "\n",
              "    [theme=dark] .colab-df-convert:hover {\n",
              "      background-color: #434B5C;\n",
              "      box-shadow: 0px 1px 3px 1px rgba(0, 0, 0, 0.15);\n",
              "      filter: drop-shadow(0px 1px 2px rgba(0, 0, 0, 0.3));\n",
              "      fill: #FFFFFF;\n",
              "    }\n",
              "  </style>\n",
              "\n",
              "      <script>\n",
              "        const buttonEl =\n",
              "          document.querySelector('#df-cf4fc7a6-df89-42ed-977c-1e4c8c855728 button.colab-df-convert');\n",
              "        buttonEl.style.display =\n",
              "          google.colab.kernel.accessAllowed ? 'block' : 'none';\n",
              "\n",
              "        async function convertToInteractive(key) {\n",
              "          const element = document.querySelector('#df-cf4fc7a6-df89-42ed-977c-1e4c8c855728');\n",
              "          const dataTable =\n",
              "            await google.colab.kernel.invokeFunction('convertToInteractive',\n",
              "                                                     [key], {});\n",
              "          if (!dataTable) return;\n",
              "\n",
              "          const docLinkHtml = 'Like what you see? Visit the ' +\n",
              "            '<a target=\"_blank\" href=https://colab.research.google.com/notebooks/data_table.ipynb>data table notebook</a>'\n",
              "            + ' to learn more about interactive tables.';\n",
              "          element.innerHTML = '';\n",
              "          dataTable['output_type'] = 'display_data';\n",
              "          await google.colab.output.renderOutput(dataTable, element);\n",
              "          const docLink = document.createElement('div');\n",
              "          docLink.innerHTML = docLinkHtml;\n",
              "          element.appendChild(docLink);\n",
              "        }\n",
              "      </script>\n",
              "    </div>\n",
              "  </div>\n",
              "  "
            ]
          },
          "metadata": {},
          "execution_count": 126
        }
      ]
    },
    {
      "cell_type": "code",
      "source": [
        "wine.info()"
      ],
      "metadata": {
        "colab": {
          "base_uri": "https://localhost:8080/"
        },
        "id": "q3GOv8bnQmMX",
        "outputId": "1c6c7a29-e20d-4b4b-9692-88cb854fa0c2"
      },
      "execution_count": 127,
      "outputs": [
        {
          "output_type": "stream",
          "name": "stdout",
          "text": [
            "<class 'pandas.core.frame.DataFrame'>\n",
            "RangeIndex: 178 entries, 0 to 177\n",
            "Data columns (total 14 columns):\n",
            " #   Column                        Non-Null Count  Dtype  \n",
            "---  ------                        --------------  -----  \n",
            " 0   alcohol                       178 non-null    float64\n",
            " 1   malic_acid                    178 non-null    float64\n",
            " 2   ash                           178 non-null    float64\n",
            " 3   alcalinity_of_ash             178 non-null    float64\n",
            " 4   magnesium                     178 non-null    float64\n",
            " 5   total_phenols                 178 non-null    float64\n",
            " 6   flavanoids                    178 non-null    float64\n",
            " 7   nonflavanoid_phenols          178 non-null    float64\n",
            " 8   proanthocyanins               178 non-null    float64\n",
            " 9   color_intensity               178 non-null    float64\n",
            " 10  hue                           178 non-null    float64\n",
            " 11  od280/od315_of_diluted_wines  178 non-null    float64\n",
            " 12  proline                       178 non-null    float64\n",
            " 13  target                        178 non-null    int64  \n",
            "dtypes: float64(13), int64(1)\n",
            "memory usage: 19.6 KB\n"
          ]
        }
      ]
    },
    {
      "cell_type": "code",
      "source": [
        "from sklearn.linear_model import LogisticRegression"
      ],
      "metadata": {
        "id": "h5rzguaCQvw-"
      },
      "execution_count": 128,
      "outputs": []
    },
    {
      "cell_type": "code",
      "source": [
        "from sklearn.model_selection import GridSearchCV"
      ],
      "metadata": {
        "id": "_KdKWSD7RCGW"
      },
      "execution_count": 129,
      "outputs": []
    },
    {
      "cell_type": "code",
      "source": [
        "def all_models(X_train, y_train, X_validation, y_validation, cv = 10):\n",
        "  ################################\n",
        "  # 1. Logistic Regression\n",
        "  grid_lr = GridSearchCV(LogisticRegression(), cv = cv)\n",
        "  grid_lr.fit(X_train, y_train)\n",
        "  lr_pd = pd.DataFrame(grid.cv_results_)\n",
        "\n",
        "  ################################\n",
        "  # 2. KNeighbors\n",
        "  grid_knn = GridSearchCV(KNeighborsClassifier(), cv = cv)\n",
        "  grid_knn.fit(X_train, y_train)\n",
        "  knn_pd = pd.DataFrame(grid_knn.cv_results_)\n",
        "  return pd.concat([lr_pd, knn_pd], axis = 1)"
      ],
      "metadata": {
        "id": "EYxTXm_NRGL-"
      },
      "execution_count": 130,
      "outputs": []
    },
    {
      "cell_type": "markdown",
      "source": [
        "GridSearchCV2"
      ],
      "metadata": {
        "id": "8v1e5qneS-In"
      }
    },
    {
      "cell_type": "code",
      "source": [
        "# GridSearchCV(estimator, param_grid, *...)\n",
        "\n",
        "# param_grid는 dict 또는 dictionary로 된 list를 인자로 받을 수 있다.\n",
        "gird = GridSearchCV(KNeighborsClassifier(), [{'n_neighbors':[2, 3, 4, 5],\n",
        "                                              'weights':['uniform', 'distance']}])"
      ],
      "metadata": {
        "id": "zYr32KRASyBg"
      },
      "execution_count": 131,
      "outputs": []
    },
    {
      "cell_type": "code",
      "source": [
        "# params를 보면 매번 실행할때마다 사영되는 하이퍼 파라미터를 기록한다.\n",
        "# params_grid를 리스트 안에 딕셔너리 형태로 넣으면 딕셔너리 안에서 조합이 구해진다.\n",
        "# 다른 딕셔너리에 들어간 하이퍼파라미터와는 조합을 만들지 않는다.\n",
        "gird.fit(wine.iloc[:, :-1], wine.target)"
      ],
      "metadata": {
        "colab": {
          "base_uri": "https://localhost:8080/"
        },
        "id": "5BaEUK7NTxNn",
        "outputId": "4a966b63-54ae-4f5a-c6a8-2e05c4ac6612"
      },
      "execution_count": 132,
      "outputs": [
        {
          "output_type": "execute_result",
          "data": {
            "text/plain": [
              "GridSearchCV(estimator=KNeighborsClassifier(),\n",
              "             param_grid=[{'n_neighbors': [2, 3, 4, 5],\n",
              "                          'weights': ['uniform', 'distance']}])"
            ]
          },
          "metadata": {},
          "execution_count": 132
        }
      ]
    },
    {
      "cell_type": "code",
      "source": [
        "pd.DataFrame(grid.cv_results_).T"
      ],
      "metadata": {
        "colab": {
          "base_uri": "https://localhost:8080/",
          "height": 618
        },
        "id": "DO8X2GtRT2MP",
        "outputId": "b9c9620b-1848-4ab6-e359-06aee60334a5"
      },
      "execution_count": 133,
      "outputs": [
        {
          "output_type": "execute_result",
          "data": {
            "text/plain": [
              "                                                          0   \\\n",
              "mean_fit_time                                       0.002582   \n",
              "std_fit_time                                        0.000646   \n",
              "mean_score_time                                     0.002555   \n",
              "std_score_time                                      0.000726   \n",
              "param_n_neighbors                                          2   \n",
              "param_weights                                       distance   \n",
              "params             {'n_neighbors': 2, 'weights': 'distance'}   \n",
              "split0_test_score                                   0.966667   \n",
              "split1_test_score                                   0.966667   \n",
              "split2_test_score                                   0.933333   \n",
              "split3_test_score                                   0.933333   \n",
              "split4_test_score                                        1.0   \n",
              "mean_test_score                                         0.96   \n",
              "std_test_score                                      0.024944   \n",
              "rank_test_score                                           11   \n",
              "\n",
              "                                                         1   \\\n",
              "mean_fit_time                                      0.001725   \n",
              "std_fit_time                                       0.000036   \n",
              "mean_score_time                                    0.002583   \n",
              "std_score_time                                     0.000167   \n",
              "param_n_neighbors                                         2   \n",
              "param_weights                                       uniform   \n",
              "params             {'n_neighbors': 2, 'weights': 'uniform'}   \n",
              "split0_test_score                                  0.966667   \n",
              "split1_test_score                                  0.933333   \n",
              "split2_test_score                                  0.933333   \n",
              "split3_test_score                                       0.9   \n",
              "split4_test_score                                       1.0   \n",
              "mean_test_score                                    0.946667   \n",
              "std_test_score                                     0.033993   \n",
              "rank_test_score                                          12   \n",
              "\n",
              "                                                          2   \\\n",
              "mean_fit_time                                       0.001744   \n",
              "std_fit_time                                        0.000091   \n",
              "mean_score_time                                     0.002079   \n",
              "std_score_time                                      0.000342   \n",
              "param_n_neighbors                                          3   \n",
              "param_weights                                       distance   \n",
              "params             {'n_neighbors': 3, 'weights': 'distance'}   \n",
              "split0_test_score                                   0.966667   \n",
              "split1_test_score                                   0.966667   \n",
              "split2_test_score                                   0.933333   \n",
              "split3_test_score                                   0.966667   \n",
              "split4_test_score                                        1.0   \n",
              "mean_test_score                                     0.966667   \n",
              "std_test_score                                      0.021082   \n",
              "rank_test_score                                            7   \n",
              "\n",
              "                                                         3   \\\n",
              "mean_fit_time                                       0.00182   \n",
              "std_fit_time                                       0.000234   \n",
              "mean_score_time                                    0.002462   \n",
              "std_score_time                                     0.000062   \n",
              "param_n_neighbors                                         3   \n",
              "param_weights                                       uniform   \n",
              "params             {'n_neighbors': 3, 'weights': 'uniform'}   \n",
              "split0_test_score                                  0.966667   \n",
              "split1_test_score                                  0.966667   \n",
              "split2_test_score                                  0.933333   \n",
              "split3_test_score                                  0.966667   \n",
              "split4_test_score                                       1.0   \n",
              "mean_test_score                                    0.966667   \n",
              "std_test_score                                     0.021082   \n",
              "rank_test_score                                           7   \n",
              "\n",
              "                                                          4   \\\n",
              "mean_fit_time                                        0.00168   \n",
              "std_fit_time                                        0.000013   \n",
              "mean_score_time                                     0.001795   \n",
              "std_score_time                                      0.000027   \n",
              "param_n_neighbors                                          4   \n",
              "param_weights                                       distance   \n",
              "params             {'n_neighbors': 4, 'weights': 'distance'}   \n",
              "split0_test_score                                   0.966667   \n",
              "split1_test_score                                   0.966667   \n",
              "split2_test_score                                   0.933333   \n",
              "split3_test_score                                   0.966667   \n",
              "split4_test_score                                        1.0   \n",
              "mean_test_score                                     0.966667   \n",
              "std_test_score                                      0.021082   \n",
              "rank_test_score                                            7   \n",
              "\n",
              "                                                         5   \\\n",
              "mean_fit_time                                      0.001706   \n",
              "std_fit_time                                       0.000038   \n",
              "mean_score_time                                    0.002446   \n",
              "std_score_time                                     0.000013   \n",
              "param_n_neighbors                                         4   \n",
              "param_weights                                       uniform   \n",
              "params             {'n_neighbors': 4, 'weights': 'uniform'}   \n",
              "split0_test_score                                  0.966667   \n",
              "split1_test_score                                  0.966667   \n",
              "split2_test_score                                  0.966667   \n",
              "split3_test_score                                  0.966667   \n",
              "split4_test_score                                       1.0   \n",
              "mean_test_score                                    0.973333   \n",
              "std_test_score                                     0.013333   \n",
              "rank_test_score                                           5   \n",
              "\n",
              "                                                          6   \\\n",
              "mean_fit_time                                       0.001793   \n",
              "std_fit_time                                        0.000189   \n",
              "mean_score_time                                      0.00197   \n",
              "std_score_time                                      0.000194   \n",
              "param_n_neighbors                                          5   \n",
              "param_weights                                       distance   \n",
              "params             {'n_neighbors': 5, 'weights': 'distance'}   \n",
              "split0_test_score                                   0.966667   \n",
              "split1_test_score                                        1.0   \n",
              "split2_test_score                                        0.9   \n",
              "split3_test_score                                   0.966667   \n",
              "split4_test_score                                        1.0   \n",
              "mean_test_score                                     0.966667   \n",
              "std_test_score                                      0.036515   \n",
              "rank_test_score                                            7   \n",
              "\n",
              "                                                         7   \\\n",
              "mean_fit_time                                      0.001714   \n",
              "std_fit_time                                       0.000019   \n",
              "mean_score_time                                    0.002548   \n",
              "std_score_time                                     0.000086   \n",
              "param_n_neighbors                                         5   \n",
              "param_weights                                       uniform   \n",
              "params             {'n_neighbors': 5, 'weights': 'uniform'}   \n",
              "split0_test_score                                  0.966667   \n",
              "split1_test_score                                       1.0   \n",
              "split2_test_score                                  0.933333   \n",
              "split3_test_score                                  0.966667   \n",
              "split4_test_score                                       1.0   \n",
              "mean_test_score                                    0.973333   \n",
              "std_test_score                                     0.024944   \n",
              "rank_test_score                                           5   \n",
              "\n",
              "                                                          8   \\\n",
              "mean_fit_time                                       0.001685   \n",
              "std_fit_time                                         0.00004   \n",
              "mean_score_time                                     0.001821   \n",
              "std_score_time                                       0.00003   \n",
              "param_n_neighbors                                          6   \n",
              "param_weights                                       distance   \n",
              "params             {'n_neighbors': 6, 'weights': 'distance'}   \n",
              "split0_test_score                                   0.966667   \n",
              "split1_test_score                                        1.0   \n",
              "split2_test_score                                   0.966667   \n",
              "split3_test_score                                   0.966667   \n",
              "split4_test_score                                        1.0   \n",
              "mean_test_score                                         0.98   \n",
              "std_test_score                                       0.01633   \n",
              "rank_test_score                                            1   \n",
              "\n",
              "                                                         9   \\\n",
              "mean_fit_time                                      0.001723   \n",
              "std_fit_time                                       0.000091   \n",
              "mean_score_time                                    0.002471   \n",
              "std_score_time                                     0.000047   \n",
              "param_n_neighbors                                         6   \n",
              "param_weights                                       uniform   \n",
              "params             {'n_neighbors': 6, 'weights': 'uniform'}   \n",
              "split0_test_score                                  0.966667   \n",
              "split1_test_score                                       1.0   \n",
              "split2_test_score                                  0.966667   \n",
              "split3_test_score                                  0.966667   \n",
              "split4_test_score                                       1.0   \n",
              "mean_test_score                                        0.98   \n",
              "std_test_score                                      0.01633   \n",
              "rank_test_score                                           1   \n",
              "\n",
              "                                                          10  \\\n",
              "mean_fit_time                                       0.002077   \n",
              "std_fit_time                                        0.000436   \n",
              "mean_score_time                                     0.002129   \n",
              "std_score_time                                      0.000338   \n",
              "param_n_neighbors                                          7   \n",
              "param_weights                                       distance   \n",
              "params             {'n_neighbors': 7, 'weights': 'distance'}   \n",
              "split0_test_score                                   0.966667   \n",
              "split1_test_score                                        1.0   \n",
              "split2_test_score                                   0.966667   \n",
              "split3_test_score                                   0.966667   \n",
              "split4_test_score                                        1.0   \n",
              "mean_test_score                                         0.98   \n",
              "std_test_score                                       0.01633   \n",
              "rank_test_score                                            1   \n",
              "\n",
              "                                                         11  \n",
              "mean_fit_time                                      0.001692  \n",
              "std_fit_time                                       0.000034  \n",
              "mean_score_time                                    0.002716  \n",
              "std_score_time                                     0.000411  \n",
              "param_n_neighbors                                         7  \n",
              "param_weights                                       uniform  \n",
              "params             {'n_neighbors': 7, 'weights': 'uniform'}  \n",
              "split0_test_score                                  0.966667  \n",
              "split1_test_score                                       1.0  \n",
              "split2_test_score                                  0.966667  \n",
              "split3_test_score                                  0.966667  \n",
              "split4_test_score                                       1.0  \n",
              "mean_test_score                                        0.98  \n",
              "std_test_score                                      0.01633  \n",
              "rank_test_score                                           1  "
            ],
            "text/html": [
              "\n",
              "  <div id=\"df-4be42d27-f5c1-4da7-9f22-12dd3d11c01e\">\n",
              "    <div class=\"colab-df-container\">\n",
              "      <div>\n",
              "<style scoped>\n",
              "    .dataframe tbody tr th:only-of-type {\n",
              "        vertical-align: middle;\n",
              "    }\n",
              "\n",
              "    .dataframe tbody tr th {\n",
              "        vertical-align: top;\n",
              "    }\n",
              "\n",
              "    .dataframe thead th {\n",
              "        text-align: right;\n",
              "    }\n",
              "</style>\n",
              "<table border=\"1\" class=\"dataframe\">\n",
              "  <thead>\n",
              "    <tr style=\"text-align: right;\">\n",
              "      <th></th>\n",
              "      <th>0</th>\n",
              "      <th>1</th>\n",
              "      <th>2</th>\n",
              "      <th>3</th>\n",
              "      <th>4</th>\n",
              "      <th>5</th>\n",
              "      <th>6</th>\n",
              "      <th>7</th>\n",
              "      <th>8</th>\n",
              "      <th>9</th>\n",
              "      <th>10</th>\n",
              "      <th>11</th>\n",
              "    </tr>\n",
              "  </thead>\n",
              "  <tbody>\n",
              "    <tr>\n",
              "      <th>mean_fit_time</th>\n",
              "      <td>0.002582</td>\n",
              "      <td>0.001725</td>\n",
              "      <td>0.001744</td>\n",
              "      <td>0.00182</td>\n",
              "      <td>0.00168</td>\n",
              "      <td>0.001706</td>\n",
              "      <td>0.001793</td>\n",
              "      <td>0.001714</td>\n",
              "      <td>0.001685</td>\n",
              "      <td>0.001723</td>\n",
              "      <td>0.002077</td>\n",
              "      <td>0.001692</td>\n",
              "    </tr>\n",
              "    <tr>\n",
              "      <th>std_fit_time</th>\n",
              "      <td>0.000646</td>\n",
              "      <td>0.000036</td>\n",
              "      <td>0.000091</td>\n",
              "      <td>0.000234</td>\n",
              "      <td>0.000013</td>\n",
              "      <td>0.000038</td>\n",
              "      <td>0.000189</td>\n",
              "      <td>0.000019</td>\n",
              "      <td>0.00004</td>\n",
              "      <td>0.000091</td>\n",
              "      <td>0.000436</td>\n",
              "      <td>0.000034</td>\n",
              "    </tr>\n",
              "    <tr>\n",
              "      <th>mean_score_time</th>\n",
              "      <td>0.002555</td>\n",
              "      <td>0.002583</td>\n",
              "      <td>0.002079</td>\n",
              "      <td>0.002462</td>\n",
              "      <td>0.001795</td>\n",
              "      <td>0.002446</td>\n",
              "      <td>0.00197</td>\n",
              "      <td>0.002548</td>\n",
              "      <td>0.001821</td>\n",
              "      <td>0.002471</td>\n",
              "      <td>0.002129</td>\n",
              "      <td>0.002716</td>\n",
              "    </tr>\n",
              "    <tr>\n",
              "      <th>std_score_time</th>\n",
              "      <td>0.000726</td>\n",
              "      <td>0.000167</td>\n",
              "      <td>0.000342</td>\n",
              "      <td>0.000062</td>\n",
              "      <td>0.000027</td>\n",
              "      <td>0.000013</td>\n",
              "      <td>0.000194</td>\n",
              "      <td>0.000086</td>\n",
              "      <td>0.00003</td>\n",
              "      <td>0.000047</td>\n",
              "      <td>0.000338</td>\n",
              "      <td>0.000411</td>\n",
              "    </tr>\n",
              "    <tr>\n",
              "      <th>param_n_neighbors</th>\n",
              "      <td>2</td>\n",
              "      <td>2</td>\n",
              "      <td>3</td>\n",
              "      <td>3</td>\n",
              "      <td>4</td>\n",
              "      <td>4</td>\n",
              "      <td>5</td>\n",
              "      <td>5</td>\n",
              "      <td>6</td>\n",
              "      <td>6</td>\n",
              "      <td>7</td>\n",
              "      <td>7</td>\n",
              "    </tr>\n",
              "    <tr>\n",
              "      <th>param_weights</th>\n",
              "      <td>distance</td>\n",
              "      <td>uniform</td>\n",
              "      <td>distance</td>\n",
              "      <td>uniform</td>\n",
              "      <td>distance</td>\n",
              "      <td>uniform</td>\n",
              "      <td>distance</td>\n",
              "      <td>uniform</td>\n",
              "      <td>distance</td>\n",
              "      <td>uniform</td>\n",
              "      <td>distance</td>\n",
              "      <td>uniform</td>\n",
              "    </tr>\n",
              "    <tr>\n",
              "      <th>params</th>\n",
              "      <td>{'n_neighbors': 2, 'weights': 'distance'}</td>\n",
              "      <td>{'n_neighbors': 2, 'weights': 'uniform'}</td>\n",
              "      <td>{'n_neighbors': 3, 'weights': 'distance'}</td>\n",
              "      <td>{'n_neighbors': 3, 'weights': 'uniform'}</td>\n",
              "      <td>{'n_neighbors': 4, 'weights': 'distance'}</td>\n",
              "      <td>{'n_neighbors': 4, 'weights': 'uniform'}</td>\n",
              "      <td>{'n_neighbors': 5, 'weights': 'distance'}</td>\n",
              "      <td>{'n_neighbors': 5, 'weights': 'uniform'}</td>\n",
              "      <td>{'n_neighbors': 6, 'weights': 'distance'}</td>\n",
              "      <td>{'n_neighbors': 6, 'weights': 'uniform'}</td>\n",
              "      <td>{'n_neighbors': 7, 'weights': 'distance'}</td>\n",
              "      <td>{'n_neighbors': 7, 'weights': 'uniform'}</td>\n",
              "    </tr>\n",
              "    <tr>\n",
              "      <th>split0_test_score</th>\n",
              "      <td>0.966667</td>\n",
              "      <td>0.966667</td>\n",
              "      <td>0.966667</td>\n",
              "      <td>0.966667</td>\n",
              "      <td>0.966667</td>\n",
              "      <td>0.966667</td>\n",
              "      <td>0.966667</td>\n",
              "      <td>0.966667</td>\n",
              "      <td>0.966667</td>\n",
              "      <td>0.966667</td>\n",
              "      <td>0.966667</td>\n",
              "      <td>0.966667</td>\n",
              "    </tr>\n",
              "    <tr>\n",
              "      <th>split1_test_score</th>\n",
              "      <td>0.966667</td>\n",
              "      <td>0.933333</td>\n",
              "      <td>0.966667</td>\n",
              "      <td>0.966667</td>\n",
              "      <td>0.966667</td>\n",
              "      <td>0.966667</td>\n",
              "      <td>1.0</td>\n",
              "      <td>1.0</td>\n",
              "      <td>1.0</td>\n",
              "      <td>1.0</td>\n",
              "      <td>1.0</td>\n",
              "      <td>1.0</td>\n",
              "    </tr>\n",
              "    <tr>\n",
              "      <th>split2_test_score</th>\n",
              "      <td>0.933333</td>\n",
              "      <td>0.933333</td>\n",
              "      <td>0.933333</td>\n",
              "      <td>0.933333</td>\n",
              "      <td>0.933333</td>\n",
              "      <td>0.966667</td>\n",
              "      <td>0.9</td>\n",
              "      <td>0.933333</td>\n",
              "      <td>0.966667</td>\n",
              "      <td>0.966667</td>\n",
              "      <td>0.966667</td>\n",
              "      <td>0.966667</td>\n",
              "    </tr>\n",
              "    <tr>\n",
              "      <th>split3_test_score</th>\n",
              "      <td>0.933333</td>\n",
              "      <td>0.9</td>\n",
              "      <td>0.966667</td>\n",
              "      <td>0.966667</td>\n",
              "      <td>0.966667</td>\n",
              "      <td>0.966667</td>\n",
              "      <td>0.966667</td>\n",
              "      <td>0.966667</td>\n",
              "      <td>0.966667</td>\n",
              "      <td>0.966667</td>\n",
              "      <td>0.966667</td>\n",
              "      <td>0.966667</td>\n",
              "    </tr>\n",
              "    <tr>\n",
              "      <th>split4_test_score</th>\n",
              "      <td>1.0</td>\n",
              "      <td>1.0</td>\n",
              "      <td>1.0</td>\n",
              "      <td>1.0</td>\n",
              "      <td>1.0</td>\n",
              "      <td>1.0</td>\n",
              "      <td>1.0</td>\n",
              "      <td>1.0</td>\n",
              "      <td>1.0</td>\n",
              "      <td>1.0</td>\n",
              "      <td>1.0</td>\n",
              "      <td>1.0</td>\n",
              "    </tr>\n",
              "    <tr>\n",
              "      <th>mean_test_score</th>\n",
              "      <td>0.96</td>\n",
              "      <td>0.946667</td>\n",
              "      <td>0.966667</td>\n",
              "      <td>0.966667</td>\n",
              "      <td>0.966667</td>\n",
              "      <td>0.973333</td>\n",
              "      <td>0.966667</td>\n",
              "      <td>0.973333</td>\n",
              "      <td>0.98</td>\n",
              "      <td>0.98</td>\n",
              "      <td>0.98</td>\n",
              "      <td>0.98</td>\n",
              "    </tr>\n",
              "    <tr>\n",
              "      <th>std_test_score</th>\n",
              "      <td>0.024944</td>\n",
              "      <td>0.033993</td>\n",
              "      <td>0.021082</td>\n",
              "      <td>0.021082</td>\n",
              "      <td>0.021082</td>\n",
              "      <td>0.013333</td>\n",
              "      <td>0.036515</td>\n",
              "      <td>0.024944</td>\n",
              "      <td>0.01633</td>\n",
              "      <td>0.01633</td>\n",
              "      <td>0.01633</td>\n",
              "      <td>0.01633</td>\n",
              "    </tr>\n",
              "    <tr>\n",
              "      <th>rank_test_score</th>\n",
              "      <td>11</td>\n",
              "      <td>12</td>\n",
              "      <td>7</td>\n",
              "      <td>7</td>\n",
              "      <td>7</td>\n",
              "      <td>5</td>\n",
              "      <td>7</td>\n",
              "      <td>5</td>\n",
              "      <td>1</td>\n",
              "      <td>1</td>\n",
              "      <td>1</td>\n",
              "      <td>1</td>\n",
              "    </tr>\n",
              "  </tbody>\n",
              "</table>\n",
              "</div>\n",
              "      <button class=\"colab-df-convert\" onclick=\"convertToInteractive('df-4be42d27-f5c1-4da7-9f22-12dd3d11c01e')\"\n",
              "              title=\"Convert this dataframe to an interactive table.\"\n",
              "              style=\"display:none;\">\n",
              "        \n",
              "  <svg xmlns=\"http://www.w3.org/2000/svg\" height=\"24px\"viewBox=\"0 0 24 24\"\n",
              "       width=\"24px\">\n",
              "    <path d=\"M0 0h24v24H0V0z\" fill=\"none\"/>\n",
              "    <path d=\"M18.56 5.44l.94 2.06.94-2.06 2.06-.94-2.06-.94-.94-2.06-.94 2.06-2.06.94zm-11 1L8.5 8.5l.94-2.06 2.06-.94-2.06-.94L8.5 2.5l-.94 2.06-2.06.94zm10 10l.94 2.06.94-2.06 2.06-.94-2.06-.94-.94-2.06-.94 2.06-2.06.94z\"/><path d=\"M17.41 7.96l-1.37-1.37c-.4-.4-.92-.59-1.43-.59-.52 0-1.04.2-1.43.59L10.3 9.45l-7.72 7.72c-.78.78-.78 2.05 0 2.83L4 21.41c.39.39.9.59 1.41.59.51 0 1.02-.2 1.41-.59l7.78-7.78 2.81-2.81c.8-.78.8-2.07 0-2.86zM5.41 20L4 18.59l7.72-7.72 1.47 1.35L5.41 20z\"/>\n",
              "  </svg>\n",
              "      </button>\n",
              "      \n",
              "  <style>\n",
              "    .colab-df-container {\n",
              "      display:flex;\n",
              "      flex-wrap:wrap;\n",
              "      gap: 12px;\n",
              "    }\n",
              "\n",
              "    .colab-df-convert {\n",
              "      background-color: #E8F0FE;\n",
              "      border: none;\n",
              "      border-radius: 50%;\n",
              "      cursor: pointer;\n",
              "      display: none;\n",
              "      fill: #1967D2;\n",
              "      height: 32px;\n",
              "      padding: 0 0 0 0;\n",
              "      width: 32px;\n",
              "    }\n",
              "\n",
              "    .colab-df-convert:hover {\n",
              "      background-color: #E2EBFA;\n",
              "      box-shadow: 0px 1px 2px rgba(60, 64, 67, 0.3), 0px 1px 3px 1px rgba(60, 64, 67, 0.15);\n",
              "      fill: #174EA6;\n",
              "    }\n",
              "\n",
              "    [theme=dark] .colab-df-convert {\n",
              "      background-color: #3B4455;\n",
              "      fill: #D2E3FC;\n",
              "    }\n",
              "\n",
              "    [theme=dark] .colab-df-convert:hover {\n",
              "      background-color: #434B5C;\n",
              "      box-shadow: 0px 1px 3px 1px rgba(0, 0, 0, 0.15);\n",
              "      filter: drop-shadow(0px 1px 2px rgba(0, 0, 0, 0.3));\n",
              "      fill: #FFFFFF;\n",
              "    }\n",
              "  </style>\n",
              "\n",
              "      <script>\n",
              "        const buttonEl =\n",
              "          document.querySelector('#df-4be42d27-f5c1-4da7-9f22-12dd3d11c01e button.colab-df-convert');\n",
              "        buttonEl.style.display =\n",
              "          google.colab.kernel.accessAllowed ? 'block' : 'none';\n",
              "\n",
              "        async function convertToInteractive(key) {\n",
              "          const element = document.querySelector('#df-4be42d27-f5c1-4da7-9f22-12dd3d11c01e');\n",
              "          const dataTable =\n",
              "            await google.colab.kernel.invokeFunction('convertToInteractive',\n",
              "                                                     [key], {});\n",
              "          if (!dataTable) return;\n",
              "\n",
              "          const docLinkHtml = 'Like what you see? Visit the ' +\n",
              "            '<a target=\"_blank\" href=https://colab.research.google.com/notebooks/data_table.ipynb>data table notebook</a>'\n",
              "            + ' to learn more about interactive tables.';\n",
              "          element.innerHTML = '';\n",
              "          dataTable['output_type'] = 'display_data';\n",
              "          await google.colab.output.renderOutput(dataTable, element);\n",
              "          const docLink = document.createElement('div');\n",
              "          docLink.innerHTML = docLinkHtml;\n",
              "          element.appendChild(docLink);\n",
              "        }\n",
              "      </script>\n",
              "    </div>\n",
              "  </div>\n",
              "  "
            ]
          },
          "metadata": {},
          "execution_count": 133
        }
      ]
    },
    {
      "cell_type": "markdown",
      "source": [
        "### GridSearchCV + Pipeline"
      ],
      "metadata": {
        "id": "e4jjlydlT9rG"
      }
    },
    {
      "cell_type": "markdown",
      "source": [
        "GridSearchCV와 Pipeline을 연동하기"
      ],
      "metadata": {
        "id": "t4dim0rtcq4w"
      }
    },
    {
      "cell_type": "code",
      "source": [
        "from sklearn.pipeline import Pipeline"
      ],
      "metadata": {
        "id": "NSddKQgycuCn"
      },
      "execution_count": 134,
      "outputs": []
    },
    {
      "cell_type": "code",
      "source": [
        "from sklearn.preprocessing import StandardScaler"
      ],
      "metadata": {
        "id": "WdLOs8zvcxoG"
      },
      "execution_count": 135,
      "outputs": []
    },
    {
      "cell_type": "code",
      "source": [
        "pipe = Pipeline([('ss', StandardScaler()), ('knn', KNeighborsClassifier())])"
      ],
      "metadata": {
        "id": "Bpv_bIG0dEK2"
      },
      "execution_count": 140,
      "outputs": []
    },
    {
      "cell_type": "code",
      "source": [
        "grid = GridSearchCV(pipe, {'n_neighbors':[2, 3, 4, 5]})"
      ],
      "metadata": {
        "id": "JdvSqsPwdPiV"
      },
      "execution_count": 142,
      "outputs": []
    },
    {
      "cell_type": "code",
      "source": [
        "# ValueError\n",
        "# Check the list of available parameters with `estimator.get_params().keys()`.\n",
        "grid.fit(wine.iloc[:, :-1], wine.target)"
      ],
      "metadata": {
        "id": "BZzSnxdDd89d"
      },
      "execution_count": null,
      "outputs": []
    },
    {
      "cell_type": "code",
      "source": [
        "# pipe의 내부 보기\n",
        "vars(pipe)"
      ],
      "metadata": {
        "colab": {
          "base_uri": "https://localhost:8080/"
        },
        "id": "dF76nS5heMIF",
        "outputId": "826142ef-03af-4794-9e93-25da96de8c98"
      },
      "execution_count": 144,
      "outputs": [
        {
          "output_type": "execute_result",
          "data": {
            "text/plain": [
              "{'steps': [('ss', StandardScaler()), ('knn', KNeighborsClassifier())],\n",
              " 'memory': None,\n",
              " 'verbose': False}"
            ]
          },
          "metadata": {},
          "execution_count": 144
        }
      ]
    },
    {
      "cell_type": "code",
      "source": [
        "# pipe에서 knn 알고리즘만 꺼내서 get_params를 확인한다.\n",
        "# n_neigbors가 맞다.\n",
        "pipe.steps[-1][1].get_params()"
      ],
      "metadata": {
        "colab": {
          "base_uri": "https://localhost:8080/"
        },
        "id": "Zq27t_eaesjl",
        "outputId": "8adffccd-fe1b-42d3-ec0a-c66fe2c13d9f"
      },
      "execution_count": 147,
      "outputs": [
        {
          "output_type": "execute_result",
          "data": {
            "text/plain": [
              "{'algorithm': 'auto',\n",
              " 'leaf_size': 30,\n",
              " 'metric': 'minkowski',\n",
              " 'metric_params': None,\n",
              " 'n_jobs': None,\n",
              " 'n_neighbors': 5,\n",
              " 'p': 2,\n",
              " 'weights': 'uniform'}"
            ]
          },
          "metadata": {},
          "execution_count": 147
        }
      ]
    },
    {
      "cell_type": "code",
      "source": [
        "# pipe 자체의 get_params를 확인한다.\n",
        "# Pipeline은 알고리즘의 하이퍼 파라미터 이름을 맹글링한다.\n",
        "pipe.get_params()"
      ],
      "metadata": {
        "colab": {
          "base_uri": "https://localhost:8080/"
        },
        "id": "6XnrZV7Me75u",
        "outputId": "96188335-935f-466b-d132-0e2da3f59cf8"
      },
      "execution_count": 148,
      "outputs": [
        {
          "output_type": "execute_result",
          "data": {
            "text/plain": [
              "{'memory': None,\n",
              " 'steps': [('ss', StandardScaler()), ('knn', KNeighborsClassifier())],\n",
              " 'verbose': False,\n",
              " 'ss': StandardScaler(),\n",
              " 'knn': KNeighborsClassifier(),\n",
              " 'ss__copy': True,\n",
              " 'ss__with_mean': True,\n",
              " 'ss__with_std': True,\n",
              " 'knn__algorithm': 'auto',\n",
              " 'knn__leaf_size': 30,\n",
              " 'knn__metric': 'minkowski',\n",
              " 'knn__metric_params': None,\n",
              " 'knn__n_jobs': None,\n",
              " 'knn__n_neighbors': 5,\n",
              " 'knn__p': 2,\n",
              " 'knn__weights': 'uniform'}"
            ]
          },
          "metadata": {},
          "execution_count": 148
        }
      ]
    },
    {
      "cell_type": "code",
      "source": [
        "# mangling된 이름으로 하이퍼 파라미터 이름을 바꾸었다.\n",
        "grid = GridSearchCV(pipe, {'knn__n_neighbors':[2, 3, 4, 5]})"
      ],
      "metadata": {
        "id": "zo3QmB31fhll"
      },
      "execution_count": 161,
      "outputs": []
    },
    {
      "cell_type": "code",
      "source": [
        "# Pipeline을 거쳐서 GridSearchCV까지 한번에 사용할 수 있다.\n",
        "grid.fit(wine.iloc[:, :-1], wine.target)"
      ],
      "metadata": {
        "colab": {
          "base_uri": "https://localhost:8080/"
        },
        "id": "R92K_QqrgZh2",
        "outputId": "563cd2b3-2fa2-4475-96a6-4f49d83586f7"
      },
      "execution_count": 162,
      "outputs": [
        {
          "output_type": "execute_result",
          "data": {
            "text/plain": [
              "GridSearchCV(estimator=Pipeline(steps=[('ss', StandardScaler()),\n",
              "                                       ('knn', KNeighborsClassifier())]),\n",
              "             param_grid={'knn__n_neighbors': [2, 3, 4, 5]})"
            ]
          },
          "metadata": {},
          "execution_count": 162
        }
      ]
    },
    {
      "cell_type": "code",
      "source": [
        "pd.DataFrame(grid.cv_results_).T"
      ],
      "metadata": {
        "colab": {
          "base_uri": "https://localhost:8080/",
          "height": 488
        },
        "id": "nCW3mnTqghVO",
        "outputId": "5ec7dec6-e734-4f2f-fc39-8e632a718a76"
      },
      "execution_count": 163,
      "outputs": [
        {
          "output_type": "execute_result",
          "data": {
            "text/plain": [
              "                                              0                        1  \\\n",
              "mean_fit_time                          0.005204                 0.003369   \n",
              "std_fit_time                           0.002819                 0.000062   \n",
              "mean_score_time                        0.003734                  0.00298   \n",
              "std_score_time                         0.001047                 0.000121   \n",
              "param_knn__n_neighbors                        2                        3   \n",
              "params                  {'knn__n_neighbors': 2}  {'knn__n_neighbors': 3}   \n",
              "split0_test_score                      0.916667                 0.888889   \n",
              "split1_test_score                      0.944444                 0.944444   \n",
              "split2_test_score                      0.944444                 0.972222   \n",
              "split3_test_score                           1.0                      1.0   \n",
              "split4_test_score                      0.914286                 0.914286   \n",
              "mean_test_score                        0.943968                 0.943968   \n",
              "std_test_score                         0.030875                  0.03963   \n",
              "rank_test_score                               2                        2   \n",
              "\n",
              "                                              2                        3  \n",
              "mean_fit_time                          0.003278                 0.003313  \n",
              "std_fit_time                           0.000078                 0.000153  \n",
              "mean_score_time                        0.002932                 0.002925  \n",
              "std_score_time                         0.000038                 0.000134  \n",
              "param_knn__n_neighbors                        4                        5  \n",
              "params                  {'knn__n_neighbors': 4}  {'knn__n_neighbors': 5}  \n",
              "split0_test_score                      0.888889                 0.944444  \n",
              "split1_test_score                      0.944444                 0.944444  \n",
              "split2_test_score                      0.972222                 0.972222  \n",
              "split3_test_score                           1.0                      1.0  \n",
              "split4_test_score                      0.914286                 0.885714  \n",
              "mean_test_score                        0.943968                 0.949365  \n",
              "std_test_score                          0.03963                 0.037911  \n",
              "rank_test_score                               2                        1  "
            ],
            "text/html": [
              "\n",
              "  <div id=\"df-5c2bf5a5-3fdb-4854-b779-5bc71167f05e\">\n",
              "    <div class=\"colab-df-container\">\n",
              "      <div>\n",
              "<style scoped>\n",
              "    .dataframe tbody tr th:only-of-type {\n",
              "        vertical-align: middle;\n",
              "    }\n",
              "\n",
              "    .dataframe tbody tr th {\n",
              "        vertical-align: top;\n",
              "    }\n",
              "\n",
              "    .dataframe thead th {\n",
              "        text-align: right;\n",
              "    }\n",
              "</style>\n",
              "<table border=\"1\" class=\"dataframe\">\n",
              "  <thead>\n",
              "    <tr style=\"text-align: right;\">\n",
              "      <th></th>\n",
              "      <th>0</th>\n",
              "      <th>1</th>\n",
              "      <th>2</th>\n",
              "      <th>3</th>\n",
              "    </tr>\n",
              "  </thead>\n",
              "  <tbody>\n",
              "    <tr>\n",
              "      <th>mean_fit_time</th>\n",
              "      <td>0.005204</td>\n",
              "      <td>0.003369</td>\n",
              "      <td>0.003278</td>\n",
              "      <td>0.003313</td>\n",
              "    </tr>\n",
              "    <tr>\n",
              "      <th>std_fit_time</th>\n",
              "      <td>0.002819</td>\n",
              "      <td>0.000062</td>\n",
              "      <td>0.000078</td>\n",
              "      <td>0.000153</td>\n",
              "    </tr>\n",
              "    <tr>\n",
              "      <th>mean_score_time</th>\n",
              "      <td>0.003734</td>\n",
              "      <td>0.00298</td>\n",
              "      <td>0.002932</td>\n",
              "      <td>0.002925</td>\n",
              "    </tr>\n",
              "    <tr>\n",
              "      <th>std_score_time</th>\n",
              "      <td>0.001047</td>\n",
              "      <td>0.000121</td>\n",
              "      <td>0.000038</td>\n",
              "      <td>0.000134</td>\n",
              "    </tr>\n",
              "    <tr>\n",
              "      <th>param_knn__n_neighbors</th>\n",
              "      <td>2</td>\n",
              "      <td>3</td>\n",
              "      <td>4</td>\n",
              "      <td>5</td>\n",
              "    </tr>\n",
              "    <tr>\n",
              "      <th>params</th>\n",
              "      <td>{'knn__n_neighbors': 2}</td>\n",
              "      <td>{'knn__n_neighbors': 3}</td>\n",
              "      <td>{'knn__n_neighbors': 4}</td>\n",
              "      <td>{'knn__n_neighbors': 5}</td>\n",
              "    </tr>\n",
              "    <tr>\n",
              "      <th>split0_test_score</th>\n",
              "      <td>0.916667</td>\n",
              "      <td>0.888889</td>\n",
              "      <td>0.888889</td>\n",
              "      <td>0.944444</td>\n",
              "    </tr>\n",
              "    <tr>\n",
              "      <th>split1_test_score</th>\n",
              "      <td>0.944444</td>\n",
              "      <td>0.944444</td>\n",
              "      <td>0.944444</td>\n",
              "      <td>0.944444</td>\n",
              "    </tr>\n",
              "    <tr>\n",
              "      <th>split2_test_score</th>\n",
              "      <td>0.944444</td>\n",
              "      <td>0.972222</td>\n",
              "      <td>0.972222</td>\n",
              "      <td>0.972222</td>\n",
              "    </tr>\n",
              "    <tr>\n",
              "      <th>split3_test_score</th>\n",
              "      <td>1.0</td>\n",
              "      <td>1.0</td>\n",
              "      <td>1.0</td>\n",
              "      <td>1.0</td>\n",
              "    </tr>\n",
              "    <tr>\n",
              "      <th>split4_test_score</th>\n",
              "      <td>0.914286</td>\n",
              "      <td>0.914286</td>\n",
              "      <td>0.914286</td>\n",
              "      <td>0.885714</td>\n",
              "    </tr>\n",
              "    <tr>\n",
              "      <th>mean_test_score</th>\n",
              "      <td>0.943968</td>\n",
              "      <td>0.943968</td>\n",
              "      <td>0.943968</td>\n",
              "      <td>0.949365</td>\n",
              "    </tr>\n",
              "    <tr>\n",
              "      <th>std_test_score</th>\n",
              "      <td>0.030875</td>\n",
              "      <td>0.03963</td>\n",
              "      <td>0.03963</td>\n",
              "      <td>0.037911</td>\n",
              "    </tr>\n",
              "    <tr>\n",
              "      <th>rank_test_score</th>\n",
              "      <td>2</td>\n",
              "      <td>2</td>\n",
              "      <td>2</td>\n",
              "      <td>1</td>\n",
              "    </tr>\n",
              "  </tbody>\n",
              "</table>\n",
              "</div>\n",
              "      <button class=\"colab-df-convert\" onclick=\"convertToInteractive('df-5c2bf5a5-3fdb-4854-b779-5bc71167f05e')\"\n",
              "              title=\"Convert this dataframe to an interactive table.\"\n",
              "              style=\"display:none;\">\n",
              "        \n",
              "  <svg xmlns=\"http://www.w3.org/2000/svg\" height=\"24px\"viewBox=\"0 0 24 24\"\n",
              "       width=\"24px\">\n",
              "    <path d=\"M0 0h24v24H0V0z\" fill=\"none\"/>\n",
              "    <path d=\"M18.56 5.44l.94 2.06.94-2.06 2.06-.94-2.06-.94-.94-2.06-.94 2.06-2.06.94zm-11 1L8.5 8.5l.94-2.06 2.06-.94-2.06-.94L8.5 2.5l-.94 2.06-2.06.94zm10 10l.94 2.06.94-2.06 2.06-.94-2.06-.94-.94-2.06-.94 2.06-2.06.94z\"/><path d=\"M17.41 7.96l-1.37-1.37c-.4-.4-.92-.59-1.43-.59-.52 0-1.04.2-1.43.59L10.3 9.45l-7.72 7.72c-.78.78-.78 2.05 0 2.83L4 21.41c.39.39.9.59 1.41.59.51 0 1.02-.2 1.41-.59l7.78-7.78 2.81-2.81c.8-.78.8-2.07 0-2.86zM5.41 20L4 18.59l7.72-7.72 1.47 1.35L5.41 20z\"/>\n",
              "  </svg>\n",
              "      </button>\n",
              "      \n",
              "  <style>\n",
              "    .colab-df-container {\n",
              "      display:flex;\n",
              "      flex-wrap:wrap;\n",
              "      gap: 12px;\n",
              "    }\n",
              "\n",
              "    .colab-df-convert {\n",
              "      background-color: #E8F0FE;\n",
              "      border: none;\n",
              "      border-radius: 50%;\n",
              "      cursor: pointer;\n",
              "      display: none;\n",
              "      fill: #1967D2;\n",
              "      height: 32px;\n",
              "      padding: 0 0 0 0;\n",
              "      width: 32px;\n",
              "    }\n",
              "\n",
              "    .colab-df-convert:hover {\n",
              "      background-color: #E2EBFA;\n",
              "      box-shadow: 0px 1px 2px rgba(60, 64, 67, 0.3), 0px 1px 3px 1px rgba(60, 64, 67, 0.15);\n",
              "      fill: #174EA6;\n",
              "    }\n",
              "\n",
              "    [theme=dark] .colab-df-convert {\n",
              "      background-color: #3B4455;\n",
              "      fill: #D2E3FC;\n",
              "    }\n",
              "\n",
              "    [theme=dark] .colab-df-convert:hover {\n",
              "      background-color: #434B5C;\n",
              "      box-shadow: 0px 1px 3px 1px rgba(0, 0, 0, 0.15);\n",
              "      filter: drop-shadow(0px 1px 2px rgba(0, 0, 0, 0.3));\n",
              "      fill: #FFFFFF;\n",
              "    }\n",
              "  </style>\n",
              "\n",
              "      <script>\n",
              "        const buttonEl =\n",
              "          document.querySelector('#df-5c2bf5a5-3fdb-4854-b779-5bc71167f05e button.colab-df-convert');\n",
              "        buttonEl.style.display =\n",
              "          google.colab.kernel.accessAllowed ? 'block' : 'none';\n",
              "\n",
              "        async function convertToInteractive(key) {\n",
              "          const element = document.querySelector('#df-5c2bf5a5-3fdb-4854-b779-5bc71167f05e');\n",
              "          const dataTable =\n",
              "            await google.colab.kernel.invokeFunction('convertToInteractive',\n",
              "                                                     [key], {});\n",
              "          if (!dataTable) return;\n",
              "\n",
              "          const docLinkHtml = 'Like what you see? Visit the ' +\n",
              "            '<a target=\"_blank\" href=https://colab.research.google.com/notebooks/data_table.ipynb>data table notebook</a>'\n",
              "            + ' to learn more about interactive tables.';\n",
              "          element.innerHTML = '';\n",
              "          dataTable['output_type'] = 'display_data';\n",
              "          await google.colab.output.renderOutput(dataTable, element);\n",
              "          const docLink = document.createElement('div');\n",
              "          docLink.innerHTML = docLinkHtml;\n",
              "          element.appendChild(docLink);\n",
              "        }\n",
              "      </script>\n",
              "    </div>\n",
              "  </div>\n",
              "  "
            ]
          },
          "metadata": {},
          "execution_count": 163
        }
      ]
    },
    {
      "cell_type": "code",
      "source": [],
      "metadata": {
        "id": "b3b8rTxChEie"
      },
      "execution_count": null,
      "outputs": []
    }
  ]
}