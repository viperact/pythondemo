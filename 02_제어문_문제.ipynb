{
  "cells": [
    {
      "cell_type": "markdown",
      "metadata": {
        "id": "view-in-github",
        "colab_type": "text"
      },
      "source": [
        "<a href=\"https://colab.research.google.com/github/viperact/pythondemo/blob/main/02_%EC%A0%9C%EC%96%B4%EB%AC%B8_%EB%AC%B8%EC%A0%9C.ipynb\" target=\"_parent\"><img src=\"https://colab.research.google.com/assets/colab-badge.svg\" alt=\"Open In Colab\"/></a>"
      ]
    },
    {
      "cell_type": "markdown",
      "metadata": {
        "id": "S8zmGmCXv8c_"
      },
      "source": [
        "[문제1]  \n",
        " input()으로 데이터를 입력 받는다. 입력받은 데이터가 영문자 대문자이면 \"?  \n",
        "    는 대문자입니다\",  소문자이면 \"?는 소문자입니다\"   \n",
        "    그외는 \"?는 기타입니다\"로 출력하는 프로그램을 구현하시오.\n",
        "\n",
        "  [실행결과]   \n",
        "   data='D'  => D는 대문자입니다.  \n",
        "   data='d'  => d는 소문자입니다.  \n",
        "   data='1'  => 1는 기타입니다.   \n"
      ]
    },
    {
      "cell_type": "code",
      "execution_count": null,
      "metadata": {
        "colab": {
          "base_uri": "https://localhost:8080/"
        },
        "id": "GF88_aZ6ADJb",
        "outputId": "7800baa0-e3d8-4029-9e6d-5750942d3e27"
      },
      "outputs": [
        {
          "name": "stdout",
          "output_type": "stream",
          "text": [
            "문자 입력: D\n",
            "D는 대문자입니다.\n"
          ]
        }
      ],
      "source": [
        "\n"
      ]
    },
    {
      "cell_type": "markdown",
      "metadata": {
        "id": "7wHZTMQSyMx4"
      },
      "source": [
        "[문제2]  \n",
        "물품판매에 대한 판매금액을 계산하는 프로그램을 구현하시오.\n",
        "  \n",
        "판매수량*판매단가 금액이   \n",
        "30000미만일때 \"택배\" 배달이면 3000원  \n",
        "\"퀵\"  배달이면  12000원의 배달료를 부여한다.  \n",
        "단 그 외는 0원의 배달료를 부여한다.  \n",
        "      \n",
        "[출력결과]  \n",
        "물품금액 : 20,000원  \n",
        "배달금액 :  3000원  \n",
        "총  금액 : 23,000원  \n",
        "     \n"
      ]
    },
    {
      "cell_type": "code",
      "execution_count": null,
      "metadata": {
        "id": "BqntuccT3RnO"
      },
      "outputs": [],
      "source": [
        "salesCount = 2 # 판매수량\n",
        "salesMoney = 10000  # 판매단가\n",
        "delivery = \"택배\" # 배달방법\n",
        "product = salesCount * salesMoney # 물품금액\n",
        "deliveryMoney = 0 # 배달금액\n",
        "totalMoney = 0 # 총금액\n",
        "\n",
        "# 여기에 구현하시오.\n"
      ]
    },
    {
      "cell_type": "markdown",
      "metadata": {
        "id": "pAFBwgcX37a1"
      },
      "source": [
        "[문제3]  \n",
        "차량5부제 프로그램을 구현하시오.  \n",
        " \n",
        "차량의 끝번호가 아래에 해당하면 해당 요일은 차량운행을 제한한다.  \n",
        " \n",
        "1,6 = 월요일  \n",
        "2,7 = 화요일  \n",
        "3,8 = 수요일  \n",
        "4,9 = 목요일  \n",
        "5,0 = 금요일  \n",
        "    \n",
        "[출력결과]\n",
        "차량번호의 끝자리가 5이면  금요일 운행을 제한합니다.  "
      ]
    },
    {
      "cell_type": "code",
      "execution_count": null,
      "metadata": {
        "id": "dK7nlYAJ30Zh"
      },
      "outputs": [],
      "source": [
        "car_num = 5;\n",
        "day=\"\";\n",
        "\t\t\n",
        "#여기에서 구현하세요////////////////////////////////\n",
        "\t\t\n"
      ]
    },
    {
      "cell_type": "markdown",
      "metadata": {
        "id": "wQ0MUGQq6Wvm"
      },
      "source": [
        "[문제4]  \n",
        "직급에 따른 수령 월급  \n",
        "과장 - 250  \n",
        "대리 - 200  \n",
        "사원 - 150  \n",
        "  \n",
        " 초과수당 - \n",
        " 총 20시간 이상은 20  \n",
        " 총 10시간 이상 20시간 미만은 10  \n",
        " 10시간 미만은 0  \n",
        " \n",
        "  예) 직급이 대리이면 200만원의 월급을 수령한다. 초과근무는 1시간 근무 수행.\n",
        " \n",
        "[출력 결과]  \n",
        "직급은 대리이며, 이번달 초과근무는 총 13시간을 하셨습니다.    \n",
        "수령하실 월급은 210만원입니다.  "
      ]
    },
    {
      "cell_type": "code",
      "execution_count": null,
      "metadata": {
        "id": "FMtVo65q30M-"
      },
      "outputs": [],
      "source": [
        "grade = \"대리\" # 직급\n",
        "overtime = 13  #총 초과근무시간\n",
        "money = 0      #수령 월급\n",
        "\n",
        "# 여기에서 구현하세요. /////////\n",
        "\n"
      ]
    },
    {
      "cell_type": "markdown",
      "metadata": {
        "id": "E7TXuzDK82T_"
      },
      "source": [
        "[문제5]  \n",
        "for문을 이용해서 12의 약수를 구하시오.  \n",
        "약수 : 어떤 수를 나누어서 0으로 떨어진 수  \n",
        "\n",
        "[출력결과]\n",
        "1  \n",
        "2   \n",
        "3   \n",
        "4   \n",
        "6   \n",
        "12  "
      ]
    },
    {
      "cell_type": "code",
      "execution_count": null,
      "metadata": {
        "colab": {
          "base_uri": "https://localhost:8080/"
        },
        "id": "p9TxSpbr8FlW",
        "outputId": "51ee3ce0-45a2-40d9-8908-56b58660294c"
      },
      "outputs": [
        {
          "name": "stdout",
          "output_type": "stream",
          "text": [
            "1\n",
            "2\n",
            "3\n",
            "4\n",
            "6\n",
            "12\n"
          ]
        }
      ],
      "source": []
    },
    {
      "cell_type": "markdown",
      "metadata": {
        "id": "SRpAYy4m94O9"
      },
      "source": [
        "[문제6]  \n",
        "2001부터 2012년사이에서 윤년을 구하시오.  \n",
        "[출력결과]  \n",
        " 2004  \n",
        " 2008  \n",
        " 2012  "
      ]
    },
    {
      "cell_type": "code",
      "execution_count": null,
      "metadata": {
        "colab": {
          "base_uri": "https://localhost:8080/"
        },
        "id": "kvHQHpBd9lC9",
        "outputId": "04143513-1d53-4de1-c1ec-15eec15ae55c"
      },
      "outputs": [
        {
          "name": "stdout",
          "output_type": "stream",
          "text": [
            "2004\n",
            "2008\n",
            "2012\n"
          ]
        }
      ],
      "source": []
    },
    {
      "cell_type": "markdown",
      "metadata": {
        "id": "d3pi3Ht7-Zx5"
      },
      "source": [
        "[문제7]  \n",
        "10=2x+3y의 해를 구하시오.  \n",
        " x와y의 범위 : 0<=x<=10,  0<=y<=10  \n",
        "   \n",
        "[출력결과]  \n",
        "  x=2, y=2\n",
        "  x=5, y=0"
      ]
    },
    {
      "cell_type": "markdown",
      "metadata": {
        "id": "wnl9ZItDUMea"
      },
      "source": [
        "[문제8]\n",
        "\n",
        "여기에 3의 배수의 개수와 합을 구하는 코드를 작성하세요.   \n",
        "data = [ 1, 3, 5, 8, 9, 11, 15, 19, 18, 20, 30, 33, 31]  \n",
        "\n",
        "[출력결과]  \n",
        " 주어진 배열에서 3의 배수의 개수=> 6   \n",
        "주어진 배열에서 3의 배수의 합=> 108  "
      ]
    },
    {
      "cell_type": "code",
      "execution_count": null,
      "metadata": {
        "id": "yLXe8clEUMeb"
      },
      "outputs": [],
      "source": []
    },
    {
      "cell_type": "code",
      "execution_count": null,
      "metadata": {
        "id": "JKspJZNf-9iE"
      },
      "outputs": [],
      "source": [
        "[문제9]\n",
        "\n",
        "1 ~ 10까지 홀수만 구하기\n",
        "\n",
        "[출력결과]\n",
        "[1, 3, 5, 7, 9]"
      ]
    },
    {
      "cell_type": "code",
      "execution_count": null,
      "metadata": {
        "id": "YQ40tTXyUMec"
      },
      "outputs": [],
      "source": []
    },
    {
      "cell_type": "markdown",
      "metadata": {
        "id": "FGBF-7DpUMec"
      },
      "source": [
        "[문제10]\n",
        "주어진 조건에서 1의 갯수를 구하시오.\n",
        "\n",
        "data = (1,4,5,1,1,3,2)\n",
        "\n",
        "[출력결과]  \n",
        "[1, 1, 1]  \n",
        "3"
      ]
    },
    {
      "cell_type": "code",
      "execution_count": null,
      "metadata": {
        "id": "IKiswewzUMed"
      },
      "outputs": [],
      "source": []
    }
  ],
  "metadata": {
    "colab": {
      "provenance": [],
      "include_colab_link": true
    },
    "kernelspec": {
      "display_name": "Python 3",
      "language": "python",
      "name": "python3"
    },
    "language_info": {
      "codemirror_mode": {
        "name": "ipython",
        "version": 3
      },
      "file_extension": ".py",
      "mimetype": "text/x-python",
      "name": "python",
      "nbconvert_exporter": "python",
      "pygments_lexer": "ipython3",
      "version": "3.8.8"
    }
  },
  "nbformat": 4,
  "nbformat_minor": 0
}