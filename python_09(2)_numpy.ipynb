{
  "nbformat": 4,
  "nbformat_minor": 0,
  "metadata": {
    "colab": {
      "provenance": [],
      "collapsed_sections": [
        "b2fack2QjuAI",
        "xhLYJ0fOykom",
        "-kuEqC7H2UMG",
        "gm8pUwwr6zeV",
        "BkmvYGTAFqVU",
        "q_TOCrPBK8Ir",
        "1TC8rhROMezT",
        "OchgBSnPMv90",
        "xFSf5tzBQ-I3",
        "1lVmSvulTHSq",
        "7sbu3RU3U-hE",
        "weclHlIWZeqy",
        "tWxlQHrUaihx"
      ],
      "include_colab_link": true
    },
    "kernelspec": {
      "name": "python3",
      "display_name": "Python 3"
    },
    "language_info": {
      "name": "python"
    }
  },
  "cells": [
    {
      "cell_type": "markdown",
      "metadata": {
        "id": "view-in-github",
        "colab_type": "text"
      },
      "source": [
        "<a href=\"https://colab.research.google.com/github/viperact/pythondemo/blob/main/python_09(2)_numpy.ipynb\" target=\"_parent\"><img src=\"https://colab.research.google.com/assets/colab-badge.svg\" alt=\"Open In Colab\"/></a>"
      ]
    },
    {
      "cell_type": "markdown",
      "source": [
        "### (6) 3차원 이상에서 차원 구분법"
      ],
      "metadata": {
        "id": "PPJZBdjTZlep"
      }
    },
    {
      "cell_type": "code",
      "execution_count": null,
      "metadata": {
        "id": "dwhLqajEZMt0"
      },
      "outputs": [],
      "source": [
        "import numpy as np"
      ]
    },
    {
      "cell_type": "code",
      "source": [
        "# 0부터 24미만까지 생성\n",
        "b = np.arange(24).reshape(2,3,4) # 2행 3행4열\n",
        "b"
      ],
      "metadata": {
        "colab": {
          "base_uri": "https://localhost:8080/"
        },
        "id": "6LHAto46Z0lR",
        "outputId": "4b6fe5eb-775a-4835-81fe-6ac985a6ca31"
      },
      "execution_count": null,
      "outputs": [
        {
          "output_type": "execute_result",
          "data": {
            "text/plain": [
              "array([[[ 0,  1,  2,  3],\n",
              "        [ 4,  5,  6,  7],\n",
              "        [ 8,  9, 10, 11]],\n",
              "\n",
              "       [[12, 13, 14, 15],\n",
              "        [16, 17, 18, 19],\n",
              "        [20, 21, 22, 23]]])"
            ]
          },
          "metadata": {},
          "execution_count": 2
        }
      ]
    },
    {
      "cell_type": "code",
      "source": [
        "# print하면 array라는 글자는 안보인다.\n",
        "# 공백은 그대로 보인다. -> 차원 구분 가능\n",
        "print(b)"
      ],
      "metadata": {
        "colab": {
          "base_uri": "https://localhost:8080/"
        },
        "id": "1Qw2LY8JZ6kw",
        "outputId": "bbe088de-b4bf-43f4-dc6c-714daf313e63"
      },
      "execution_count": null,
      "outputs": [
        {
          "output_type": "stream",
          "name": "stdout",
          "text": [
            "[[[ 0  1  2  3]\n",
            "  [ 4  5  6  7]\n",
            "  [ 8  9 10 11]]\n",
            "\n",
            " [[12 13 14 15]\n",
            "  [16 17 18 19]\n",
            "  [20 21 22 23]]]\n"
          ]
        }
      ]
    },
    {
      "cell_type": "code",
      "source": [
        "b[0]"
      ],
      "metadata": {
        "colab": {
          "base_uri": "https://localhost:8080/"
        },
        "id": "zNrt0aKhaMlQ",
        "outputId": "25db600c-a1e4-4579-836b-644179a3b16c"
      },
      "execution_count": null,
      "outputs": [
        {
          "output_type": "execute_result",
          "data": {
            "text/plain": [
              "array([[ 0,  1,  2,  3],\n",
              "       [ 4,  5,  6,  7],\n",
              "       [ 8,  9, 10, 11]])"
            ]
          },
          "metadata": {},
          "execution_count": 4
        }
      ]
    },
    {
      "cell_type": "code",
      "source": [
        "b[1]"
      ],
      "metadata": {
        "colab": {
          "base_uri": "https://localhost:8080/"
        },
        "id": "PkZoTOeRabtI",
        "outputId": "04fde52b-a2dc-4357-fb58-5602fb88e9f1"
      },
      "execution_count": null,
      "outputs": [
        {
          "output_type": "execute_result",
          "data": {
            "text/plain": [
              "array([[12, 13, 14, 15],\n",
              "       [16, 17, 18, 19],\n",
              "       [20, 21, 22, 23]])"
            ]
          },
          "metadata": {},
          "execution_count": 5
        }
      ]
    },
    {
      "cell_type": "code",
      "source": [
        "b[0,1]"
      ],
      "metadata": {
        "colab": {
          "base_uri": "https://localhost:8080/"
        },
        "id": "sEci_UJ9adF4",
        "outputId": "a7c2464e-6079-4a44-b902-ebec77beb4ff"
      },
      "execution_count": null,
      "outputs": [
        {
          "output_type": "execute_result",
          "data": {
            "text/plain": [
              "array([4, 5, 6, 7])"
            ]
          },
          "metadata": {},
          "execution_count": 6
        }
      ]
    },
    {
      "cell_type": "code",
      "source": [
        "b[1,1]"
      ],
      "metadata": {
        "colab": {
          "base_uri": "https://localhost:8080/"
        },
        "id": "ZmhZsU_-afvI",
        "outputId": "e0f63c67-3837-495b-b943-0371a43554b0"
      },
      "execution_count": null,
      "outputs": [
        {
          "output_type": "execute_result",
          "data": {
            "text/plain": [
              "array([16, 17, 18, 19])"
            ]
          },
          "metadata": {},
          "execution_count": 7
        }
      ]
    },
    {
      "cell_type": "code",
      "source": [
        "# 0번째 1행 3열\n",
        "b[0,1,3]"
      ],
      "metadata": {
        "colab": {
          "base_uri": "https://localhost:8080/"
        },
        "id": "k9P87_upaj4g",
        "outputId": "7547580a-bc2a-4dd7-86f6-0f569f274578"
      },
      "execution_count": null,
      "outputs": [
        {
          "output_type": "execute_result",
          "data": {
            "text/plain": [
              "7"
            ]
          },
          "metadata": {},
          "execution_count": 8
        }
      ]
    },
    {
      "cell_type": "markdown",
      "source": [
        "### (7) fancy indexing과 indexing 차이\n",
        " - indexing은 원래 차원에서 차원이 하나 감소해서 가져오고 fancy indexing은 원래 차원 그대로 가져온다."
      ],
      "metadata": {
        "id": "OF6IJJQ_ay4g"
      }
    },
    {
      "cell_type": "code",
      "source": [
        "# indexing은 차원이 하나 감소해서 가져온다. (3차원에서 2차원으로 가져온다.)\n",
        "b[0]"
      ],
      "metadata": {
        "colab": {
          "base_uri": "https://localhost:8080/"
        },
        "id": "X-35Uqnaaoqg",
        "outputId": "fff7e4d5-626b-490a-a4a3-a7a4ce052cba"
      },
      "execution_count": null,
      "outputs": [
        {
          "output_type": "execute_result",
          "data": {
            "text/plain": [
              "array([[ 0,  1,  2,  3],\n",
              "       [ 4,  5,  6,  7],\n",
              "       [ 8,  9, 10, 11]])"
            ]
          },
          "metadata": {},
          "execution_count": 9
        }
      ]
    },
    {
      "cell_type": "code",
      "source": [
        "# fancy indexing은 원래 3차원 그대로 가져온다.\n",
        "b[[0]]"
      ],
      "metadata": {
        "colab": {
          "base_uri": "https://localhost:8080/"
        },
        "id": "XyccXMdLbFdo",
        "outputId": "ee72102b-0257-43e8-af33-4140955f1879"
      },
      "execution_count": null,
      "outputs": [
        {
          "output_type": "execute_result",
          "data": {
            "text/plain": [
              "array([[[ 0,  1,  2,  3],\n",
              "        [ 4,  5,  6,  7],\n",
              "        [ 8,  9, 10, 11]]])"
            ]
          },
          "metadata": {},
          "execution_count": 10
        }
      ]
    },
    {
      "cell_type": "code",
      "source": [
        "# b[0]은 b[0,:,:]의 단축 표현이다.\n",
        "b[[0],:,:]"
      ],
      "metadata": {
        "colab": {
          "base_uri": "https://localhost:8080/"
        },
        "id": "KM6QQ5dWbUWY",
        "outputId": "a214800a-d3a5-47b6-b0ff-16a79916dedf"
      },
      "execution_count": null,
      "outputs": [
        {
          "output_type": "execute_result",
          "data": {
            "text/plain": [
              "array([[[ 0,  1,  2,  3],\n",
              "        [ 4,  5,  6,  7],\n",
              "        [ 8,  9, 10, 11]]])"
            ]
          },
          "metadata": {},
          "execution_count": 11
        }
      ]
    },
    {
      "cell_type": "code",
      "source": [
        "# b의 0번쨰 공간, 1번째 행 미만, 열 전체\n",
        "b[0, :1, :]"
      ],
      "metadata": {
        "colab": {
          "base_uri": "https://localhost:8080/"
        },
        "id": "pOlh5ttybm9A",
        "outputId": "cdacff00-f22d-492b-b0fb-18f82b29c052"
      },
      "execution_count": null,
      "outputs": [
        {
          "output_type": "execute_result",
          "data": {
            "text/plain": [
              "array([[0, 1, 2, 3]])"
            ]
          },
          "metadata": {},
          "execution_count": 12
        }
      ]
    },
    {
      "cell_type": "markdown",
      "source": [
        "### (8) Ellipsis\n",
        "...(Ellipsis)은 이후로 모든 것을 의미한다."
      ],
      "metadata": {
        "id": "cMAdUEblcWO4"
      }
    },
    {
      "cell_type": "code",
      "source": [
        "b[0,:,:]"
      ],
      "metadata": {
        "colab": {
          "base_uri": "https://localhost:8080/"
        },
        "id": "HdR3QVDqcDAQ",
        "outputId": "8530bb16-89b0-4f0c-97a8-04f4be14fc66"
      },
      "execution_count": null,
      "outputs": [
        {
          "output_type": "execute_result",
          "data": {
            "text/plain": [
              "array([[ 0,  1,  2,  3],\n",
              "       [ 4,  5,  6,  7],\n",
              "       [ 8,  9, 10, 11]])"
            ]
          },
          "metadata": {},
          "execution_count": 13
        }
      ]
    },
    {
      "cell_type": "code",
      "source": [
        "b[0,...]"
      ],
      "metadata": {
        "colab": {
          "base_uri": "https://localhost:8080/"
        },
        "id": "o5YxfXqRcjGY",
        "outputId": "83ad70c8-9a5f-4343-d23c-aaee1e7cd3fd"
      },
      "execution_count": null,
      "outputs": [
        {
          "output_type": "execute_result",
          "data": {
            "text/plain": [
              "array([[ 0,  1,  2,  3],\n",
              "       [ 4,  5,  6,  7],\n",
              "       [ 8,  9, 10, 11]])"
            ]
          },
          "metadata": {},
          "execution_count": 14
        }
      ]
    },
    {
      "cell_type": "code",
      "source": [
        "type(...)"
      ],
      "metadata": {
        "colab": {
          "base_uri": "https://localhost:8080/"
        },
        "id": "y9JnwtU0cnnQ",
        "outputId": "6bb64950-6480-41f9-ba81-0142777e006d"
      },
      "execution_count": null,
      "outputs": [
        {
          "output_type": "execute_result",
          "data": {
            "text/plain": [
              "ellipsis"
            ]
          },
          "metadata": {},
          "execution_count": 15
        }
      ]
    },
    {
      "cell_type": "code",
      "source": [
        "b[0] # 생략기법\n",
        "b[0,:,:] # slicing 기법\n",
        "b[0,...] # Ellipsis 기법"
      ],
      "metadata": {
        "colab": {
          "base_uri": "https://localhost:8080/"
        },
        "id": "umwHy9zHcqUo",
        "outputId": "58d60252-0610-457e-b796-4b8c77500bad"
      },
      "execution_count": null,
      "outputs": [
        {
          "output_type": "execute_result",
          "data": {
            "text/plain": [
              "array([[ 0,  1,  2,  3],\n",
              "       [ 4,  5,  6,  7],\n",
              "       [ 8,  9, 10, 11]])"
            ]
          },
          "metadata": {},
          "execution_count": 16
        }
      ]
    },
    {
      "cell_type": "code",
      "source": [
        " # 숫자 1, 5, 9만 가져온다.\n",
        "b[0,:,1]"
      ],
      "metadata": {
        "colab": {
          "base_uri": "https://localhost:8080/"
        },
        "id": "95WRJ29ac2Df",
        "outputId": "5c19bbde-55dd-4b7c-f231-47ea292336d4"
      },
      "execution_count": null,
      "outputs": [
        {
          "output_type": "execute_result",
          "data": {
            "text/plain": [
              "array([1, 5, 9])"
            ]
          },
          "metadata": {},
          "execution_count": 17
        }
      ]
    },
    {
      "cell_type": "code",
      "source": [
        "# 숫자 1,5,9,3,7,11 가져오기\n",
        "b[0,:,[1,3]]  # fancy indexing"
      ],
      "metadata": {
        "colab": {
          "base_uri": "https://localhost:8080/"
        },
        "id": "IhSY94LDdJgK",
        "outputId": "a3b574c0-9268-443c-bae7-8fae3ebee1a2"
      },
      "execution_count": null,
      "outputs": [
        {
          "output_type": "execute_result",
          "data": {
            "text/plain": [
              "array([[ 1,  5,  9],\n",
              "       [ 3,  7, 11]])"
            ]
          },
          "metadata": {},
          "execution_count": 22
        }
      ]
    },
    {
      "cell_type": "code",
      "source": [
        "b"
      ],
      "metadata": {
        "colab": {
          "base_uri": "https://localhost:8080/"
        },
        "id": "HNuub0-3Wq7p",
        "outputId": "b81f710b-0218-4064-8be1-64aeaeb3e09a"
      },
      "execution_count": null,
      "outputs": [
        {
          "output_type": "execute_result",
          "data": {
            "text/plain": [
              "array([[[ 0,  1,  2,  3],\n",
              "        [ 4,  5,  6,  7],\n",
              "        [ 8,  9, 10, 11]],\n",
              "\n",
              "       [[12, 13, 14, 15],\n",
              "        [16, 17, 18, 19],\n",
              "        [20, 21, 22, 23]]])"
            ]
          },
          "metadata": {},
          "execution_count": 23
        }
      ]
    },
    {
      "cell_type": "code",
      "source": [
        "# 숫자 4, 5, 6, 7, 16, 17, 18, 19 가져오기\n",
        "b[:,1,:]"
      ],
      "metadata": {
        "id": "OWKMQ9KVdq4H",
        "colab": {
          "base_uri": "https://localhost:8080/"
        },
        "outputId": "ce650c0d-d408-44af-eb3f-73c87fa8181f"
      },
      "execution_count": null,
      "outputs": [
        {
          "output_type": "execute_result",
          "data": {
            "text/plain": [
              "array([[ 4,  5,  6,  7],\n",
              "       [16, 17, 18, 19]])"
            ]
          },
          "metadata": {},
          "execution_count": 28
        }
      ]
    },
    {
      "cell_type": "code",
      "source": [
        "b[:,1:2, :]"
      ],
      "metadata": {
        "colab": {
          "base_uri": "https://localhost:8080/"
        },
        "id": "DjPkcANaWzb7",
        "outputId": "b511f062-411b-443f-f606-fc5276f7abc9"
      },
      "execution_count": null,
      "outputs": [
        {
          "output_type": "execute_result",
          "data": {
            "text/plain": [
              "array([[[ 4,  5,  6,  7]],\n",
              "\n",
              "       [[16, 17, 18, 19]]])"
            ]
          },
          "metadata": {},
          "execution_count": 29
        }
      ]
    },
    {
      "cell_type": "code",
      "source": [
        "# 3, 7, 11, 15, 19, 23 가져오기\n",
        "b[:, :, -1:] # 슬라이싱 이용. 차원 그대로 가져옴"
      ],
      "metadata": {
        "colab": {
          "base_uri": "https://localhost:8080/"
        },
        "id": "bYQuqSEbXZry",
        "outputId": "e7ce045b-e9a9-4496-dbaa-34f33cb23f22"
      },
      "execution_count": null,
      "outputs": [
        {
          "output_type": "execute_result",
          "data": {
            "text/plain": [
              "array([[[ 3],\n",
              "        [ 7],\n",
              "        [11]],\n",
              "\n",
              "       [[15],\n",
              "        [19],\n",
              "        [23]]])"
            ]
          },
          "metadata": {},
          "execution_count": 40
        }
      ]
    },
    {
      "cell_type": "code",
      "source": [
        "b[:, :, -1] # 인덱싱 이용. 차원이 하나 빠져서 가져옴."
      ],
      "metadata": {
        "colab": {
          "base_uri": "https://localhost:8080/"
        },
        "id": "tO8R_6tdX3mh",
        "outputId": "d8c560fa-8abd-4df4-c072-b64e5cfe0599"
      },
      "execution_count": null,
      "outputs": [
        {
          "output_type": "execute_result",
          "data": {
            "text/plain": [
              "array([[ 3,  7, 11],\n",
              "       [15, 19, 23]])"
            ]
          },
          "metadata": {},
          "execution_count": 41
        }
      ]
    },
    {
      "cell_type": "code",
      "source": [
        "b[:,:,[3]] # fancy indexing 이용. 차원 그대로 가져옴."
      ],
      "metadata": {
        "colab": {
          "base_uri": "https://localhost:8080/"
        },
        "id": "pf4ESb08X31h",
        "outputId": "76c971b3-1d3b-4a50-f538-7de706508604"
      },
      "execution_count": null,
      "outputs": [
        {
          "output_type": "execute_result",
          "data": {
            "text/plain": [
              "array([[[ 3],\n",
              "        [ 7],\n",
              "        [11]],\n",
              "\n",
              "       [[15],\n",
              "        [19],\n",
              "        [23]]])"
            ]
          },
          "metadata": {},
          "execution_count": 45
        }
      ]
    },
    {
      "cell_type": "code",
      "source": [
        "c = b[:,:,3] # 인덱싱\n",
        "c.shape"
      ],
      "metadata": {
        "colab": {
          "base_uri": "https://localhost:8080/"
        },
        "id": "NBXq2wWvZDUC",
        "outputId": "a308f8dd-7d34-4338-b2ed-8346114d6ca1"
      },
      "execution_count": null,
      "outputs": [
        {
          "output_type": "execute_result",
          "data": {
            "text/plain": [
              "(2, 3)"
            ]
          },
          "metadata": {},
          "execution_count": 48
        }
      ]
    },
    {
      "cell_type": "code",
      "source": [
        "b[...,3]"
      ],
      "metadata": {
        "colab": {
          "base_uri": "https://localhost:8080/"
        },
        "id": "WOc0JDzHZjoZ",
        "outputId": "12146f6f-e9bd-43d7-e40c-a8087e5c62ba"
      },
      "execution_count": null,
      "outputs": [
        {
          "output_type": "execute_result",
          "data": {
            "text/plain": [
              "array([[ 3,  7, 11],\n",
              "       [15, 19, 23]])"
            ]
          },
          "metadata": {},
          "execution_count": 50
        }
      ]
    },
    {
      "cell_type": "markdown",
      "source": [
        "### 줄임표현(...)\n",
        "출력해야할 데이터 수가 엄청 클 때 보이는 ...은 Ellipsis와 다르다."
      ],
      "metadata": {
        "id": "Q6G_u-LWZxjf"
      }
    },
    {
      "cell_type": "code",
      "source": [
        "# out에 나오는 ...은 단순히 줄임표현이다.\n",
        "np.arange(100000)"
      ],
      "metadata": {
        "colab": {
          "base_uri": "https://localhost:8080/"
        },
        "id": "o1WLi6m5ZOLa",
        "outputId": "ae1d8d3c-7088-4f8c-dc6f-984ab172167f"
      },
      "execution_count": null,
      "outputs": [
        {
          "output_type": "execute_result",
          "data": {
            "text/plain": [
              "array([    0,     1,     2, ..., 99997, 99998, 99999])"
            ]
          },
          "metadata": {},
          "execution_count": 51
        }
      ]
    },
    {
      "cell_type": "code",
      "source": [
        "np.set_printoptions(edgeitems=6)"
      ],
      "metadata": {
        "id": "igztAvf_ZbqR"
      },
      "execution_count": null,
      "outputs": []
    },
    {
      "cell_type": "code",
      "source": [
        "# np.set_printoptions(edgeitems=6)로 설정해주면 ...의 앞, 뒤로 나오는 숫자를 정할 수 있다.\n",
        "np.arange(100000)"
      ],
      "metadata": {
        "colab": {
          "base_uri": "https://localhost:8080/"
        },
        "id": "RvGN5ZS1aMQx",
        "outputId": "97781fe9-0042-47a6-b91f-7f714cfa6796"
      },
      "execution_count": null,
      "outputs": [
        {
          "output_type": "execute_result",
          "data": {
            "text/plain": [
              "array([    0,     1,     2,     3,     4,     5, ..., 99994, 99995, 99996,\n",
              "       99997, 99998, 99999])"
            ]
          },
          "metadata": {},
          "execution_count": 53
        }
      ]
    },
    {
      "cell_type": "markdown",
      "source": [
        "### (9) 연산\n",
        "numpy연산의 기본은 두 개의 shape가 같아야 한다."
      ],
      "metadata": {
        "id": "wgDfxeYBadCB"
      }
    },
    {
      "cell_type": "code",
      "source": [
        "a = np.arange(12).reshape(3,4)\n",
        "a"
      ],
      "metadata": {
        "colab": {
          "base_uri": "https://localhost:8080/"
        },
        "id": "ldCVvgdXaPsq",
        "outputId": "2d657fb9-5088-47df-b509-3cd49c796da8"
      },
      "execution_count": null,
      "outputs": [
        {
          "output_type": "execute_result",
          "data": {
            "text/plain": [
              "array([[ 0,  1,  2,  3],\n",
              "       [ 4,  5,  6,  7],\n",
              "       [ 8,  9, 10, 11]])"
            ]
          },
          "metadata": {},
          "execution_count": 56
        }
      ]
    },
    {
      "cell_type": "code",
      "source": [
        "a.shape"
      ],
      "metadata": {
        "colab": {
          "base_uri": "https://localhost:8080/"
        },
        "id": "mZPnnUPpa1Rp",
        "outputId": "6b1217f4-54f2-4062-a94c-70ab1a6d5527"
      },
      "execution_count": null,
      "outputs": [
        {
          "output_type": "execute_result",
          "data": {
            "text/plain": [
              "(3, 4)"
            ]
          },
          "metadata": {},
          "execution_count": 57
        }
      ]
    },
    {
      "cell_type": "code",
      "source": [
        "b = np.arange(1, 13).reshape(3,4)\n",
        "b"
      ],
      "metadata": {
        "colab": {
          "base_uri": "https://localhost:8080/"
        },
        "id": "YoL5RUXaa4Ug",
        "outputId": "d89d7f7e-cd16-426d-9aa3-374063933c7d"
      },
      "execution_count": null,
      "outputs": [
        {
          "output_type": "execute_result",
          "data": {
            "text/plain": [
              "array([[ 1,  2,  3,  4],\n",
              "       [ 5,  6,  7,  8],\n",
              "       [ 9, 10, 11, 12]])"
            ]
          },
          "metadata": {},
          "execution_count": 59
        }
      ]
    },
    {
      "cell_type": "code",
      "source": [
        "b.shape"
      ],
      "metadata": {
        "colab": {
          "base_uri": "https://localhost:8080/"
        },
        "id": "t_u7C7tra8oh",
        "outputId": "2ba37e18-d4a1-43a9-931f-140073ca806b"
      },
      "execution_count": null,
      "outputs": [
        {
          "output_type": "execute_result",
          "data": {
            "text/plain": [
              "(3, 4)"
            ]
          },
          "metadata": {},
          "execution_count": 61
        }
      ]
    },
    {
      "cell_type": "markdown",
      "source": [
        "numpy는 elementwise로 vectorize연산을 한다.  \n",
        "vectorize는 데이터의 연산을 일괄적으로 처리하는 기능이다."
      ],
      "metadata": {
        "id": "W3SMvjVMbSo5"
      }
    },
    {
      "cell_type": "code",
      "source": [
        "# 같은 위치의 원소끼리 더해준다.(elementwise)\n",
        "a + b"
      ],
      "metadata": {
        "colab": {
          "base_uri": "https://localhost:8080/"
        },
        "id": "l0PyGUPWbBJx",
        "outputId": "cabf5802-3349-4333-fb6d-389cc35ca619"
      },
      "execution_count": null,
      "outputs": [
        {
          "output_type": "execute_result",
          "data": {
            "text/plain": [
              "array([[ 1,  3,  5,  7],\n",
              "       [ 9, 11, 13, 15],\n",
              "       [17, 19, 21, 23]])"
            ]
          },
          "metadata": {},
          "execution_count": 62
        }
      ]
    },
    {
      "cell_type": "code",
      "source": [
        "# python의 list에서 + 연산자는 elementwise가 아니라 list를 확장시킨다. (연결)\n",
        "[1,2,3] + [4,5,6]"
      ],
      "metadata": {
        "colab": {
          "base_uri": "https://localhost:8080/"
        },
        "id": "nxCJfx7obIPJ",
        "outputId": "7f298ad3-964e-4270-e864-395f1bccc5cb"
      },
      "execution_count": null,
      "outputs": [
        {
          "output_type": "execute_result",
          "data": {
            "text/plain": [
              "[1, 2, 3, 4, 5, 6]"
            ]
          },
          "metadata": {},
          "execution_count": 63
        }
      ]
    },
    {
      "cell_type": "markdown",
      "source": [
        "numpy는 python함수도 vectorize시키는 기능을 지원한다."
      ],
      "metadata": {
        "id": "vaNEil0tcXfJ"
      }
    },
    {
      "cell_type": "code",
      "source": [
        "# python에서 vectorize가 되도록 하고싶을 땐  @np.vectorize을 선언해주면 된다,\n",
        "@np.vectorize\n",
        "def plus(a,b):\n",
        "  return a+b\n",
        "\n",
        "plus([1,2,3], [4,5,6]) # elementwise ,vectorize"
      ],
      "metadata": {
        "colab": {
          "base_uri": "https://localhost:8080/"
        },
        "id": "_N3Y4vUob0mR",
        "outputId": "547492b9-df1c-4091-b35a-de9dfcc4e02d"
      },
      "execution_count": null,
      "outputs": [
        {
          "output_type": "execute_result",
          "data": {
            "text/plain": [
              "array([5, 7, 9])"
            ]
          },
          "metadata": {},
          "execution_count": 66
        }
      ]
    },
    {
      "cell_type": "code",
      "source": [
        "a = np.arange(6).reshape(2,3)\n",
        "a"
      ],
      "metadata": {
        "colab": {
          "base_uri": "https://localhost:8080/"
        },
        "id": "nk11mAjWcHnB",
        "outputId": "1593ad1a-7625-4c59-89fa-5399adf06646"
      },
      "execution_count": null,
      "outputs": [
        {
          "output_type": "execute_result",
          "data": {
            "text/plain": [
              "array([[0, 1, 2],\n",
              "       [3, 4, 5]])"
            ]
          },
          "metadata": {},
          "execution_count": 68
        }
      ]
    },
    {
      "cell_type": "code",
      "source": [
        "b = np.arange(6, 12).reshape(2,3)\n",
        "b"
      ],
      "metadata": {
        "colab": {
          "base_uri": "https://localhost:8080/"
        },
        "id": "ywx5hm3sczCZ",
        "outputId": "0bca64d9-4f8e-41b8-8c3b-cde6367c3bb2"
      },
      "execution_count": null,
      "outputs": [
        {
          "output_type": "execute_result",
          "data": {
            "text/plain": [
              "array([[ 6,  7,  8],\n",
              "       [ 9, 10, 11]])"
            ]
          },
          "metadata": {},
          "execution_count": 69
        }
      ]
    },
    {
      "cell_type": "code",
      "source": [
        "a * b # elementwise"
      ],
      "metadata": {
        "colab": {
          "base_uri": "https://localhost:8080/"
        },
        "id": "vPWaVmeIc2oZ",
        "outputId": "2d9af799-797e-4e39-c661-78bb5f741891"
      },
      "execution_count": null,
      "outputs": [
        {
          "output_type": "execute_result",
          "data": {
            "text/plain": [
              "array([[ 0,  7, 16],\n",
              "       [27, 40, 55]])"
            ]
          },
          "metadata": {},
          "execution_count": 70
        }
      ]
    },
    {
      "cell_type": "code",
      "source": [
        "# TypeError. python의 list끼리는 곱할 수 없다.\n",
        "[1,2,3] * [3,4,5]"
      ],
      "metadata": {
        "colab": {
          "base_uri": "https://localhost:8080/",
          "height": 174
        },
        "id": "idBFsJ1zc3bJ",
        "outputId": "076c64cd-115e-4f79-c6b2-571114a6e9f7"
      },
      "execution_count": null,
      "outputs": [
        {
          "output_type": "error",
          "ename": "TypeError",
          "evalue": "ignored",
          "traceback": [
            "\u001b[0;31m---------------------------------------------------------------------------\u001b[0m",
            "\u001b[0;31mTypeError\u001b[0m                                 Traceback (most recent call last)",
            "\u001b[0;32m<ipython-input-71-b6dd10bce3bf>\u001b[0m in \u001b[0;36m<module>\u001b[0;34m\u001b[0m\n\u001b[0;32m----> 1\u001b[0;31m \u001b[0;34m[\u001b[0m\u001b[0;36m1\u001b[0m\u001b[0;34m,\u001b[0m\u001b[0;36m2\u001b[0m\u001b[0;34m,\u001b[0m\u001b[0;36m3\u001b[0m\u001b[0;34m]\u001b[0m \u001b[0;34m*\u001b[0m \u001b[0;34m[\u001b[0m\u001b[0;36m3\u001b[0m\u001b[0;34m,\u001b[0m\u001b[0;36m4\u001b[0m\u001b[0;34m,\u001b[0m\u001b[0;36m5\u001b[0m\u001b[0;34m]\u001b[0m\u001b[0;34m\u001b[0m\u001b[0;34m\u001b[0m\u001b[0m\n\u001b[0m",
            "\u001b[0;31mTypeError\u001b[0m: can't multiply sequence by non-int of type 'list'"
          ]
        }
      ]
    },
    {
      "cell_type": "code",
      "source": [
        "type(np.array(3))"
      ],
      "metadata": {
        "colab": {
          "base_uri": "https://localhost:8080/"
        },
        "id": "HLAZlqkIdFeA",
        "outputId": "0728c577-8252-4ea9-ea61-5fcc12336df0"
      },
      "execution_count": null,
      "outputs": [
        {
          "output_type": "execute_result",
          "data": {
            "text/plain": [
              "numpy.ndarray"
            ]
          },
          "metadata": {},
          "execution_count": 72
        }
      ]
    },
    {
      "cell_type": "code",
      "source": [
        "c = np.matrix([[1,2,],[3,4]])\n",
        "c"
      ],
      "metadata": {
        "colab": {
          "base_uri": "https://localhost:8080/"
        },
        "id": "nqBy_JiIdbA4",
        "outputId": "641a0ea6-a317-4a22-c23e-105a950aef00"
      },
      "execution_count": null,
      "outputs": [
        {
          "output_type": "execute_result",
          "data": {
            "text/plain": [
              "matrix([[1, 2],\n",
              "        [3, 4]])"
            ]
          },
          "metadata": {},
          "execution_count": 74
        }
      ]
    },
    {
      "cell_type": "code",
      "source": [
        "type(c)"
      ],
      "metadata": {
        "colab": {
          "base_uri": "https://localhost:8080/"
        },
        "id": "MiFHOjivdjAw",
        "outputId": "0d49ce94-aeb3-4c9e-b861-79fec1ad0a07"
      },
      "execution_count": null,
      "outputs": [
        {
          "output_type": "execute_result",
          "data": {
            "text/plain": [
              "numpy.matrix"
            ]
          },
          "metadata": {},
          "execution_count": 75
        }
      ]
    },
    {
      "cell_type": "markdown",
      "source": [
        "numpy에서는 ndarray이외에 matrix라는 자료형도 존재한다.  \n",
        "matrix에서는 *연산자는 행렬곱을 의미한다."
      ],
      "metadata": {
        "id": "IzQl7xrTds9p"
      }
    },
    {
      "cell_type": "code",
      "source": [
        "# matrix * matrix = 행렬곱\n",
        "# [1*1+2*3  1*2+2*4] \n",
        "# [3*1+4*3  3*2+4+4]\n",
        "c * c"
      ],
      "metadata": {
        "colab": {
          "base_uri": "https://localhost:8080/"
        },
        "id": "YcOIjCwKdm_A",
        "outputId": "83312f73-4f20-46ac-c820-ca48d136e16d"
      },
      "execution_count": null,
      "outputs": [
        {
          "output_type": "execute_result",
          "data": {
            "text/plain": [
              "matrix([[ 7, 10],\n",
              "        [15, 22]])"
            ]
          },
          "metadata": {},
          "execution_count": 76
        }
      ]
    },
    {
      "cell_type": "markdown",
      "source": [
        "ndarray에서 행렬곱 연산자 @이다.  \n",
        "python재단에서 numpy를 위해 만들어준 연산자이다."
      ],
      "metadata": {
        "id": "9Tm_NYjhenV4"
      }
    },
    {
      "cell_type": "code",
      "source": [
        "a.shape"
      ],
      "metadata": {
        "colab": {
          "base_uri": "https://localhost:8080/"
        },
        "id": "vf6Ri87qe1aP",
        "outputId": "00f77fe7-328d-45d5-e5a2-d06b1cb1702b"
      },
      "execution_count": null,
      "outputs": [
        {
          "output_type": "execute_result",
          "data": {
            "text/plain": [
              "(2, 3)"
            ]
          },
          "metadata": {},
          "execution_count": 80
        }
      ]
    },
    {
      "cell_type": "code",
      "source": [
        "b.shape"
      ],
      "metadata": {
        "colab": {
          "base_uri": "https://localhost:8080/"
        },
        "id": "upR10yEBd7hI",
        "outputId": "1aa7db3c-f061-43bc-c717-0af6f802094d"
      },
      "execution_count": null,
      "outputs": [
        {
          "output_type": "execute_result",
          "data": {
            "text/plain": [
              "(2, 3)"
            ]
          },
          "metadata": {},
          "execution_count": 81
        }
      ]
    },
    {
      "cell_type": "code",
      "source": [
        "a @ b"
      ],
      "metadata": {
        "colab": {
          "base_uri": "https://localhost:8080/",
          "height": 193
        },
        "id": "7u_otI2he3op",
        "outputId": "01778b3f-22d8-4bf3-de25-13fde7db29e9"
      },
      "execution_count": null,
      "outputs": [
        {
          "output_type": "error",
          "ename": "ValueError",
          "evalue": "ignored",
          "traceback": [
            "\u001b[0;31m---------------------------------------------------------------------------\u001b[0m",
            "\u001b[0;31mValueError\u001b[0m                                Traceback (most recent call last)",
            "\u001b[0;32m<ipython-input-82-88de868f0fd7>\u001b[0m in \u001b[0;36m<module>\u001b[0;34m\u001b[0m\n\u001b[0;32m----> 1\u001b[0;31m \u001b[0ma\u001b[0m \u001b[0;34m@\u001b[0m \u001b[0mb\u001b[0m\u001b[0;34m\u001b[0m\u001b[0;34m\u001b[0m\u001b[0m\n\u001b[0m",
            "\u001b[0;31mValueError\u001b[0m: matmul: Input operand 1 has a mismatch in its core dimension 0, with gufunc signature (n?,k),(k,m?)->(n?,m?) (size 2 is different from 3)"
          ]
        }
      ]
    },
    {
      "cell_type": "markdown",
      "source": [
        "행렬곱을 하기 위해서는 shape가 맞아야 한다.  \n",
        "T는 transpose(전치)의 약자이다."
      ],
      "metadata": {
        "id": "C6xVIPmkfT4Q"
      }
    },
    {
      "cell_type": "code",
      "source": [
        "a"
      ],
      "metadata": {
        "colab": {
          "base_uri": "https://localhost:8080/"
        },
        "id": "JducwZSxfD8Y",
        "outputId": "a4e94f63-5bd7-4119-85a6-cb8ea816e332"
      },
      "execution_count": null,
      "outputs": [
        {
          "output_type": "execute_result",
          "data": {
            "text/plain": [
              "array([[0, 1, 2],\n",
              "       [3, 4, 5]])"
            ]
          },
          "metadata": {},
          "execution_count": 83
        }
      ]
    },
    {
      "cell_type": "code",
      "source": [
        "# 전치 행렬 : 행과 열을 바꾼다. (T)\n",
        "a.T"
      ],
      "metadata": {
        "colab": {
          "base_uri": "https://localhost:8080/"
        },
        "id": "M5IWaKoDfcfH",
        "outputId": "9cf7629a-dd83-43ce-af39-86f40c746980"
      },
      "execution_count": null,
      "outputs": [
        {
          "output_type": "execute_result",
          "data": {
            "text/plain": [
              "array([[0, 3],\n",
              "       [1, 4],\n",
              "       [2, 5]])"
            ]
          },
          "metadata": {},
          "execution_count": 84
        }
      ]
    },
    {
      "cell_type": "code",
      "source": [
        "a @ a.T"
      ],
      "metadata": {
        "colab": {
          "base_uri": "https://localhost:8080/"
        },
        "id": "hghJwug_ffVI",
        "outputId": "f9000316-50f2-417f-8c9d-82644d4b0814"
      },
      "execution_count": null,
      "outputs": [
        {
          "output_type": "execute_result",
          "data": {
            "text/plain": [
              "array([[ 5, 14],\n",
              "       [14, 50]])"
            ]
          },
          "metadata": {},
          "execution_count": 85
        }
      ]
    },
    {
      "cell_type": "markdown",
      "source": [
        "matrix는 @와 * 모두가 가능하다."
      ],
      "metadata": {
        "id": "86IPSZSRic5x"
      }
    },
    {
      "cell_type": "code",
      "source": [
        "c * c.T"
      ],
      "metadata": {
        "colab": {
          "base_uri": "https://localhost:8080/"
        },
        "id": "QZW7tppBh_xz",
        "outputId": "0d4aea18-3b96-49c3-9ce1-35dc1751d8d3"
      },
      "execution_count": null,
      "outputs": [
        {
          "output_type": "execute_result",
          "data": {
            "text/plain": [
              "matrix([[ 5, 11],\n",
              "        [11, 25]])"
            ]
          },
          "metadata": {},
          "execution_count": 86
        }
      ]
    },
    {
      "cell_type": "code",
      "source": [
        "c @ c.T"
      ],
      "metadata": {
        "colab": {
          "base_uri": "https://localhost:8080/"
        },
        "id": "HUF7f5xTiis4",
        "outputId": "fa52e60b-6bd2-472a-8391-7e14bfe8dc40"
      },
      "execution_count": null,
      "outputs": [
        {
          "output_type": "execute_result",
          "data": {
            "text/plain": [
              "matrix([[ 5, 11],\n",
              "        [11, 25]])"
            ]
          },
          "metadata": {},
          "execution_count": 87
        }
      ]
    },
    {
      "cell_type": "markdown",
      "source": [
        "행렬곱을 함수방법으로 np.dot()을 사용할 수 있다."
      ],
      "metadata": {
        "id": "1au7-Yopiw5Y"
      }
    },
    {
      "cell_type": "code",
      "source": [
        "np.dot(a, a.T)  #ndarray"
      ],
      "metadata": {
        "colab": {
          "base_uri": "https://localhost:8080/"
        },
        "id": "zyQIiw1hin4I",
        "outputId": "489ada9e-fe6b-4c58-9cf1-0ca3e3a552e9"
      },
      "execution_count": null,
      "outputs": [
        {
          "output_type": "execute_result",
          "data": {
            "text/plain": [
              "array([[ 5, 14],\n",
              "       [14, 50]])"
            ]
          },
          "metadata": {},
          "execution_count": 88
        }
      ]
    },
    {
      "cell_type": "code",
      "source": [
        "np.dot(c, c.T) #matrix"
      ],
      "metadata": {
        "colab": {
          "base_uri": "https://localhost:8080/"
        },
        "id": "uf1CDMW8i5uo",
        "outputId": "7d49cc70-d0d0-405b-e3e5-04b0c47dae2f"
      },
      "execution_count": null,
      "outputs": [
        {
          "output_type": "execute_result",
          "data": {
            "text/plain": [
              "matrix([[ 5, 11],\n",
              "        [11, 25]])"
            ]
          },
          "metadata": {},
          "execution_count": 89
        }
      ]
    },
    {
      "cell_type": "markdown",
      "source": [
        "method방법으로도 행렬곱 할 수 있다.  \n",
        "function방법과 사용하는 방법이 다르므로 주의한다."
      ],
      "metadata": {
        "id": "hevI0kaojI1p"
      }
    },
    {
      "cell_type": "code",
      "source": [
        "np.dot(a, a.T)  # function 방식"
      ],
      "metadata": {
        "colab": {
          "base_uri": "https://localhost:8080/"
        },
        "id": "Kh1Q5SSHjGRJ",
        "outputId": "bc5f9e56-a4cc-42a9-ba7e-f8fa4362757c"
      },
      "execution_count": null,
      "outputs": [
        {
          "output_type": "execute_result",
          "data": {
            "text/plain": [
              "array([[ 5, 14],\n",
              "       [14, 50]])"
            ]
          },
          "metadata": {},
          "execution_count": 90
        }
      ]
    },
    {
      "cell_type": "code",
      "source": [
        "a.dot(a.T)  # method 방식"
      ],
      "metadata": {
        "colab": {
          "base_uri": "https://localhost:8080/"
        },
        "id": "WkS2Drj_jZo4",
        "outputId": "089725d0-61d2-43b0-9fef-8e6a79664d7e"
      },
      "execution_count": null,
      "outputs": [
        {
          "output_type": "execute_result",
          "data": {
            "text/plain": [
              "array([[ 5, 14],\n",
              "       [14, 50]])"
            ]
          },
          "metadata": {},
          "execution_count": 91
        }
      ]
    },
    {
      "cell_type": "markdown",
      "source": [
        "#### 연산  \n",
        "연산할 땐 shape가 맞아야한다.\n",
        "1. ndarray - @\n",
        "2. matrix - @ / *\n",
        "3. np.dot()  - function 방식\n",
        "4. a.dot()  - method 방식"
      ],
      "metadata": {
        "id": "b2fack2QjuAI"
      }
    },
    {
      "cell_type": "markdown",
      "source": [
        "### (10) broadcasting\n",
        "python은 배열과 숫자간에 연산을 할 수 있다.  \n"
      ],
      "metadata": {
        "id": "rOAR78o_kNsp"
      }
    },
    {
      "cell_type": "code",
      "source": [
        "[1,2,3] + 1"
      ],
      "metadata": {
        "colab": {
          "base_uri": "https://localhost:8080/",
          "height": 174
        },
        "id": "YGCNUvoSjeSX",
        "outputId": "3c8c320d-30c3-443c-bf2b-ea56ab4a399a"
      },
      "execution_count": null,
      "outputs": [
        {
          "output_type": "error",
          "ename": "TypeError",
          "evalue": "ignored",
          "traceback": [
            "\u001b[0;31m---------------------------------------------------------------------------\u001b[0m",
            "\u001b[0;31mTypeError\u001b[0m                                 Traceback (most recent call last)",
            "\u001b[0;32m<ipython-input-98-e259f035f6b7>\u001b[0m in \u001b[0;36m<module>\u001b[0;34m\u001b[0m\n\u001b[0;32m----> 1\u001b[0;31m \u001b[0;34m[\u001b[0m\u001b[0;36m1\u001b[0m\u001b[0;34m,\u001b[0m\u001b[0;36m2\u001b[0m\u001b[0;34m,\u001b[0m\u001b[0;36m3\u001b[0m\u001b[0;34m]\u001b[0m \u001b[0;34m+\u001b[0m \u001b[0;36m1\u001b[0m\u001b[0;34m\u001b[0m\u001b[0;34m\u001b[0m\u001b[0m\n\u001b[0m",
            "\u001b[0;31mTypeError\u001b[0m: can only concatenate list (not \"int\") to list"
          ]
        }
      ]
    },
    {
      "cell_type": "markdown",
      "source": [
        "#### python의 list 연산시  \n",
        "[1, 2, 3] + 1 (x)  \n",
        "[1, 2, 3] + [1, 2, 3] (o) => 연결  \n",
        "[1, 2, 3] * 1 (o)  => 반복  \n",
        "[1, 2, 3] * [1, 2, 3] (x)"
      ],
      "metadata": {
        "id": "cixPdmpfkl0v"
      }
    },
    {
      "cell_type": "code",
      "source": [
        "a = np.arange(6).reshape(2,3)  # ndarray(배열)\n",
        "a"
      ],
      "metadata": {
        "colab": {
          "base_uri": "https://localhost:8080/"
        },
        "id": "aThzo7ZdlBcJ",
        "outputId": "a55ecfe7-16f3-4feb-cfcc-8c137abac6b5"
      },
      "execution_count": null,
      "outputs": [
        {
          "output_type": "execute_result",
          "data": {
            "text/plain": [
              "numpy.ndarray"
            ]
          },
          "metadata": {},
          "execution_count": 94
        }
      ]
    },
    {
      "cell_type": "code",
      "source": [
        "# 각각 요소에 1씩 더해진다.\n",
        "a + 1"
      ],
      "metadata": {
        "colab": {
          "base_uri": "https://localhost:8080/"
        },
        "id": "srAvnd_UlNog",
        "outputId": "6332ae16-e550-4b09-a2a7-120d0f3f1356"
      },
      "execution_count": null,
      "outputs": [
        {
          "output_type": "execute_result",
          "data": {
            "text/plain": [
              "array([[1, 2, 3],\n",
              "       [4, 5, 6]])"
            ]
          },
          "metadata": {},
          "execution_count": 93
        }
      ]
    },
    {
      "cell_type": "markdown",
      "source": [
        "broadcasting이란 모양(shape)이 안맞는데, 특정한 조건에 맞으면 모양을 같게 만들어 연산하는 기능이다.  \n",
        "위 연산에서 1을 a와 같은 모양으로 만들어준다.  \n",
        "[[1,1,1],  \n",
        " [1,1,1]]"
      ],
      "metadata": {
        "id": "qm6WyteDlblA"
      }
    },
    {
      "cell_type": "markdown",
      "source": [
        "(1) broadcasting이 안되는 경우와 가능한 경우"
      ],
      "metadata": {
        "id": "6EhR6GlYl7yh"
      }
    },
    {
      "cell_type": "code",
      "source": [
        "a # 2행 3열"
      ],
      "metadata": {
        "colab": {
          "base_uri": "https://localhost:8080/"
        },
        "id": "0jLgPh44lPKI",
        "outputId": "d83df6eb-e7bc-4863-8168-024406d73664"
      },
      "execution_count": null,
      "outputs": [
        {
          "output_type": "execute_result",
          "data": {
            "text/plain": [
              "array([[0, 1, 2],\n",
              "       [3, 4, 5]])"
            ]
          },
          "metadata": {},
          "execution_count": 95
        }
      ]
    },
    {
      "cell_type": "code",
      "source": [
        "a + np.array([3,4])"
      ],
      "metadata": {
        "colab": {
          "base_uri": "https://localhost:8080/",
          "height": 174
        },
        "id": "YCznaUASmAyI",
        "outputId": "6bcc8061-2235-4b33-ed4b-f38bdbc2e670"
      },
      "execution_count": null,
      "outputs": [
        {
          "output_type": "error",
          "ename": "ValueError",
          "evalue": "ignored",
          "traceback": [
            "\u001b[0;31m---------------------------------------------------------------------------\u001b[0m",
            "\u001b[0;31mValueError\u001b[0m                                Traceback (most recent call last)",
            "\u001b[0;32m<ipython-input-97-fe1579ae9547>\u001b[0m in \u001b[0;36m<module>\u001b[0;34m\u001b[0m\n\u001b[0;32m----> 1\u001b[0;31m \u001b[0ma\u001b[0m \u001b[0;34m+\u001b[0m \u001b[0mnp\u001b[0m\u001b[0;34m.\u001b[0m\u001b[0marray\u001b[0m\u001b[0;34m(\u001b[0m\u001b[0;34m[\u001b[0m\u001b[0;36m3\u001b[0m\u001b[0;34m,\u001b[0m\u001b[0;36m4\u001b[0m\u001b[0;34m]\u001b[0m\u001b[0;34m)\u001b[0m\u001b[0;34m\u001b[0m\u001b[0;34m\u001b[0m\u001b[0m\n\u001b[0m",
            "\u001b[0;31mValueError\u001b[0m: operands could not be broadcast together with shapes (2,3) (2,) "
          ]
        }
      ]
    },
    {
      "cell_type": "code",
      "source": [
        "# 열의 개수가 같은 경우 아래로 행을 a의 행의 수와 같게 복사하여 더해준다.\n",
        "a + np.array([3,4,5])"
      ],
      "metadata": {
        "colab": {
          "base_uri": "https://localhost:8080/"
        },
        "id": "nXOeuSU_mKMv",
        "outputId": "57d96af4-9512-479a-ecc0-05e09b60fbce"
      },
      "execution_count": null,
      "outputs": [
        {
          "output_type": "execute_result",
          "data": {
            "text/plain": [
              "array([[ 3,  5,  7],\n",
              "       [ 6,  8, 10]])"
            ]
          },
          "metadata": {},
          "execution_count": 99
        }
      ]
    },
    {
      "cell_type": "code",
      "source": [
        "# 행의 개수가 같은 경우 우측으로 열을 a의 열의 수와 같게 복사하여 더해준다.\n",
        "a + np.array([[3],[4]])"
      ],
      "metadata": {
        "colab": {
          "base_uri": "https://localhost:8080/"
        },
        "id": "4UU_n5vvmZCn",
        "outputId": "d60fdf27-117b-4aad-bbab-9846cbc3ecca"
      },
      "execution_count": null,
      "outputs": [
        {
          "output_type": "execute_result",
          "data": {
            "text/plain": [
              "array([[3, 4, 5],\n",
              "       [7, 8, 9]])"
            ]
          },
          "metadata": {},
          "execution_count": 101
        }
      ]
    },
    {
      "cell_type": "markdown",
      "source": [
        "### 11 strides\n",
        "strides는 다음 원소끼리의 메모리 크기를 차원별로 알려준다.  \n",
        "c의 포인터 개념을 알고 있으면 이해하기가 쉽다."
      ],
      "metadata": {
        "id": "8Zx0vyb7noYg"
      }
    },
    {
      "cell_type": "code",
      "source": [
        "a = np.arange(12).reshape(3, 4)"
      ],
      "metadata": {
        "id": "9_bh4iORmt9n"
      },
      "execution_count": null,
      "outputs": []
    },
    {
      "cell_type": "code",
      "source": [
        "a"
      ],
      "metadata": {
        "colab": {
          "base_uri": "https://localhost:8080/"
        },
        "id": "cP0PyykFoBBA",
        "outputId": "dca5016c-619b-49c3-e6e6-7c3c7c08a1ec"
      },
      "execution_count": null,
      "outputs": [
        {
          "output_type": "execute_result",
          "data": {
            "text/plain": [
              "array([[ 0,  1,  2,  3],\n",
              "       [ 4,  5,  6,  7],\n",
              "       [ 8,  9, 10, 11]])"
            ]
          },
          "metadata": {},
          "execution_count": 103
        }
      ]
    },
    {
      "cell_type": "code",
      "source": [
        "# 행의 메모리 간격은 32bytes\n",
        "# 열의 메모리 간격은 8bytes\n",
        "a.strides"
      ],
      "metadata": {
        "colab": {
          "base_uri": "https://localhost:8080/"
        },
        "id": "5zQ2CjKKoBev",
        "outputId": "80e99436-f4e4-4a41-b174-f1419b3d6d8b"
      },
      "execution_count": null,
      "outputs": [
        {
          "output_type": "execute_result",
          "data": {
            "text/plain": [
              "(32, 8)"
            ]
          },
          "metadata": {},
          "execution_count": 104
        }
      ]
    },
    {
      "cell_type": "code",
      "source": [
        "a.dtype"
      ],
      "metadata": {
        "colab": {
          "base_uri": "https://localhost:8080/"
        },
        "id": "e4YwwsF5oF6_",
        "outputId": "22abcfdc-1aaf-4cc0-a899-b67166cf8952"
      },
      "execution_count": null,
      "outputs": [
        {
          "output_type": "execute_result",
          "data": {
            "text/plain": [
              "dtype('int64')"
            ]
          },
          "metadata": {},
          "execution_count": 105
        }
      ]
    },
    {
      "cell_type": "code",
      "source": [
        "a.itemsize"
      ],
      "metadata": {
        "colab": {
          "base_uri": "https://localhost:8080/"
        },
        "id": "kzY-jRA7oWw-",
        "outputId": "3f4c0236-cb47-4f9d-c7b5-beca17ce3212"
      },
      "execution_count": null,
      "outputs": [
        {
          "output_type": "execute_result",
          "data": {
            "text/plain": [
              "8"
            ]
          },
          "metadata": {},
          "execution_count": 106
        }
      ]
    },
    {
      "cell_type": "code",
      "source": [
        "# 열의 원소개수 * itemsize = 행의 메모리 간격\n",
        "# itemsize = 열의 메모리 간격\n",
        "a.shape"
      ],
      "metadata": {
        "colab": {
          "base_uri": "https://localhost:8080/"
        },
        "id": "ObjL0KXgovfP",
        "outputId": "c9b2629f-8dfe-43c7-8e91-9854ff89f5c3"
      },
      "execution_count": null,
      "outputs": [
        {
          "output_type": "execute_result",
          "data": {
            "text/plain": [
              "(3, 4)"
            ]
          },
          "metadata": {},
          "execution_count": 107
        }
      ]
    },
    {
      "cell_type": "markdown",
      "source": [
        "### 12 axis\n",
        "axis는 다차원 배열을 연산할 때 기준이 되는 축이다."
      ],
      "metadata": {
        "id": "RBc9aW0TqD_Q"
      }
    },
    {
      "cell_type": "code",
      "source": [
        "a"
      ],
      "metadata": {
        "colab": {
          "base_uri": "https://localhost:8080/"
        },
        "id": "I4YqYE1Fo6aD",
        "outputId": "340b3479-3d70-4f3d-8ad8-e6b8e8cf4631"
      },
      "execution_count": null,
      "outputs": [
        {
          "output_type": "execute_result",
          "data": {
            "text/plain": [
              "array([[ 0,  1,  2,  3],\n",
              "       [ 4,  5,  6,  7],\n",
              "       [ 8,  9, 10, 11]])"
            ]
          },
          "metadata": {},
          "execution_count": 109
        }
      ]
    },
    {
      "cell_type": "code",
      "source": [
        "np.sum(a)"
      ],
      "metadata": {
        "colab": {
          "base_uri": "https://localhost:8080/"
        },
        "id": "q61SpTTwqVEJ",
        "outputId": "0e798264-bd2c-4fb5-a904-6acb8a85b689"
      },
      "execution_count": null,
      "outputs": [
        {
          "output_type": "execute_result",
          "data": {
            "text/plain": [
              "66"
            ]
          },
          "metadata": {},
          "execution_count": 110
        }
      ]
    },
    {
      "cell_type": "markdown",
      "source": [
        "(0,0), (0,1), (0,2), (0,3)  \n",
        "(1,0), (1,1), (1,2), (1,3)  \n",
        "(2,0), (2,1), (2,2), (2,3)  "
      ],
      "metadata": {
        "id": "Iqtd9vADrWc3"
      }
    },
    {
      "cell_type": "code",
      "source": [
        "np.sum(a, axis=0) # a 배열은 2차원이므로 axis=0은 행기준(행마다) - 각 행의 같은 열끼리 더한다."
      ],
      "metadata": {
        "colab": {
          "base_uri": "https://localhost:8080/"
        },
        "id": "hRXr2yrvqZtH",
        "outputId": "8c9325f2-f931-4f2a-fafe-dde2a20eb3e6"
      },
      "execution_count": null,
      "outputs": [
        {
          "output_type": "execute_result",
          "data": {
            "text/plain": [
              "array([12, 15, 18, 21])"
            ]
          },
          "metadata": {},
          "execution_count": 114
        }
      ]
    },
    {
      "cell_type": "code",
      "source": [
        "np.sum(a, axis=1) # a 배열은 2차원이므로 axis=1은 열기준(열마다) - 각 행의 열의 값을 더한다."
      ],
      "metadata": {
        "colab": {
          "base_uri": "https://localhost:8080/"
        },
        "id": "gmlMtLVCqmj5",
        "outputId": "f075febe-d09b-42bc-ae64-d4e658ae7e78"
      },
      "execution_count": null,
      "outputs": [
        {
          "output_type": "execute_result",
          "data": {
            "text/plain": [
              "array([ 6, 22, 38])"
            ]
          },
          "metadata": {},
          "execution_count": 116
        }
      ]
    },
    {
      "cell_type": "markdown",
      "source": [
        "axis는 3차원 이상에서도 사용할 수 있다. "
      ],
      "metadata": {
        "id": "Tm_g6qo6r0MP"
      }
    },
    {
      "cell_type": "code",
      "source": [
        "a = np.arange(24).reshape(2,3,4)\n",
        "a"
      ],
      "metadata": {
        "colab": {
          "base_uri": "https://localhost:8080/"
        },
        "id": "EPAgS1ENq8E5",
        "outputId": "d28e347c-da35-4f27-ddcb-f0eefc976493"
      },
      "execution_count": null,
      "outputs": [
        {
          "output_type": "execute_result",
          "data": {
            "text/plain": [
              "array([[[ 0,  1,  2,  3],\n",
              "        [ 4,  5,  6,  7],\n",
              "        [ 8,  9, 10, 11]],\n",
              "\n",
              "       [[12, 13, 14, 15],\n",
              "        [16, 17, 18, 19],\n",
              "        [20, 21, 22, 23]]])"
            ]
          },
          "metadata": {},
          "execution_count": 118
        }
      ]
    },
    {
      "cell_type": "markdown",
      "source": [
        "(0,0,0)(0,0,1)(0,0,2)(0,0,3)  \n",
        "(0,1,0)(0,1,1)(0,1,2)(0,1,3)  \n",
        "(0,2,0)(0,2,1)(0,2,2)(0,2,3)  \n",
        "  \n",
        "(1,0,0)(1,0,1)(1,0,2)(1,0,3)  \n",
        "(1,1,0)(1,1,1)(1,1,2)(1,1,3)  \n",
        "(1,2,0)(1,2,1)(1,2,2)(1,2,3)  "
      ],
      "metadata": {
        "id": "-cVGzZPSsBQH"
      }
    },
    {
      "cell_type": "code",
      "source": [
        "# a.sum(axis=0)\n",
        "# 공간의기준으로 (공간마다) - 각 공간의 행과 열이 같은 것끼리 더한다. \n",
        "# 즉, 공간은 다르고 행과 열이 같은 것끼리 더해진다.\n",
        "# ex) (0,0,0) (1,0,0) 끼리 더해진다.\n",
        "np.sum(a, axis=0)  # 함수이용\n",
        "# a.sum(axis=0) # 메소드이용"
      ],
      "metadata": {
        "colab": {
          "base_uri": "https://localhost:8080/"
        },
        "id": "GTsxCwOPr-FH",
        "outputId": "faf841d4-e038-45ea-85d5-0db710d3de1b"
      },
      "execution_count": null,
      "outputs": [
        {
          "output_type": "execute_result",
          "data": {
            "text/plain": [
              "array([[12, 14, 16, 18],\n",
              "       [20, 22, 24, 26],\n",
              "       [28, 30, 32, 34]])"
            ]
          },
          "metadata": {},
          "execution_count": 119
        }
      ]
    },
    {
      "cell_type": "code",
      "source": [
        "# 행의기준으로 (행마다) - 같은 공간의 각 행의 같은 열끼리 더한다. \n",
        "# 즉, 공간과 열은 같고 행이 다른 것끼리 더해진다.\n",
        "# ex) (0,0,0) (0,1,0) (0,2,0) 끼리 더해진다. \n",
        "np.sum(a, axis=1)"
      ],
      "metadata": {
        "colab": {
          "base_uri": "https://localhost:8080/"
        },
        "id": "J7o84NMdsjF4",
        "outputId": "f510cb00-3ba4-4cab-c442-e3a580b8bf34"
      },
      "execution_count": null,
      "outputs": [
        {
          "output_type": "execute_result",
          "data": {
            "text/plain": [
              "array([[12, 15, 18, 21],\n",
              "       [48, 51, 54, 57]])"
            ]
          },
          "metadata": {},
          "execution_count": 121
        }
      ]
    },
    {
      "cell_type": "code",
      "source": [
        "# 열의기준으로 (열마다) - 같은 공간의 각 행끼리 더한다.\n",
        "# 즉, 공간과 행은 같고 열이 다른 것끼리 더해진다.\n",
        "# ex) (0,0,0) (0,0,1) (0,0,2) (0,0,3) 끼리 더해진다.\n",
        "np.sum(a, axis=2)"
      ],
      "metadata": {
        "colab": {
          "base_uri": "https://localhost:8080/"
        },
        "id": "CPcYX1rDs4SP",
        "outputId": "c4d9b186-4208-4307-ff74-8ed6323e9890"
      },
      "execution_count": null,
      "outputs": [
        {
          "output_type": "execute_result",
          "data": {
            "text/plain": [
              "array([[ 6, 22, 38],\n",
              "       [54, 70, 86]])"
            ]
          },
          "metadata": {},
          "execution_count": 126
        }
      ]
    },
    {
      "cell_type": "markdown",
      "source": [
        "3차원은 행렬에 공간(깊이)개념이 추가되었다고 할 수 있다.  \n",
        "2차원(axis=0,axis=1)(행,열)  \n",
        "3차원(axis=0,axis=1,axis=2)(공간,행,열)"
      ],
      "metadata": {
        "id": "o_rG-AYEyEJo"
      }
    },
    {
      "cell_type": "markdown",
      "source": [
        "### (12) array 모양 바꾸기"
      ],
      "metadata": {
        "id": "xhLYJ0fOykom"
      }
    },
    {
      "cell_type": "markdown",
      "source": [
        "(1) reshape  \n",
        "  reshape는 차원을 바꿔주는 기능을 한다."
      ],
      "metadata": {
        "id": "DLg7C1ohysFf"
      }
    },
    {
      "cell_type": "code",
      "source": [
        "# signature대로 하면 a.reshape((3,8)) 해야한다.\n",
        "# 하지만 reshape(3,8)해도 내부적으로 이상없이 처리한다.\n",
        "# reshape 수행 후의 원래의 값은 그대로 있다.\n",
        "a = np.arange(24)\n",
        "b = a.reshape(3,8)\n",
        "\n",
        "a"
      ],
      "metadata": {
        "colab": {
          "base_uri": "https://localhost:8080/"
        },
        "id": "JU0fXfyTwWJZ",
        "outputId": "bbb1d24e-ceca-4d12-d4a5-79a42942f1a7"
      },
      "execution_count": null,
      "outputs": [
        {
          "output_type": "execute_result",
          "data": {
            "text/plain": [
              "array([ 0,  1,  2,  3,  4,  5,  6,  7,  8,  9, 10, 11, 12, 13, 14, 15, 16,\n",
              "       17, 18, 19, 20, 21, 22, 23])"
            ]
          },
          "metadata": {},
          "execution_count": 130
        }
      ]
    },
    {
      "cell_type": "code",
      "source": [
        "b"
      ],
      "metadata": {
        "colab": {
          "base_uri": "https://localhost:8080/"
        },
        "id": "9ljHq6Qay4EV",
        "outputId": "aa0ebe11-4216-4e8e-f770-2b6476af2972"
      },
      "execution_count": null,
      "outputs": [
        {
          "output_type": "execute_result",
          "data": {
            "text/plain": [
              "array([[ 0,  1,  2,  3,  4,  5,  6,  7],\n",
              "       [ 8,  9, 10, 11, 12, 13, 14, 15],\n",
              "       [16, 17, 18, 19, 20, 21, 22, 23]])"
            ]
          },
          "metadata": {},
          "execution_count": 131
        }
      ]
    },
    {
      "cell_type": "code",
      "source": [
        "a = np.arange(24).reshape(3,8)\n",
        "a"
      ],
      "metadata": {
        "colab": {
          "base_uri": "https://localhost:8080/"
        },
        "id": "fTALcSW9zoMF",
        "outputId": "faf8d7a8-54ca-466b-94ae-07c263a5d602"
      },
      "execution_count": null,
      "outputs": [
        {
          "output_type": "execute_result",
          "data": {
            "text/plain": [
              "array([[ 0,  1,  2,  3,  4,  5,  6,  7],\n",
              "       [ 8,  9, 10, 11, 12, 13, 14, 15],\n",
              "       [16, 17, 18, 19, 20, 21, 22, 23]])"
            ]
          },
          "metadata": {},
          "execution_count": 133
        }
      ]
    },
    {
      "cell_type": "code",
      "source": [
        "# ValueError => 크기가 맞지 않음.\n",
        "a.reshape(2,3,5)"
      ],
      "metadata": {
        "colab": {
          "base_uri": "https://localhost:8080/",
          "height": 193
        },
        "id": "rQyq9YTx0EVe",
        "outputId": "eee7f026-30c3-4799-b7b2-75a1ad55b193"
      },
      "execution_count": null,
      "outputs": [
        {
          "output_type": "error",
          "ename": "ValueError",
          "evalue": "ignored",
          "traceback": [
            "\u001b[0;31m---------------------------------------------------------------------------\u001b[0m",
            "\u001b[0;31mValueError\u001b[0m                                Traceback (most recent call last)",
            "\u001b[0;32m<ipython-input-137-b9221c3c75ac>\u001b[0m in \u001b[0;36m<module>\u001b[0;34m\u001b[0m\n\u001b[1;32m      1\u001b[0m \u001b[0;31m# ValueError => 크기가 맞지 않음.\u001b[0m\u001b[0;34m\u001b[0m\u001b[0;34m\u001b[0m\u001b[0;34m\u001b[0m\u001b[0m\n\u001b[0;32m----> 2\u001b[0;31m \u001b[0ma\u001b[0m\u001b[0;34m.\u001b[0m\u001b[0mreshape\u001b[0m\u001b[0;34m(\u001b[0m\u001b[0;36m2\u001b[0m\u001b[0;34m,\u001b[0m\u001b[0;36m3\u001b[0m\u001b[0;34m,\u001b[0m\u001b[0;36m5\u001b[0m\u001b[0;34m)\u001b[0m\u001b[0;34m\u001b[0m\u001b[0;34m\u001b[0m\u001b[0m\n\u001b[0m",
            "\u001b[0;31mValueError\u001b[0m: cannot reshape array of size 24 into shape (2,3,5)"
          ]
        }
      ]
    },
    {
      "cell_type": "code",
      "source": [
        "# 음수를 쓰면 알아서 shape를 맞춘다.\n",
        "# 음수 값은 -1이든, -100이든 상관없이 음수이기만 하면 된다.\n",
        "a.reshape(2,3,-1)"
      ],
      "metadata": {
        "colab": {
          "base_uri": "https://localhost:8080/"
        },
        "id": "fCqubmxN0U-V",
        "outputId": "f015e06b-51ee-43bf-cd47-85985e598709"
      },
      "execution_count": null,
      "outputs": [
        {
          "output_type": "execute_result",
          "data": {
            "text/plain": [
              "array([[[ 0,  1,  2,  3],\n",
              "        [ 4,  5,  6,  7],\n",
              "        [ 8,  9, 10, 11]],\n",
              "\n",
              "       [[12, 13, 14, 15],\n",
              "        [16, 17, 18, 19],\n",
              "        [20, 21, 22, 23]]])"
            ]
          },
          "metadata": {},
          "execution_count": 141
        }
      ]
    },
    {
      "cell_type": "code",
      "source": [
        "# 단, 공간과 행의 값이 크기의 계산이 될 수 있게 해줘야한다.\n",
        "# ValueError\n",
        "a.reshape(3,5,-1)"
      ],
      "metadata": {
        "colab": {
          "base_uri": "https://localhost:8080/",
          "height": 211
        },
        "id": "2Q_ZKvLn0VNW",
        "outputId": "18baa662-7f18-4c64-898a-85702bcd2425"
      },
      "execution_count": null,
      "outputs": [
        {
          "output_type": "error",
          "ename": "ValueError",
          "evalue": "ignored",
          "traceback": [
            "\u001b[0;31m---------------------------------------------------------------------------\u001b[0m",
            "\u001b[0;31mValueError\u001b[0m                                Traceback (most recent call last)",
            "\u001b[0;32m<ipython-input-143-b6e64b22d479>\u001b[0m in \u001b[0;36m<module>\u001b[0;34m\u001b[0m\n\u001b[1;32m      1\u001b[0m \u001b[0;31m# 단, 공간과 행의 값이 크기의 계산이 될 수 있게 해줘야한다.\u001b[0m\u001b[0;34m\u001b[0m\u001b[0;34m\u001b[0m\u001b[0;34m\u001b[0m\u001b[0m\n\u001b[1;32m      2\u001b[0m \u001b[0;31m# ValueError\u001b[0m\u001b[0;34m\u001b[0m\u001b[0;34m\u001b[0m\u001b[0;34m\u001b[0m\u001b[0m\n\u001b[0;32m----> 3\u001b[0;31m \u001b[0ma\u001b[0m\u001b[0;34m.\u001b[0m\u001b[0mreshape\u001b[0m\u001b[0;34m(\u001b[0m\u001b[0;36m3\u001b[0m\u001b[0;34m,\u001b[0m\u001b[0;36m5\u001b[0m\u001b[0;34m,\u001b[0m\u001b[0;34m-\u001b[0m\u001b[0;36m1\u001b[0m\u001b[0;34m)\u001b[0m\u001b[0;34m\u001b[0m\u001b[0;34m\u001b[0m\u001b[0m\n\u001b[0m",
            "\u001b[0;31mValueError\u001b[0m: cannot reshape array of size 24 into shape (3,5,newaxis)"
          ]
        }
      ]
    },
    {
      "cell_type": "code",
      "source": [
        "# 음수를 2개 사용할 수 없다.\n",
        "# 음수는 다른 차원들이 정해준 상황에서 남은 하나의 차원만 알아서 맞춰준다.\n",
        "a.reshape(3,-1,-1)"
      ],
      "metadata": {
        "colab": {
          "base_uri": "https://localhost:8080/",
          "height": 211
        },
        "id": "bZtsy-nj1RW2",
        "outputId": "c3271a50-993d-4800-f526-3c7af25f020d"
      },
      "execution_count": null,
      "outputs": [
        {
          "output_type": "error",
          "ename": "ValueError",
          "evalue": "ignored",
          "traceback": [
            "\u001b[0;31m---------------------------------------------------------------------------\u001b[0m",
            "\u001b[0;31mValueError\u001b[0m                                Traceback (most recent call last)",
            "\u001b[0;32m<ipython-input-144-52cc93d60899>\u001b[0m in \u001b[0;36m<module>\u001b[0;34m\u001b[0m\n\u001b[1;32m      1\u001b[0m \u001b[0;31m# 음수를 2개 사용할 수 없다.\u001b[0m\u001b[0;34m\u001b[0m\u001b[0;34m\u001b[0m\u001b[0;34m\u001b[0m\u001b[0m\n\u001b[1;32m      2\u001b[0m \u001b[0;31m# 음수는 다른 차원들이 정해준 상황에서 남은 하나의 차원만 알아서 맞춰준다.\u001b[0m\u001b[0;34m\u001b[0m\u001b[0;34m\u001b[0m\u001b[0;34m\u001b[0m\u001b[0m\n\u001b[0;32m----> 3\u001b[0;31m \u001b[0ma\u001b[0m\u001b[0;34m.\u001b[0m\u001b[0mreshape\u001b[0m\u001b[0;34m(\u001b[0m\u001b[0;36m3\u001b[0m\u001b[0;34m,\u001b[0m\u001b[0;34m-\u001b[0m\u001b[0;36m1\u001b[0m\u001b[0;34m,\u001b[0m\u001b[0;34m-\u001b[0m\u001b[0;36m1\u001b[0m\u001b[0;34m)\u001b[0m\u001b[0;34m\u001b[0m\u001b[0;34m\u001b[0m\u001b[0m\n\u001b[0m",
            "\u001b[0;31mValueError\u001b[0m: can only specify one unknown dimension"
          ]
        }
      ]
    },
    {
      "cell_type": "code",
      "source": [
        "# 음수값이 1개이면 위치가 어디에 오든 상관없다.\n",
        "a.reshape(3,-1,2)"
      ],
      "metadata": {
        "colab": {
          "base_uri": "https://localhost:8080/"
        },
        "id": "AkyJ-XZq1bsV",
        "outputId": "f8f61204-aa9a-4ac9-d39b-34b1fba71f6d"
      },
      "execution_count": null,
      "outputs": [
        {
          "output_type": "execute_result",
          "data": {
            "text/plain": [
              "array([[[ 0,  1],\n",
              "        [ 2,  3],\n",
              "        [ 4,  5],\n",
              "        [ 6,  7]],\n",
              "\n",
              "       [[ 8,  9],\n",
              "        [10, 11],\n",
              "        [12, 13],\n",
              "        [14, 15]],\n",
              "\n",
              "       [[16, 17],\n",
              "        [18, 19],\n",
              "        [20, 21],\n",
              "        [22, 23]]])"
            ]
          },
          "metadata": {},
          "execution_count": 145
        }
      ]
    },
    {
      "cell_type": "markdown",
      "source": [
        "(2) reshpae 으로 차원 늘리기"
      ],
      "metadata": {
        "id": "VaS-m8oZ1sBm"
      }
    },
    {
      "cell_type": "code",
      "source": [
        "# 2차원\n",
        "a = np.arange(6).reshape(2,3)\n",
        "a"
      ],
      "metadata": {
        "colab": {
          "base_uri": "https://localhost:8080/"
        },
        "id": "xn-PVcJl1e1N",
        "outputId": "8d9224f0-68f2-42cd-c9bd-b435ad663059"
      },
      "execution_count": null,
      "outputs": [
        {
          "output_type": "execute_result",
          "data": {
            "text/plain": [
              "array([[0, 1, 2],\n",
              "       [3, 4, 5]])"
            ]
          },
          "metadata": {},
          "execution_count": 147
        }
      ]
    },
    {
      "cell_type": "code",
      "source": [
        "# 3차원\n",
        "a = np.arange(6).reshape(2,3,1)\n",
        "a"
      ],
      "metadata": {
        "colab": {
          "base_uri": "https://localhost:8080/"
        },
        "id": "Vh5G4rXp12eO",
        "outputId": "551e0965-bb06-404f-9736-716400d953bb"
      },
      "execution_count": null,
      "outputs": [
        {
          "output_type": "execute_result",
          "data": {
            "text/plain": [
              "array([[[0],\n",
              "        [1],\n",
              "        [2]],\n",
              "\n",
              "       [[3],\n",
              "        [4],\n",
              "        [5]]])"
            ]
          },
          "metadata": {},
          "execution_count": 149
        }
      ]
    },
    {
      "cell_type": "markdown",
      "source": [
        "### (13) resize\n",
        "size는 원소 개수를 알려준다. "
      ],
      "metadata": {
        "id": "-kuEqC7H2UMG"
      }
    },
    {
      "cell_type": "code",
      "source": [
        "a = np.arange(24)\n",
        "# 원소의 개수\n",
        "print(a.size)\n",
        "print(len(a))"
      ],
      "metadata": {
        "colab": {
          "base_uri": "https://localhost:8080/"
        },
        "id": "i4HilvX81-2W",
        "outputId": "49cf5d06-1e08-4b01-e73d-b58b9b1c328d"
      },
      "execution_count": null,
      "outputs": [
        {
          "output_type": "stream",
          "name": "stdout",
          "text": [
            "24\n",
            "24\n"
          ]
        }
      ]
    },
    {
      "cell_type": "code",
      "source": [
        "# a.resize(2,3,1)\n",
        "np.resize(a, (2,3,1))"
      ],
      "metadata": {
        "colab": {
          "base_uri": "https://localhost:8080/"
        },
        "id": "w9BuJ5zC2ffV",
        "outputId": "d67f31ce-7ab5-49a8-9237-6827779c8012"
      },
      "execution_count": null,
      "outputs": [
        {
          "output_type": "execute_result",
          "data": {
            "text/plain": [
              "array([[[0],\n",
              "        [1],\n",
              "        [2]],\n",
              "\n",
              "       [[3],\n",
              "        [4],\n",
              "        [5]]])"
            ]
          },
          "metadata": {},
          "execution_count": 157
        }
      ]
    },
    {
      "cell_type": "code",
      "source": [
        "# reshape은 원소의 개수가 맞아야 변경 가능하지만, resize는 원소의 개수가 다르면 원소를 채워 변경한다.\n",
        "# 함수를 이용하면 빈 공간을 원래 있는 값을 반복하여 채워준다.\n",
        "np.resize(a, (3,2,8))"
      ],
      "metadata": {
        "colab": {
          "base_uri": "https://localhost:8080/"
        },
        "id": "wII-j-tj2uFt",
        "outputId": "b556e73f-d95e-403c-c2b9-ddf80b09161d"
      },
      "execution_count": null,
      "outputs": [
        {
          "output_type": "execute_result",
          "data": {
            "text/plain": [
              "array([[[ 0,  1,  2,  3,  4,  5,  6,  7],\n",
              "        [ 8,  9, 10, 11, 12, 13, 14, 15]],\n",
              "\n",
              "       [[16, 17, 18, 19, 20, 21, 22, 23],\n",
              "        [ 0,  1,  2,  3,  4,  5,  6,  7]],\n",
              "\n",
              "       [[ 8,  9, 10, 11, 12, 13, 14, 15],\n",
              "        [16, 17, 18, 19, 20, 21, 22, 23]]])"
            ]
          },
          "metadata": {},
          "execution_count": 160
        }
      ]
    },
    {
      "cell_type": "code",
      "source": [
        "# mutable이다. return이 없고 자기 자신을 바꾼다. -> reshape와 차이점 1\n",
        "# 원래의 원소 개수와 변경하는 원소 개수가 안맞아도 된다.(0으로 채워준다.) -> reshape와 차이점 2\n",
        "\n",
        "b = np.arange(24)\n",
        "b.resize(2,3,8) # resize의 return값은 none이다.\n",
        "b"
      ],
      "metadata": {
        "colab": {
          "base_uri": "https://localhost:8080/"
        },
        "id": "GCwCZFZ821t2",
        "outputId": "c095100e-2700-4620-b855-2232c2b80b42"
      },
      "execution_count": null,
      "outputs": [
        {
          "output_type": "execute_result",
          "data": {
            "text/plain": [
              "array([[[ 0,  1,  2,  3,  4,  5,  6,  7],\n",
              "        [ 8,  9, 10, 11, 12, 13, 14, 15],\n",
              "        [16, 17, 18, 19, 20, 21, 22, 23]],\n",
              "\n",
              "       [[ 0,  0,  0,  0,  0,  0,  0,  0],\n",
              "        [ 0,  0,  0,  0,  0,  0,  0,  0],\n",
              "        [ 0,  0,  0,  0,  0,  0,  0,  0]]])"
            ]
          },
          "metadata": {},
          "execution_count": 168
        }
      ]
    },
    {
      "cell_type": "markdown",
      "source": [
        "### (14) array 쪼개기\n"
      ],
      "metadata": {
        "id": "gm8pUwwr6zeV"
      }
    },
    {
      "cell_type": "markdown",
      "source": [
        "split"
      ],
      "metadata": {
        "id": "jxGyzhuwDGcN"
      }
    },
    {
      "cell_type": "code",
      "source": [
        "a = np.arange(24)\n",
        "a"
      ],
      "metadata": {
        "colab": {
          "base_uri": "https://localhost:8080/"
        },
        "id": "LcDF_fMu4RVt",
        "outputId": "02277bb8-3ddd-4444-a5cd-8be8cc57fd05"
      },
      "execution_count": null,
      "outputs": [
        {
          "output_type": "execute_result",
          "data": {
            "text/plain": [
              "array([ 0,  1,  2,  3,  4,  5,  6,  7,  8,  9, 10, 11, 12, 13, 14, 15, 16,\n",
              "       17, 18, 19, 20, 21, 22, 23])"
            ]
          },
          "metadata": {},
          "execution_count": 193
        }
      ]
    },
    {
      "cell_type": "code",
      "source": [
        "# a는 바뀌지 않으므로 재할당을 한다.\n",
        "a = np.split(a, 3, axis=0)\n",
        "a"
      ],
      "metadata": {
        "colab": {
          "base_uri": "https://localhost:8080/"
        },
        "id": "95Zkc3WODJyX",
        "outputId": "74b41b36-4263-4211-c9e1-4300b9141947"
      },
      "execution_count": null,
      "outputs": [
        {
          "output_type": "execute_result",
          "data": {
            "text/plain": [
              "[array([0, 1, 2, 3, 4, 5, 6, 7]),\n",
              " array([ 8,  9, 10, 11, 12, 13, 14, 15]),\n",
              " array([16, 17, 18, 19, 20, 21, 22, 23])]"
            ]
          },
          "metadata": {},
          "execution_count": 194
        }
      ]
    },
    {
      "cell_type": "code",
      "source": [
        "print(type(a))\n",
        "print(type(a[0]))"
      ],
      "metadata": {
        "colab": {
          "base_uri": "https://localhost:8080/"
        },
        "id": "t4QPhzMdDSQc",
        "outputId": "37e809f4-0a85-475d-97d5-a1cb1919d924"
      },
      "execution_count": null,
      "outputs": [
        {
          "output_type": "stream",
          "name": "stdout",
          "text": [
            "<class 'list'>\n",
            "<class 'numpy.ndarray'>\n"
          ]
        }
      ]
    },
    {
      "cell_type": "code",
      "source": [
        "b = np.arange(24)\n",
        "b = np.split(b,2)\n",
        "b"
      ],
      "metadata": {
        "colab": {
          "base_uri": "https://localhost:8080/"
        },
        "id": "35BSCsCpD6Nc",
        "outputId": "a59e3ec4-b8f7-4273-89cb-8caa0f6a461c"
      },
      "execution_count": null,
      "outputs": [
        {
          "output_type": "execute_result",
          "data": {
            "text/plain": [
              "[array([ 0,  1,  2,  3,  4,  5,  6,  7,  8,  9, 10, 11]),\n",
              " array([12, 13, 14, 15, 16, 17, 18, 19, 20, 21, 22, 23])]"
            ]
          },
          "metadata": {},
          "execution_count": 197
        }
      ]
    },
    {
      "cell_type": "code",
      "source": [
        "print(type(b))\n",
        "print(type(b[1]))\n",
        "print(b[1])\n",
        "print(b[1][2])\n",
        "# print(b[1,2]) # TypeError, 배열이 아닌 리스트이기때문에 오류가 생긴다.\n",
        "\n",
        "c = np.array(b)\n",
        "print(c)\n",
        "print(type(c))\n",
        "print(c[1,2])"
      ],
      "metadata": {
        "colab": {
          "base_uri": "https://localhost:8080/"
        },
        "id": "fYrF-WYWEK_z",
        "outputId": "672f02b9-3036-4fea-ada9-84d5a8252da2"
      },
      "execution_count": null,
      "outputs": [
        {
          "output_type": "stream",
          "name": "stdout",
          "text": [
            "<class 'list'>\n",
            "<class 'numpy.ndarray'>\n",
            "[12 13 14 15 16 17 18 19 20 21 22 23]\n",
            "14\n",
            "[[ 0  1  2  3  4  5  6  7  8  9 10 11]\n",
            " [12 13 14 15 16 17 18 19 20 21 22 23]]\n",
            "<class 'numpy.ndarray'>\n",
            "14\n"
          ]
        }
      ]
    },
    {
      "cell_type": "markdown",
      "source": [
        "#### hsplit & vsplit\n",
        "http://taewan.kim/post/numpy_cheat_sheet/ 참고사이트"
      ],
      "metadata": {
        "id": "BkmvYGTAFqVU"
      }
    },
    {
      "cell_type": "markdown",
      "source": [
        "split는 axis 파라미터가 있다. default: axis=0"
      ],
      "metadata": {
        "id": "LeMgxSwNFvOc"
      }
    },
    {
      "cell_type": "code",
      "source": [
        "a = np.arange(24)\n",
        "b = a.reshape(4,6)\n",
        "print(b)"
      ],
      "metadata": {
        "colab": {
          "base_uri": "https://localhost:8080/"
        },
        "id": "W0U2ETg4ErZU",
        "outputId": "bbc4ab5d-1b83-4da1-fac9-15fb943f68d2"
      },
      "execution_count": null,
      "outputs": [
        {
          "output_type": "stream",
          "name": "stdout",
          "text": [
            "[[ 0  1  2  3  4  5]\n",
            " [ 6  7  8  9 10 11]\n",
            " [12 13 14 15 16 17]\n",
            " [18 19 20 21 22 23]]\n"
          ]
        }
      ]
    },
    {
      "cell_type": "code",
      "source": [
        "# split로 나누면 list로 가져온다.\n",
        "# 행단위로 나눠진다.\n",
        "np.split(b, 2, axis=0)"
      ],
      "metadata": {
        "colab": {
          "base_uri": "https://localhost:8080/"
        },
        "id": "Ty-RpFSFF8Nb",
        "outputId": "aa0076e4-2206-4c46-9bc6-dc5ad1f3eb1e"
      },
      "execution_count": null,
      "outputs": [
        {
          "output_type": "execute_result",
          "data": {
            "text/plain": [
              "[array([[ 0,  1,  2,  3,  4,  5],\n",
              "        [ 6,  7,  8,  9, 10, 11]]), array([[12, 13, 14, 15, 16, 17],\n",
              "        [18, 19, 20, 21, 22, 23]])]"
            ]
          },
          "metadata": {},
          "execution_count": 244
        }
      ]
    },
    {
      "cell_type": "code",
      "source": [
        " np.split(b, 2, axis=1)"
      ],
      "metadata": {
        "colab": {
          "base_uri": "https://localhost:8080/"
        },
        "id": "cyEYaCtJGEnb",
        "outputId": "3458248d-5e3f-4be4-e400-46b0187f04c8"
      },
      "execution_count": null,
      "outputs": [
        {
          "output_type": "execute_result",
          "data": {
            "text/plain": [
              "[array([[ 0,  1,  2],\n",
              "        [ 6,  7,  8],\n",
              "        [12, 13, 14],\n",
              "        [18, 19, 20]]), array([[ 3,  4,  5],\n",
              "        [ 9, 10, 11],\n",
              "        [15, 16, 17],\n",
              "        [21, 22, 23]])]"
            ]
          },
          "metadata": {},
          "execution_count": 247
        }
      ]
    },
    {
      "cell_type": "code",
      "source": [
        "# 차원을 하나로 가져온다.\n",
        "np.hsplit(a,2) # horizental (수평)"
      ],
      "metadata": {
        "colab": {
          "base_uri": "https://localhost:8080/"
        },
        "id": "3Rq_zDHDGSHk",
        "outputId": "0b0a827d-b859-456e-dfea-61f86c1b8bd4"
      },
      "execution_count": null,
      "outputs": [
        {
          "output_type": "execute_result",
          "data": {
            "text/plain": [
              "[array([ 0,  1,  2,  3,  4,  5,  6,  7,  8,  9, 10, 11]),\n",
              " array([12, 13, 14, 15, 16, 17, 18, 19, 20, 21, 22, 23])]"
            ]
          },
          "metadata": {},
          "execution_count": 213
        }
      ]
    },
    {
      "cell_type": "code",
      "source": [
        "b"
      ],
      "metadata": {
        "colab": {
          "base_uri": "https://localhost:8080/"
        },
        "id": "dym9oN-3I0Sm",
        "outputId": "697f8819-7017-4bb0-effe-260add9f8bcd"
      },
      "execution_count": null,
      "outputs": [
        {
          "output_type": "execute_result",
          "data": {
            "text/plain": [
              "array([[ 0,  1,  2,  3,  4,  5],\n",
              "       [ 6,  7,  8,  9, 10, 11],\n",
              "       [12, 13, 14, 15, 16, 17],\n",
              "       [18, 19, 20, 21, 22, 23]])"
            ]
          },
          "metadata": {},
          "execution_count": 218
        }
      ]
    },
    {
      "cell_type": "markdown",
      "source": [
        "(0,0), (0,1), (0,2), (0,3)  (0,4)  \n",
        "(1,0), (1,1), (1,2), (1,3)  (1,4)  \n",
        "(2,0), (2,1), (2,2), (2,3)  (2,4)  \n",
        "(3,0), (3,1), (3,2), (3,3)  (3,4)"
      ],
      "metadata": {
        "id": "_va-FdQ8IeTk"
      }
    },
    {
      "cell_type": "code",
      "source": [
        "# vsplit은 1차원일 때 ValueError가 발생한다.\n",
        "np.vsplit(b,2) # 2차원일 때 : Vertical(수직)"
      ],
      "metadata": {
        "colab": {
          "base_uri": "https://localhost:8080/"
        },
        "id": "NT_Be-o6GjYT",
        "outputId": "45cf4125-8588-4308-d67f-b37b46f6e103"
      },
      "execution_count": null,
      "outputs": [
        {
          "output_type": "execute_result",
          "data": {
            "text/plain": [
              "[array([[ 0,  1,  2,  3,  4,  5],\n",
              "        [ 6,  7,  8,  9, 10, 11]]), array([[12, 13, 14, 15, 16, 17],\n",
              "        [18, 19, 20, 21, 22, 23]])]"
            ]
          },
          "metadata": {},
          "execution_count": 220
        }
      ]
    },
    {
      "cell_type": "code",
      "source": [
        "np.hsplit(b,2)"
      ],
      "metadata": {
        "colab": {
          "base_uri": "https://localhost:8080/"
        },
        "id": "ehF97wxVGxKb",
        "outputId": "3bf75d0f-8374-43e2-a7c9-5983b1c1d90b"
      },
      "execution_count": null,
      "outputs": [
        {
          "output_type": "execute_result",
          "data": {
            "text/plain": [
              "[array([[ 0,  1,  2],\n",
              "        [ 6,  7,  8],\n",
              "        [12, 13, 14],\n",
              "        [18, 19, 20]]), array([[ 3,  4,  5],\n",
              "        [ 9, 10, 11],\n",
              "        [15, 16, 17],\n",
              "        [21, 22, 23]])]"
            ]
          },
          "metadata": {},
          "execution_count": 216
        }
      ]
    },
    {
      "cell_type": "markdown",
      "source": [
        "#### indices_or_sections\n",
        "split 시리즈 함수들의 두번째 파라미터 이름이 indices_or_section이다.  \n",
        "숫자를 묶어서 넣으면 구간으로 쪼개진다."
      ],
      "metadata": {
        "id": "q_TOCrPBK8Ir"
      }
    },
    {
      "cell_type": "code",
      "source": [
        "a = np.arange(24)\n",
        "a"
      ],
      "metadata": {
        "colab": {
          "base_uri": "https://localhost:8080/"
        },
        "id": "BqX8DPw2HkrU",
        "outputId": "0637b140-fa41-4d29-941e-13afbf46b98b"
      },
      "execution_count": null,
      "outputs": [
        {
          "output_type": "execute_result",
          "data": {
            "text/plain": [
              "array([ 0,  1,  2,  3,  4,  5,  6,  7,  8,  9, 10, 11, 12, 13, 14, 15, 16,\n",
              "       17, 18, 19, 20, 21, 22, 23])"
            ]
          },
          "metadata": {},
          "execution_count": 223
        }
      ]
    },
    {
      "cell_type": "code",
      "source": [
        "# section\n",
        "# 처음부터 ~ 2 미만:[0,1]\n",
        "# 2부터 ~ 3 미만: [2]\n",
        "# 3부터 ~ 끝까지: [3,4,5, ..., 23]\n",
        "np.hsplit(a, (2,3))"
      ],
      "metadata": {
        "colab": {
          "base_uri": "https://localhost:8080/"
        },
        "id": "9lvwGnYCLRRT",
        "outputId": "494d538e-c555-468a-c016-a79415bbe050"
      },
      "execution_count": null,
      "outputs": [
        {
          "output_type": "execute_result",
          "data": {
            "text/plain": [
              "[array([0, 1]),\n",
              " array([2]),\n",
              " array([ 3,  4,  5,  6,  7,  8,  9, 10, 11, 12, 13, 14, 15, 16, 17, 18, 19,\n",
              "        20, 21, 22, 23])]"
            ]
          },
          "metadata": {},
          "execution_count": 225
        }
      ]
    },
    {
      "cell_type": "code",
      "source": [
        "# section\n",
        "# 처음부터 ~ 2 미만:[0,1]\n",
        "# 2부터 ~ 3 미만: [2]\n",
        "# 3부터 ~ 8 미만: [3,4,5,6,7]\n",
        "# 8부터 ~ 끝까지: [8,9,10,...,23]\n",
        "np.hsplit(a, (2,3,8))"
      ],
      "metadata": {
        "colab": {
          "base_uri": "https://localhost:8080/"
        },
        "id": "WjwMeGsmLaCb",
        "outputId": "962753f0-9d5d-43c0-d0f1-96083d0a3407"
      },
      "execution_count": null,
      "outputs": [
        {
          "output_type": "execute_result",
          "data": {
            "text/plain": [
              "[array([0, 1]),\n",
              " array([2]),\n",
              " array([3, 4, 5, 6, 7]),\n",
              " array([ 8,  9, 10, 11, 12, 13, 14, 15, 16, 17, 18, 19, 20, 21, 22, 23])]"
            ]
          },
          "metadata": {},
          "execution_count": 226
        }
      ]
    },
    {
      "cell_type": "markdown",
      "source": [
        "### (15) array 합치기"
      ],
      "metadata": {
        "id": "1TC8rhROMezT"
      }
    },
    {
      "cell_type": "code",
      "source": [
        "a = np.arange(24)\n",
        "x, y, z = np.split(a, 3)"
      ],
      "metadata": {
        "id": "dksbvNmLLq5r"
      },
      "execution_count": null,
      "outputs": []
    },
    {
      "cell_type": "code",
      "source": [
        "print(x)\n",
        "print(y)\n",
        "print(z)"
      ],
      "metadata": {
        "colab": {
          "base_uri": "https://localhost:8080/"
        },
        "id": "uE3XChRyMrU7",
        "outputId": "96d3c65e-bc77-449c-e798-85135ce3648e"
      },
      "execution_count": null,
      "outputs": [
        {
          "output_type": "stream",
          "name": "stdout",
          "text": [
            "[0 1 2 3 4 5 6 7]\n",
            "[ 8  9 10 11 12 13 14 15]\n",
            "[16 17 18 19 20 21 22 23]\n"
          ]
        }
      ]
    },
    {
      "cell_type": "markdown",
      "source": [
        "#### hstack & vstack"
      ],
      "metadata": {
        "id": "OchgBSnPMv90"
      }
    },
    {
      "cell_type": "code",
      "source": [
        "# hstack은 horizental(가로)로 합쳐준다.\n",
        "# 1차원끼리 합치면 1차원으로 합쳐진다.\n",
        "np.hstack((x, y))"
      ],
      "metadata": {
        "colab": {
          "base_uri": "https://localhost:8080/"
        },
        "id": "hEnAiwEgMtfD",
        "outputId": "42e4eae7-abe2-4b1b-f0c0-459f10e12e5b"
      },
      "execution_count": null,
      "outputs": [
        {
          "output_type": "execute_result",
          "data": {
            "text/plain": [
              "array([ 0,  1,  2,  3,  4,  5,  6,  7,  8,  9, 10, 11, 12, 13, 14, 15])"
            ]
          },
          "metadata": {},
          "execution_count": 232
        }
      ]
    },
    {
      "cell_type": "code",
      "source": [
        "# vstack은 vertical(세로)로 합쳐준다.\n",
        "# 1차원끼리 합치면 2차원으로 합쳐진다.\n",
        "np.vstack((x, y))"
      ],
      "metadata": {
        "colab": {
          "base_uri": "https://localhost:8080/"
        },
        "id": "p7WWPgZOM_vr",
        "outputId": "64131949-9e96-4f9f-aab9-f5d45cc2b092"
      },
      "execution_count": null,
      "outputs": [
        {
          "output_type": "execute_result",
          "data": {
            "text/plain": [
              "array([[ 0,  1,  2,  3,  4,  5,  6,  7],\n",
              "       [ 8,  9, 10, 11, 12, 13, 14, 15]])"
            ]
          },
          "metadata": {},
          "execution_count": 235
        }
      ]
    },
    {
      "cell_type": "markdown",
      "source": [
        "#### dstack\n",
        "dstack는 합쳐서 3차원으로 만들어준다.  \n",
        "합칠 array들이 1차원, 2차원일 경우는 차원을 늘리 후 합친다.  \n",
        "합쳐지는 차원은 axis=2 이다."
      ],
      "metadata": {
        "id": "xFSf5tzBQ-I3"
      }
    },
    {
      "cell_type": "code",
      "source": [
        "print(x)\n",
        "print(y)"
      ],
      "metadata": {
        "colab": {
          "base_uri": "https://localhost:8080/"
        },
        "id": "HVTpdkQ1NMI7",
        "outputId": "3deb0a82-2215-4a0b-a6da-42554691bea9"
      },
      "execution_count": null,
      "outputs": [
        {
          "output_type": "stream",
          "name": "stdout",
          "text": [
            "[0 1 2 3 4 5 6 7]\n",
            "[ 8  9 10 11 12 13 14 15]\n"
          ]
        }
      ]
    },
    {
      "cell_type": "code",
      "source": [
        "# x는 shape 1차원이므로 (1, m, 1)인 3차원으로 변환한다.\n",
        "# y는 shpae 1차원이므로 (1, m, 1)인 3차원으로 변환한다.\n",
        "# 합쳐지는 차원은 axis=2이다.\n",
        "c = np.dstack((x, y)) # (1,8,2)\n",
        "c"
      ],
      "metadata": {
        "colab": {
          "base_uri": "https://localhost:8080/"
        },
        "id": "MEUKmN29RbrC",
        "outputId": "426c32c2-bf50-481e-ced0-6c14446fcd23"
      },
      "execution_count": null,
      "outputs": [
        {
          "output_type": "execute_result",
          "data": {
            "text/plain": [
              "array([[[ 0,  8],\n",
              "        [ 1,  9],\n",
              "        [ 2, 10],\n",
              "        [ 3, 11],\n",
              "        [ 4, 12],\n",
              "        [ 5, 13],\n",
              "        [ 6, 14],\n",
              "        [ 7, 15]]])"
            ]
          },
          "metadata": {},
          "execution_count": 245
        }
      ]
    },
    {
      "cell_type": "code",
      "source": [
        "# x.shape\n",
        "c.shape"
      ],
      "metadata": {
        "colab": {
          "base_uri": "https://localhost:8080/"
        },
        "id": "SqaP7sgTRgPy",
        "outputId": "56176b9f-1f90-4717-e269-72f5fffb92db"
      },
      "execution_count": null,
      "outputs": [
        {
          "output_type": "execute_result",
          "data": {
            "text/plain": [
              "(1, 8, 2)"
            ]
          },
          "metadata": {},
          "execution_count": 248
        }
      ]
    },
    {
      "cell_type": "markdown",
      "source": [
        "#### concatenate\n",
        "concatenate는 axis방향에 그대로 합쳐준다.  \n",
        "※ stack은 axis방향에 새로운 차원을 만들어 합쳐준다."
      ],
      "metadata": {
        "id": "1lVmSvulTHSq"
      }
    },
    {
      "cell_type": "code",
      "source": [
        "a = np.arange(12).reshape(3,4)\n",
        "print(a)\n",
        "x, y = np.split(a, 2, axis=1)"
      ],
      "metadata": {
        "colab": {
          "base_uri": "https://localhost:8080/"
        },
        "id": "fCOMZHMLR--K",
        "outputId": "fcb8b93f-da35-4535-bb13-f1584b315791"
      },
      "execution_count": null,
      "outputs": [
        {
          "output_type": "stream",
          "name": "stdout",
          "text": [
            "[[ 0  1  2  3]\n",
            " [ 4  5  6  7]\n",
            " [ 8  9 10 11]]\n"
          ]
        }
      ]
    },
    {
      "cell_type": "code",
      "source": [
        "print(x)\n",
        "print(y)"
      ],
      "metadata": {
        "colab": {
          "base_uri": "https://localhost:8080/"
        },
        "id": "6UC02YhtTbaS",
        "outputId": "bf6b84cc-12e4-4c9f-a263-4d2a6b1ec0ff"
      },
      "execution_count": null,
      "outputs": [
        {
          "output_type": "stream",
          "name": "stdout",
          "text": [
            "[[0 1]\n",
            " [4 5]\n",
            " [8 9]]\n",
            "[[ 2  3]\n",
            " [ 6  7]\n",
            " [10 11]]\n"
          ]
        }
      ]
    },
    {
      "cell_type": "code",
      "source": [
        "# 원래 shape 크기 그대로 유지를 한다.\n",
        "np.concatenate((x,y))"
      ],
      "metadata": {
        "colab": {
          "base_uri": "https://localhost:8080/"
        },
        "id": "mrDcuVsiTcYy",
        "outputId": "aca82148-51f8-4750-a664-ecb2ddb4c2ab"
      },
      "execution_count": null,
      "outputs": [
        {
          "output_type": "execute_result",
          "data": {
            "text/plain": [
              "array([[ 0,  1],\n",
              "       [ 4,  5],\n",
              "       [ 8,  9],\n",
              "       [ 2,  3],\n",
              "       [ 6,  7],\n",
              "       [10, 11]])"
            ]
          },
          "metadata": {},
          "execution_count": 262
        }
      ]
    },
    {
      "cell_type": "code",
      "source": [
        "# shape 크기를 1개 증가해서 합친다.\n",
        "np.stack((x,y))"
      ],
      "metadata": {
        "colab": {
          "base_uri": "https://localhost:8080/"
        },
        "id": "R3ELt9S-T8KS",
        "outputId": "4c2420da-77d5-476c-cd55-e467adc58eef"
      },
      "execution_count": null,
      "outputs": [
        {
          "output_type": "execute_result",
          "data": {
            "text/plain": [
              "array([[[ 0,  1],\n",
              "        [ 4,  5],\n",
              "        [ 8,  9]],\n",
              "\n",
              "       [[ 2,  3],\n",
              "        [ 6,  7],\n",
              "        [10, 11]]])"
            ]
          },
          "metadata": {},
          "execution_count": 261
        }
      ]
    },
    {
      "cell_type": "markdown",
      "source": [
        "### (16) 차원 확장\n",
        "numpy는 차원을 확장하는 여러가지 방법이 있다."
      ],
      "metadata": {
        "id": "7sbu3RU3U-hE"
      }
    },
    {
      "cell_type": "markdown",
      "source": [
        "reshape"
      ],
      "metadata": {
        "id": "-ToqhNUBVD0a"
      }
    },
    {
      "cell_type": "code",
      "source": [
        "# np.arange(12) : 1차원\n",
        "# reshape(3,4) : 2차원\n",
        "a = np.arange(12).reshape(3,4)\n",
        "a"
      ],
      "metadata": {
        "colab": {
          "base_uri": "https://localhost:8080/"
        },
        "id": "zMrHassUUKxR",
        "outputId": "d276dcd6-f761-4ee1-977e-a4a128c89c67"
      },
      "execution_count": null,
      "outputs": [
        {
          "output_type": "execute_result",
          "data": {
            "text/plain": [
              "array([[ 0,  1,  2,  3],\n",
              "       [ 4,  5,  6,  7],\n",
              "       [ 8,  9, 10, 11]])"
            ]
          },
          "metadata": {},
          "execution_count": 265
        }
      ]
    },
    {
      "cell_type": "markdown",
      "source": [
        "stack"
      ],
      "metadata": {
        "id": "taMlcnqjVbxS"
      }
    },
    {
      "cell_type": "code",
      "source": [
        "# 3차원으로 확장\n",
        "# tuple에 원소가 1개 있으면 차원만 확장시켜준다.\n",
        "np.stack((a,))"
      ],
      "metadata": {
        "colab": {
          "base_uri": "https://localhost:8080/"
        },
        "id": "bsdb-nmrVH3x",
        "outputId": "c2a60783-8bda-451d-b807-5c645212a247"
      },
      "execution_count": null,
      "outputs": [
        {
          "output_type": "execute_result",
          "data": {
            "text/plain": [
              "array([[[ 0,  1,  2,  3],\n",
              "        [ 4,  5,  6,  7],\n",
              "        [ 8,  9, 10, 11]]])"
            ]
          },
          "metadata": {},
          "execution_count": 266
        }
      ]
    },
    {
      "cell_type": "markdown",
      "source": [
        "newaxis  \n",
        "- 인덱싱할 때 np.newaxis를 쓰면 차원을 늘릴 수 있다.(인덱스 자리에 넣어주면 된다.)"
      ],
      "metadata": {
        "id": "usvf0inBVzOC"
      }
    },
    {
      "cell_type": "code",
      "source": [
        "# 2차원\n",
        "a"
      ],
      "metadata": {
        "colab": {
          "base_uri": "https://localhost:8080/"
        },
        "id": "z5NOlW6ZVfwR",
        "outputId": "a659dbfa-da15-4799-dcf7-7ff5b7f8385e"
      },
      "execution_count": null,
      "outputs": [
        {
          "output_type": "execute_result",
          "data": {
            "text/plain": [
              "array([[ 0,  1,  2,  3],\n",
              "       [ 4,  5,  6,  7],\n",
              "       [ 8,  9, 10, 11]])"
            ]
          },
          "metadata": {},
          "execution_count": 267
        }
      ]
    },
    {
      "cell_type": "code",
      "source": [
        "a.shape"
      ],
      "metadata": {
        "colab": {
          "base_uri": "https://localhost:8080/"
        },
        "id": "YIYFBzwsWLCb",
        "outputId": "c44c1538-3e73-41c1-a2cc-c0ff0533e211"
      },
      "execution_count": null,
      "outputs": [
        {
          "output_type": "execute_result",
          "data": {
            "text/plain": [
              "(3, 4)"
            ]
          },
          "metadata": {},
          "execution_count": 269
        }
      ]
    },
    {
      "cell_type": "code",
      "source": [
        "# 3차원\n",
        "# a[np.newaxis] 와 같다.\n",
        "a[np.newaxis,:,:]"
      ],
      "metadata": {
        "colab": {
          "base_uri": "https://localhost:8080/"
        },
        "id": "KQZzJZRDV-uy",
        "outputId": "0b43d32a-dd61-4983-e794-ddcda2387c26"
      },
      "execution_count": null,
      "outputs": [
        {
          "output_type": "execute_result",
          "data": {
            "text/plain": [
              "array([[[ 0,  1,  2,  3],\n",
              "        [ 4,  5,  6,  7],\n",
              "        [ 8,  9, 10, 11]]])"
            ]
          },
          "metadata": {},
          "execution_count": 283
        }
      ]
    },
    {
      "cell_type": "code",
      "source": [
        "a[np.newaxis].shape"
      ],
      "metadata": {
        "colab": {
          "base_uri": "https://localhost:8080/"
        },
        "id": "gkj4flgDWBvS",
        "outputId": "4bc12d35-9ce5-4fab-c16c-348911b6fc65"
      },
      "execution_count": null,
      "outputs": [
        {
          "output_type": "execute_result",
          "data": {
            "text/plain": [
              "(1, 3, 4)"
            ]
          },
          "metadata": {},
          "execution_count": 272
        }
      ]
    },
    {
      "cell_type": "code",
      "source": [
        "# asix처럼 숫자를 대입하면 오류가 난다.\n",
        "a[np.newaxis=0]"
      ],
      "metadata": {
        "colab": {
          "base_uri": "https://localhost:8080/",
          "height": 137
        },
        "id": "5-kcvZSkWNpp",
        "outputId": "c762067c-aa3e-44ee-8097-6280b095ba7a"
      },
      "execution_count": null,
      "outputs": [
        {
          "output_type": "error",
          "ename": "SyntaxError",
          "evalue": "ignored",
          "traceback": [
            "\u001b[0;36m  File \u001b[0;32m\"<ipython-input-273-f3ff173ee931>\"\u001b[0;36m, line \u001b[0;32m1\u001b[0m\n\u001b[0;31m    a[np.newaxis=0]\u001b[0m\n\u001b[0m                ^\u001b[0m\n\u001b[0;31mSyntaxError\u001b[0m\u001b[0;31m:\u001b[0m invalid syntax\n"
          ]
        }
      ]
    },
    {
      "cell_type": "code",
      "source": [
        "a[:,np.newaxis,:]"
      ],
      "metadata": {
        "colab": {
          "base_uri": "https://localhost:8080/"
        },
        "id": "ZT53oy9AWg8S",
        "outputId": "6ce3f115-282e-4cf7-9791-64704c42cbd5"
      },
      "execution_count": null,
      "outputs": [
        {
          "output_type": "execute_result",
          "data": {
            "text/plain": [
              "array([[[ 0,  1,  2,  3]],\n",
              "\n",
              "       [[ 4,  5,  6,  7]],\n",
              "\n",
              "       [[ 8,  9, 10, 11]]])"
            ]
          },
          "metadata": {},
          "execution_count": 276
        }
      ]
    },
    {
      "cell_type": "code",
      "source": [
        "a[:,np.newaxis,:].shape"
      ],
      "metadata": {
        "colab": {
          "base_uri": "https://localhost:8080/"
        },
        "id": "XVEHpPabXCXP",
        "outputId": "61192fce-f179-406a-8fbd-f3d9b1ed0cc5"
      },
      "execution_count": null,
      "outputs": [
        {
          "output_type": "execute_result",
          "data": {
            "text/plain": [
              "(3, 1, 4)"
            ]
          },
          "metadata": {},
          "execution_count": 278
        }
      ]
    },
    {
      "cell_type": "code",
      "source": [
        "a[:,:,np.newaxis]"
      ],
      "metadata": {
        "colab": {
          "base_uri": "https://localhost:8080/"
        },
        "id": "xdcMDJoGXGHJ",
        "outputId": "03243933-6298-47a2-b8d8-b7a74af80fb0"
      },
      "execution_count": null,
      "outputs": [
        {
          "output_type": "execute_result",
          "data": {
            "text/plain": [
              "array([[[ 0],\n",
              "        [ 1],\n",
              "        [ 2],\n",
              "        [ 3]],\n",
              "\n",
              "       [[ 4],\n",
              "        [ 5],\n",
              "        [ 6],\n",
              "        [ 7]],\n",
              "\n",
              "       [[ 8],\n",
              "        [ 9],\n",
              "        [10],\n",
              "        [11]]])"
            ]
          },
          "metadata": {},
          "execution_count": 279
        }
      ]
    },
    {
      "cell_type": "code",
      "source": [
        "a[:,:,np.newaxis].shape"
      ],
      "metadata": {
        "colab": {
          "base_uri": "https://localhost:8080/"
        },
        "id": "_aNXv7BiXRmi",
        "outputId": "7e8ea8d4-bfb2-40d8-8329-0e80ca86485f"
      },
      "execution_count": null,
      "outputs": [
        {
          "output_type": "execute_result",
          "data": {
            "text/plain": [
              "(3, 4, 1)"
            ]
          },
          "metadata": {},
          "execution_count": 280
        }
      ]
    },
    {
      "cell_type": "markdown",
      "source": [],
      "metadata": {
        "id": "ef04RXGRXrfS"
      }
    },
    {
      "cell_type": "code",
      "source": [
        "np.newaxis is None"
      ],
      "metadata": {
        "colab": {
          "base_uri": "https://localhost:8080/"
        },
        "id": "68bPQWmXXVam",
        "outputId": "45a13864-06fb-4569-9a01-cb35655f51a5"
      },
      "execution_count": null,
      "outputs": [
        {
          "output_type": "execute_result",
          "data": {
            "text/plain": [
              "True"
            ]
          },
          "metadata": {},
          "execution_count": 281
        }
      ]
    },
    {
      "cell_type": "markdown",
      "source": [
        "np.newaxis 대신에 None을 써도 된다.  \n",
        "None은 직관적이지 않고 헷갈려서 np.newaxis를 만들었다.  \n",
        "numpy를 만들 때 python의 모든 연산자를 다 사용해서 남는 연산자가 없었다. 그래서 None를 이용했다."
      ],
      "metadata": {
        "id": "1U7lYuZ0XyUi"
      }
    },
    {
      "cell_type": "code",
      "source": [
        "a[:,None,:]"
      ],
      "metadata": {
        "colab": {
          "base_uri": "https://localhost:8080/"
        },
        "id": "7_eG-8niXo35",
        "outputId": "b78d95b2-5bcf-4cc3-d15c-49b29df0e4b1"
      },
      "execution_count": null,
      "outputs": [
        {
          "output_type": "execute_result",
          "data": {
            "text/plain": [
              "array([[[ 0,  1,  2,  3]],\n",
              "\n",
              "       [[ 4,  5,  6,  7]],\n",
              "\n",
              "       [[ 8,  9, 10, 11]]])"
            ]
          },
          "metadata": {},
          "execution_count": 282
        }
      ]
    },
    {
      "cell_type": "code",
      "source": [
        "a = np.arange(12).reshape(3,4)\n",
        "a"
      ],
      "metadata": {
        "colab": {
          "base_uri": "https://localhost:8080/"
        },
        "id": "N5MpV7rmXwn5",
        "outputId": "876779eb-86a0-4676-f454-8439fc0c9727"
      },
      "execution_count": null,
      "outputs": [
        {
          "output_type": "execute_result",
          "data": {
            "text/plain": [
              "array([[ 0,  1,  2,  3],\n",
              "       [ 4,  5,  6,  7],\n",
              "       [ 8,  9, 10, 11]])"
            ]
          },
          "metadata": {},
          "execution_count": 284
        }
      ]
    },
    {
      "cell_type": "code",
      "source": [
        "np.expand_dims(a, 0) # a[np.newaxis, :, :]와 같다."
      ],
      "metadata": {
        "colab": {
          "base_uri": "https://localhost:8080/"
        },
        "id": "RCdEc48PYRV6",
        "outputId": "6cb6d2e9-0154-4572-e446-bac5e236b113"
      },
      "execution_count": null,
      "outputs": [
        {
          "output_type": "execute_result",
          "data": {
            "text/plain": [
              "array([[[ 0,  1,  2,  3],\n",
              "        [ 4,  5,  6,  7],\n",
              "        [ 8,  9, 10, 11]]])"
            ]
          },
          "metadata": {},
          "execution_count": 288
        }
      ]
    },
    {
      "cell_type": "code",
      "source": [
        "a[np.newaxis, :, :]  #a[np.newaxis]와 같다."
      ],
      "metadata": {
        "colab": {
          "base_uri": "https://localhost:8080/"
        },
        "id": "qcrVrDvZYi7p",
        "outputId": "ac692740-cc7d-4121-8a1b-f16bfc4f6b17"
      },
      "execution_count": null,
      "outputs": [
        {
          "output_type": "execute_result",
          "data": {
            "text/plain": [
              "array([[[ 0,  1,  2,  3],\n",
              "        [ 4,  5,  6,  7],\n",
              "        [ 8,  9, 10, 11]]])"
            ]
          },
          "metadata": {},
          "execution_count": 292
        }
      ]
    },
    {
      "cell_type": "code",
      "source": [
        "np.expand_dims(a, 1) # a[:, np.newaxis, :]"
      ],
      "metadata": {
        "colab": {
          "base_uri": "https://localhost:8080/"
        },
        "id": "87gjkTj6Yo_B",
        "outputId": "37ade221-e2f2-4e02-e3e8-c0606dc96d0a"
      },
      "execution_count": null,
      "outputs": [
        {
          "output_type": "execute_result",
          "data": {
            "text/plain": [
              "array([[[ 0,  1,  2,  3]],\n",
              "\n",
              "       [[ 4,  5,  6,  7]],\n",
              "\n",
              "       [[ 8,  9, 10, 11]]])"
            ]
          },
          "metadata": {},
          "execution_count": 294
        }
      ]
    },
    {
      "cell_type": "code",
      "source": [
        "np.expand_dims(a, 2) #a[:, :, np.newaxis]"
      ],
      "metadata": {
        "colab": {
          "base_uri": "https://localhost:8080/"
        },
        "id": "UI_kK1rvZD3J",
        "outputId": "ca54548e-7b7b-45c3-de0a-6ac4aa4ad6ff"
      },
      "execution_count": null,
      "outputs": [
        {
          "output_type": "execute_result",
          "data": {
            "text/plain": [
              "array([[[ 0],\n",
              "        [ 1],\n",
              "        [ 2],\n",
              "        [ 3]],\n",
              "\n",
              "       [[ 4],\n",
              "        [ 5],\n",
              "        [ 6],\n",
              "        [ 7]],\n",
              "\n",
              "       [[ 8],\n",
              "        [ 9],\n",
              "        [10],\n",
              "        [11]]])"
            ]
          },
          "metadata": {},
          "execution_count": 295
        }
      ]
    },
    {
      "cell_type": "markdown",
      "source": [
        "### (17) array 한줄로 펴기"
      ],
      "metadata": {
        "id": "weclHlIWZeqy"
      }
    },
    {
      "cell_type": "markdown",
      "source": [
        "flatten"
      ],
      "metadata": {
        "id": "JmJS8olbZuV6"
      }
    },
    {
      "cell_type": "code",
      "source": [
        "a = np.arange(12).reshape(3,4)\n",
        "a"
      ],
      "metadata": {
        "colab": {
          "base_uri": "https://localhost:8080/"
        },
        "id": "CkuKrWnpZSkR",
        "outputId": "2466cdcc-6e7f-472e-e4e4-5ec238f27645"
      },
      "execution_count": null,
      "outputs": [
        {
          "output_type": "execute_result",
          "data": {
            "text/plain": [
              "array([[ 0,  1,  2,  3],\n",
              "       [ 4,  5,  6,  7],\n",
              "       [ 8,  9, 10, 11]])"
            ]
          },
          "metadata": {},
          "execution_count": 302
        }
      ]
    },
    {
      "cell_type": "code",
      "source": [
        "# flatten()은 결과를 return하고 메모리의 값은 변경되지않는다. \n",
        "# 1차원으로 만들어준다.\n",
        "b = a.flatten()\n",
        "b"
      ],
      "metadata": {
        "colab": {
          "base_uri": "https://localhost:8080/"
        },
        "id": "_9vJ78tlZ0hB",
        "outputId": "11963992-fb67-46f9-ca2b-b5abe6a942c0"
      },
      "execution_count": null,
      "outputs": [
        {
          "output_type": "execute_result",
          "data": {
            "text/plain": [
              "array([ 0,  1,  2,  3,  4,  5,  6,  7,  8,  9, 10, 11])"
            ]
          },
          "metadata": {},
          "execution_count": 303
        }
      ]
    },
    {
      "cell_type": "markdown",
      "source": [
        "### (18) 서로 차원 교환"
      ],
      "metadata": {
        "id": "tWxlQHrUaihx"
      }
    },
    {
      "cell_type": "markdown",
      "source": [
        "axes = axis의 복수  \n",
        "swapaxes"
      ],
      "metadata": {
        "id": "4jhNd993axu4"
      }
    },
    {
      "cell_type": "code",
      "source": [
        "a = np.array([[1],[2]]) # 2차원 2행 1열"
      ],
      "metadata": {
        "id": "NhJtpw7ZZ47Z"
      },
      "execution_count": null,
      "outputs": []
    },
    {
      "cell_type": "code",
      "source": [
        "a"
      ],
      "metadata": {
        "colab": {
          "base_uri": "https://localhost:8080/"
        },
        "id": "fNReBwvOeFbc",
        "outputId": "b416bfa7-b95d-4321-e4f9-1d3a518c8e95"
      },
      "execution_count": null,
      "outputs": [
        {
          "output_type": "execute_result",
          "data": {
            "text/plain": [
              "array([[1],\n",
              "       [2]])"
            ]
          },
          "metadata": {},
          "execution_count": 306
        }
      ]
    },
    {
      "cell_type": "code",
      "source": [
        "a.shape"
      ],
      "metadata": {
        "colab": {
          "base_uri": "https://localhost:8080/"
        },
        "id": "u3-A_ZDDeFws",
        "outputId": "982c027c-118e-4154-97f9-5e0f2941d9a9"
      },
      "execution_count": null,
      "outputs": [
        {
          "output_type": "execute_result",
          "data": {
            "text/plain": [
              "(2, 1)"
            ]
          },
          "metadata": {},
          "execution_count": 307
        }
      ]
    },
    {
      "cell_type": "code",
      "source": [
        "# a의 0번 차원과 1번 차원을 서로 바꾼다.\n",
        "b = np.swapaxes(a,1,0)"
      ],
      "metadata": {
        "id": "kDU5hqBPeH6g"
      },
      "execution_count": null,
      "outputs": []
    },
    {
      "cell_type": "code",
      "source": [
        "b"
      ],
      "metadata": {
        "colab": {
          "base_uri": "https://localhost:8080/"
        },
        "id": "S4oquz1IeK1Z",
        "outputId": "ca9de7c1-beb0-4b76-bf4f-f306e127d043"
      },
      "execution_count": null,
      "outputs": [
        {
          "output_type": "execute_result",
          "data": {
            "text/plain": [
              "array([[1, 2]])"
            ]
          },
          "metadata": {},
          "execution_count": 311
        }
      ]
    },
    {
      "cell_type": "code",
      "source": [
        "a.T"
      ],
      "metadata": {
        "colab": {
          "base_uri": "https://localhost:8080/"
        },
        "id": "kP5_I_D9eLYJ",
        "outputId": "cd5a5c0e-91ed-4da4-d319-aea83c713cdd"
      },
      "execution_count": null,
      "outputs": [
        {
          "output_type": "execute_result",
          "data": {
            "text/plain": [
              "array([[1, 2]])"
            ]
          },
          "metadata": {},
          "execution_count": 312
        }
      ]
    }
  ]
}