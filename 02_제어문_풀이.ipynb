{
  "cells": [
    {
      "cell_type": "markdown",
      "metadata": {
        "id": "view-in-github",
        "colab_type": "text"
      },
      "source": [
        "<a href=\"https://colab.research.google.com/github/viperact/pythondemo/blob/main/02_%EC%A0%9C%EC%96%B4%EB%AC%B8_%ED%92%80%EC%9D%B4.ipynb\" target=\"_parent\"><img src=\"https://colab.research.google.com/assets/colab-badge.svg\" alt=\"Open In Colab\"/></a>"
      ]
    },
    {
      "cell_type": "markdown",
      "id": "a614d117",
      "metadata": {
        "id": "a614d117"
      },
      "source": [
        " [문제1]  \n",
        " if~else문을 이용해서 년도에 해당하는 띠를 구하는 프로그램을 구현하시오.  \n",
        " 단, 년도은 input()으로 입력받음. \n",
        " \n",
        "   1. 12가지 띠  \n",
        "      원숭이, 닭, 개, 돼지, 쥐, 소, 호랑이, 토끼, 용, 뱀, 말, 양  \n",
        "   \n",
        "   2. 띠구하는 공식  \n",
        "     year%12의 결과가  \n",
        "     0이면 \"원숭이\", 1이면 \"닭\"  2이면 \"개\",    3이면 \"돼지\",  \n",
        "     4이면 \"쥐\",    5이면 \"소\", 6이면 \"호랑이\", 7이면 \"토끼\",  \n",
        "     8이면 \"용\",    9이면 \"뱀\", 10이면 \"말\",   11이면 \"양\"  \n",
        "     \n",
        "   3. 출력결과  \n",
        "     2012년도의 태생은  용띠입니다.  "
      ]
    },
    {
      "cell_type": "code",
      "execution_count": null,
      "id": "dbfc1ab1",
      "metadata": {
        "id": "dbfc1ab1",
        "outputId": "638601ae-9509-4990-f7bc-d525c6da2a24"
      },
      "outputs": [
        {
          "name": "stdout",
          "output_type": "stream",
          "text": [
            "년도 입력: 2012\n",
            "2012년도의 태생은 용입니다.\n"
          ]
        }
      ],
      "source": [
        "\n",
        "year=int(input('년도 입력: '))\n",
        "res = year%12;\n",
        "\n",
        "if res==0:\n",
        "    animal='원숭이'\n",
        "elif res==1:\n",
        "    animal='닭'\n",
        "elif res== 2: \n",
        "    animal='개'\n",
        "elif res==3:\n",
        "    animal='돼지'\n",
        "elif res==4: \n",
        "    animal='쥐'\n",
        "elif res==5:\n",
        "    animal='소'\n",
        "elif res== 6: \n",
        "    animal='호랑이'\n",
        "elif res==7:\n",
        "    animal='토끼'\n",
        "elif res==8: \n",
        "    animal='용'\n",
        "elif res==9:\n",
        "    animal='뱀'\n",
        "elif res==10: \n",
        "    animal='말'\n",
        "else:\n",
        "    animal='양'\n",
        "    \n",
        "print('{}년도의 태생은 {}입니다.'.format(year, animal))"
      ]
    },
    {
      "cell_type": "markdown",
      "id": "37dec069",
      "metadata": {
        "id": "37dec069"
      },
      "source": [
        "[문제2]   \n",
        "for문을 이용해서  1부터 10까지 합계 구하기 "
      ]
    },
    {
      "cell_type": "code",
      "execution_count": null,
      "id": "3dfbaa06",
      "metadata": {
        "id": "3dfbaa06",
        "outputId": "b683c4dc-a682-4992-973d-7ae7926c30f2"
      },
      "outputs": [
        {
          "name": "stdout",
          "output_type": "stream",
          "text": [
            "55\n"
          ]
        }
      ],
      "source": [
        "temp = 0\n",
        "for i in range(1, 11):  \n",
        "    temp += i  # temp = temp + i\n",
        "print(temp)    "
      ]
    },
    {
      "cell_type": "markdown",
      "id": "21cc51bf",
      "metadata": {
        "id": "21cc51bf"
      },
      "source": [
        "[문제3]  \n",
        "for문을 이용해서 1부터 10까지  홀수, 짝수 합계 구하기"
      ]
    },
    {
      "cell_type": "code",
      "execution_count": null,
      "id": "67fd1d54",
      "metadata": {
        "id": "67fd1d54",
        "outputId": "b7830a6c-c4b2-4d5e-dd31-8de5d5b8264a"
      },
      "outputs": [
        {
          "name": "stdout",
          "output_type": "stream",
          "text": [
            "홀수 합계: 25\n",
            "짝수 합계: 30\n"
          ]
        }
      ],
      "source": [
        "odd = 0  # 홀수\n",
        "even = 0 # 짝수\n",
        "for i in range(1, 11):   # i=10\n",
        "    if i%2 == 0:\n",
        "        even += i # even=30\n",
        "    else:\n",
        "        odd += i  # odd=25\n",
        "print('홀수 합계:', odd)\n",
        "print('짝수 합계:', even)"
      ]
    },
    {
      "cell_type": "markdown",
      "id": "37780725",
      "metadata": {
        "id": "37780725"
      },
      "source": [
        "[문제4]  \n",
        "A 학급에 총 10명의 학생이 있다. 이 학생들의 중간고사 점수는 다음과 같다.  \n",
        "\n",
        "[70, 60, 55, 75, 95, 90, 80, 80, 85, 100]  \n",
        "\n",
        "for문을 사용하여 A 학급의 평균 점수를 구해 보자.  "
      ]
    },
    {
      "cell_type": "code",
      "execution_count": null,
      "id": "0bc78b76",
      "metadata": {
        "id": "0bc78b76",
        "outputId": "b0665388-1fa4-466d-8992-d61f039cc817"
      },
      "outputs": [
        {
          "name": "stdout",
          "output_type": "stream",
          "text": [
            "79.0\n"
          ]
        }
      ],
      "source": [
        "A = [70, 60, 55, 75, 95, 90, 80, 80, 85, 100]\n",
        "total = 0\n",
        "\n",
        "for score in A:\n",
        "    total += score    #  total = total + score    A학급의 점수를 모두 더한다.\n",
        "\n",
        "average = total / len(A) # 평균을 구하기 위해 총 점수를 총 학생수로 나눈다.\n",
        "print(average) # 평균 79.0이 출력된다."
      ]
    },
    {
      "cell_type": "markdown",
      "id": "08799d8e",
      "metadata": {
        "id": "08799d8e"
      },
      "source": [
        "[문제5] \n",
        "중첩if를 이용하여 프로그램을 작성하시오.  \n",
        "3과목의 점수를 입력받아서 \"합격\" 또는 \"불합력\"을  출력하시오.  \n",
        "3개의 과목이 전부 40이상이어야 하고 평균이 60이어야 \"합격\" 출력  \n",
        "평균이 60이 넘지만 1개의 과목이라도 40 미만이면 \"과락으로 불합격\" 출력  \n",
        "평균이 60미만이면 \"불합격\" 출력 \n",
        "\n",
        "[실행결과1]  \n",
        "국어점수입력 : 75  \n",
        "영어점수입력 : 80  \n",
        "수학점수입력 : 100  \n",
        " 합격을 축하합니다.  \n",
        "\n",
        "\n",
        "[실행결과2]\n",
        "국어점수입력 : 95  \n",
        "영어점수입력 : 80  \n",
        "수학점수입력 : 38  \n",
        "과락으로 불합격입니다.  \n",
        "  \n",
        "[실행결과3]  \n",
        "국어점수입력 : 32  \n",
        "영어점수입력 : 40  \n",
        "수학점수입력 : 22  \n",
        "불합격입니다.  "
      ]
    },
    {
      "cell_type": "code",
      "execution_count": null,
      "id": "743b368a",
      "metadata": {
        "id": "743b368a",
        "outputId": "5357e28d-faa8-4744-e4f4-0c85e8b9b208"
      },
      "outputs": [
        {
          "name": "stdout",
          "output_type": "stream",
          "text": [
            "국어점수입력 :78\n",
            "영어점수입력 : 40\n",
            "수학점수입력 : 58\n",
            "불합격입니다.\n"
          ]
        }
      ],
      "source": [
        "kor = int(input(\"국어점수입력 :\"))\n",
        "eng = int(input(\"영어점수입력 : \"))\n",
        "mat = int(input(\"수학점수입력 : \"))\n",
        "\n",
        "tot = kor + eng + mat;\n",
        "avg = tot / 3.0;\n",
        "\n",
        "#여기에 구현하시오.\n",
        "\n",
        "if (avg >= 60.0):\n",
        "      \n",
        "    if (not(kor >= 40 and eng >= 40 and mat >= 40)):\n",
        "        print(\"과락으로 불합격입니다.\")\n",
        "    else:\n",
        "        print(\"합격을 축하합니다.\")\n",
        "\n",
        "else:\n",
        "    print(\"불합격입니다.\")\n"
      ]
    },
    {
      "cell_type": "code",
      "execution_count": null,
      "id": "5d32a1ac",
      "metadata": {
        "id": "5d32a1ac"
      },
      "outputs": [],
      "source": []
    }
  ],
  "metadata": {
    "kernelspec": {
      "display_name": "Python 3",
      "language": "python",
      "name": "python3"
    },
    "language_info": {
      "codemirror_mode": {
        "name": "ipython",
        "version": 3
      },
      "file_extension": ".py",
      "mimetype": "text/x-python",
      "name": "python",
      "nbconvert_exporter": "python",
      "pygments_lexer": "ipython3",
      "version": "3.8.8"
    },
    "colab": {
      "provenance": [],
      "include_colab_link": true
    }
  },
  "nbformat": 4,
  "nbformat_minor": 5
}