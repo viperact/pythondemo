{
  "nbformat": 4,
  "nbformat_minor": 0,
  "metadata": {
    "colab": {
      "provenance": [],
      "authorship_tag": "ABX9TyO8PreHXiMS/r/oec9qfrO2",
      "include_colab_link": true
    },
    "kernelspec": {
      "name": "python3",
      "display_name": "Python 3"
    },
    "language_info": {
      "name": "python"
    }
  },
  "cells": [
    {
      "cell_type": "markdown",
      "metadata": {
        "id": "view-in-github",
        "colab_type": "text"
      },
      "source": [
        "<a href=\"https://colab.research.google.com/github/viperact/pythondemo/blob/main/python_14_%EC%B6%9C%EC%9E%85%EA%B5%AD_%EA%B4%80%EA%B4%91.ipynb\" target=\"_parent\"><img src=\"https://colab.research.google.com/assets/colab-badge.svg\" alt=\"Open In Colab\"/></a>"
      ]
    },
    {
      "cell_type": "code",
      "execution_count": 1,
      "metadata": {
        "colab": {
          "base_uri": "https://localhost:8080/"
        },
        "id": "B258cwK5YRIS",
        "outputId": "bc856662-0bdb-45d3-a7ff-52b55e1d43c6"
      },
      "outputs": [
        {
          "output_type": "stream",
          "name": "stdout",
          "text": [
            "Mounted at /content/drive\n",
            "/content/drive/MyDrive/python_demo\n"
          ]
        }
      ],
      "source": [
        "# 구글 드라이브 연동\n",
        "from google.colab import drive\n",
        "drive.mount('/content/drive')\n",
        "\n",
        "%cd /content/drive/MyDrive/python_demo"
      ]
    },
    {
      "cell_type": "code",
      "source": [
        "!pip install xmltodict"
      ],
      "metadata": {
        "colab": {
          "base_uri": "https://localhost:8080/"
        },
        "id": "RtuXH8kb2dTf",
        "outputId": "5e30a62b-4811-40d9-ca7d-018be5fedd2b"
      },
      "execution_count": 18,
      "outputs": [
        {
          "output_type": "stream",
          "name": "stdout",
          "text": [
            "Looking in indexes: https://pypi.org/simple, https://us-python.pkg.dev/colab-wheels/public/simple/\n",
            "Collecting xmltodict\n",
            "  Downloading xmltodict-0.13.0-py2.py3-none-any.whl (10.0 kB)\n",
            "Installing collected packages: xmltodict\n",
            "Successfully installed xmltodict-0.13.0\n"
          ]
        }
      ]
    },
    {
      "cell_type": "code",
      "source": [
        "import requests\n",
        "import json\n",
        "import xmltodict\n",
        "\n",
        "key = 'JSoVsJiIXRi3QFE2TDv7OKlS/284q+Ng2jmATaSY80AJuzZQFDUNUWE+M4UzOP/y5J6m/SQdPqsTEsyVQ8x9gA=='\n",
        "\n",
        "def getTourismStatesItem(yyyymm, national_code, ed_cd):\n",
        "  url = 'http://openapi.tour.go.kr/openapi/service/EdrcntTourismStatsService/getEdrcntTourismStatsList'\n",
        "  params ={'serviceKey' : key, 'YM' : yyyymm, 'NAT_CD' : national_code, 'ED_CD' : ed_cd }\n",
        "\n",
        "  response = requests.get(url, params=params)\n",
        "  # print(response.content)\n",
        "  # print(response.text)\n",
        "  return response.text\n",
        "\n",
        "jsonResult = []\n",
        "result = []\n",
        "natName = ''\n",
        "print('<<국내 입국한 외국인의 통계를 수집합니다.>>')\n",
        "nat_cd = input('국가 코드를 입력하세요(중국 : 112 / 일본 : 130 / 미국 : 275) :')\n",
        "nStartYear = int(input('데이터를 몇 년부터 수집할까요?:'))\n",
        "nEndYear = int(input('데이터를 몇 년까지 수집할까요?:'))\n",
        "ed_cd = 'E' # E : 방한외래관광객. D : 해외 출국\n",
        "\n",
        "dataEND = '{0}{1:0>2}'.format(str(nEndYear), str(12)) # nEndYear값은 {0}에, 12는 {1 : 0 > 2}에 입력\n",
        "print(dataEND)\n",
        "isDataEnd = 0 # 데이터 끝 확인용 flag 초기화\n",
        "\n",
        "for year in range(nStartYear, nEndYear+1): # nEndYear을 포함시키기 위해 +1\n",
        "  for month in range(1, 13): # 1월부터 12월까지\n",
        "     if isDataEnd == 1: break; # 데이터 끝 flag 설정되어 있으면 작업 중지\n",
        "     yyyymm = '{0}{1:0>2}'.format(str(year), str(month)) # 0>2 2자리를 기준으로 오른쪽 정렬(>) / (<):왼쪽정렬, (^): 가운데정렬\n",
        "\n",
        "     jsonData = getTourismStatesItem(yyyymm, nat_cd, ed_cd)\n",
        "     jsonData = xmltodict.parse(jsonData)\n",
        "    #  print(jsonData)\n",
        "\n",
        "     if jsonData['response']['header']['resultMsg'] == 'OK':\n",
        "       if jsonData['response']['body']['items'] == '':\n",
        "         isDataEnd = 1 # 데이터 끝 falg 설정\n",
        "         dataEND = '{0}{1:0>2}'.format(str(year), str(month-1))\n",
        "         print('데이터 없음...\\n 제공되는 통계 데이터는 %s년 %s월까지 입니다.' % str(year), str(month-1))\n",
        "         break\n",
        "\n",
        "       #jsonData를 출력하여 확인\n",
        "       natName = jsonData['response']['body']['items']['item']['natKorNm']\n",
        "       natName = natName.replace(' ', '')\n",
        "       num = jsonData['response']['body']['items']['item']['num']\n",
        "       ed = jsonData['response']['body']['items']['item']['ed']\n",
        "       ym = jsonData['response']['body']['items']['item']['ym']\n",
        "       print('[%s_%s_%s : %s]' % (ym, natName, num, ed))\n",
        "\n",
        "\n"
      ],
      "metadata": {
        "colab": {
          "base_uri": "https://localhost:8080/"
        },
        "id": "soT8fOhuY_NK",
        "outputId": "4de878e9-442b-4490-c119-a238b8a9a68f"
      },
      "execution_count": 30,
      "outputs": [
        {
          "output_type": "stream",
          "name": "stdout",
          "text": [
            "<<국내 입국한 외국인의 통계를 수집합니다.>>\n",
            "국가 코드를 입력하세요(중국 : 112 / 일본 : 130 / 미국 : 275) :112\n",
            "데이터를 몇 년부터 수집할까요?:2012\n",
            "데이터를 몇 년까지 수집할까요?:2012\n",
            "201212\n",
            "[201201_중국_167022 : 방한외래관광객]\n",
            "[201202_중국_173790 : 방한외래관광객]\n",
            "[201203_중국_183691 : 방한외래관광객]\n",
            "[201204_중국_222114 : 방한외래관광객]\n",
            "[201205_중국_210439 : 방한외래관광객]\n",
            "[201206_중국_234482 : 방한외래관광객]\n",
            "[201207_중국_322917 : 방한외래관광객]\n",
            "[201208_중국_359065 : 방한외래관광객]\n",
            "[201209_중국_283402 : 방한외래관광객]\n",
            "[201210_중국_279440 : 방한외래관광객]\n",
            "[201211_중국_204533 : 방한외래관광객]\n",
            "[201212_중국_195997 : 방한외래관광객]\n"
          ]
        }
      ]
    },
    {
      "cell_type": "code",
      "source": [],
      "metadata": {
        "id": "7WssoRa13x_V"
      },
      "execution_count": null,
      "outputs": []
    },
    {
      "cell_type": "code",
      "source": [],
      "metadata": {
        "id": "PHIiY5xKZEeO"
      },
      "execution_count": null,
      "outputs": []
    }
  ]
}