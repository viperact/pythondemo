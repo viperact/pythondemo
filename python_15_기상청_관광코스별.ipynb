{
  "nbformat": 4,
  "nbformat_minor": 0,
  "metadata": {
    "colab": {
      "provenance": [],
      "authorship_tag": "ABX9TyPaRKMqZ1byrOlfRoXWuWEV",
      "include_colab_link": true
    },
    "kernelspec": {
      "name": "python3",
      "display_name": "Python 3"
    },
    "language_info": {
      "name": "python"
    }
  },
  "cells": [
    {
      "cell_type": "markdown",
      "metadata": {
        "id": "view-in-github",
        "colab_type": "text"
      },
      "source": [
        "<a href=\"https://colab.research.google.com/github/viperact/pythondemo/blob/main/python_15_%EA%B8%B0%EC%83%81%EC%B2%AD_%EA%B4%80%EA%B4%91%EC%BD%94%EC%8A%A4%EB%B3%84.ipynb\" target=\"_parent\"><img src=\"https://colab.research.google.com/assets/colab-badge.svg\" alt=\"Open In Colab\"/></a>"
      ]
    },
    {
      "cell_type": "code",
      "execution_count": 1,
      "metadata": {
        "colab": {
          "base_uri": "https://localhost:8080/"
        },
        "id": "jSbln4y7aroZ",
        "outputId": "440110fb-171a-482b-d258-d70eee7eac81"
      },
      "outputs": [
        {
          "output_type": "stream",
          "name": "stdout",
          "text": [
            "Mounted at /content/drive\n",
            "/content/drive/MyDrive/python_demo\n"
          ]
        }
      ],
      "source": [
        "### 구글 드라이브 연동\n",
        "from google.colab import drive\n",
        "drive.mount('/content/drive')\n",
        "\n",
        "%cd /content/drive/MyDrive/python_demo"
      ]
    },
    {
      "cell_type": "code",
      "source": [
        "!pip install xmltodict"
      ],
      "metadata": {
        "colab": {
          "base_uri": "https://localhost:8080/"
        },
        "id": "j985_ZNZcDTr",
        "outputId": "ae256f6f-df79-46a7-8e21-e8b922a75e4a"
      },
      "execution_count": 8,
      "outputs": [
        {
          "output_type": "stream",
          "name": "stdout",
          "text": [
            "Looking in indexes: https://pypi.org/simple, https://us-python.pkg.dev/colab-wheels/public/simple/\n",
            "Collecting xmltodict\n",
            "  Downloading xmltodict-0.13.0-py2.py3-none-any.whl (10.0 kB)\n",
            "Installing collected packages: xmltodict\n",
            "Successfully installed xmltodict-0.13.0\n"
          ]
        }
      ]
    },
    {
      "cell_type": "code",
      "source": [
        "import requests\n",
        "import xmltodict\n",
        "import json\n",
        "\n",
        "\n",
        "url = 'http://apis.data.go.kr/1360000/TourStnInfoService/getTourStnVilageFcst'\n",
        "key = 'JSoVsJiIXRi3QFE2TDv7OKlS/284q+Ng2jmATaSY80AJuzZQFDUNUWE+M4UzOP/y5J6m/SQdPqsTEsyVQ8x9gA=='\n",
        "\n",
        "params ={'serviceKey' : key, 'pageNo' : '1', 'numOfRows' : '10', 'dataType' : 'XML', 'CURRENT_DATE' : '2019122010', 'HOUR' : '24', 'COURSE_ID' : '1' }\n",
        "\n",
        "response = requests.get(url, params=params)\n",
        "# print(response.content)\n",
        "print(response.text)\n",
        "\n",
        "print(dir(response))"
      ],
      "metadata": {
        "colab": {
          "base_uri": "https://localhost:8080/"
        },
        "id": "3qI5hfcwa3ZR",
        "outputId": "3df236f0-f221-4e59-a490-17fda748a7d0"
      },
      "execution_count": 9,
      "outputs": [
        {
          "output_type": "stream",
          "name": "stdout",
          "text": [
            "<?xml version=\"1.0\" encoding=\"UTF-8\"?>\r\n",
            "<response><header><resultCode>00</resultCode><resultMsg>NORMAL_SERVICE</resultMsg></header><body><dataType>XML</dataType><items><item><tm>2019-12-22 09:00</tm><thema>문화/예술</thema><courseId>1</courseId><courseAreaId>4700000000</courseAreaId><courseAreaName>경상북도</courseAreaName><courseName>남호고택에서의 하룻밤</courseName><spotAreaId>102</spotAreaId><spotAreaName>봉화</spotAreaName><spotName>(봉화)춘양목 송이마을</spotName><th3>-2</th3><wd>297</wd><ws>0</ws><sky>3</sky><rhm>90</rhm><pop>20</pop></item><item><tm>2019-12-22 09:00</tm><thema>종교/역사/전통</thema><courseId>1</courseId><courseAreaId>4700000000</courseAreaId><courseAreaName>경상북도</courseAreaName><courseName>남호고택에서의 하룻밤</courseName><spotAreaId>104</spotAreaId><spotAreaName>봉화</spotAreaName><spotName>(봉화)계서당(성이성 생가)</spotName><th3>0</th3><wd>310</wd><ws>0</ws><sky>3</sky><rhm>85</rhm><pop>20</pop></item><item><tm>2019-12-22 09:00</tm><thema>자연/힐링</thema><courseId>1</courseId><courseAreaId>4700000000</courseAreaId><courseAreaName>경상북도</courseAreaName><courseName>남호고택에서의 하룻밤</courseName><spotAreaId>104</spotAreaId><spotAreaName>봉화</spotAreaName><spotName>(봉화)계서당(성이성 생가)</spotName><th3>0</th3><wd>310</wd><ws>0</ws><sky>3</sky><rhm>85</rhm><pop>20</pop></item><item><tm>2019-12-22 09:00</tm><thema>체험/학습/산업</thema><courseId>1</courseId><courseAreaId>4700000000</courseAreaId><courseAreaName>경상북도</courseAreaName><courseName>남호고택에서의 하룻밤</courseName><spotAreaId>104</spotAreaId><spotAreaName>봉화</spotAreaName><spotName>(봉화)계서당(성이성 생가)</spotName><th3>0</th3><wd>310</wd><ws>0</ws><sky>3</sky><rhm>85</rhm><pop>20</pop></item><item><tm>2019-12-22 09:00</tm><thema>문화/예술</thema><courseId>1</courseId><courseAreaId>4700000000</courseAreaId><courseAreaName>경상북도</courseAreaName><courseName>남호고택에서의 하룻밤</courseName><spotAreaId>103</spotAreaId><spotAreaName>봉화</spotAreaName><spotName>(봉화)지림사</spotName><th3>0</th3><wd>309</wd><ws>0</ws><sky>3</sky><rhm>85</rhm><pop>20</pop></item><item><tm>2019-12-22 09:00</tm><thema>종교/역사/전통</thema><courseId>1</courseId><courseAreaId>4700000000</courseAreaId><courseAreaName>경상북도</courseAreaName><courseName>남호고택에서의 하룻밤</courseName><spotAreaId>103</spotAreaId><spotAreaName>봉화</spotAreaName><spotName>(봉화)지림사</spotName><th3>0</th3><wd>309</wd><ws>0</ws><sky>3</sky><rhm>85</rhm><pop>20</pop></item><item><tm>2019-12-22 09:00</tm><thema>자연/힐링</thema><courseId>1</courseId><courseAreaId>4700000000</courseAreaId><courseAreaName>경상북도</courseAreaName><courseName>남호고택에서의 하룻밤</courseName><spotAreaId>103</spotAreaId><spotAreaName>봉화</spotAreaName><spotName>(봉화)지림사</spotName><th3>0</th3><wd>309</wd><ws>0</ws><sky>3</sky><rhm>85</rhm><pop>20</pop></item><item><tm>2019-12-22 09:00</tm><thema>체험/학습/산업</thema><courseId>1</courseId><courseAreaId>4700000000</courseAreaId><courseAreaName>경상북도</courseAreaName><courseName>남호고택에서의 하룻밤</courseName><spotAreaId>103</spotAreaId><spotAreaName>봉화</spotAreaName><spotName>(봉화)지림사</spotName><th3>0</th3><wd>309</wd><ws>0</ws><sky>3</sky><rhm>85</rhm><pop>20</pop></item><item><tm>2019-12-22 09:00</tm><thema>문화/예술</thema><courseId>1</courseId><courseAreaId>4700000000</courseAreaId><courseAreaName>경상북도</courseAreaName><courseName>남호고택에서의 하룻밤</courseName><spotAreaId>104</spotAreaId><spotAreaName>봉화</spotAreaName><spotName>(봉화)계서당(성이성 생가)</spotName><th3>0</th3><wd>310</wd><ws>0</ws><sky>3</sky><rhm>85</rhm><pop>20</pop></item><item><tm>2019-12-22 09:00</tm><thema>종교/역사/전통</thema><courseId>1</courseId><courseAreaId>4700000000</courseAreaId><courseAreaName>경상북도</courseAreaName><courseName>남호고택에서의 하룻밤</courseName><spotAreaId>102</spotAreaId><spotAreaName>봉화</spotAreaName><spotName>(봉화)춘양목 송이마을</spotName><th3>-2</th3><wd>297</wd><ws>0</ws><sky>3</sky><rhm>90</rhm><pop>20</pop></item></items><numOfRows>10</numOfRows><pageNo>1</pageNo><totalCount>256</totalCount></body></response>\r\n",
            "\n",
            "['__attrs__', '__bool__', '__class__', '__delattr__', '__dict__', '__dir__', '__doc__', '__enter__', '__eq__', '__exit__', '__format__', '__ge__', '__getattribute__', '__getstate__', '__gt__', '__hash__', '__init__', '__init_subclass__', '__iter__', '__le__', '__lt__', '__module__', '__ne__', '__new__', '__nonzero__', '__reduce__', '__reduce_ex__', '__repr__', '__setattr__', '__setstate__', '__sizeof__', '__str__', '__subclasshook__', '__weakref__', '_content', '_content_consumed', '_next', 'apparent_encoding', 'close', 'connection', 'content', 'cookies', 'elapsed', 'encoding', 'headers', 'history', 'is_permanent_redirect', 'is_redirect', 'iter_content', 'iter_lines', 'json', 'links', 'next', 'ok', 'raise_for_status', 'raw', 'reason', 'request', 'status_code', 'text', 'url']\n"
          ]
        }
      ]
    },
    {
      "cell_type": "code",
      "source": [
        "if response.status_code == 200:\n",
        "  xd = xmltodict.parse(response.text)\n",
        "  print(type(xd)) # dict\n",
        "  print(xd)\n"
      ],
      "metadata": {
        "colab": {
          "base_uri": "https://localhost:8080/"
        },
        "id": "RwNytXghbhvb",
        "outputId": "fb014351-fdf6-40c9-abb2-a94fef0a46d3"
      },
      "execution_count": 11,
      "outputs": [
        {
          "output_type": "stream",
          "name": "stdout",
          "text": [
            "<class 'dict'>\n",
            "{'response': {'header': {'resultCode': '00', 'resultMsg': 'NORMAL_SERVICE'}, 'body': {'dataType': 'XML', 'items': {'item': [{'tm': '2019-12-22 09:00', 'thema': '문화/예술', 'courseId': '1', 'courseAreaId': '4700000000', 'courseAreaName': '경상북도', 'courseName': '남호고택에서의 하룻밤', 'spotAreaId': '102', 'spotAreaName': '봉화', 'spotName': '(봉화)춘양목 송이마을', 'th3': '-2', 'wd': '297', 'ws': '0', 'sky': '3', 'rhm': '90', 'pop': '20'}, {'tm': '2019-12-22 09:00', 'thema': '종교/역사/전통', 'courseId': '1', 'courseAreaId': '4700000000', 'courseAreaName': '경상북도', 'courseName': '남호고택에서의 하룻밤', 'spotAreaId': '104', 'spotAreaName': '봉화', 'spotName': '(봉화)계서당(성이성 생가)', 'th3': '0', 'wd': '310', 'ws': '0', 'sky': '3', 'rhm': '85', 'pop': '20'}, {'tm': '2019-12-22 09:00', 'thema': '자연/힐링', 'courseId': '1', 'courseAreaId': '4700000000', 'courseAreaName': '경상북도', 'courseName': '남호고택에서의 하룻밤', 'spotAreaId': '104', 'spotAreaName': '봉화', 'spotName': '(봉화)계서당(성이성 생가)', 'th3': '0', 'wd': '310', 'ws': '0', 'sky': '3', 'rhm': '85', 'pop': '20'}, {'tm': '2019-12-22 09:00', 'thema': '체험/학습/산업', 'courseId': '1', 'courseAreaId': '4700000000', 'courseAreaName': '경상북도', 'courseName': '남호고택에서의 하룻밤', 'spotAreaId': '104', 'spotAreaName': '봉화', 'spotName': '(봉화)계서당(성이성 생가)', 'th3': '0', 'wd': '310', 'ws': '0', 'sky': '3', 'rhm': '85', 'pop': '20'}, {'tm': '2019-12-22 09:00', 'thema': '문화/예술', 'courseId': '1', 'courseAreaId': '4700000000', 'courseAreaName': '경상북도', 'courseName': '남호고택에서의 하룻밤', 'spotAreaId': '103', 'spotAreaName': '봉화', 'spotName': '(봉화)지림사', 'th3': '0', 'wd': '309', 'ws': '0', 'sky': '3', 'rhm': '85', 'pop': '20'}, {'tm': '2019-12-22 09:00', 'thema': '종교/역사/전통', 'courseId': '1', 'courseAreaId': '4700000000', 'courseAreaName': '경상북도', 'courseName': '남호고택에서의 하룻밤', 'spotAreaId': '103', 'spotAreaName': '봉화', 'spotName': '(봉화)지림사', 'th3': '0', 'wd': '309', 'ws': '0', 'sky': '3', 'rhm': '85', 'pop': '20'}, {'tm': '2019-12-22 09:00', 'thema': '자연/힐링', 'courseId': '1', 'courseAreaId': '4700000000', 'courseAreaName': '경상북도', 'courseName': '남호고택에서의 하룻밤', 'spotAreaId': '103', 'spotAreaName': '봉화', 'spotName': '(봉화)지림사', 'th3': '0', 'wd': '309', 'ws': '0', 'sky': '3', 'rhm': '85', 'pop': '20'}, {'tm': '2019-12-22 09:00', 'thema': '체험/학습/산업', 'courseId': '1', 'courseAreaId': '4700000000', 'courseAreaName': '경상북도', 'courseName': '남호고택에서의 하룻밤', 'spotAreaId': '103', 'spotAreaName': '봉화', 'spotName': '(봉화)지림사', 'th3': '0', 'wd': '309', 'ws': '0', 'sky': '3', 'rhm': '85', 'pop': '20'}, {'tm': '2019-12-22 09:00', 'thema': '문화/예술', 'courseId': '1', 'courseAreaId': '4700000000', 'courseAreaName': '경상북도', 'courseName': '남호고택에서의 하룻밤', 'spotAreaId': '104', 'spotAreaName': '봉화', 'spotName': '(봉화)계서당(성이성 생가)', 'th3': '0', 'wd': '310', 'ws': '0', 'sky': '3', 'rhm': '85', 'pop': '20'}, {'tm': '2019-12-22 09:00', 'thema': '종교/역사/전통', 'courseId': '1', 'courseAreaId': '4700000000', 'courseAreaName': '경상북도', 'courseName': '남호고택에서의 하룻밤', 'spotAreaId': '102', 'spotAreaName': '봉화', 'spotName': '(봉화)춘양목 송이마을', 'th3': '-2', 'wd': '297', 'ws': '0', 'sky': '3', 'rhm': '90', 'pop': '20'}]}, 'numOfRows': '10', 'pageNo': '1', 'totalCount': '256'}}}\n"
          ]
        }
      ]
    },
    {
      "cell_type": "code",
      "source": [
        "# items 접근\n",
        "w_data = xd['response']['body']['items']['item']\n",
        "print(w_data)"
      ],
      "metadata": {
        "colab": {
          "base_uri": "https://localhost:8080/"
        },
        "id": "CEO7TX5vdOAh",
        "outputId": "d03b0a16-0c28-4a6b-b648-d043fa086561"
      },
      "execution_count": 15,
      "outputs": [
        {
          "output_type": "stream",
          "name": "stdout",
          "text": [
            "[{'tm': '2019-12-22 09:00', 'thema': '문화/예술', 'courseId': '1', 'courseAreaId': '4700000000', 'courseAreaName': '경상북도', 'courseName': '남호고택에서의 하룻밤', 'spotAreaId': '102', 'spotAreaName': '봉화', 'spotName': '(봉화)춘양목 송이마을', 'th3': '-2', 'wd': '297', 'ws': '0', 'sky': '3', 'rhm': '90', 'pop': '20'}, {'tm': '2019-12-22 09:00', 'thema': '종교/역사/전통', 'courseId': '1', 'courseAreaId': '4700000000', 'courseAreaName': '경상북도', 'courseName': '남호고택에서의 하룻밤', 'spotAreaId': '104', 'spotAreaName': '봉화', 'spotName': '(봉화)계서당(성이성 생가)', 'th3': '0', 'wd': '310', 'ws': '0', 'sky': '3', 'rhm': '85', 'pop': '20'}, {'tm': '2019-12-22 09:00', 'thema': '자연/힐링', 'courseId': '1', 'courseAreaId': '4700000000', 'courseAreaName': '경상북도', 'courseName': '남호고택에서의 하룻밤', 'spotAreaId': '104', 'spotAreaName': '봉화', 'spotName': '(봉화)계서당(성이성 생가)', 'th3': '0', 'wd': '310', 'ws': '0', 'sky': '3', 'rhm': '85', 'pop': '20'}, {'tm': '2019-12-22 09:00', 'thema': '체험/학습/산업', 'courseId': '1', 'courseAreaId': '4700000000', 'courseAreaName': '경상북도', 'courseName': '남호고택에서의 하룻밤', 'spotAreaId': '104', 'spotAreaName': '봉화', 'spotName': '(봉화)계서당(성이성 생가)', 'th3': '0', 'wd': '310', 'ws': '0', 'sky': '3', 'rhm': '85', 'pop': '20'}, {'tm': '2019-12-22 09:00', 'thema': '문화/예술', 'courseId': '1', 'courseAreaId': '4700000000', 'courseAreaName': '경상북도', 'courseName': '남호고택에서의 하룻밤', 'spotAreaId': '103', 'spotAreaName': '봉화', 'spotName': '(봉화)지림사', 'th3': '0', 'wd': '309', 'ws': '0', 'sky': '3', 'rhm': '85', 'pop': '20'}, {'tm': '2019-12-22 09:00', 'thema': '종교/역사/전통', 'courseId': '1', 'courseAreaId': '4700000000', 'courseAreaName': '경상북도', 'courseName': '남호고택에서의 하룻밤', 'spotAreaId': '103', 'spotAreaName': '봉화', 'spotName': '(봉화)지림사', 'th3': '0', 'wd': '309', 'ws': '0', 'sky': '3', 'rhm': '85', 'pop': '20'}, {'tm': '2019-12-22 09:00', 'thema': '자연/힐링', 'courseId': '1', 'courseAreaId': '4700000000', 'courseAreaName': '경상북도', 'courseName': '남호고택에서의 하룻밤', 'spotAreaId': '103', 'spotAreaName': '봉화', 'spotName': '(봉화)지림사', 'th3': '0', 'wd': '309', 'ws': '0', 'sky': '3', 'rhm': '85', 'pop': '20'}, {'tm': '2019-12-22 09:00', 'thema': '체험/학습/산업', 'courseId': '1', 'courseAreaId': '4700000000', 'courseAreaName': '경상북도', 'courseName': '남호고택에서의 하룻밤', 'spotAreaId': '103', 'spotAreaName': '봉화', 'spotName': '(봉화)지림사', 'th3': '0', 'wd': '309', 'ws': '0', 'sky': '3', 'rhm': '85', 'pop': '20'}, {'tm': '2019-12-22 09:00', 'thema': '문화/예술', 'courseId': '1', 'courseAreaId': '4700000000', 'courseAreaName': '경상북도', 'courseName': '남호고택에서의 하룻밤', 'spotAreaId': '104', 'spotAreaName': '봉화', 'spotName': '(봉화)계서당(성이성 생가)', 'th3': '0', 'wd': '310', 'ws': '0', 'sky': '3', 'rhm': '85', 'pop': '20'}, {'tm': '2019-12-22 09:00', 'thema': '종교/역사/전통', 'courseId': '1', 'courseAreaId': '4700000000', 'courseAreaName': '경상북도', 'courseName': '남호고택에서의 하룻밤', 'spotAreaId': '102', 'spotAreaName': '봉화', 'spotName': '(봉화)춘양목 송이마을', 'th3': '-2', 'wd': '297', 'ws': '0', 'sky': '3', 'rhm': '90', 'pop': '20'}]\n"
          ]
        }
      ]
    },
    {
      "cell_type": "code",
      "source": [
        "# 기상상태 출력\n",
        "dict_sky = {'1': '맑음', '2': '구름', '3': '흐림', '4': '비', '5': '소나기', '6': '비눈', '7': '눈비', '8': '눈'}\n",
        "\n",
        "key_sky = w_data[0]['sky']\n",
        "print('기상상태:' + dict_sky[key_sky])"
      ],
      "metadata": {
        "colab": {
          "base_uri": "https://localhost:8080/"
        },
        "id": "A1OWRn5MekpZ",
        "outputId": "833ff244-6bdd-4ca5-8ce3-8f8f5f867362"
      },
      "execution_count": 17,
      "outputs": [
        {
          "output_type": "stream",
          "name": "stdout",
          "text": [
            "기상상태:흐림\n"
          ]
        }
      ]
    },
    {
      "cell_type": "code",
      "source": [
        "# 필요한 item 출력\n",
        "for i in range(len(w_data)):\n",
        "\n",
        "  key_sky = w_data[i]['sky']\n",
        "  print('관광지명:' + w_data[i]['spotAreaName'])\n",
        "  print('시간:' + w_data[i]['tm'])\n",
        "  print('기온:' + w_data[i]['th3'])\n",
        "  print('강수확률:' + w_data[i]['pop'])\n",
        "  print('기상상태:' + dict_sky[key_sky])\n",
        "  print('---------------------------------------------')\n",
        "\n",
        "# 총 item 수 출력\n",
        "totalCount = xd['response']['body']['totalCount']\n",
        "print('totalCount:' + totalCount) # 256"
      ],
      "metadata": {
        "colab": {
          "base_uri": "https://localhost:8080/"
        },
        "id": "eZSDjepNfiTq",
        "outputId": "a9cc77f2-5bcc-4176-d657-4e02da33f2e5"
      },
      "execution_count": 23,
      "outputs": [
        {
          "output_type": "stream",
          "name": "stdout",
          "text": [
            "관광지명:봉화\n",
            "시간:2019-12-22 09:00\n",
            "기온:-2\n",
            "강수확률:20\n",
            "기상상태:흐림\n",
            "---------------------------------------------\n",
            "관광지명:봉화\n",
            "시간:2019-12-22 09:00\n",
            "기온:0\n",
            "강수확률:20\n",
            "기상상태:흐림\n",
            "---------------------------------------------\n",
            "관광지명:봉화\n",
            "시간:2019-12-22 09:00\n",
            "기온:0\n",
            "강수확률:20\n",
            "기상상태:흐림\n",
            "---------------------------------------------\n",
            "관광지명:봉화\n",
            "시간:2019-12-22 09:00\n",
            "기온:0\n",
            "강수확률:20\n",
            "기상상태:흐림\n",
            "---------------------------------------------\n",
            "관광지명:봉화\n",
            "시간:2019-12-22 09:00\n",
            "기온:0\n",
            "강수확률:20\n",
            "기상상태:흐림\n",
            "---------------------------------------------\n",
            "관광지명:봉화\n",
            "시간:2019-12-22 09:00\n",
            "기온:0\n",
            "강수확률:20\n",
            "기상상태:흐림\n",
            "---------------------------------------------\n",
            "관광지명:봉화\n",
            "시간:2019-12-22 09:00\n",
            "기온:0\n",
            "강수확률:20\n",
            "기상상태:흐림\n",
            "---------------------------------------------\n",
            "관광지명:봉화\n",
            "시간:2019-12-22 09:00\n",
            "기온:0\n",
            "강수확률:20\n",
            "기상상태:흐림\n",
            "---------------------------------------------\n",
            "관광지명:봉화\n",
            "시간:2019-12-22 09:00\n",
            "기온:0\n",
            "강수확률:20\n",
            "기상상태:흐림\n",
            "---------------------------------------------\n",
            "관광지명:봉화\n",
            "시간:2019-12-22 09:00\n",
            "기온:-2\n",
            "강수확률:20\n",
            "기상상태:흐림\n",
            "---------------------------------------------\n",
            "totalCount:256\n"
          ]
        }
      ]
    }
  ]
}