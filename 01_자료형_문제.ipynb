{
  "cells": [
    {
      "cell_type": "markdown",
      "metadata": {
        "id": "view-in-github",
        "colab_type": "text"
      },
      "source": [
        "<a href=\"https://colab.research.google.com/github/viperact/pythondemo/blob/main/01_%EC%9E%90%EB%A3%8C%ED%98%95_%EB%AC%B8%EC%A0%9C.ipynb\" target=\"_parent\"><img src=\"https://colab.research.google.com/assets/colab-badge.svg\" alt=\"Open In Colab\"/></a>"
      ]
    },
    {
      "cell_type": "markdown",
      "metadata": {
        "id": "j_oANmW0VEG2"
      },
      "source": [
        "문제1)  \n",
        "S='Somewhere on the rainbow'를 'Somewhere over the rainbow'로 변환하세요."
      ]
    },
    {
      "cell_type": "code",
      "execution_count": 16,
      "metadata": {
        "id": "K_BavqIJVBMD",
        "colab": {
          "base_uri": "https://localhost:8080/",
          "height": 35
        },
        "outputId": "b03aa59f-0c4b-4cc9-d2b2-3ac37df6edb6"
      },
      "outputs": [
        {
          "output_type": "execute_result",
          "data": {
            "text/plain": [
              "'Somewhere over the rainbow'"
            ],
            "application/vnd.google.colaboratory.intrinsic+json": {
              "type": "string"
            }
          },
          "metadata": {},
          "execution_count": 16
        }
      ],
      "source": [
        "s = 'Somewhere on the rainbow'\n",
        "s.replace('on','over')"
      ]
    },
    {
      "cell_type": "markdown",
      "metadata": {
        "id": "5xzdD5LRVh7C"
      },
      "source": [
        "문제2)  \n",
        "s = '/usr/local/bin/python' 에서 각각의 디렉토리 경로명을 분리하여 출력하세요.\n",
        "\n",
        "[실행결과]\n",
        "['', 'usr', 'local', 'bin', 'python']"
      ]
    },
    {
      "cell_type": "code",
      "execution_count": 18,
      "metadata": {
        "id": "tq0DDjO6Vkai",
        "colab": {
          "base_uri": "https://localhost:8080/"
        },
        "outputId": "489f31be-8e6b-4124-fe71-a5db3794c208"
      },
      "outputs": [
        {
          "output_type": "execute_result",
          "data": {
            "text/plain": [
              "['', 'usr', 'local', 'bin', 'python']"
            ]
          },
          "metadata": {},
          "execution_count": 18
        }
      ],
      "source": [
        "s = '/usr/local/bin/python'\n",
        "s.split('/')"
      ]
    },
    {
      "cell_type": "markdown",
      "metadata": {
        "id": "4b9VV0_2WzDL"
      },
      "source": [
        "문제3)   \n",
        "'spam ham'을 'ham spam'으로 치환하세요.   \n",
        "\n",
        "※문자열의 split( )과 join( )메서드 그리고 리스트의 reverse( )메서드를 사용"
      ]
    },
    {
      "cell_type": "code",
      "execution_count": 49,
      "metadata": {
        "id": "MJgD9BR5Vm_1",
        "colab": {
          "base_uri": "https://localhost:8080/",
          "height": 35
        },
        "outputId": "457abfda-09a7-4998-941b-7600cc02bcf5"
      },
      "outputs": [
        {
          "output_type": "execute_result",
          "data": {
            "text/plain": [
              "'ham spam'"
            ],
            "application/vnd.google.colaboratory.intrinsic+json": {
              "type": "string"
            }
          },
          "metadata": {},
          "execution_count": 49
        }
      ],
      "source": [
        "s = 'spam ham'\n",
        "s1 = s.split()\n",
        "s1.reverse()\n",
        "s2 = \" \".join(s1)\n",
        "s2"
      ]
    },
    {
      "cell_type": "markdown",
      "metadata": {
        "id": "wlikK1oSXC8Q"
      },
      "source": [
        "문제4)   \n",
        "문자열이 주어져 있을 때 'spam' 이 몇 번 나타나는지 구하시오.   \n",
        "단, 대소문자 구분하지 않음\n",
        "\n",
        "s = 'spam Spam SpaM egg eGG Egg ham hAm'"
      ]
    },
    {
      "cell_type": "code",
      "execution_count": 70,
      "metadata": {
        "id": "ILqIZqoZWo6L",
        "colab": {
          "base_uri": "https://localhost:8080/"
        },
        "outputId": "8447f0c2-a33e-49ec-bef7-6b9054de5252"
      },
      "outputs": [
        {
          "output_type": "execute_result",
          "data": {
            "text/plain": [
              "1"
            ]
          },
          "metadata": {},
          "execution_count": 70
        }
      ],
      "source": [
        "s = 'spam Spam SpaM egg eGG Egg ham hAM'\n",
        "s.count(\"spam\")"
      ]
    },
    {
      "cell_type": "markdown",
      "metadata": {
        "id": "OqPv1NpfXik8"
      },
      "source": [
        "문제5)  \n",
        "단어의 순서가 바뀐 문자열로 만들세요.  \n",
        "s = 'Sometimes I feel like a motherless child'\n",
        "\n",
        "[실행결과]    \n",
        "'child motherless a like feel I Sometimes'  \n",
        "'dlihc sselrehtom a ekil leef I semitemoS'  \n",
        "'SometimesIfeellikeamotherlesschild'\n",
        "\n",
        "\n"
      ]
    },
    {
      "cell_type": "code",
      "execution_count": 71,
      "metadata": {
        "id": "efZZR_wyXg9D",
        "colab": {
          "base_uri": "https://localhost:8080/",
          "height": 35
        },
        "outputId": "9d5dfa89-f511-4f4e-ae96-dc9ac9e16f2e"
      },
      "outputs": [
        {
          "output_type": "execute_result",
          "data": {
            "text/plain": [
              "'spam Spam SpaM egg eGG Egg ham hAM'"
            ],
            "application/vnd.google.colaboratory.intrinsic+json": {
              "type": "string"
            }
          },
          "metadata": {},
          "execution_count": 71
        }
      ],
      "source": [
        "#단어의 순서 바꾸기\n",
        "s"
      ]
    },
    {
      "cell_type": "code",
      "execution_count": null,
      "metadata": {
        "id": "zuWj6xpyY3PD"
      },
      "outputs": [],
      "source": [
        "# 문자열의 순서 뒤집기\n"
      ]
    },
    {
      "cell_type": "code",
      "execution_count": null,
      "metadata": {
        "id": "rJFhQOUyZPLy"
      },
      "outputs": [],
      "source": [
        "# 공백의 없애기\n"
      ]
    },
    {
      "cell_type": "markdown",
      "metadata": {
        "id": "xb7tAWllaMj0"
      },
      "source": [
        "문제6)  \n",
        "100  이하의 자연수 중에서 2의 배수이거나 3의 배수인 수의 개수를 구하세요.\n",
        "\n",
        "[실행결과]  \n",
        "67"
      ]
    },
    {
      "cell_type": "code",
      "execution_count": null,
      "metadata": {
        "id": "s9Ez9HkWZjRD"
      },
      "outputs": [],
      "source": []
    },
    {
      "cell_type": "markdown",
      "metadata": {
        "id": "KgG2twzKccH3"
      },
      "source": [
        "문제7)  \n",
        "전체집합을 U로 할때 U의 부분집합 A와 B에 대해서  연산의 결과를 구현하세요.\n",
        "\n",
        "U = {1, 2, 3, 4, 5, 6, 7, 8, 9, 10}  \n",
        "A = {1, 3, 5, 7, 9}  \n",
        "B = {1, 2, 3, 4, 5}  \n",
        "\n",
        "가) A∩Bc \n",
        "\n",
        "나) (A∪B)c \n",
        "\n",
        "[실행결과]  \n",
        "가) {7, 9}   \n",
        "나) {6, 8, 10}"
      ]
    },
    {
      "cell_type": "code",
      "execution_count": null,
      "metadata": {
        "id": "c-tan3YTcLKy"
      },
      "outputs": [],
      "source": []
    },
    {
      "cell_type": "code",
      "execution_count": null,
      "metadata": {
        "id": "yNwNd1p2eDDw"
      },
      "outputs": [],
      "source": []
    },
    {
      "cell_type": "markdown",
      "metadata": {
        "id": "Rf19AHjVgaeC"
      },
      "source": [
        "문제8)      \n",
        "주어진 문자열의 각 단어가 중복되지 않게 한 번씩만 출력이 되도록 구현하세요.      \n",
        "s = 'one two one two three four'  \n",
        "\n",
        "\n",
        "[실행결과]  \n",
        "['two', 'four', 'one', 'three']"
      ]
    },
    {
      "cell_type": "code",
      "execution_count": null,
      "metadata": {
        "id": "FOzU66LMeHTz"
      },
      "outputs": [],
      "source": []
    },
    {
      "cell_type": "markdown",
      "metadata": {
        "id": "ul9sg_NOgrEH"
      },
      "source": [
        "문제9)    \n",
        "튜플에 저장된 데이터에서 마지막 요소 5개를 삭제한뒤 나머지를 튜플로 출력하세요.  \n",
        "data =1,2,3,4,5,6,7,8,9,10\n",
        "\n",
        "[실행결과]   \n",
        "(1, 2, 3, 4, 5)\n"
      ]
    },
    {
      "cell_type": "code",
      "execution_count": null,
      "metadata": {
        "id": "CRLUg17Ugj2l"
      },
      "outputs": [],
      "source": []
    },
    {
      "cell_type": "markdown",
      "metadata": {
        "id": "goMzKZeQkSAJ"
      },
      "source": [
        "문제10)  \n",
        "a변수에 저장된 문자열에서 인덱스 홀수, b변수에 저장된 문자열에서 인덱스 짝수만을 가져와 연결하는 프로그램을 구현하세요.  \n",
        "a='apple'  \n",
        "b='strawberry'  \n",
        "\n",
        "[실행결과]  \n",
        "plsrwer"
      ]
    },
    {
      "cell_type": "code",
      "execution_count": null,
      "metadata": {
        "id": "MgR7YZZskSAJ"
      },
      "outputs": [],
      "source": []
    },
    {
      "cell_type": "code",
      "execution_count": null,
      "metadata": {
        "id": "YAII8GV4kSAK"
      },
      "outputs": [],
      "source": []
    }
  ],
  "metadata": {
    "colab": {
      "provenance": [],
      "include_colab_link": true
    },
    "kernelspec": {
      "display_name": "Python 3",
      "language": "python",
      "name": "python3"
    },
    "language_info": {
      "codemirror_mode": {
        "name": "ipython",
        "version": 3
      },
      "file_extension": ".py",
      "mimetype": "text/x-python",
      "name": "python",
      "nbconvert_exporter": "python",
      "pygments_lexer": "ipython3",
      "version": "3.8.8"
    }
  },
  "nbformat": 4,
  "nbformat_minor": 0
}