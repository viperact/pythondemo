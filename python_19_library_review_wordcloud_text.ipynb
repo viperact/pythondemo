{
  "nbformat": 4,
  "nbformat_minor": 0,
  "metadata": {
    "colab": {
      "provenance": [],
      "authorship_tag": "ABX9TyNOO2icGl5BnRR+rR2gDF9H",
      "include_colab_link": true
    },
    "kernelspec": {
      "name": "python3",
      "display_name": "Python 3"
    },
    "language_info": {
      "name": "python"
    }
  },
  "cells": [
    {
      "cell_type": "markdown",
      "metadata": {
        "id": "view-in-github",
        "colab_type": "text"
      },
      "source": [
        "<a href=\"https://colab.research.google.com/github/viperact/pythondemo/blob/main/python_19_library_review_wordcloud_text.ipynb\" target=\"_parent\"><img src=\"https://colab.research.google.com/assets/colab-badge.svg\" alt=\"Open In Colab\"/></a>"
      ]
    },
    {
      "cell_type": "markdown",
      "source": [
        "## 워드클라우드와 텍스트 마이닝"
      ],
      "metadata": {
        "id": "-uz3HtklS0hY"
      }
    },
    {
      "cell_type": "markdown",
      "source": [
        "### colab 한글화\n",
        "설치 후 메뉴 런타임 -> 런타임 다시 시작"
      ],
      "metadata": {
        "id": "uhy2CNe2TYwk"
      }
    },
    {
      "cell_type": "code",
      "source": [
        "!sudo apt-get install -y fonts-nanum\n",
        "!sudo fc-cache -fv\n",
        "!rm ~/.cache/matplotlib -rf"
      ],
      "metadata": {
        "colab": {
          "base_uri": "https://localhost:8080/"
        },
        "id": "K0h1IuAnTlvz",
        "outputId": "9c519e8f-38fc-48f8-c7e4-b2ca7d678623"
      },
      "execution_count": 1,
      "outputs": [
        {
          "output_type": "stream",
          "name": "stdout",
          "text": [
            "Reading package lists... Done\n",
            "Building dependency tree       \n",
            "Reading state information... Done\n",
            "The following package was automatically installed and is no longer required:\n",
            "  libnvidia-common-460\n",
            "Use 'sudo apt autoremove' to remove it.\n",
            "The following NEW packages will be installed:\n",
            "  fonts-nanum\n",
            "0 upgraded, 1 newly installed, 0 to remove and 20 not upgraded.\n",
            "Need to get 9,604 kB of archives.\n",
            "After this operation, 29.5 MB of additional disk space will be used.\n",
            "Get:1 http://archive.ubuntu.com/ubuntu bionic/universe amd64 fonts-nanum all 20170925-1 [9,604 kB]\n",
            "Fetched 9,604 kB in 1s (7,906 kB/s)\n",
            "debconf: unable to initialize frontend: Dialog\n",
            "debconf: (No usable dialog-like program is installed, so the dialog based frontend cannot be used. at /usr/share/perl5/Debconf/FrontEnd/Dialog.pm line 76, <> line 1.)\n",
            "debconf: falling back to frontend: Readline\n",
            "debconf: unable to initialize frontend: Readline\n",
            "debconf: (This frontend requires a controlling tty.)\n",
            "debconf: falling back to frontend: Teletype\n",
            "dpkg-preconfigure: unable to re-open stdin: \n",
            "Selecting previously unselected package fonts-nanum.\n",
            "(Reading database ... 124016 files and directories currently installed.)\n",
            "Preparing to unpack .../fonts-nanum_20170925-1_all.deb ...\n",
            "Unpacking fonts-nanum (20170925-1) ...\n",
            "Setting up fonts-nanum (20170925-1) ...\n",
            "Processing triggers for fontconfig (2.12.6-0ubuntu2) ...\n",
            "/usr/share/fonts: caching, new cache contents: 0 fonts, 1 dirs\n",
            "/usr/share/fonts/truetype: caching, new cache contents: 0 fonts, 3 dirs\n",
            "/usr/share/fonts/truetype/humor-sans: caching, new cache contents: 1 fonts, 0 dirs\n",
            "/usr/share/fonts/truetype/liberation: caching, new cache contents: 16 fonts, 0 dirs\n",
            "/usr/share/fonts/truetype/nanum: caching, new cache contents: 10 fonts, 0 dirs\n",
            "/usr/local/share/fonts: caching, new cache contents: 0 fonts, 0 dirs\n",
            "/root/.local/share/fonts: skipping, no such directory\n",
            "/root/.fonts: skipping, no such directory\n",
            "/var/cache/fontconfig: cleaning cache directory\n",
            "/root/.cache/fontconfig: not cleaning non-existent cache directory\n",
            "/root/.fontconfig: not cleaning non-existent cache directory\n",
            "fc-cache: succeeded\n"
          ]
        }
      ]
    },
    {
      "cell_type": "code",
      "source": [
        "# 구글 드라이브 연동\n",
        "from google.colab import drive\n",
        "drive.mount('/content/drive')\n",
        "\n",
        "%cd /content/drive/MyDrive/python_demo"
      ],
      "metadata": {
        "colab": {
          "base_uri": "https://localhost:8080/"
        },
        "id": "SBcpC0IoZqzS",
        "outputId": "da37d1e5-9907-48ea-c5a4-0701a63dc3aa"
      },
      "execution_count": 5,
      "outputs": [
        {
          "output_type": "stream",
          "name": "stdout",
          "text": [
            "Mounted at /content/drive\n",
            "/content/drive/MyDrive/python_demo\n"
          ]
        }
      ]
    },
    {
      "cell_type": "markdown",
      "source": [
        "### JPype 설치\n",
        "- http://kkma.snu.ac.kr/documents/index.jsp?doc=postag 한글 형태소 품사 (Part Of Speech, POS) 태그표\n",
        "- python에서 java 라이브러리를 이용할 수 있도록 설치한다."
      ],
      "metadata": {
        "id": "isS7qjRRU3HS"
      }
    },
    {
      "cell_type": "code",
      "source": [
        "# https://www.lfd.uci.edu/~gohlke/pythonlibs/#jpype\n",
        "# 아래 부분 바로 실행하면 jpype 설치됨\n",
        "!pip install -U \"jpype1<1.1\""
      ],
      "metadata": {
        "colab": {
          "base_uri": "https://localhost:8080/"
        },
        "id": "2ER1FioOTn87",
        "outputId": "93e965ca-7057-4040-acc8-d1968be19798"
      },
      "execution_count": 3,
      "outputs": [
        {
          "output_type": "stream",
          "name": "stdout",
          "text": [
            "Looking in indexes: https://pypi.org/simple, https://us-python.pkg.dev/colab-wheels/public/simple/\n",
            "Collecting jpype1<1.1\n",
            "  Downloading JPype1-1.0.2-cp38-cp38-manylinux2010_x86_64.whl (3.8 MB)\n",
            "\u001b[K     |████████████████████████████████| 3.8 MB 5.1 MB/s \n",
            "\u001b[?25hInstalling collected packages: jpype1\n",
            "Successfully installed jpype1-1.0.2\n"
          ]
        }
      ]
    },
    {
      "cell_type": "code",
      "source": [
        "# 한글을 사용하기 위해 세종사전을 이용\n",
        "!pip install konlpy\n",
        "!pip install wordcloud"
      ],
      "metadata": {
        "colab": {
          "base_uri": "https://localhost:8080/"
        },
        "id": "5echeuMCVWjN",
        "outputId": "21559245-4508-4861-9e19-3dab48a32d81"
      },
      "execution_count": 4,
      "outputs": [
        {
          "output_type": "stream",
          "name": "stdout",
          "text": [
            "Looking in indexes: https://pypi.org/simple, https://us-python.pkg.dev/colab-wheels/public/simple/\n",
            "Collecting konlpy\n",
            "  Downloading konlpy-0.6.0-py2.py3-none-any.whl (19.4 MB)\n",
            "\u001b[K     |████████████████████████████████| 19.4 MB 547 kB/s \n",
            "\u001b[?25hRequirement already satisfied: numpy>=1.6 in /usr/local/lib/python3.8/dist-packages (from konlpy) (1.21.6)\n",
            "Requirement already satisfied: lxml>=4.1.0 in /usr/local/lib/python3.8/dist-packages (from konlpy) (4.9.2)\n",
            "Requirement already satisfied: JPype1>=0.7.0 in /usr/local/lib/python3.8/dist-packages (from konlpy) (1.0.2)\n",
            "Installing collected packages: konlpy\n",
            "Successfully installed konlpy-0.6.0\n",
            "Looking in indexes: https://pypi.org/simple, https://us-python.pkg.dev/colab-wheels/public/simple/\n",
            "Requirement already satisfied: wordcloud in /usr/local/lib/python3.8/dist-packages (1.8.2.2)\n",
            "Requirement already satisfied: matplotlib in /usr/local/lib/python3.8/dist-packages (from wordcloud) (3.2.2)\n",
            "Requirement already satisfied: pillow in /usr/local/lib/python3.8/dist-packages (from wordcloud) (7.1.2)\n",
            "Requirement already satisfied: numpy>=1.6.1 in /usr/local/lib/python3.8/dist-packages (from wordcloud) (1.21.6)\n",
            "Requirement already satisfied: pyparsing!=2.0.4,!=2.1.2,!=2.1.6,>=2.0.1 in /usr/local/lib/python3.8/dist-packages (from matplotlib->wordcloud) (3.0.9)\n",
            "Requirement already satisfied: python-dateutil>=2.1 in /usr/local/lib/python3.8/dist-packages (from matplotlib->wordcloud) (2.8.2)\n",
            "Requirement already satisfied: kiwisolver>=1.0.1 in /usr/local/lib/python3.8/dist-packages (from matplotlib->wordcloud) (1.4.4)\n",
            "Requirement already satisfied: cycler>=0.10 in /usr/local/lib/python3.8/dist-packages (from matplotlib->wordcloud) (0.11.0)\n",
            "Requirement already satisfied: six>=1.5 in /usr/local/lib/python3.8/dist-packages (from python-dateutil>=2.1->matplotlib->wordcloud) (1.15.0)\n"
          ]
        }
      ]
    },
    {
      "cell_type": "code",
      "source": [
        "# 기본\n",
        "import numpy as np # numpy 패키지 가져오기\n",
        "import pandas as pd # pandas 패키지 가져오기\n",
        "import matplotlib.pyplot as plt # 시각화 패키지 가져오기\n",
        "\n",
        "# 데이터 전처리\n",
        "from konlpy.tag import Okt\n",
        "from collections import Counter\n",
        "from wordcloud import WordCloud"
      ],
      "metadata": {
        "id": "S5Dsj7uwZawi"
      },
      "execution_count": 8,
      "outputs": []
    },
    {
      "cell_type": "markdown",
      "source": [],
      "metadata": {
        "id": "wXfvLZ67aUR5"
      }
    },
    {
      "cell_type": "code",
      "source": [
        "!pip list"
      ],
      "metadata": {
        "id": "Gy86JaHdaFvU"
      },
      "execution_count": null,
      "outputs": []
    },
    {
      "cell_type": "markdown",
      "source": [
        "### 데이터 가져오기"
      ],
      "metadata": {
        "id": "Epous5vkaHs5"
      }
    },
    {
      "cell_type": "code",
      "source": [
        "df = pd.read_csv('data_crowling/data.csv', encoding = 'cp949')\n",
        "df.head()"
      ],
      "metadata": {
        "colab": {
          "base_uri": "https://localhost:8080/",
          "height": 354
        },
        "id": "wjdFIbYOafhy",
        "outputId": "402817fd-00d4-4a3c-e88b-e874d71b2029"
      },
      "execution_count": 13,
      "outputs": [
        {
          "output_type": "execute_result",
          "data": {
            "text/plain": [
              "    번호 재학생구분  학년/학기    학과 성별  \\\n",
              "0   65    대학      1  인문계열  여   \n",
              "1   78    대학      3  사회계열  여   \n",
              "2  100    대학      1  사회계열  여   \n",
              "3  129    대학      4  인문계열  여   \n",
              "4   37    대학      2  인문계열  남   \n",
              "\n",
              "                                                text  \n",
              "0  1학기 때 책 읽으려고 갔는데 먼지가 있었어요. 그래서 책상에 먼지가 없었으면 좋겠어요.  \n",
              "1                                   KC대학교도서관 재건축해주세요  \n",
              "2                                       개인스터디할공간이 필요  \n",
              "3                               건물 재건축 및 교체, 내부 리모델링  \n",
              "4                        공부를 할 수 있는 시설이 개선되었으면 좋겠습니다  "
            ],
            "text/html": [
              "\n",
              "  <div id=\"df-d7a455b5-ecb5-4e73-8d54-3bd970e82d68\">\n",
              "    <div class=\"colab-df-container\">\n",
              "      <div>\n",
              "<style scoped>\n",
              "    .dataframe tbody tr th:only-of-type {\n",
              "        vertical-align: middle;\n",
              "    }\n",
              "\n",
              "    .dataframe tbody tr th {\n",
              "        vertical-align: top;\n",
              "    }\n",
              "\n",
              "    .dataframe thead th {\n",
              "        text-align: right;\n",
              "    }\n",
              "</style>\n",
              "<table border=\"1\" class=\"dataframe\">\n",
              "  <thead>\n",
              "    <tr style=\"text-align: right;\">\n",
              "      <th></th>\n",
              "      <th>번호</th>\n",
              "      <th>재학생구분</th>\n",
              "      <th>학년/학기</th>\n",
              "      <th>학과</th>\n",
              "      <th>성별</th>\n",
              "      <th>text</th>\n",
              "    </tr>\n",
              "  </thead>\n",
              "  <tbody>\n",
              "    <tr>\n",
              "      <th>0</th>\n",
              "      <td>65</td>\n",
              "      <td>대학</td>\n",
              "      <td>1</td>\n",
              "      <td>인문계열</td>\n",
              "      <td>여</td>\n",
              "      <td>1학기 때 책 읽으려고 갔는데 먼지가 있었어요. 그래서 책상에 먼지가 없었으면 좋겠어요.</td>\n",
              "    </tr>\n",
              "    <tr>\n",
              "      <th>1</th>\n",
              "      <td>78</td>\n",
              "      <td>대학</td>\n",
              "      <td>3</td>\n",
              "      <td>사회계열</td>\n",
              "      <td>여</td>\n",
              "      <td>KC대학교도서관 재건축해주세요</td>\n",
              "    </tr>\n",
              "    <tr>\n",
              "      <th>2</th>\n",
              "      <td>100</td>\n",
              "      <td>대학</td>\n",
              "      <td>1</td>\n",
              "      <td>사회계열</td>\n",
              "      <td>여</td>\n",
              "      <td>개인스터디할공간이 필요</td>\n",
              "    </tr>\n",
              "    <tr>\n",
              "      <th>3</th>\n",
              "      <td>129</td>\n",
              "      <td>대학</td>\n",
              "      <td>4</td>\n",
              "      <td>인문계열</td>\n",
              "      <td>여</td>\n",
              "      <td>건물 재건축 및 교체, 내부 리모델링</td>\n",
              "    </tr>\n",
              "    <tr>\n",
              "      <th>4</th>\n",
              "      <td>37</td>\n",
              "      <td>대학</td>\n",
              "      <td>2</td>\n",
              "      <td>인문계열</td>\n",
              "      <td>남</td>\n",
              "      <td>공부를 할 수 있는 시설이 개선되었으면 좋겠습니다</td>\n",
              "    </tr>\n",
              "  </tbody>\n",
              "</table>\n",
              "</div>\n",
              "      <button class=\"colab-df-convert\" onclick=\"convertToInteractive('df-d7a455b5-ecb5-4e73-8d54-3bd970e82d68')\"\n",
              "              title=\"Convert this dataframe to an interactive table.\"\n",
              "              style=\"display:none;\">\n",
              "        \n",
              "  <svg xmlns=\"http://www.w3.org/2000/svg\" height=\"24px\"viewBox=\"0 0 24 24\"\n",
              "       width=\"24px\">\n",
              "    <path d=\"M0 0h24v24H0V0z\" fill=\"none\"/>\n",
              "    <path d=\"M18.56 5.44l.94 2.06.94-2.06 2.06-.94-2.06-.94-.94-2.06-.94 2.06-2.06.94zm-11 1L8.5 8.5l.94-2.06 2.06-.94-2.06-.94L8.5 2.5l-.94 2.06-2.06.94zm10 10l.94 2.06.94-2.06 2.06-.94-2.06-.94-.94-2.06-.94 2.06-2.06.94z\"/><path d=\"M17.41 7.96l-1.37-1.37c-.4-.4-.92-.59-1.43-.59-.52 0-1.04.2-1.43.59L10.3 9.45l-7.72 7.72c-.78.78-.78 2.05 0 2.83L4 21.41c.39.39.9.59 1.41.59.51 0 1.02-.2 1.41-.59l7.78-7.78 2.81-2.81c.8-.78.8-2.07 0-2.86zM5.41 20L4 18.59l7.72-7.72 1.47 1.35L5.41 20z\"/>\n",
              "  </svg>\n",
              "      </button>\n",
              "      \n",
              "  <style>\n",
              "    .colab-df-container {\n",
              "      display:flex;\n",
              "      flex-wrap:wrap;\n",
              "      gap: 12px;\n",
              "    }\n",
              "\n",
              "    .colab-df-convert {\n",
              "      background-color: #E8F0FE;\n",
              "      border: none;\n",
              "      border-radius: 50%;\n",
              "      cursor: pointer;\n",
              "      display: none;\n",
              "      fill: #1967D2;\n",
              "      height: 32px;\n",
              "      padding: 0 0 0 0;\n",
              "      width: 32px;\n",
              "    }\n",
              "\n",
              "    .colab-df-convert:hover {\n",
              "      background-color: #E2EBFA;\n",
              "      box-shadow: 0px 1px 2px rgba(60, 64, 67, 0.3), 0px 1px 3px 1px rgba(60, 64, 67, 0.15);\n",
              "      fill: #174EA6;\n",
              "    }\n",
              "\n",
              "    [theme=dark] .colab-df-convert {\n",
              "      background-color: #3B4455;\n",
              "      fill: #D2E3FC;\n",
              "    }\n",
              "\n",
              "    [theme=dark] .colab-df-convert:hover {\n",
              "      background-color: #434B5C;\n",
              "      box-shadow: 0px 1px 3px 1px rgba(0, 0, 0, 0.15);\n",
              "      filter: drop-shadow(0px 1px 2px rgba(0, 0, 0, 0.3));\n",
              "      fill: #FFFFFF;\n",
              "    }\n",
              "  </style>\n",
              "\n",
              "      <script>\n",
              "        const buttonEl =\n",
              "          document.querySelector('#df-d7a455b5-ecb5-4e73-8d54-3bd970e82d68 button.colab-df-convert');\n",
              "        buttonEl.style.display =\n",
              "          google.colab.kernel.accessAllowed ? 'block' : 'none';\n",
              "\n",
              "        async function convertToInteractive(key) {\n",
              "          const element = document.querySelector('#df-d7a455b5-ecb5-4e73-8d54-3bd970e82d68');\n",
              "          const dataTable =\n",
              "            await google.colab.kernel.invokeFunction('convertToInteractive',\n",
              "                                                     [key], {});\n",
              "          if (!dataTable) return;\n",
              "\n",
              "          const docLinkHtml = 'Like what you see? Visit the ' +\n",
              "            '<a target=\"_blank\" href=https://colab.research.google.com/notebooks/data_table.ipynb>data table notebook</a>'\n",
              "            + ' to learn more about interactive tables.';\n",
              "          element.innerHTML = '';\n",
              "          dataTable['output_type'] = 'display_data';\n",
              "          await google.colab.output.renderOutput(dataTable, element);\n",
              "          const docLink = document.createElement('div');\n",
              "          docLink.innerHTML = docLinkHtml;\n",
              "          element.appendChild(docLink);\n",
              "        }\n",
              "      </script>\n",
              "    </div>\n",
              "  </div>\n",
              "  "
            ]
          },
          "metadata": {},
          "execution_count": 13
        }
      ]
    },
    {
      "cell_type": "code",
      "source": [
        "df.shape"
      ],
      "metadata": {
        "colab": {
          "base_uri": "https://localhost:8080/"
        },
        "id": "h6ecKTVDbnWZ",
        "outputId": "c8c9ffe0-8638-4297-c7fc-40bd41939b66"
      },
      "execution_count": 14,
      "outputs": [
        {
          "output_type": "execute_result",
          "data": {
            "text/plain": [
              "(59, 6)"
            ]
          },
          "metadata": {},
          "execution_count": 14
        }
      ]
    },
    {
      "cell_type": "code",
      "source": [
        "df.info()"
      ],
      "metadata": {
        "colab": {
          "base_uri": "https://localhost:8080/"
        },
        "id": "IwGu4ZvuboXR",
        "outputId": "1f6c7a4a-71f6-4894-90a0-061056df2fda"
      },
      "execution_count": 15,
      "outputs": [
        {
          "output_type": "stream",
          "name": "stdout",
          "text": [
            "<class 'pandas.core.frame.DataFrame'>\n",
            "RangeIndex: 59 entries, 0 to 58\n",
            "Data columns (total 6 columns):\n",
            " #   Column  Non-Null Count  Dtype \n",
            "---  ------  --------------  ----- \n",
            " 0   번호      59 non-null     int64 \n",
            " 1   재학생구분   59 non-null     object\n",
            " 2   학년/학기   59 non-null     int64 \n",
            " 3   학과      59 non-null     object\n",
            " 4   성별      59 non-null     object\n",
            " 5   text    59 non-null     object\n",
            "dtypes: int64(2), object(4)\n",
            "memory usage: 2.9+ KB\n"
          ]
        }
      ]
    },
    {
      "cell_type": "markdown",
      "source": [
        "### 명사단어 추출"
      ],
      "metadata": {
        "id": "dHqhPT2Lb29R"
      }
    },
    {
      "cell_type": "markdown",
      "source": [
        "### 1. 세종사전 실행"
      ],
      "metadata": {
        "id": "SVrpdGgMcQXE"
      }
    },
    {
      "cell_type": "code",
      "source": [
        "from konlpy.tag import Okt\n",
        "twitter = Okt()"
      ],
      "metadata": {
        "id": "4crfCfq_b53T"
      },
      "execution_count": 17,
      "outputs": []
    },
    {
      "cell_type": "markdown",
      "source": [
        "### 2. 단어 리스트 만들기"
      ],
      "metadata": {
        "id": "X7OU1DFmcCVZ"
      }
    },
    {
      "cell_type": "code",
      "source": [
        "word_list = []\n",
        "word_list = df['text']"
      ],
      "metadata": {
        "id": "nBb06aygcUO0"
      },
      "execution_count": 18,
      "outputs": []
    },
    {
      "cell_type": "code",
      "source": [
        "word_list"
      ],
      "metadata": {
        "colab": {
          "base_uri": "https://localhost:8080/"
        },
        "id": "bdcVf6cicZ6B",
        "outputId": "16f97aac-f3e2-4827-8450-d2fb06735c60"
      },
      "execution_count": 19,
      "outputs": [
        {
          "output_type": "execute_result",
          "data": {
            "text/plain": [
              "0     1학기 때 책 읽으려고 갔는데 먼지가 있었어요. 그래서 책상에 먼지가 없었으면 좋겠어요.\n",
              "1                                      KC대학교도서관 재건축해주세요\n",
              "2                                          개인스터디할공간이 필요\n",
              "3                                  건물 재건축 및 교체, 내부 리모델링\n",
              "4                           공부를 할 수 있는 시설이 개선되었으면 좋겠습니다\n",
              "5     공부할수있는쾌적한 공간을 마련해주세요. 그저 좁은 공간에 책만 꽉 차서 책이 믾은 ...\n",
              "6     논문 열람 가능한 사이트 riss를 학교와 연계해서 학생들이 이용할 수 있게 해주세...\n",
              "7     대출불가도서를 대여해주던지 복사기를 고쳐주세요.. 대여도 안되고 복사도 잘안되서 돈...\n",
              "8                  대학원 전공과 관련된 국내외 참고도서도 많이 구비하였으면 합니다.\n",
              "9                                       더 나아진 도서관을 기대해요\n",
              "10    도서관 2층 들어서자마자 있는 컴퓨터 공간 외 다른 공간들의 공기가 너무 탁합니다....\n",
              "11                                         도서관 건물 시설 개설\n",
              "12                        도서관 리모델링을 했으면 좋겠다. 너무 낙후되어있다.\n",
              "13                                     도서관 책장이 너무 부실합니다\n",
              "14    도서관같은 공간의 경우에는 사람을 끌어들이는 힘이 굉장히 중요하다고 생각하는데, 그...\n",
              "15         도서관규모에비해직원수가많아서 직원1명이면충분함. 근로생들이 대출반납정리다하니..\n",
              "16                                           도서관리모델링필요!\n",
              "17    도서관에 간호학 전공 공부를 할 수 있는 다양한 자료가 있었으면 좋겠습니다. 뿐만 ...\n",
              "18    도서관에 대한 홍보를 조금더 하고 프로그램을 개발하여 학생들이 많이 찾아갈 수 있게...\n",
              "19    도서관의 위치와 내부 중간에 자유롭게 앉아서 책을 읽을 환경이 필요하고, 지금 이상...\n",
              "20    도서관이 너무 어지럽게 되어 있기도 하고 저번에 갔을때는 책이 아무렇게나 꽂혀 있는...\n",
              "21    도서관이 너무 오래되어서 겨울에는 너무 추워요. 1층 같은 경우는 밖에서 담배피우는...\n",
              "22    도서관이 너무 작아요ㅠ 학교 내에 열람실이 있긴 하지만 도서관 안에서도 공부하고 싶...\n",
              "23    도서관이 대학 자료의 보고로서 최신 자료 수집과 학문 연구를 위한 지원에 최선을 다...\n",
              "24                              도서관이 좀 더 시설이 좋았으면 좋겠습니다\n",
              "25    독서를 왜 해야하는지, 독서의 필요성에 대한 특강을 들으면 독서실이용이 조금 더 활...\n",
              "26            새로운 건물로 다시 지었으면 좋겠다 시설이 초갓집도 아니고 시설이 미비하다\n",
              "27                                                   설비\n",
              "28                                                시설 보수\n",
              "29                                               시설개선..\n",
              "30                                     시설이 개선되었으면 좋겠습니다\n",
              "31            시설이 너무 낙후되어있고, 스터디모임이나 공부하는 공간이 턱없이 부족하다.\n",
              "32                                 신간도서 자주 구비해주시기 바랍니다.\n",
              "33              신학기마다 새로운 책들을 학과별로 체크해서 구입해주시면 좋을듯 합니다.\n",
              "34    신학으로 설립되었기에 그와 관련된 서적은 타관보다 장서보유는 많아 유익한데 최신 양...\n",
              "35                                    앞으로도 많은 발전을 기원합니다\n",
              "36                                                  없다.\n",
              "37                          열람실부분 타 대학들처럼 개선되었으면 좋겠습니다.\n",
              "38    열람실에서 주로 공부하기 보단 도서관에서도 공부를 하러 갈 수 있는 환경조성과 홍보...\n",
              "39                                  열람실이랑 도서관을 새로 지어주세요\n",
              "40    열람실처럼 개인학습 공간이 따로 마련되었으면 좋겠고 종교 서적이 아닌 베스트 셀러나...\n",
              "41                          오래된 자료보다 최신자료를 보다 이용하고싶습니다.\n",
              "42    자격증 취득을 위한 최신도서들이 부족하다 특히나 세법같은 매년 개정되는 내용을 확인...\n",
              "43    자료를 조금 더 보충해 주셨으면 합니다. 예로 신학 자료 같은 것들을 검색할 때 적...\n",
              "44                                         잘 이용하고 있습니다.\n",
              "45                                           전반적으로 만족함.\n",
              "46                                 전체적인 개혁이 필요하다고 생각합니다\n",
              "47                                  조금 더 공간이 넓었으면 좋겠습니다\n",
              "48                                 조금 더 공간이 넓었으면 좋겠습니다.\n",
              "49                          좀더 넓고 좋은 시설과 학습공간이 있었으면 좋겠다\n",
              "50    책 읽을 공간, 학습공간, 스터디룸 책을 좋아하는 학생들과 도서관 분위기에서 공부하...\n",
              "51    책도 많아지고 책이 분류 별로 확실하게 정리되었으면 좋겠습니다 그리고 공부할수있는 ...\n",
              "52                                      최신 자료가 많이 부족합니다\n",
              "53                                      최신도서 배치 및 건물 신축\n",
              "54                         출입구의인식기가사용이어렵습니다(인식이잘안되는것같음)\n",
              "55                                           충분히 만족스러워요\n",
              "56                                  학교 전공이나 교양 관련 서적 증가\n",
              "57                 학생들이 공부하기 편한 환경 / 제대로 된 도서들 제공했으면좋겠다\n",
              "58       해당 학기에 쓰는 전공책 등을 구비하고, 그 외에도 최신 도서들이 들어왔으면 좋겠다\n",
              "Name: text, dtype: object"
            ]
          },
          "metadata": {},
          "execution_count": 19
        }
      ]
    },
    {
      "cell_type": "markdown",
      "source": [
        "### 3. 형태소 분리 및 품사태깅"
      ],
      "metadata": {
        "id": "_glYkN5Nemmh"
      }
    },
    {
      "cell_type": "code",
      "source": [
        "sentences_tag = []\n",
        "\n",
        "for sentence in word_list:\n",
        "  morph = twitter.pos(sentence)\n",
        "  sentences_tag.append(morph)\n",
        "\n",
        "print(morph)"
      ],
      "metadata": {
        "colab": {
          "base_uri": "https://localhost:8080/"
        },
        "id": "eEyG5yy7cbaB",
        "outputId": "4dd05282-3f76-45a1-c2cb-d33039cd2753"
      },
      "execution_count": 20,
      "outputs": [
        {
          "output_type": "stream",
          "name": "stdout",
          "text": [
            "[('해당', 'Noun'), ('학기', 'Noun'), ('에', 'Josa'), ('쓰는', 'Verb'), ('전', 'Modifier'), ('공책', 'Noun'), ('등', 'Noun'), ('을', 'Josa'), ('구비', 'Noun'), ('하고', 'Josa'), (',', 'Punctuation'), ('그', 'Noun'), ('외', 'Noun'), ('에도', 'Josa'), ('최신', 'Noun'), ('도서', 'Noun'), ('들', 'Suffix'), ('이', 'Josa'), ('들어왔으면', 'Verb'), ('좋겠다', 'Adjective')]\n"
          ]
        }
      ]
    },
    {
      "cell_type": "markdown",
      "source": [
        "### 4. 명사만 추출"
      ],
      "metadata": {
        "id": "NJG7MWNve6s5"
      }
    },
    {
      "cell_type": "code",
      "source": [
        "noun_list = []\n",
        "for sentence in sentences_tag:\n",
        "  for word, tag in sentence:\n",
        "    if tag in ['Noun']:\n",
        "      noun_list.append(word)"
      ],
      "metadata": {
        "id": "6rRXym-ofWFy"
      },
      "execution_count": 35,
      "outputs": []
    },
    {
      "cell_type": "code",
      "source": [
        "noun_list"
      ],
      "metadata": {
        "colab": {
          "base_uri": "https://localhost:8080/"
        },
        "id": "nC4A6K7Nfrna",
        "outputId": "065104c9-0436-4502-86c6-8ddd9e0a8abc"
      },
      "execution_count": 36,
      "outputs": [
        {
          "output_type": "execute_result",
          "data": {
            "text/plain": [
              "['학기',\n",
              " '때',\n",
              " '책',\n",
              " '먼지',\n",
              " '책상',\n",
              " '먼지',\n",
              " '대학교',\n",
              " '도서관',\n",
              " '재건축',\n",
              " '개인',\n",
              " '스터디',\n",
              " '공간',\n",
              " '필요',\n",
              " '건물',\n",
              " '재건축',\n",
              " '및',\n",
              " '교체',\n",
              " '내부',\n",
              " '리',\n",
              " '모델링',\n",
              " '공부',\n",
              " '수',\n",
              " '시설',\n",
              " '개선',\n",
              " '공부',\n",
              " '공간',\n",
              " '마련',\n",
              " '공간',\n",
              " '책',\n",
              " '꽉',\n",
              " '차서',\n",
              " '책',\n",
              " '믾',\n",
              " '건',\n",
              " '수',\n",
              " '눈',\n",
              " '공간',\n",
              " '듯',\n",
              " '보통',\n",
              " '다른',\n",
              " '대학',\n",
              " '모든',\n",
              " '학생',\n",
              " '공부',\n",
              " '수',\n",
              " '저희',\n",
              " '고등학교',\n",
              " '저희',\n",
              " '학교',\n",
              " '자부심',\n",
              " '논문',\n",
              " '열람',\n",
              " '사이트',\n",
              " '를',\n",
              " '학교',\n",
              " '계해',\n",
              " '학생',\n",
              " '이용',\n",
              " '수',\n",
              " '또한',\n",
              " '도서관',\n",
              " '독서실',\n",
              " '등',\n",
              " '시설',\n",
              " '더',\n",
              " '변경',\n",
              " '제발',\n",
              " '대출',\n",
              " '불가',\n",
              " '도서',\n",
              " '대여',\n",
              " '복사기',\n",
              " '대여',\n",
              " '복사',\n",
              " '돈',\n",
              " '복사',\n",
              " '대학원',\n",
              " '전공',\n",
              " '관련',\n",
              " '국내외',\n",
              " '참고도서',\n",
              " '구비',\n",
              " '더',\n",
              " '도서관',\n",
              " '도서관',\n",
              " '층',\n",
              " '컴퓨터',\n",
              " '공간',\n",
              " '외',\n",
              " '다른',\n",
              " '공간',\n",
              " '공기',\n",
              " '조금',\n",
              " '기침',\n",
              " '정도',\n",
              " '먼지털이',\n",
              " '걸레',\n",
              " '한번',\n",
              " '청소',\n",
              " '공기청정기',\n",
              " '설치',\n",
              " '도서관',\n",
              " '건물',\n",
              " '시설',\n",
              " '개설',\n",
              " '도서관',\n",
              " '리',\n",
              " '모델링',\n",
              " '낙후',\n",
              " '도서관',\n",
              " '책장',\n",
              " '도서관',\n",
              " '공간',\n",
              " '경우',\n",
              " '사람',\n",
              " '힘',\n",
              " '생각',\n",
              " '점',\n",
              " '우리',\n",
              " '학교',\n",
              " '도서관',\n",
              " '매우',\n",
              " '우리',\n",
              " '학교',\n",
              " '도서관',\n",
              " '점',\n",
              " '신청',\n",
              " '도서',\n",
              " '전부',\n",
              " '주문',\n",
              " '점',\n",
              " '개인',\n",
              " '부분',\n",
              " '알',\n",
              " '학생',\n",
              " '것',\n",
              " '위',\n",
              " '개인',\n",
              " '학습',\n",
              " '공간',\n",
              " '그룹',\n",
              " '학습',\n",
              " '공간',\n",
              " '제공',\n",
              " '항목',\n",
              " '말',\n",
              " '공간',\n",
              " '책',\n",
              " '먼지',\n",
              " '냄새',\n",
              " '여름철',\n",
              " '에어컨',\n",
              " '컴퓨터',\n",
              " '사용',\n",
              " '공간',\n",
              " '를',\n",
              " '제외',\n",
              " '아주',\n",
              " '것',\n",
              " '뿐',\n",
              " '여름',\n",
              " '정말',\n",
              " '책',\n",
              " '환경',\n",
              " '아예',\n",
              " '겨울',\n",
              " '마찬가지',\n",
              " '난방',\n",
              " '하나',\n",
              " '공부',\n",
              " '발',\n",
              " '워',\n",
              " '수가',\n",
              " '우리',\n",
              " '학교',\n",
              " '도서관',\n",
              " '가장',\n",
              " '문제점',\n",
              " '사실',\n",
              " '서비스',\n",
              " '시설',\n",
              " '여름',\n",
              " '겨울철',\n",
              " '냉',\n",
              " '난방',\n",
              " '터',\n",
              " '무니',\n",
              " '수준',\n",
              " '학습',\n",
              " '공간',\n",
              " '하나',\n",
              " '공간',\n",
              " '또한',\n",
              " '먼지',\n",
              " '냄새',\n",
              " '것',\n",
              " '부분',\n",
              " '해결',\n",
              " '것',\n",
              " '관건',\n",
              " '생각',\n",
              " '저',\n",
              " '도서관',\n",
              " '이용',\n",
              " '편',\n",
              " '말',\n",
              " '이용',\n",
              " '해도',\n",
              " '애정',\n",
              " '환경',\n",
              " '홍보',\n",
              " '부분',\n",
              " '도서관',\n",
              " '이용',\n",
              " '률',\n",
              " '평생',\n",
              " '것',\n",
              " '아주',\n",
              " '확신',\n",
              " '이용',\n",
              " '해도',\n",
              " '수가',\n",
              " '도서관',\n",
              " '규모',\n",
              " '비',\n",
              " '해직',\n",
              " '원수',\n",
              " '직원',\n",
              " '명',\n",
              " '근로',\n",
              " '생',\n",
              " '대출',\n",
              " '납정',\n",
              " '리다',\n",
              " '도서',\n",
              " '관리',\n",
              " '모델링',\n",
              " '필요',\n",
              " '도서관',\n",
              " '간호학',\n",
              " '전공',\n",
              " '공부',\n",
              " '수',\n",
              " '자료',\n",
              " '뿐',\n",
              " '공부',\n",
              " '수',\n",
              " '공간',\n",
              " '도서관',\n",
              " '대한',\n",
              " '홍보',\n",
              " '조금',\n",
              " '더',\n",
              " '프로그램',\n",
              " '개발',\n",
              " '학생',\n",
              " '수',\n",
              " '거',\n",
              " '도서관',\n",
              " '위치',\n",
              " '내부',\n",
              " '중간',\n",
              " '책',\n",
              " '환경',\n",
              " '지금',\n",
              " '이상',\n",
              " '열람',\n",
              " '공부',\n",
              " '수',\n",
              " '테이블',\n",
              " '환경',\n",
              " '도서관',\n",
              " '저번',\n",
              " '때',\n",
              " '책',\n",
              " '것',\n",
              " '본적',\n",
              " '저희',\n",
              " '학교',\n",
              " '도서관',\n",
              " '다른',\n",
              " '도서관',\n",
              " '더',\n",
              " '낫다',\n",
              " '생각',\n",
              " '도서관',\n",
              " '겨울',\n",
              " '층',\n",
              " '경우',\n",
              " '밖',\n",
              " '담배',\n",
              " '애',\n",
              " '때문',\n",
              " '전반',\n",
              " '환경',\n",
              " '개선',\n",
              " '교재',\n",
              " '과제',\n",
              " '도서',\n",
              " '경우',\n",
              " '조금',\n",
              " '더',\n",
              " '비치',\n",
              " '프린트',\n",
              " '자주',\n",
              " '종이',\n",
              " '도서관',\n",
              " '학교',\n",
              " '내',\n",
              " '열람',\n",
              " '실',\n",
              " '도서관',\n",
              " '안',\n",
              " '공부',\n",
              " '공간',\n",
              " '거의',\n",
              " '도서관',\n",
              " '대학',\n",
              " '자료',\n",
              " '보고',\n",
              " '로서',\n",
              " '최신',\n",
              " '자료',\n",
              " '수집',\n",
              " '학문',\n",
              " '연구',\n",
              " '위',\n",
              " '지원',\n",
              " '최선',\n",
              " '다해',\n",
              " '도서관',\n",
              " '좀',\n",
              " '더',\n",
              " '시설',\n",
              " '독서',\n",
              " '왜',\n",
              " '독서',\n",
              " '필요성',\n",
              " '대한',\n",
              " '특강',\n",
              " '독서실',\n",
              " '용이',\n",
              " '조금',\n",
              " '더',\n",
              " '것',\n",
              " '생각',\n",
              " '항상',\n",
              " '수고',\n",
              " '건물',\n",
              " '다시',\n",
              " '시설',\n",
              " '초',\n",
              " '집도',\n",
              " '시설',\n",
              " '설비',\n",
              " '시설',\n",
              " '보수',\n",
              " '시설',\n",
              " '개선',\n",
              " '시설',\n",
              " '개선',\n",
              " '시설',\n",
              " '낙후',\n",
              " '스터디',\n",
              " '모임',\n",
              " '공부',\n",
              " '공간',\n",
              " '턱',\n",
              " '신간',\n",
              " '도서',\n",
              " '자주',\n",
              " '구비',\n",
              " '학기',\n",
              " '책',\n",
              " '학과',\n",
              " '별로',\n",
              " '체크',\n",
              " '구입',\n",
              " '신학',\n",
              " '설립',\n",
              " '그',\n",
              " '관련',\n",
              " '서적',\n",
              " '타관',\n",
              " '장서',\n",
              " '보유',\n",
              " '최신',\n",
              " '양서',\n",
              " '감',\n",
              " '이',\n",
              " '대하',\n",
              " '참고',\n",
              " '우리',\n",
              " '학생',\n",
              " '이용',\n",
              " '동네',\n",
              " '주민',\n",
              " '계절',\n",
              " '낭송',\n",
              " '개최',\n",
              " '독서',\n",
              " '공간',\n",
              " '활짝',\n",
              " '공간',\n",
              " '앞',\n",
              " '발전',\n",
              " '기원',\n",
              " '열람',\n",
              " '실',\n",
              " '부분',\n",
              " '타',\n",
              " '대학',\n",
              " '개선',\n",
              " '열람',\n",
              " '실',\n",
              " '주로',\n",
              " '공부',\n",
              " '도서관',\n",
              " '공부',\n",
              " '수',\n",
              " '환경',\n",
              " '성과',\n",
              " '홍보',\n",
              " '것',\n",
              " '열람',\n",
              " '실',\n",
              " '도서관',\n",
              " '열람',\n",
              " '실',\n",
              " '개인',\n",
              " '학습',\n",
              " '공간',\n",
              " '마련',\n",
              " '종교',\n",
              " '서적',\n",
              " '베스트',\n",
              " '셀러',\n",
              " '다른',\n",
              " '분야',\n",
              " '도서',\n",
              " '마련',\n",
              " '자료',\n",
              " '최신',\n",
              " '자료',\n",
              " '이용',\n",
              " '자격증',\n",
              " '취득',\n",
              " '위',\n",
              " '최신',\n",
              " '도서',\n",
              " '나',\n",
              " '세법',\n",
              " '매년',\n",
              " '개정',\n",
              " '내용',\n",
              " '확인',\n",
              " '공부',\n",
              " '최신',\n",
              " '정이',\n",
              " '사이',\n",
              " '도서',\n",
              " '법',\n",
              " '관련',\n",
              " '책',\n",
              " '매년',\n",
              " '최신',\n",
              " '개정',\n",
              " '자료',\n",
              " '조금',\n",
              " '더',\n",
              " '보충',\n",
              " '예',\n",
              " '신학',\n",
              " '자료',\n",
              " '것',\n",
              " '검색',\n",
              " '때',\n",
              " '고생',\n",
              " '이용',\n",
              " '전반',\n",
              " '전체',\n",
              " '개혁',\n",
              " '생각',\n",
              " '조금',\n",
              " '더',\n",
              " '공간',\n",
              " '조금',\n",
              " '더',\n",
              " '공간',\n",
              " '좀더',\n",
              " '시설',\n",
              " '학습',\n",
              " '공간',\n",
              " '책',\n",
              " '공간',\n",
              " '학습',\n",
              " '공간',\n",
              " '스터디',\n",
              " '룸',\n",
              " '책',\n",
              " '학생',\n",
              " '도서관',\n",
              " '분위기',\n",
              " '공부',\n",
              " '학생',\n",
              " '생각',\n",
              " '도서관',\n",
              " '만',\n",
              " '자리',\n",
              " '입',\n",
              " '소문',\n",
              " '전해',\n",
              " '흥미',\n",
              " '아지트',\n",
              " '공간',\n",
              " '조성',\n",
              " '시간',\n",
              " '제한',\n",
              " '무료',\n",
              " '카페',\n",
              " '이용',\n",
              " '것',\n",
              " '쇼파',\n",
              " '몇',\n",
              " '개',\n",
              " '학생',\n",
              " '끼리끼리',\n",
              " '책',\n",
              " '것',\n",
              " '공간',\n",
              " '테이블',\n",
              " '공부',\n",
              " '것',\n",
              " '사람',\n",
              " '환경',\n",
              " '하니',\n",
              " '도서관',\n",
              " '학구',\n",
              " '교양',\n",
              " '학생',\n",
              " '것',\n",
              " '도서관',\n",
              " '이용',\n",
              " '률',\n",
              " '학교',\n",
              " '인지도',\n",
              " '도움',\n",
              " '것',\n",
              " '생각',\n",
              " '다른',\n",
              " '학교',\n",
              " '견학',\n",
              " '때',\n",
              " '가장',\n",
              " '것',\n",
              " '도서관',\n",
              " '도서관',\n",
              " '말',\n",
              " '듯이',\n",
              " '학교',\n",
              " '얼굴',\n",
              " '이자',\n",
              " '제',\n",
              " '의',\n",
              " '학교',\n",
              " '생각',\n",
              " '도서관',\n",
              " '학생',\n",
              " '공간',\n",
              " '책',\n",
              " '책',\n",
              " '분류',\n",
              " '별로',\n",
              " '정리',\n",
              " '공부',\n",
              " '공간',\n",
              " '책상',\n",
              " '의자',\n",
              " '정말',\n",
              " '도서관',\n",
              " '환경',\n",
              " '공부',\n",
              " '대학교',\n",
              " '도서관',\n",
              " '최신',\n",
              " '자료',\n",
              " '최신',\n",
              " '도서',\n",
              " '배치',\n",
              " '및',\n",
              " '건물',\n",
              " '신축',\n",
              " '출입구',\n",
              " '의인',\n",
              " '식기',\n",
              " '사용',\n",
              " '인식',\n",
              " '학교',\n",
              " '전공',\n",
              " '교양',\n",
              " '관련',\n",
              " '서적',\n",
              " '증가',\n",
              " '학생',\n",
              " '공부',\n",
              " '환경',\n",
              " '제대로',\n",
              " '도서',\n",
              " '제공',\n",
              " '해당',\n",
              " '학기',\n",
              " '공책',\n",
              " '등',\n",
              " '구비',\n",
              " '그',\n",
              " '외',\n",
              " '최신',\n",
              " '도서']"
            ]
          },
          "metadata": {},
          "execution_count": 36
        }
      ]
    },
    {
      "cell_type": "markdown",
      "source": [
        "### 5. 명사가 두 문자 이상인 요소만 추출"
      ],
      "metadata": {
        "id": "7C9MF3uFfsrY"
      }
    },
    {
      "cell_type": "code",
      "source": [
        "len(noun_list)\n",
        "\n",
        "noun_list = [n for n in noun_list if len(n) > 1]\n",
        "noun_list[:100]"
      ],
      "metadata": {
        "colab": {
          "base_uri": "https://localhost:8080/"
        },
        "id": "d_Im8aGrgBUC",
        "outputId": "4d3f4915-a4d2-4233-9b3f-25f76ef9414c"
      },
      "execution_count": 37,
      "outputs": [
        {
          "output_type": "execute_result",
          "data": {
            "text/plain": [
              "['학기',\n",
              " '먼지',\n",
              " '책상',\n",
              " '먼지',\n",
              " '대학교',\n",
              " '도서관',\n",
              " '재건축',\n",
              " '개인',\n",
              " '스터디',\n",
              " '공간',\n",
              " '필요',\n",
              " '건물',\n",
              " '재건축',\n",
              " '교체',\n",
              " '내부',\n",
              " '모델링',\n",
              " '공부',\n",
              " '시설',\n",
              " '개선',\n",
              " '공부',\n",
              " '공간',\n",
              " '마련',\n",
              " '공간',\n",
              " '차서',\n",
              " '공간',\n",
              " '보통',\n",
              " '다른',\n",
              " '대학',\n",
              " '모든',\n",
              " '학생',\n",
              " '공부',\n",
              " '저희',\n",
              " '고등학교',\n",
              " '저희',\n",
              " '학교',\n",
              " '자부심',\n",
              " '논문',\n",
              " '열람',\n",
              " '사이트',\n",
              " '학교',\n",
              " '계해',\n",
              " '학생',\n",
              " '이용',\n",
              " '또한',\n",
              " '도서관',\n",
              " '독서실',\n",
              " '시설',\n",
              " '변경',\n",
              " '제발',\n",
              " '대출',\n",
              " '불가',\n",
              " '도서',\n",
              " '대여',\n",
              " '복사기',\n",
              " '대여',\n",
              " '복사',\n",
              " '복사',\n",
              " '대학원',\n",
              " '전공',\n",
              " '관련',\n",
              " '국내외',\n",
              " '참고도서',\n",
              " '구비',\n",
              " '도서관',\n",
              " '도서관',\n",
              " '컴퓨터',\n",
              " '공간',\n",
              " '다른',\n",
              " '공간',\n",
              " '공기',\n",
              " '조금',\n",
              " '기침',\n",
              " '정도',\n",
              " '먼지털이',\n",
              " '걸레',\n",
              " '한번',\n",
              " '청소',\n",
              " '공기청정기',\n",
              " '설치',\n",
              " '도서관',\n",
              " '건물',\n",
              " '시설',\n",
              " '개설',\n",
              " '도서관',\n",
              " '모델링',\n",
              " '낙후',\n",
              " '도서관',\n",
              " '책장',\n",
              " '도서관',\n",
              " '공간',\n",
              " '경우',\n",
              " '사람',\n",
              " '생각',\n",
              " '우리',\n",
              " '학교',\n",
              " '도서관',\n",
              " '매우',\n",
              " '우리',\n",
              " '학교',\n",
              " '도서관']"
            ]
          },
          "metadata": {},
          "execution_count": 37
        }
      ]
    },
    {
      "cell_type": "markdown",
      "source": [
        "### 6. 단어 카운트"
      ],
      "metadata": {
        "id": "zvrvfKgugD7Z"
      }
    },
    {
      "cell_type": "code",
      "source": [
        "counts = Counter(noun_list)\n",
        "tags = counts.most_common(30) # 30개만 가져옴\n",
        "print(len(tags))\n",
        "tags"
      ],
      "metadata": {
        "colab": {
          "base_uri": "https://localhost:8080/"
        },
        "id": "vBQbFxxYgnvq",
        "outputId": "584beee1-98e3-4df4-848f-86988aee95ed"
      },
      "execution_count": 41,
      "outputs": [
        {
          "output_type": "stream",
          "name": "stdout",
          "text": [
            "30\n"
          ]
        },
        {
          "output_type": "execute_result",
          "data": {
            "text/plain": [
              "[('도서관', 36),\n",
              " ('공간', 28),\n",
              " ('공부', 17),\n",
              " ('시설', 12),\n",
              " ('학교', 12),\n",
              " ('학생', 11),\n",
              " ('도서', 11),\n",
              " ('이용', 10),\n",
              " ('환경', 9),\n",
              " ('최신', 9),\n",
              " ('생각', 8),\n",
              " ('자료', 8),\n",
              " ('열람', 7),\n",
              " ('조금', 7),\n",
              " ('학습', 6),\n",
              " ('개선', 5),\n",
              " ('다른', 5),\n",
              " ('먼지', 4),\n",
              " ('개인', 4),\n",
              " ('건물', 4),\n",
              " ('관련', 4),\n",
              " ('우리', 4),\n",
              " ('부분', 4),\n",
              " ('학기', 3),\n",
              " ('스터디', 3),\n",
              " ('모델링', 3),\n",
              " ('마련', 3),\n",
              " ('대학', 3),\n",
              " ('저희', 3),\n",
              " ('전공', 3)]"
            ]
          },
          "metadata": {},
          "execution_count": 41
        }
      ]
    },
    {
      "cell_type": "markdown",
      "source": [
        "### WordCloud 생성"
      ],
      "metadata": {
        "id": "P2K-6JxigurZ"
      }
    },
    {
      "cell_type": "code",
      "source": [
        "wordcloud = WordCloud(font_path = 'NanumBarunGothic', background_color = 'white', width = 800, height = 600)\n",
        "cloud = wordcloud.generate_from_frequencies(dict(tags))\n",
        "plt.figure(figsize = (10, 8))\n",
        "plt.axis('off')\n",
        "plt.imshow(cloud)\n",
        "plt.show()"
      ],
      "metadata": {
        "colab": {
          "base_uri": "https://localhost:8080/",
          "height": 449
        },
        "id": "83sZfyUEhN6t",
        "outputId": "80f24f05-dd25-4183-ffcc-bebd35b0b755"
      },
      "execution_count": 43,
      "outputs": [
        {
          "output_type": "display_data",
          "data": {
            "text/plain": [
              "<Figure size 720x576 with 1 Axes>"
            ],
            "image/png": "[encoded data removed]"
          },
          "metadata": {
            "needs_background": "light"
          }
        }
      ]
    },
    {
      "cell_type": "code",
      "source": [],
      "metadata": {
        "id": "dW-S-W1yhy_K"
      },
      "execution_count": null,
      "outputs": []
    }
  ]
}