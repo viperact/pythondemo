{
  "nbformat": 4,
  "nbformat_minor": 0,
  "metadata": {
    "colab": {
      "provenance": [],
      "authorship_tag": "ABX9TyPdE/MP2YwKV6ARFyIl9dTs",
      "include_colab_link": true
    },
    "kernelspec": {
      "name": "python3",
      "display_name": "Python 3"
    },
    "language_info": {
      "name": "python"
    }
  },
  "cells": [
    {
      "cell_type": "markdown",
      "metadata": {
        "id": "view-in-github",
        "colab_type": "text"
      },
      "source": [
        "<a href=\"https://colab.research.google.com/github/viperact/pythondemo/blob/main/python_15_%EB%8D%B0%EC%9D%B4%ED%84%B0%EC%88%98%EC%B9%98_%EC%9A%94%EC%95%BD.ipynb\" target=\"_parent\"><img src=\"https://colab.research.google.com/assets/colab-badge.svg\" alt=\"Open In Colab\"/></a>"
      ]
    },
    {
      "cell_type": "markdown",
      "source": [
        "## 4명의 키와 몸무계 계산(합계, 평균, 편차, 분산, 표준편차, 상관계수)\n",
        "1. python을 이용한 4명의 키와 몸무게\n",
        "2. numpy를 이용한 4명의 키와 몸무게"
      ],
      "metadata": {
        "id": "gpFxPguOagxR"
      }
    },
    {
      "cell_type": "markdown",
      "source": [
        "## python을 이용한 4명의 키와 몸무게"
      ],
      "metadata": {
        "id": "J_zui4Kva_Sg"
      }
    },
    {
      "cell_type": "code",
      "source": [
        "height = [175, 165, 180, 160]\n",
        "weight = [75, 70, 95, 72]"
      ],
      "metadata": {
        "id": "RwYFLaWVa3bp"
      },
      "execution_count": 1,
      "outputs": []
    },
    {
      "cell_type": "markdown",
      "source": [
        "합계_height, weigth"
      ],
      "metadata": {
        "id": "afiYMylkbFbI"
      }
    },
    {
      "cell_type": "code",
      "source": [
        "h_sum = sum(height)\n",
        "w_sum = sum(weight)"
      ],
      "metadata": {
        "id": "BqGYNDbXbL_V"
      },
      "execution_count": 7,
      "outputs": []
    },
    {
      "cell_type": "code",
      "source": [
        "print('키 합계:', h_sum)\n",
        "print('몸무게 합계:', w_sum)"
      ],
      "metadata": {
        "colab": {
          "base_uri": "https://localhost:8080/"
        },
        "id": "KATTDb39bQp2",
        "outputId": "8b20191a-086b-4000-f172-1771a69d8a4a"
      },
      "execution_count": 12,
      "outputs": [
        {
          "output_type": "stream",
          "name": "stdout",
          "text": [
            "키 합계: 680\n",
            "몸무게 합계: 312\n"
          ]
        }
      ]
    },
    {
      "cell_type": "markdown",
      "source": [
        "평균_height, weight"
      ],
      "metadata": {
        "id": "CUxsI03DbZ7G"
      }
    },
    {
      "cell_type": "code",
      "source": [
        "length = len(height)"
      ],
      "metadata": {
        "id": "SXFffntlbqp-"
      },
      "execution_count": 16,
      "outputs": []
    },
    {
      "cell_type": "code",
      "source": [
        "print(length)"
      ],
      "metadata": {
        "colab": {
          "base_uri": "https://localhost:8080/"
        },
        "id": "3zAaIYp2cCaY",
        "outputId": "238fef46-55fe-4ded-86a9-9d9354183d73"
      },
      "execution_count": 17,
      "outputs": [
        {
          "output_type": "stream",
          "name": "stdout",
          "text": [
            "4\n"
          ]
        }
      ]
    },
    {
      "cell_type": "code",
      "source": [
        "h_mean = h_sum/length\n",
        "w_mean = w_sum/length"
      ],
      "metadata": {
        "id": "6xqa83zObsd9"
      },
      "execution_count": 14,
      "outputs": []
    },
    {
      "cell_type": "code",
      "source": [
        "print('키 평균:', h_mean)\n",
        "print('몸무게 평균', w_mean)"
      ],
      "metadata": {
        "colab": {
          "base_uri": "https://localhost:8080/"
        },
        "id": "_R84v9uybwrG",
        "outputId": "5fd36a87-d7b9-4569-eb89-11e772a87282"
      },
      "execution_count": 18,
      "outputs": [
        {
          "output_type": "stream",
          "name": "stdout",
          "text": [
            "키 평균: 170.0\n",
            "몸무게 평균 78.0\n"
          ]
        }
      ]
    },
    {
      "cell_type": "markdown",
      "source": [
        "편차_height, weight (평균 - 값) 평균과 원소 사이의 차이값"
      ],
      "metadata": {
        "id": "5JsmMnhtcOJl"
      }
    },
    {
      "cell_type": "code",
      "source": [
        "h_deviation = [i - h_mean for i in height]\n",
        "w_deviation = [i - w_mean for i in weight]"
      ],
      "metadata": {
        "id": "BteTPQdNcGiG"
      },
      "execution_count": 19,
      "outputs": []
    },
    {
      "cell_type": "code",
      "source": [
        "print('키 편차:', h_deviation, sum(h_deviation))\n",
        "print('몸무게 편차:', w_deviation, sum(w_deviation))"
      ],
      "metadata": {
        "colab": {
          "base_uri": "https://localhost:8080/"
        },
        "id": "oXw_aBULcvNW",
        "outputId": "f20716c1-dd1c-4de8-8931-d58f285ed3e7"
      },
      "execution_count": 23,
      "outputs": [
        {
          "output_type": "stream",
          "name": "stdout",
          "text": [
            "키 편차: [5.0, -5.0, 10.0, -10.0] 0.0\n",
            "몸무게 편차: [-3.0, -8.0, 17.0, -6.0] 0.0\n"
          ]
        }
      ]
    },
    {
      "cell_type": "markdown",
      "source": [
        "분산_height, weight (편차의 제곱) : 데이터가 평균을 중심으로 얼마나 흩어져있는지"
      ],
      "metadata": {
        "id": "Ucl8riAfdJQl"
      }
    },
    {
      "cell_type": "code",
      "source": [
        "h_data = [(i - h_mean) ** 2 for i in height]\n",
        "w_data = [(i - w_mean) ** 2 for i in weight]\n",
        "h_variance = sum(h_data)/length\n",
        "w_variance = sum(w_data)/length"
      ],
      "metadata": {
        "id": "mNjsVniKdOYV"
      },
      "execution_count": 27,
      "outputs": []
    },
    {
      "cell_type": "code",
      "source": [
        "print('키 분산:', h_variance)\n",
        "print('몸무게 분산:', w_variance)"
      ],
      "metadata": {
        "colab": {
          "base_uri": "https://localhost:8080/"
        },
        "id": "2KQENkIXdiKd",
        "outputId": "b3b0ba63-b201-4ccf-a403-7377142beec0"
      },
      "execution_count": 28,
      "outputs": [
        {
          "output_type": "stream",
          "name": "stdout",
          "text": [
            "키 분산: 62.5\n",
            "몸무게 분산: 99.5\n"
          ]
        }
      ]
    },
    {
      "cell_type": "markdown",
      "source": [
        "표준편차_height, weight (분산의 제곱근) 흩어진 편차의 평균값 (그래프로 봤을때 편차의 흩어진 정도)"
      ],
      "metadata": {
        "id": "Ez6DLc2xd7Rt"
      }
    },
    {
      "cell_type": "code",
      "source": [
        "# 제곱근을하기위해 math를 import\n",
        "import math\n",
        "\n",
        "h_standard_deviation = math.sqrt(h_variance)\n",
        "w_standard_deviation = math.sqrt(w_variance)"
      ],
      "metadata": {
        "id": "S3ZtebNWeQIv"
      },
      "execution_count": 31,
      "outputs": []
    },
    {
      "cell_type": "code",
      "source": [
        "print('키 표준편차:', h_standard_deviation)\n",
        "print('몸무게 표준편차:', w_standard_deviation)"
      ],
      "metadata": {
        "colab": {
          "base_uri": "https://localhost:8080/"
        },
        "id": "YrVITVV5edl9",
        "outputId": "73ec781c-9984-4671-a75d-05040446a531"
      },
      "execution_count": 32,
      "outputs": [
        {
          "output_type": "stream",
          "name": "stdout",
          "text": [
            "키 표준편차: 7.905694150420948\n",
            "몸무게 표준편차: 9.974968671630002\n"
          ]
        }
      ]
    },
    {
      "cell_type": "markdown",
      "source": [
        "공분산_height, weight (편차 두개를 곱하고 나눔)"
      ],
      "metadata": {
        "id": "9JDGo2LVelT1"
      }
    },
    {
      "cell_type": "code",
      "source": [
        "h_w_covariance = [i * j for i, j in zip(h_deviation, w_deviation)]\n",
        "print(h_w_covariance)\n",
        "\n",
        "h_w_covariance = sum(h_w_covariance)/length\n",
        "print(h_w_covariance)"
      ],
      "metadata": {
        "colab": {
          "base_uri": "https://localhost:8080/"
        },
        "id": "Iqemn6RCe2rf",
        "outputId": "1817e8c4-6d9f-48b9-86b4-3fa3dd9d1ad6"
      },
      "execution_count": 34,
      "outputs": [
        {
          "output_type": "stream",
          "name": "stdout",
          "text": [
            "[-15.0, 40.0, 170.0, 60.0]\n",
            "63.75\n"
          ]
        }
      ]
    },
    {
      "cell_type": "markdown",
      "source": [
        "상관계수_height, weight (공분산값을 표준편차 두개를 곱한값으로 나눈다) : 음수이면 정반대, 양수이면 정방향"
      ],
      "metadata": {
        "id": "_NflxXzVfa4u"
      }
    },
    {
      "cell_type": "code",
      "source": [
        "h_w_coef = h_w_covariance / (h_standard_deviation * w_standard_deviation)\n",
        "print(h_w_coef)"
      ],
      "metadata": {
        "colab": {
          "base_uri": "https://localhost:8080/"
        },
        "id": "Ef2q1rdmffWd",
        "outputId": "16c73832-92a7-4804-ae8e-073816fbc8dd"
      },
      "execution_count": 35,
      "outputs": [
        {
          "output_type": "stream",
          "name": "stdout",
          "text": [
            "0.8084043468090077\n"
          ]
        }
      ]
    },
    {
      "cell_type": "markdown",
      "source": [
        "###numpy를 이용한 4명의 키와 몸무게\n",
        "\n",
        "통계량의 계산이나 기본적인 데이터 분석에 사용되는 함수는 scipy패키지에서도 제공되나,  \n",
        "sum, mean, var, cov, corrcoef등은 Scipy 2.0 부터 remove되고,  \n",
        "numpy에서 사용하도록 권장하고 있다."
      ],
      "metadata": {
        "id": "FW8TuTlGmeGN"
      }
    },
    {
      "cell_type": "code",
      "source": [
        "import numpy as np"
      ],
      "metadata": {
        "id": "Fe_4RnoPmuv-"
      },
      "execution_count": 36,
      "outputs": []
    },
    {
      "cell_type": "code",
      "source": [
        "height = [175, 165, 180, 160]\n",
        "weight = [75, 70, 95, 72]"
      ],
      "metadata": {
        "id": "9cM-t_Oxm4IN"
      },
      "execution_count": 37,
      "outputs": []
    },
    {
      "cell_type": "markdown",
      "source": [
        "합계 - height, weight"
      ],
      "metadata": {
        "id": "Q0NMAvECm4cl"
      }
    },
    {
      "cell_type": "code",
      "source": [
        "h_sum = np.sum(height)\n",
        "w_sum = np.sum(weight)"
      ],
      "metadata": {
        "id": "upADITCunCOM"
      },
      "execution_count": 38,
      "outputs": []
    },
    {
      "cell_type": "code",
      "source": [
        "print('키 합계:', h_sum)\n",
        "print('몸무게 합계:', w_sum)"
      ],
      "metadata": {
        "colab": {
          "base_uri": "https://localhost:8080/"
        },
        "id": "cagBh0cznGct",
        "outputId": "61d4ef90-abf5-4e9a-aa1d-9cc5f47d8633"
      },
      "execution_count": 39,
      "outputs": [
        {
          "output_type": "stream",
          "name": "stdout",
          "text": [
            "키 합계: 680\n",
            "몸무게 합계: 312\n"
          ]
        }
      ]
    },
    {
      "cell_type": "markdown",
      "source": [
        "평균 - height, weight"
      ],
      "metadata": {
        "id": "PXcHZBgCnKws"
      }
    },
    {
      "cell_type": "code",
      "source": [
        "h_mean = np.mean(height)\n",
        "w_mean = np.mean(weight)"
      ],
      "metadata": {
        "id": "2i_TKX1xnS0U"
      },
      "execution_count": 40,
      "outputs": []
    },
    {
      "cell_type": "code",
      "source": [
        "print('키 평균:', h_mean)\n",
        "print('몸무게 평균:', w_mean)"
      ],
      "metadata": {
        "colab": {
          "base_uri": "https://localhost:8080/"
        },
        "id": "i9rLi6-znXS0",
        "outputId": "575adea3-d78d-41fc-8107-9381f86f98a9"
      },
      "execution_count": 42,
      "outputs": [
        {
          "output_type": "stream",
          "name": "stdout",
          "text": [
            "키 평균: 170.0\n",
            "몸무게 평균: 78.0\n"
          ]
        }
      ]
    },
    {
      "cell_type": "markdown",
      "source": [
        "편차 - height, weight"
      ],
      "metadata": {
        "id": "XZtNjbRunfZt"
      }
    },
    {
      "cell_type": "code",
      "source": [
        "h_deviation = height - h_mean\n",
        "w_deviation = weight - w_mean"
      ],
      "metadata": {
        "id": "CiWdr0Kdnj3c"
      },
      "execution_count": 43,
      "outputs": []
    },
    {
      "cell_type": "code",
      "source": [
        "print('키 편차:', h_deviation, np.sum(h_deviation))\n",
        "print('몸무게 편차:', w_deviation, np.sum(w_deviation))"
      ],
      "metadata": {
        "colab": {
          "base_uri": "https://localhost:8080/"
        },
        "id": "m2z3w9hrntz8",
        "outputId": "13dc9bb6-95ca-4d18-f588-409b7178f3aa"
      },
      "execution_count": 45,
      "outputs": [
        {
          "output_type": "stream",
          "name": "stdout",
          "text": [
            "키 편차: [  5.  -5.  10. -10.] 0.0\n",
            "몸무게 편차: [-3. -8. 17. -6.] 0.0\n"
          ]
        }
      ]
    },
    {
      "cell_type": "markdown",
      "source": [
        "분산 - height, weight"
      ],
      "metadata": {
        "id": "mFTwp7U_oJN1"
      }
    },
    {
      "cell_type": "code",
      "source": [
        "h_variance = np.var(height)\n",
        "w_variance = np.var(weight)"
      ],
      "metadata": {
        "id": "nScG3r2woMOU"
      },
      "execution_count": 46,
      "outputs": []
    },
    {
      "cell_type": "code",
      "source": [
        "print('키 분산:', h_variance)\n",
        "print('몸무게 분산:', w_variance)"
      ],
      "metadata": {
        "colab": {
          "base_uri": "https://localhost:8080/"
        },
        "id": "uZg9sRBaoRkU",
        "outputId": "38b2232a-7de8-43e0-fe0c-df79ce21c823"
      },
      "execution_count": 47,
      "outputs": [
        {
          "output_type": "stream",
          "name": "stdout",
          "text": [
            "키 분산: 62.5\n",
            "몸무게 분산: 99.5\n"
          ]
        }
      ]
    },
    {
      "cell_type": "markdown",
      "source": [
        "표준편차 - height, weight"
      ],
      "metadata": {
        "id": "P1jmJChRoW7c"
      }
    },
    {
      "cell_type": "code",
      "source": [
        "h_standard_deviation = np.std(height)\n",
        "w_standard_deviation = np.std(weight)"
      ],
      "metadata": {
        "id": "jAlLEM3KojUV"
      },
      "execution_count": 48,
      "outputs": []
    },
    {
      "cell_type": "code",
      "source": [
        "print('키 표준편차:', h_standard_deviation)\n",
        "print('몸무게 표준편차:', w_standard_deviation)"
      ],
      "metadata": {
        "colab": {
          "base_uri": "https://localhost:8080/"
        },
        "id": "YwcYH3DOopn8",
        "outputId": "186f48ff-1d99-4049-e56c-9011a7647e60"
      },
      "execution_count": 49,
      "outputs": [
        {
          "output_type": "stream",
          "name": "stdout",
          "text": [
            "키 표준편차: 7.905694150420948\n",
            "몸무게 표준편차: 9.974968671630002\n"
          ]
        }
      ]
    },
    {
      "cell_type": "markdown",
      "source": [
        "공분산 - height, weight"
      ],
      "metadata": {
        "id": "fp9OxgZbovd0"
      }
    },
    {
      "cell_type": "code",
      "source": [
        "# 공분산 매트릭스로 출력\n",
        "h_w_covariance = np.cov(height, weight, ddof = 0) # default ddof = 0 / ddof : 표본집단\n",
        "h_w_covariance"
      ],
      "metadata": {
        "colab": {
          "base_uri": "https://localhost:8080/"
        },
        "id": "mHJbB1Cyo9ct",
        "outputId": "d343975f-a3b9-445d-d851-8bfdee431fde"
      },
      "execution_count": 51,
      "outputs": [
        {
          "output_type": "execute_result",
          "data": {
            "text/plain": [
              "array([[62.5 , 63.75],\n",
              "       [63.75, 99.5 ]])"
            ]
          },
          "metadata": {},
          "execution_count": 51
        }
      ]
    },
    {
      "cell_type": "markdown",
      "source": [
        "상관계수 - height, weight"
      ],
      "metadata": {
        "id": "tXCFe0z9phkV"
      }
    },
    {
      "cell_type": "code",
      "source": [
        "# 상관계수 매트릭스로 출력\n",
        "np.corrcoef(height, weight)"
      ],
      "metadata": {
        "colab": {
          "base_uri": "https://localhost:8080/"
        },
        "id": "cjPq18IspkCM",
        "outputId": "dd5b8cb0-9d24-4068-9675-f3356cdd9453"
      },
      "execution_count": 52,
      "outputs": [
        {
          "output_type": "execute_result",
          "data": {
            "text/plain": [
              "array([[1.        , 0.80840435],\n",
              "       [0.80840435, 1.        ]])"
            ]
          },
          "metadata": {},
          "execution_count": 52
        }
      ]
    },
    {
      "cell_type": "code",
      "source": [],
      "metadata": {
        "id": "-e3z1W9Xpnws"
      },
      "execution_count": null,
      "outputs": []
    }
  ]
}