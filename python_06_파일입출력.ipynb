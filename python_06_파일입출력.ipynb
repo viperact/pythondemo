{
  "nbformat": 4,
  "nbformat_minor": 0,
  "metadata": {
    "colab": {
      "provenance": [],
      "authorship_tag": "ABX9TyNZ+KtA1MFUiBHArHxQdnI8",
      "include_colab_link": true
    },
    "kernelspec": {
      "name": "python3",
      "display_name": "Python 3"
    },
    "language_info": {
      "name": "python"
    }
  },
  "cells": [
    {
      "cell_type": "markdown",
      "metadata": {
        "id": "view-in-github",
        "colab_type": "text"
      },
      "source": [
        "<a href=\"https://colab.research.google.com/github/viperact/pythondemo/blob/main/python_06_%ED%8C%8C%EC%9D%BC%EC%9E%85%EC%B6%9C%EB%A0%A5.ipynb\" target=\"_parent\"><img src=\"https://colab.research.google.com/assets/colab-badge.svg\" alt=\"Open In Colab\"/></a>"
      ]
    },
    {
      "cell_type": "markdown",
      "source": [
        "open('파일경로', '파일열기모드')\n",
        " - 파일 열기 모드\n",
        "  - w : 쓰기 모드 - 파일에 내용을 쓸때 사용\n",
        "  - r : 읽기 모드 - 파일의 내용을 읽을 때 사용\n",
        "  - a : 추가 모드 - 파일에 내용을 추가할때 사용"
      ],
      "metadata": {
        "id": "fdw9HdLv_ASW"
      }
    },
    {
      "cell_type": "code",
      "execution_count": 6,
      "metadata": {
        "id": "PrbNgCOi-5_b"
      },
      "outputs": [],
      "source": [
        "# open('파일경로', '모드')\n",
        "fwrite = open('sample.txt', 'w') # 파일 열기\n",
        "for i in range(1, 4):\n",
        "  data = '%d번째 줄입니다.\\n' % i\n",
        "  fwrite.write(data)\n",
        "fwrite.close() # 파일 닫기"
      ]
    },
    {
      "cell_type": "code",
      "source": [
        "fread = open('sample.txt', 'r') # sample.txt파일에 데이터를 읽어온다\n",
        "#line = fread.readline() # readline()은 파일에서 한 라인씩 읽어옴\n",
        "line = fread.read() # read()는 파일에서 전체를 읽어와 str로 리턴한다.\n",
        "print(type(line))\n",
        "fread.close()"
      ],
      "metadata": {
        "colab": {
          "base_uri": "https://localhost:8080/"
        },
        "id": "2sptn-1OAWRQ",
        "outputId": "7517eb97-80eb-4e03-b7e6-623757719f7a"
      },
      "execution_count": 7,
      "outputs": [
        {
          "output_type": "stream",
          "name": "stdout",
          "text": [
            "<class 'str'>\n"
          ]
        }
      ]
    },
    {
      "cell_type": "code",
      "source": [
        "fread = open('sample.txt', 'r') # sample.txt파일에 데이터를 읽어온다.\n",
        "while True:\n",
        "  line = fread.readline() # readline()은 파일에서 한 라인씩 읽어옴\n",
        "  \n",
        "  if not line: # 파일에서 더 이상 읽어올 내용이 없으면\n",
        "     break\n",
        "  print(line)\n",
        "fread.close()\n"
      ],
      "metadata": {
        "colab": {
          "base_uri": "https://localhost:8080/"
        },
        "id": "zW63YFLhBuX-",
        "outputId": "40ea905e-34a8-4f71-c0f9-2ecd66e20241"
      },
      "execution_count": 13,
      "outputs": [
        {
          "output_type": "stream",
          "name": "stdout",
          "text": [
            "1번째 줄입니다.\n",
            "\n",
            "2번째 줄입니다.\n",
            "\n",
            "3번째 줄입니다.\n",
            "\n"
          ]
        }
      ]
    },
    {
      "cell_type": "code",
      "source": [
        "import os\n",
        "path = os.getcwd()\n",
        "print(path)"
      ],
      "metadata": {
        "colab": {
          "base_uri": "https://localhost:8080/"
        },
        "id": "0a5lCnASDATX",
        "outputId": "d8b5fb5c-cf52-46ba-f350-f09fe3f6eb50"
      },
      "execution_count": 9,
      "outputs": [
        {
          "output_type": "stream",
          "name": "stdout",
          "text": [
            "/content\n"
          ]
        }
      ]
    },
    {
      "cell_type": "markdown",
      "source": [
        "### with문과 함께 사용\n",
        " - with 문과 함께 파일을 사용하면 읽기, 쓰기할때 close()을 안해도 된다."
      ],
      "metadata": {
        "id": "z0eNYKbyEGG5"
      }
    },
    {
      "cell_type": "code",
      "source": [
        "with open('sample.txt', 'w') as f:\n",
        "  for i in range(5, 8):\n",
        "    data = '%d번째 줄 입니다.\\n' % i \n",
        "    f.write(data)"
      ],
      "metadata": {
        "id": "WM29wUDND2At"
      },
      "execution_count": 16,
      "outputs": []
    },
    {
      "cell_type": "code",
      "source": [
        "with open('sample.txt', 'r') as f:\n",
        "  while True:\n",
        "    line = f.readline()\n",
        "    if not line:\n",
        "      break\n",
        "    print(line)"
      ],
      "metadata": {
        "colab": {
          "base_uri": "https://localhost:8080/"
        },
        "id": "kkKJ_jGHEpJU",
        "outputId": "01b72c49-09f4-4552-9e47-982b3e474745"
      },
      "execution_count": 17,
      "outputs": [
        {
          "output_type": "stream",
          "name": "stdout",
          "text": [
            "5번째 줄 입니다.\n",
            "\n",
            "6번째 줄 입니다.\n",
            "\n",
            "7번째 줄 입니다.\n",
            "\n"
          ]
        }
      ]
    },
    {
      "cell_type": "code",
      "source": [
        "with open('tes.txt', 'w') as f:\n",
        "  f.writelines(['apple', 'banana', 'lemon'])\n",
        "  #f.writelines([True, False, True, False]) # lines는 String(str)만 작성가능"
      ],
      "metadata": {
        "id": "vGyXVGcMFcI5"
      },
      "execution_count": 25,
      "outputs": []
    },
    {
      "cell_type": "code",
      "source": [
        "with open('tes.txt', 'r') as f:\n",
        "  print(f.readlines())"
      ],
      "metadata": {
        "colab": {
          "base_uri": "https://localhost:8080/"
        },
        "id": "MvFEzRk0Fjrl",
        "outputId": "d35f8248-b84e-40b7-e713-4cc6aa1d0317"
      },
      "execution_count": 23,
      "outputs": [
        {
          "output_type": "stream",
          "name": "stdout",
          "text": [
            "['applebananalemon']\n"
          ]
        }
      ]
    },
    {
      "cell_type": "code",
      "source": [
        "import random"
      ],
      "metadata": {
        "id": "D4w6_Mt8Gq6m"
      },
      "execution_count": 26,
      "outputs": []
    },
    {
      "cell_type": "code",
      "source": [
        "random.choice([1, 2, 3, 4])"
      ],
      "metadata": {
        "colab": {
          "base_uri": "https://localhost:8080/"
        },
        "id": "PBu21SsTGtsV",
        "outputId": "fb1eb9ad-e76f-476a-e1a4-ba9e55e8cb74"
      },
      "execution_count": 33,
      "outputs": [
        {
          "output_type": "execute_result",
          "data": {
            "text/plain": [
              "3"
            ]
          },
          "metadata": {},
          "execution_count": 33
        }
      ]
    },
    {
      "cell_type": "code",
      "source": [
        "# 1부터 10미만 사이의 난수 발생\n",
        "random.randrange(1, 10)"
      ],
      "metadata": {
        "colab": {
          "base_uri": "https://localhost:8080/"
        },
        "id": "hJLlsau4GyiM",
        "outputId": "3228a31d-63b1-446f-ec01-020f27ba7563"
      },
      "execution_count": 36,
      "outputs": [
        {
          "output_type": "execute_result",
          "data": {
            "text/plain": [
              "9"
            ]
          },
          "metadata": {},
          "execution_count": 36
        }
      ]
    },
    {
      "cell_type": "code",
      "source": [
        "with open('number.txt', 'w') as f:\n",
        "  f.write(str(random.randrange(1, 10)))"
      ],
      "metadata": {
        "id": "UFQJ-mmXG_Fk"
      },
      "execution_count": 38,
      "outputs": []
    },
    {
      "cell_type": "code",
      "source": [
        "with open('number.txt', 'r') as f:\n",
        "  print(f.read())"
      ],
      "metadata": {
        "colab": {
          "base_uri": "https://localhost:8080/"
        },
        "id": "XONRlXaGHp2Y",
        "outputId": "dcbddfc7-e476-4501-8c50-db9fccd951a8"
      },
      "execution_count": 39,
      "outputs": [
        {
          "output_type": "stream",
          "name": "stdout",
          "text": [
            "7\n"
          ]
        }
      ]
    }
  ]
}