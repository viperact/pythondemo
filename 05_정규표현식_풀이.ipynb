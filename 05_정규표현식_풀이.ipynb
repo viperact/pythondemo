{
  "cells": [
    {
      "cell_type": "markdown",
      "metadata": {
        "id": "view-in-github",
        "colab_type": "text"
      },
      "source": [
        "<a href=\"https://colab.research.google.com/github/viperact/pythondemo/blob/main/05_%EC%A0%95%EA%B7%9C%ED%91%9C%ED%98%84%EC%8B%9D_%ED%92%80%EC%9D%B4.ipynb\" target=\"_parent\"><img src=\"https://colab.research.google.com/assets/colab-badge.svg\" alt=\"Open In Colab\"/></a>"
      ]
    },
    {
      "cell_type": "code",
      "execution_count": null,
      "id": "cd94fe96",
      "metadata": {
        "id": "cd94fe96"
      },
      "outputs": [],
      "source": [
        "import os\n",
        "import re"
      ]
    },
    {
      "cell_type": "markdown",
      "id": "d23ba8b6",
      "metadata": {
        "id": "d23ba8b6"
      },
      "source": [
        "문제1] 이름과 년도을 출력하도록 구현\n",
        "\n",
        "['(이동민, 2019)', '(최재영, 2019)', '(Lion, 2018)']"
      ]
    },
    {
      "cell_type": "code",
      "execution_count": null,
      "id": "5975cac2",
      "metadata": {
        "id": "5975cac2"
      },
      "outputs": [],
      "source": [
        "example1 = '이동민 교수님은 다음과 같이 설명했습니다(이동민, 2019). 그런데 다른 교수님은 이 문제에 대해서 다른 견해를 가지고 있었습니다(최재영, 2019). 또 다른 견해도 있었습니다(Lion, 2018)'"
      ]
    },
    {
      "cell_type": "code",
      "execution_count": null,
      "id": "2efe56dd",
      "metadata": {
        "id": "2efe56dd",
        "outputId": "7f2f8aa2-80cb-40bc-d8d2-5083a3c2d91e"
      },
      "outputs": [
        {
          "data": {
            "text/plain": [
              "['(이동민, 2019)', '(최재영, 2019)', '(Lion, 2018)']"
            ]
          },
          "execution_count": 47,
          "metadata": {},
          "output_type": "execute_result"
        }
      ],
      "source": [
        "re.findall(r'\\([A-Za-z가-힣]+, \\d+\\)', example1)"
      ]
    },
    {
      "cell_type": "code",
      "execution_count": null,
      "id": "4111ce0a",
      "metadata": {
        "id": "4111ce0a",
        "outputId": "1134eaae-314f-43f4-91b5-5de6a5e277fa"
      },
      "outputs": [
        {
          "data": {
            "text/plain": [
              "['(이동민, 2019)', '(최재영, 2019)', '(Lion, 2018)']"
            ]
          },
          "execution_count": 48,
          "metadata": {},
          "output_type": "execute_result"
        }
      ],
      "source": [
        "result = re.findall(r'\\(.+?\\)', example1)\n",
        "result"
      ]
    },
    {
      "cell_type": "markdown",
      "id": "ab5a0599",
      "metadata": {
        "id": "ab5a0599"
      },
      "source": [
        "문제2] 년도만 추출해 리스트로 반환\n",
        "\n",
        "['91년', '97년', '2021년']\n"
      ]
    },
    {
      "cell_type": "code",
      "execution_count": null,
      "id": "34a7ab24",
      "metadata": {
        "id": "34a7ab24"
      },
      "outputs": [],
      "source": [
        "example2 = '저는 91년에 태어났습니다. 97년에는 IMF가 있었습니다. 지금은 2021년입니다.'"
      ]
    },
    {
      "cell_type": "code",
      "execution_count": null,
      "id": "61d0606c",
      "metadata": {
        "id": "61d0606c",
        "outputId": "1b9731ef-937b-4905-f731-30bf40fd422c"
      },
      "outputs": [
        {
          "data": {
            "text/plain": [
              "['91년', '97년', '2021년']"
            ]
          },
          "execution_count": 50,
          "metadata": {},
          "output_type": "execute_result"
        }
      ],
      "source": [
        "re.findall(r'\\d.+?년', example2)"
      ]
    },
    {
      "cell_type": "markdown",
      "id": "8058c206",
      "metadata": {
        "id": "8058c206"
      },
      "source": [
        "문제3] '.' or '!' or '?'을 나누도록 구현\n",
        "\n",
        "['I have a lovely dog, really',  \n",
        " ' I am not telling a lie',  \n",
        " ' What a pretty dog',  \n",
        " ' I love this dog',  \n",
        " '']  \n",
        " "
      ]
    },
    {
      "cell_type": "code",
      "execution_count": null,
      "id": "12221f0d",
      "metadata": {
        "id": "12221f0d"
      },
      "outputs": [],
      "source": [
        "example3 = 'I have a lovely dog, really. I am not telling a lie. What a pretty dog! I love this dog.'"
      ]
    },
    {
      "cell_type": "code",
      "execution_count": null,
      "id": "4e064aa2",
      "metadata": {
        "id": "4e064aa2",
        "outputId": "748d118b-9a49-45f1-abb9-b8cbd07321ff"
      },
      "outputs": [
        {
          "data": {
            "text/plain": [
              "['I have a lovely dog, really',\n",
              " ' I am not telling a lie',\n",
              " ' What a pretty dog',\n",
              " ' I love this dog',\n",
              " '']"
            ]
          },
          "execution_count": 52,
          "metadata": {},
          "output_type": "execute_result"
        }
      ],
      "source": [
        "re.split(r'[.!?]', example3)"
      ]
    },
    {
      "cell_type": "markdown",
      "id": "b0705efa",
      "metadata": {
        "id": "b0705efa"
      },
      "source": [
        "문제4] ':'와 ';'을 변경\n",
        "\n",
        "['a', '3']  \n",
        "[' b', '4']  \n",
        "[' c', '5']  "
      ]
    },
    {
      "cell_type": "code",
      "execution_count": null,
      "id": "953ef541",
      "metadata": {
        "id": "953ef541"
      },
      "outputs": [],
      "source": [
        "example4 = 'a:3; b:4; c:5'"
      ]
    },
    {
      "cell_type": "code",
      "execution_count": null,
      "id": "dcca200a",
      "metadata": {
        "id": "dcca200a",
        "outputId": "c7843bea-d9e6-430c-a5a0-8d5fad3af49f"
      },
      "outputs": [
        {
          "name": "stdout",
          "output_type": "stream",
          "text": [
            "['a', '3']\n",
            "[' b', '4']\n",
            "[' c', '5']\n"
          ]
        }
      ],
      "source": [
        "for i in re.split(r';', example4):\n",
        "    print(re.split(r':', i))"
      ]
    },
    {
      "cell_type": "markdown",
      "id": "40e6ba33",
      "metadata": {
        "id": "40e6ba33"
      },
      "source": [
        "문제5] 'dog'을 'cat'으로 변경  \n",
        "\n",
        "'I have a lovely cat, really. I am not telling a lie. What a pretty cat! I love this cat.'"
      ]
    },
    {
      "cell_type": "code",
      "execution_count": null,
      "id": "f934d569",
      "metadata": {
        "id": "f934d569"
      },
      "outputs": [],
      "source": [
        "example5 = 'I have a lovely dog, really. I am not telling a lie. What a pretty dog! I love this dog.'"
      ]
    },
    {
      "cell_type": "code",
      "execution_count": null,
      "id": "bba43652",
      "metadata": {
        "id": "bba43652",
        "outputId": "cb2ecce3-eafc-474c-890d-a6cf5d01a827"
      },
      "outputs": [
        {
          "data": {
            "text/plain": [
              "'I have a lovely cat, really. I am not telling a lie. What a pretty cat! I love this cat.'"
            ]
          },
          "execution_count": 56,
          "metadata": {},
          "output_type": "execute_result"
        }
      ],
      "source": [
        "re.sub(r'dog', 'cat', example5)"
      ]
    },
    {
      "cell_type": "markdown",
      "id": "b6976b40",
      "metadata": {
        "id": "b6976b40"
      },
      "source": [
        "문제6] 문장에서 '\\n'을 없애도록 추출\n",
        "\n",
        "'I am home now. I am with my cat.'"
      ]
    },
    {
      "cell_type": "code",
      "execution_count": null,
      "id": "e8e2381d",
      "metadata": {
        "id": "e8e2381d"
      },
      "outputs": [],
      "source": [
        "example6 = 'I am home now. \\n\\n\\nI am with my cat.\\n\\n'"
      ]
    },
    {
      "cell_type": "code",
      "execution_count": null,
      "id": "e5c9eba0",
      "metadata": {
        "id": "e5c9eba0",
        "outputId": "40ed28ce-59e9-486f-de5c-6fa45353de7a"
      },
      "outputs": [
        {
          "data": {
            "text/plain": [
              "'I am home now. I am with my cat.'"
            ]
          },
          "execution_count": 58,
          "metadata": {},
          "output_type": "execute_result"
        }
      ],
      "source": [
        "re.sub(r'\\n','', example6)"
      ]
    },
    {
      "cell_type": "markdown",
      "id": "c4139758",
      "metadata": {
        "id": "c4139758"
      },
      "source": [
        "문제7] 문장에서 'ly'로 끝나는 단어만 추출\n",
        "\n",
        "['lovely', 'really']"
      ]
    },
    {
      "cell_type": "code",
      "execution_count": null,
      "id": "36f678fa",
      "metadata": {
        "id": "36f678fa"
      },
      "outputs": [],
      "source": [
        "example7 = 'I have a lovely dog, really. I am not telling a lie'"
      ]
    },
    {
      "cell_type": "code",
      "execution_count": null,
      "id": "e8aef821",
      "metadata": {
        "id": "e8aef821",
        "outputId": "8532e068-c236-4329-fe62-e012cc859e19"
      },
      "outputs": [
        {
          "data": {
            "text/plain": [
              "['lovely', 'really']"
            ]
          },
          "execution_count": 60,
          "metadata": {},
          "output_type": "execute_result"
        }
      ],
      "source": [
        "re.findall(r'\\w+ly', example7)"
      ]
    },
    {
      "cell_type": "markdown",
      "id": "d3b53486",
      "metadata": {
        "id": "d3b53486"
      },
      "source": [
        "==============================================================  \n",
        "드라마 프렌즈 대사 파일로 저장하기   \n",
        "\n",
        "https://fangj.github.io/friends/ 에서 101 Monica Gets A Roommate을 선택후 모든 데이터를 friend101.txt로 저장"
      ]
    },
    {
      "cell_type": "code",
      "execution_count": null,
      "id": "b5c895b9",
      "metadata": {
        "id": "b5c895b9",
        "outputId": "fa381733-cc6b-48d0-d74b-1d177fd5c1de"
      },
      "outputs": [
        {
          "name": "stdout",
          "output_type": "stream",
          "text": [
            "The One Where Monica Gets a New Roommate (The Pilot-The Uncut Version)\n",
            "Written by: Marta Kauffman & \n"
          ]
        }
      ],
      "source": [
        "f = open('e:\\\\friends\\\\friends101.txt', 'r', encoding='utf-8')  \n",
        "friends = f.read()\n",
        "print(friends[:100])\n",
        "f.close()"
      ]
    },
    {
      "cell_type": "markdown",
      "id": "419b328b",
      "metadata": {
        "id": "419b328b"
      },
      "source": [
        "문제8] Monica의 대사에서 상위 3개만  출력  \n",
        "\n",
        "\n",
        "[\"Monica: There's nothing to tell! He's just some guy I work with!\",\n",
        " \"Monica: Okay, everybody relax. This is not even a date. It's just two people going out to dinner and- not having sex.\",\n",
        " \"Monica: And they weren't looking at you before?!\"]"
      ]
    },
    {
      "cell_type": "code",
      "execution_count": null,
      "id": "6aac75eb",
      "metadata": {
        "id": "6aac75eb",
        "outputId": "e230cd59-ccb0-48f0-bb24-7050babc9a09"
      },
      "outputs": [
        {
          "data": {
            "text/plain": [
              "[\"Monica: There's nothing to tell! He's just some guy I work with!\",\n",
              " \"Monica: Okay, everybody relax. This is not even a date. It's just two people going out to dinner and- not having sex.\",\n",
              " \"Monica: And they weren't looking at you before?!\"]"
            ]
          },
          "execution_count": 93,
          "metadata": {},
          "output_type": "execute_result"
        }
      ],
      "source": [
        "re.findall(r'Monica:.+', friends)[:3]"
      ]
    },
    {
      "cell_type": "markdown",
      "id": "a870c1aa",
      "metadata": {
        "id": "a870c1aa"
      },
      "source": [
        "문제9] 등장인물 모으기\n",
        "\n",
        "['All', 'Ross', 'Monica', 'Rachel', 'Customer', 'Chandler', 'Note', 'Scene', 'Paul', 'Phoebe', 'Waitress', 'Joey', 'Frannie']"
      ]
    },
    {
      "cell_type": "code",
      "execution_count": null,
      "id": "8a40d207",
      "metadata": {
        "id": "8a40d207",
        "outputId": "e6866aeb-eeae-4dca-8fde-73518fcfbbb7"
      },
      "outputs": [
        {
          "name": "stdout",
          "output_type": "stream",
          "text": [
            "{'All:', 'Ross:', 'Monica:', 'Rachel:', 'Customer:', 'Chandler:', 'Note:', 'Scene:', 'Paul:', 'Phoebe:', 'Waitress:', 'Joey:', 'Frannie:'}\n",
            "['All', 'Ross', 'Monica', 'Rachel', 'Customer', 'Chandler', 'Note', 'Scene', 'Paul', 'Phoebe', 'Waitress', 'Joey', 'Frannie']\n"
          ]
        }
      ],
      "source": [
        "listChar = []\n",
        "char = re.findall(r'[A-Z][a-z]+:', friends)\n",
        "setChar = set(char)\n",
        "print(setChar)\n",
        "for i in setChar:\n",
        "    listChar+= [i[:-1]]    \n",
        "print(listChar)\n"
      ]
    },
    {
      "cell_type": "markdown",
      "id": "2e06f054",
      "metadata": {
        "id": "2e06f054"
      },
      "source": [
        "문제10] 프렌즈 대본 대사에서 지문만 상위 6개 출력    \n",
        "\n",
        "\n",
        "\n",
        "\n",
        "['(The Pilot-The Uncut Version)',\n",
        " '(Note: The previously unseen parts of this episode are shown in blue text.)',\n",
        " '(They all stare, bemused.)',\n",
        " '(mortified)',\n",
        " '(explaining to the others)',\n",
        " '(to Ross)']"
      ]
    },
    {
      "cell_type": "code",
      "execution_count": null,
      "id": "65a46e65",
      "metadata": {
        "id": "65a46e65",
        "outputId": "5be0a84a-ea67-4b97-c27a-4d3468effe30"
      },
      "outputs": [
        {
          "data": {
            "text/plain": [
              "['(The Pilot-The Uncut Version)',\n",
              " '(Note: The previously unseen parts of this episode are shown in blue text.)',\n",
              " '(They all stare, bemused.)',\n",
              " '(mortified)',\n",
              " '(explaining to the others)',\n",
              " '(to Ross)']"
            ]
          },
          "execution_count": 113,
          "metadata": {},
          "output_type": "execute_result"
        }
      ],
      "source": [
        "re.findall(r'\\([A-Za-z].+[a-z.]\\)', friends)[:6]"
      ]
    },
    {
      "cell_type": "markdown",
      "id": "1b985d6c",
      "metadata": {
        "id": "1b985d6c"
      },
      "source": [
        "문제11]   would가 들어간 문장만 추출  \n",
        "\n",
        "\n",
        "[\"Rachel: Ooh, I was kinda hoping that wouldn't be an issue... [Scene: Monica's Apartment, everyone is there and watching a Spanish Soap on TV and are trying to figure out what is going on.]\\n\",\n",
        " \"Chandler: I would have to say that is an 'L'-shaped bracket.\\n\",\n",
        " 'Monica: Why?! Why? Why, why would anybody do something like that?\\n',\n",
        " 'Rachel: You would be too if you found John and David boots on sale, fifty percent off!\\n',\n",
        " 'Ross: Oh. Listen, do you think- and try not to let my intense vulnerability become any kind of a factor here- but do you think it would be okay if I asked you out? Sometime? Maybe?\\n',\n",
        " \"Joey: Oh, you wouldn't know a great butt if it came up and bit ya.\\n\"]\n"
      ]
    },
    {
      "cell_type": "code",
      "execution_count": null,
      "id": "6e84d910",
      "metadata": {
        "id": "6e84d910",
        "outputId": "a399a44d-1cb3-4ac8-a6d4-fa9a897dbbe4"
      },
      "outputs": [
        {
          "data": {
            "text/plain": [
              "[\"Rachel: Ooh, I was kinda hoping that wouldn't be an issue... [Scene: Monica's Apartment, everyone is there and watching a Spanish Soap on TV and are trying to figure out what is going on.]\\n\",\n",
              " \"Chandler: I would have to say that is an 'L'-shaped bracket.\\n\",\n",
              " 'Monica: Why?! Why? Why, why would anybody do something like that?\\n',\n",
              " 'Rachel: You would be too if you found John and David boots on sale, fifty percent off!\\n',\n",
              " 'Ross: Oh. Listen, do you think- and try not to let my intense vulnerability become any kind of a factor here- but do you think it would be okay if I asked you out? Sometime? Maybe?\\n',\n",
              " \"Joey: Oh, you wouldn't know a great butt if it came up and bit ya.\\n\"]"
            ]
          },
          "execution_count": 137,
          "metadata": {},
          "output_type": "execute_result"
        }
      ],
      "source": [
        "with open('e:\\\\friends\\\\friends101.txt') as f:\n",
        "    sentences = f.readlines()\n",
        "\n",
        "lines = [i for i in sentences if re.match(r'[A-Z][a-z]+:', i) and re.search('would', i)]\n",
        "lines"
      ]
    },
    {
      "cell_type": "markdown",
      "id": "0481a754",
      "metadata": {
        "id": "0481a754"
      },
      "source": [
        "문제12] words리스트에 저장된 여러 단어중 'a'로 시작하는 단어만 출력  \n",
        "\n",
        "apple  \n",
        "arise  \n",
        "above  "
      ]
    },
    {
      "cell_type": "code",
      "execution_count": null,
      "id": "f971e583",
      "metadata": {
        "id": "f971e583"
      },
      "outputs": [],
      "source": [
        "words = ['apple', 'cat', 'brave', 'drama', 'arise', 'blow', 'coat', 'above']"
      ]
    },
    {
      "cell_type": "code",
      "execution_count": null,
      "id": "e4213798",
      "metadata": {
        "id": "e4213798",
        "outputId": "9840efac-37a4-43b8-9699-948086e9edc6"
      },
      "outputs": [
        {
          "name": "stdout",
          "output_type": "stream",
          "text": [
            "apple\n",
            "arise\n",
            "above\n"
          ]
        }
      ],
      "source": [
        "for i in words:\n",
        "    m = re.match(r'a\\D+', i)\n",
        "    if m:\n",
        "        print(m.group())"
      ]
    },
    {
      "cell_type": "markdown",
      "id": "14c345ee",
      "metadata": {
        "id": "14c345ee"
      },
      "source": [
        "문제13] data에 저장된 데이터에서 email만 추출\n",
        "\n",
        "\n",
        "['greatking@naver.com', 'travel@daum.net', 'apple@gmail.com', 'life@abc.co.kr']\n"
      ]
    },
    {
      "cell_type": "code",
      "execution_count": null,
      "id": "e5d68305",
      "metadata": {
        "id": "e5d68305"
      },
      "outputs": [],
      "source": [
        "data = '제 이메일 주소는 greatking@naver.com입니다. 오늘 저는 travel@daum.net 라는 주소로 메일을 보내려고 합니다. 저는 apple@gmail.com, life@abc.co.kr 라는 메일도 사용하고 있습니다.'\n"
      ]
    },
    {
      "cell_type": "code",
      "execution_count": null,
      "id": "0c1ffeb0",
      "metadata": {
        "id": "0c1ffeb0",
        "outputId": "10b9be8c-e6b9-464a-9936-8ce1ba022eb2"
      },
      "outputs": [
        {
          "data": {
            "text/plain": [
              "['greatking@naver.com', 'travel@daum.net', 'apple@gmail.com', 'life@abc.co.kr']"
            ]
          },
          "execution_count": 154,
          "metadata": {},
          "output_type": "execute_result"
        }
      ],
      "source": [
        "b = re.findall(r'[a-z]+@[a-z.]+', data)\n",
        "b"
      ]
    },
    {
      "cell_type": "markdown",
      "id": "d0f11ce9",
      "metadata": {
        "id": "d0f11ce9"
      },
      "source": [
        "문제14] 숫자에서 천단위를 제거  \n",
        "\n",
        "['123강남', 151767.0, 11093.0, 27394.0]"
      ]
    },
    {
      "cell_type": "code",
      "execution_count": null,
      "id": "82cb78c3",
      "metadata": {
        "id": "82cb78c3"
      },
      "outputs": [],
      "source": [
        "data = ['123강남', '151,767', '11,093', '27,394']\n"
      ]
    },
    {
      "cell_type": "code",
      "execution_count": null,
      "id": "cbb0eeae",
      "metadata": {
        "colab": {
          "base_uri": "https://localhost:8080/"
        },
        "id": "cbb0eeae",
        "outputId": "3229fb9e-9705-449b-bd25-17f58fe579d7"
      },
      "outputs": [
        {
          "output_type": "execute_result",
          "data": {
            "text/plain": [
              "['123강남', 151767.0, 11093.0, 27394.0]"
            ]
          },
          "metadata": {},
          "execution_count": 4
        }
      ],
      "source": [
        "k = []\n",
        "\n",
        "for j in data:\n",
        "    if re.search('[a-z가-힣]', j):\n",
        "        k.append(j)\n",
        "    else:\n",
        "        k.append(float(re.sub(',', '', j)))\n",
        "\n",
        "k"
      ]
    },
    {
      "cell_type": "code",
      "execution_count": null,
      "id": "0b4c4824",
      "metadata": {
        "id": "0b4c4824"
      },
      "outputs": [],
      "source": []
    },
    {
      "cell_type": "code",
      "execution_count": null,
      "id": "0223e18d",
      "metadata": {
        "id": "0223e18d"
      },
      "outputs": [],
      "source": []
    },
    {
      "cell_type": "code",
      "execution_count": null,
      "id": "961afb87",
      "metadata": {
        "id": "961afb87"
      },
      "outputs": [],
      "source": []
    },
    {
      "cell_type": "code",
      "execution_count": null,
      "id": "14280b36",
      "metadata": {
        "id": "14280b36"
      },
      "outputs": [],
      "source": []
    },
    {
      "cell_type": "code",
      "execution_count": null,
      "id": "1f6e7f71",
      "metadata": {
        "id": "1f6e7f71"
      },
      "outputs": [],
      "source": []
    },
    {
      "cell_type": "code",
      "execution_count": null,
      "id": "2ac88257",
      "metadata": {
        "id": "2ac88257"
      },
      "outputs": [],
      "source": []
    }
  ],
  "metadata": {
    "kernelspec": {
      "display_name": "Python 3",
      "language": "python",
      "name": "python3"
    },
    "language_info": {
      "codemirror_mode": {
        "name": "ipython",
        "version": 3
      },
      "file_extension": ".py",
      "mimetype": "text/x-python",
      "name": "python",
      "nbconvert_exporter": "python",
      "pygments_lexer": "ipython3",
      "version": "3.8.8"
    },
    "colab": {
      "provenance": [],
      "include_colab_link": true
    }
  },
  "nbformat": 4,
  "nbformat_minor": 5
}