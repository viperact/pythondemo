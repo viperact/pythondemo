{
  "nbformat": 4,
  "nbformat_minor": 0,
  "metadata": {
    "colab": {
      "provenance": [],
      "mount_file_id": "1gLNpbzYCQ-7fnhFvRxzo3xph_oXZb-16",
      "authorship_tag": "ABX9TyOWrwwMbynuPnkqjWp2JJJ4",
      "include_colab_link": true
    },
    "kernelspec": {
      "name": "python3",
      "display_name": "Python 3"
    },
    "language_info": {
      "name": "python"
    }
  },
  "cells": [
    {
      "cell_type": "markdown",
      "metadata": {
        "id": "view-in-github",
        "colab_type": "text"
      },
      "source": [
        "<a href=\"https://colab.research.google.com/github/viperact/pythondemo/blob/main/100_colab_%ED%99%98%EA%B2%BD%EC%84%A4%EC%A0%95.ipynb\" target=\"_parent\"><img src=\"https://colab.research.google.com/assets/colab-badge.svg\" alt=\"Open In Colab\"/></a>"
      ]
    },
    {
      "cell_type": "code",
      "execution_count": null,
      "metadata": {
        "colab": {
          "base_uri": "https://localhost:8080/"
        },
        "id": "wk3cluwYyoZX",
        "outputId": "505b66a4-0268-47dd-a9f0-5b04a291a2eb"
      },
      "outputs": [
        {
          "output_type": "stream",
          "name": "stdout",
          "text": [
            "/content\n"
          ]
        }
      ],
      "source": [
        "# colab에서리눅스 명령어 사용(!, %)\n",
        "!pwd"
      ]
    },
    {
      "cell_type": "markdown",
      "source": [
        "### 1. 구글 코랩 환경"
      ],
      "metadata": {
        "id": "iw5hVmry0cav"
      }
    },
    {
      "cell_type": "code",
      "source": [
        "# OS 확인\n",
        "!cat /etc/issue.net"
      ],
      "metadata": {
        "colab": {
          "base_uri": "https://localhost:8080/"
        },
        "id": "tD_SPjoK0eeJ",
        "outputId": "0c741fce-af00-4184-c697-d3d69e75a3c5"
      },
      "execution_count": null,
      "outputs": [
        {
          "output_type": "stream",
          "name": "stdout",
          "text": [
            "Ubuntu 18.04.6 LTS\n"
          ]
        }
      ]
    },
    {
      "cell_type": "code",
      "source": [
        "# 현재 사용중인 cpu 확인\n",
        "!head /proc/cpuinfo"
      ],
      "metadata": {
        "colab": {
          "base_uri": "https://localhost:8080/"
        },
        "id": "8_wwt31Z0r9p",
        "outputId": "2612bb7e-2512-4569-be82-625cefc03531"
      },
      "execution_count": null,
      "outputs": [
        {
          "output_type": "stream",
          "name": "stdout",
          "text": [
            "processor\t: 0\n",
            "vendor_id\t: GenuineIntel\n",
            "cpu family\t: 6\n",
            "model\t\t: 79\n",
            "model name\t: Intel(R) Xeon(R) CPU @ 2.20GHz\n",
            "stepping\t: 0\n",
            "microcode\t: 0x1\n",
            "cpu MHz\t\t: 2199.998\n",
            "cache size\t: 56320 KB\n",
            "physical id\t: 0\n"
          ]
        }
      ]
    },
    {
      "cell_type": "code",
      "source": [
        "# memory 확인\n",
        "!head /proc/meminfo"
      ],
      "metadata": {
        "colab": {
          "base_uri": "https://localhost:8080/"
        },
        "id": "xbuBbOKB01xx",
        "outputId": "011b5a76-5bbc-46f8-ece4-e7a10def8d3b"
      },
      "execution_count": null,
      "outputs": [
        {
          "output_type": "stream",
          "name": "stdout",
          "text": [
            "MemTotal:       13297228 kB\n",
            "MemFree:         8482836 kB\n",
            "MemAvailable:   12360968 kB\n",
            "Buffers:          331640 kB\n",
            "Cached:          3648056 kB\n",
            "SwapCached:            0 kB\n",
            "Active:           640224 kB\n",
            "Inactive:        3964820 kB\n",
            "Active(anon):        912 kB\n",
            "Inactive(anon):   542172 kB\n"
          ]
        }
      ]
    },
    {
      "cell_type": "markdown",
      "source": [
        "### 2. 구글 코랩 드라이버 연동"
      ],
      "metadata": {
        "id": "wLM3e365znNI"
      }
    },
    {
      "cell_type": "code",
      "source": [
        "!pwd"
      ],
      "metadata": {
        "colab": {
          "base_uri": "https://localhost:8080/"
        },
        "id": "1tVZiOp41J5z",
        "outputId": "f62af36f-ed39-4acf-a137-5a06feb3e0b4"
      },
      "execution_count": null,
      "outputs": [
        {
          "output_type": "stream",
          "name": "stdout",
          "text": [
            "/content\n"
          ]
        }
      ]
    },
    {
      "cell_type": "code",
      "source": [
        "# 구글 드라이브 연동\n",
        "from google.colab import drive\n",
        "drive.mount('/content/dirve')"
      ],
      "metadata": {
        "colab": {
          "base_uri": "https://localhost:8080/"
        },
        "id": "oGVavuMNyzfg",
        "outputId": "00ae4b5e-9f42-4b0f-dcf4-40fb030e7809"
      },
      "execution_count": null,
      "outputs": [
        {
          "output_type": "stream",
          "name": "stdout",
          "text": [
            "Mounted at /content/dirve\n"
          ]
        }
      ]
    },
    {
      "cell_type": "code",
      "source": [
        "# 경로 변경\n",
        "%cd /content/drive/MyDrive/python_demo"
      ],
      "metadata": {
        "colab": {
          "base_uri": "https://localhost:8080/"
        },
        "id": "2PEQz4S8zyyS",
        "outputId": "7338925f-0699-4a53-ef0f-34c705de8ddb"
      },
      "execution_count": 21,
      "outputs": [
        {
          "output_type": "stream",
          "name": "stdout",
          "text": [
            "/content/drive/MyDrive/python_demo\n"
          ]
        }
      ]
    },
    {
      "cell_type": "code",
      "source": [
        "!pwd"
      ],
      "metadata": {
        "colab": {
          "base_uri": "https://localhost:8080/",
          "height": 35
        },
        "id": "YHO6UVw32NOQ",
        "outputId": "3183d6e4-8110-4151-889e-f7e0c63bcebc"
      },
      "execution_count": null,
      "outputs": [
        {
          "output_type": "execute_result",
          "data": {
            "text/plain": [
              "'/content/dirve/MyDrive/python_demo'"
            ],
            "application/vnd.google.colaboratory.intrinsic+json": {
              "type": "string"
            }
          },
          "metadata": {},
          "execution_count": 18
        }
      ]
    },
    {
      "cell_type": "code",
      "source": [
        "!ls"
      ],
      "metadata": {
        "colab": {
          "base_uri": "https://localhost:8080/"
        },
        "id": "M08_X1sT13hf",
        "outputId": "7dc024f6-5cae-42e3-ac6f-c7ee9d75f1d5"
      },
      "execution_count": null,
      "outputs": [
        {
          "output_type": "stream",
          "name": "stdout",
          "text": [
            " 01_자료형_문제.ipynb\t\t  python_02_basic.ipynb\n",
            " 01_자료형_풀이.ipynb\t\t  python_03_statement.ipynb\n",
            " 02_제어문_풀이.ipynb\t\t  python_04_function.ipynb\n",
            " 02_제어문_문제.ipynb\t\t  python_05_클래스.ipynb\n",
            " 03_함수형프로그래밍_문제.ipynb   python_06_파일입출력.ipynb\n",
            " 04_함수형프로그래밍_풀이.ipynb   python_07_정규표현식.ipynb\n",
            "'05_정규표현식 풀이.ipynb'\t  python_08_numpy.ipynb\n",
            "'05_정규표현식 문제.ipynb'\t 'python_09(2)_numpy.ipynb'\n",
            "'100_colab 환경설정.ipynb'\t  python_09_numpy.ipynb\n",
            " python_01_markdown.ipynb\n"
          ]
        }
      ]
    },
    {
      "cell_type": "markdown",
      "source": [],
      "metadata": {
        "id": "kCl8gC2813Hg"
      }
    }
  ]
}