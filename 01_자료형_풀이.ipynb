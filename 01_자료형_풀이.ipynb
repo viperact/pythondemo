{
  "cells": [
    {
      "cell_type": "markdown",
      "metadata": {
        "id": "view-in-github",
        "colab_type": "text"
      },
      "source": [
        "<a href=\"https://colab.research.google.com/github/viperact/pythondemo/blob/main/01_%EC%9E%90%EB%A3%8C%ED%98%95_%ED%92%80%EC%9D%B4.ipynb\" target=\"_parent\"><img src=\"https://colab.research.google.com/assets/colab-badge.svg\" alt=\"Open In Colab\"/></a>"
      ]
    },
    {
      "cell_type": "markdown",
      "metadata": {
        "id": "j_oANmW0VEG2"
      },
      "source": [
        "문제1)  \n",
        "s ='Somewhere on the rainbow'를 'Somewhere over the rainbow'로 변환하세요."
      ]
    },
    {
      "cell_type": "code",
      "execution_count": null,
      "metadata": {
        "id": "K_BavqIJVBMD",
        "outputId": "6845dba3-b54f-4235-d17e-8dc67d1335ee"
      },
      "outputs": [
        {
          "data": {
            "text/plain": [
              "'Somewhere over the rainbow'"
            ]
          },
          "execution_count": 3,
          "metadata": {},
          "output_type": "execute_result"
        }
      ],
      "source": [
        "s = 'Somewhere on the rainbow'\n",
        "s.replace('on', 'over')"
      ]
    },
    {
      "cell_type": "markdown",
      "metadata": {
        "id": "5xzdD5LRVh7C"
      },
      "source": [
        "문제2)  \n",
        "s = '/usr/local/bin/python' 에서 각각의 디렉토리 경로명을 분리하여 출력하세요.\n",
        "\n",
        "[실행결과]  \n",
        "['', 'usr', 'local', 'bin', 'python']"
      ]
    },
    {
      "cell_type": "code",
      "execution_count": null,
      "metadata": {
        "colab": {
          "base_uri": "https://localhost:8080/"
        },
        "id": "tq0DDjO6Vkai",
        "outputId": "be00f778-8ed9-4725-8eb5-48c3d1253425"
      },
      "outputs": [
        {
          "data": {
            "text/plain": [
              "['', 'usr', 'local', 'bin', 'python']"
            ]
          },
          "execution_count": 4,
          "metadata": {},
          "output_type": "execute_result"
        }
      ],
      "source": [
        "s = '/usr/local/bin/python'\n",
        "s.split('/')"
      ]
    },
    {
      "cell_type": "markdown",
      "metadata": {
        "id": "4b9VV0_2WzDL"
      },
      "source": [
        "문제3)   \n",
        "'spam ham'을 'ham spam'으로 치환하세요.   \n",
        "\n",
        "※문자열의 split( )과 join( )메서드 그리고 리스트의 reverse( )메서드를 사용"
      ]
    },
    {
      "cell_type": "code",
      "execution_count": null,
      "metadata": {
        "colab": {
          "base_uri": "https://localhost:8080/",
          "height": 36
        },
        "id": "MJgD9BR5Vm_1",
        "outputId": "56c62f12-d365-4fe7-b583-ca8cfd5a4e4b"
      },
      "outputs": [
        {
          "name": "stdout",
          "output_type": "stream",
          "text": [
            "['spam', 'ham']\n",
            "['ham', 'spam']\n"
          ]
        },
        {
          "data": {
            "text/plain": [
              "'ham spam'"
            ]
          },
          "execution_count": 9,
          "metadata": {},
          "output_type": "execute_result"
        }
      ],
      "source": [
        "s = 'spam ham'\n",
        "\n",
        "ws = s.split()\n",
        "print(ws)\n",
        "ws.reverse()\n",
        "print(ws)\n",
        "' '.join(ws)"
      ]
    },
    {
      "cell_type": "markdown",
      "metadata": {
        "id": "wlikK1oSXC8Q"
      },
      "source": [
        "문제4)   \n",
        "문자열이 주어져 있을 때 'spam' 이 몇 번 나타나는지 구하시오.   \n",
        "단, 대소문자 구분하지 않음\n",
        "\n",
        "s = 'spam Spam SpaM egg eGG Egg ham hAm'"
      ]
    },
    {
      "cell_type": "code",
      "execution_count": null,
      "metadata": {
        "colab": {
          "base_uri": "https://localhost:8080/"
        },
        "id": "ILqIZqoZWo6L",
        "outputId": "2f2d6c82-74f2-4fd9-ac7f-50eacea94172"
      },
      "outputs": [
        {
          "data": {
            "text/plain": [
              "3"
            ]
          },
          "execution_count": 10,
          "metadata": {},
          "output_type": "execute_result"
        }
      ],
      "source": [
        "s = 'spam Spam SpaM egg eGG Egg ham hAm'\n",
        "\n",
        "s.lower().count('spam')"
      ]
    },
    {
      "cell_type": "markdown",
      "metadata": {
        "id": "OqPv1NpfXik8"
      },
      "source": [
        "문제5)  \n",
        "단어의 순서가 바뀐 문자열로 만들세요.  \n",
        "s = 'Sometimes I feel like a motherless child'\n",
        "\n",
        "[실행결과]    \n",
        "'child motherless a like feel I Sometimes'  \n",
        "'dlihc sselrehtom a ekil leef I semitemoS'  \n",
        "'SometimesIfeellikeamotherlesschild'\n",
        "\n",
        "\n"
      ]
    },
    {
      "cell_type": "code",
      "execution_count": null,
      "metadata": {
        "colab": {
          "base_uri": "https://localhost:8080/",
          "height": 36
        },
        "id": "efZZR_wyXg9D",
        "outputId": "ba4a4bc5-c1d6-4521-c849-6ee8352728eb"
      },
      "outputs": [
        {
          "data": {
            "text/plain": [
              "'child motherless a like feel I Sometimes'"
            ]
          },
          "execution_count": 18,
          "metadata": {},
          "output_type": "execute_result"
        }
      ],
      "source": [
        "#단어의 순서 바꾸기\n",
        "s = 'Sometimes I feel like a motherless child'\n",
        "\n",
        "list(reversed(s.split()))\n",
        "' '.join(reversed(s.split()))"
      ]
    },
    {
      "cell_type": "code",
      "execution_count": null,
      "metadata": {
        "colab": {
          "base_uri": "https://localhost:8080/",
          "height": 36
        },
        "id": "zuWj6xpyY3PD",
        "outputId": "bafee049-f3d0-4cfd-f382-65c38f13fe1f"
      },
      "outputs": [
        {
          "data": {
            "application/vnd.google.colaboratory.intrinsic+json": {
              "type": "string"
            },
            "text/plain": [
              "'dlihc sselrehtom a ekil leef I semitemoS'"
            ]
          },
          "execution_count": 8,
          "metadata": {
            "tags": []
          },
          "output_type": "execute_result"
        }
      ],
      "source": [
        "# 문자열의 순서 뒤집기\n",
        "s[::-1]"
      ]
    },
    {
      "cell_type": "code",
      "execution_count": null,
      "metadata": {
        "colab": {
          "base_uri": "https://localhost:8080/",
          "height": 36
        },
        "id": "rJFhQOUyZPLy",
        "outputId": "5d08593a-7697-4c06-db79-48d12b53da19"
      },
      "outputs": [
        {
          "name": "stdout",
          "output_type": "stream",
          "text": [
            "['Sometimes', 'I', 'feel', 'like', 'a', 'motherless', 'child']\n"
          ]
        },
        {
          "data": {
            "text/plain": [
              "'SometimesIfeellikeamotherlesschild'"
            ]
          },
          "execution_count": 21,
          "metadata": {},
          "output_type": "execute_result"
        }
      ],
      "source": [
        "# 공백의 없애기\n",
        "\n",
        "''.join(s.split())"
      ]
    },
    {
      "cell_type": "markdown",
      "metadata": {
        "id": "xb7tAWllaMj0"
      },
      "source": [
        "문제6)  \n",
        "100  이하의 자연수 중에서 2의 배수이거나 3의 배수인 수의 개수를 구하세요.\n",
        "\n",
        "[실행결과]  \n",
        "67"
      ]
    },
    {
      "cell_type": "code",
      "execution_count": null,
      "metadata": {
        "colab": {
          "base_uri": "https://localhost:8080/"
        },
        "id": "s9Ez9HkWZjRD",
        "outputId": "02605cd2-4b57-4707-8693-ccaeda67f0a3"
      },
      "outputs": [
        {
          "data": {
            "text/plain": [
              "67"
            ]
          },
          "execution_count": 15,
          "metadata": {
            "tags": []
          },
          "output_type": "execute_result"
        }
      ],
      "source": [
        "len(set(range(2, 101, 2)) | set(range(3, 101, 3)))"
      ]
    },
    {
      "cell_type": "markdown",
      "metadata": {
        "id": "KgG2twzKccH3"
      },
      "source": [
        "문제7)  \n",
        "전체집합을 U로 할때 U의 부분집합 A와 B에 대해서  연산의 결과를 구현하세요.\n",
        "\n",
        "U = {1, 2, 3, 4, 5, 6, 7, 8, 9, 10}  \n",
        "A = {1, 3, 5, 7, 9}  \n",
        "B = {1, 2, 3, 4, 5}  \n",
        "\n",
        "가) A∩Bc \n",
        "\n",
        "나) (A∪B)c \n",
        "\n",
        "[실행결과]  \n",
        "가) {7, 9} \n",
        "나) {6, 8, 10}"
      ]
    },
    {
      "cell_type": "code",
      "execution_count": null,
      "metadata": {
        "colab": {
          "base_uri": "https://localhost:8080/"
        },
        "id": "c-tan3YTcLKy",
        "outputId": "c7ab6d2d-bb30-483b-fa95-6fe77514be06"
      },
      "outputs": [
        {
          "data": {
            "text/plain": [
              "{7, 9}"
            ]
          },
          "execution_count": 17,
          "metadata": {
            "tags": []
          },
          "output_type": "execute_result"
        }
      ],
      "source": [
        "U = {1, 2, 3, 4, 5, 6, 7, 8, 9, 10}\n",
        "A = {1, 3, 5, 7, 9}\n",
        "B = {1, 2, 3, 4, 5}\n",
        "A & (U - B)"
      ]
    },
    {
      "cell_type": "code",
      "execution_count": null,
      "metadata": {
        "colab": {
          "base_uri": "https://localhost:8080/"
        },
        "id": "yNwNd1p2eDDw",
        "outputId": "1dc0d38c-422f-49f0-f9ab-4e8e61a6a398"
      },
      "outputs": [
        {
          "data": {
            "text/plain": [
              "{6, 8, 10}"
            ]
          },
          "execution_count": 18,
          "metadata": {
            "tags": []
          },
          "output_type": "execute_result"
        }
      ],
      "source": [
        "U - (A | B)"
      ]
    },
    {
      "cell_type": "markdown",
      "metadata": {
        "id": "Rf19AHjVgaeC"
      },
      "source": [
        "문제8)      \n",
        "주어진 문자열의 각 단어가 중복되지 않게 한 번씩만 출력이 되도록 구현하세요. (출력순서를 무관합니다.)      \n",
        "s = 'one two one two three four'  \n",
        "\n",
        "\n",
        "[실행결과]  \n",
        "['two', 'four', 'one', 'three']"
      ]
    },
    {
      "cell_type": "code",
      "execution_count": null,
      "metadata": {
        "colab": {
          "base_uri": "https://localhost:8080/"
        },
        "id": "FOzU66LMeHTz",
        "outputId": "7dff03a9-8569-46dd-e239-665804edf5f9"
      },
      "outputs": [
        {
          "data": {
            "text/plain": [
              "['three', 'one', 'four', 'two']"
            ]
          },
          "execution_count": 30,
          "metadata": {},
          "output_type": "execute_result"
        }
      ],
      "source": [
        "s = 'one two one two three four'\n",
        "list(set(s.split()))"
      ]
    },
    {
      "cell_type": "markdown",
      "metadata": {
        "id": "ul9sg_NOgrEH"
      },
      "source": [
        "문제9)  \n",
        "튜플에 저장된 데이터에서 마지막 요소 5개를 삭제한뒤 나머지를 튜플로 출력하세요.   \n",
        "data =1,2,3,4,5,6,7,8,9,10\n",
        "\n",
        "[실행결과]  \n",
        "(1, 2, 3, 4, 5)\n"
      ]
    },
    {
      "cell_type": "code",
      "execution_count": null,
      "metadata": {
        "id": "CRLUg17Ugj2l",
        "outputId": "85e176be-bcb5-4e64-bba3-e42e9dc86403"
      },
      "outputs": [
        {
          "name": "stdout",
          "output_type": "stream",
          "text": [
            "(1, 2, 3, 4, 5)\n"
          ]
        }
      ],
      "source": [
        "data =1,2,3,4,5,6,7,8,9,10\n",
        "data = list(data)\n",
        "del (data[-1:-6:-1])\n",
        "print(tuple(data))"
      ]
    },
    {
      "cell_type": "markdown",
      "metadata": {
        "id": "nfzCQhhPH3OL"
      },
      "source": [
        "문제10)  \n",
        "a변수에 저장된 문자열에서 인덱스 홀수, b변수에 저장된 문자열에서 인덱스 짝수만을 가져오는 연결하는 프로그램을 구현하세요.  \n",
        "a='apple'  \n",
        "b='strawberry'  \n",
        "\n",
        "[실행결과]  \n",
        "plsrwer "
      ]
    },
    {
      "cell_type": "code",
      "execution_count": null,
      "metadata": {
        "id": "8GLys526H3OL",
        "outputId": "2c111fd7-ba89-41ef-f05c-d81d6347ad96"
      },
      "outputs": [
        {
          "name": "stdout",
          "output_type": "stream",
          "text": [
            "plsrwer\n"
          ]
        }
      ],
      "source": [
        "a='apple'\n",
        "b='strawberry'\n",
        "print(a[1::2]+b[::2])"
      ]
    },
    {
      "cell_type": "code",
      "execution_count": null,
      "metadata": {
        "id": "djcTIECQH3OL"
      },
      "outputs": [],
      "source": []
    }
  ],
  "metadata": {
    "colab": {
      "provenance": [],
      "include_colab_link": true
    },
    "kernelspec": {
      "display_name": "Python 3",
      "language": "python",
      "name": "python3"
    },
    "language_info": {
      "codemirror_mode": {
        "name": "ipython",
        "version": 3
      },
      "file_extension": ".py",
      "mimetype": "text/x-python",
      "name": "python",
      "nbconvert_exporter": "python",
      "pygments_lexer": "ipython3",
      "version": "3.8.8"
    }
  },
  "nbformat": 4,
  "nbformat_minor": 0
}