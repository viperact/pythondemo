{
  "nbformat": 4,
  "nbformat_minor": 0,
  "metadata": {
    "colab": {
      "provenance": [],
      "collapsed_sections": [
        "8UxgOBZdY53c",
        "GPYjSP7ZgAsD",
        "zR0ObQRAhLma",
        "lBZLzyFsinYj",
        "-FY8G_TYjdwL",
        "JQbnYzKFnpp6",
        "YFnJ1R-Apdhq",
        "R5bgP5CfrJTy",
        "3kTtc21os0Hb",
        "RIQaLcj_utBr",
        "fnSKF1cYvoWB",
        "MVhYygYI5R25",
        "xJAyzoFM5m0A",
        "dn_1EPhf7b4R",
        "_UB0-lLl-Pqp",
        "m1RTjV7I-nsw",
        "CqWUf2NUL6pf"
      ],
      "authorship_tag": "ABX9TyP3AC4b2Kls2I+Hfhds/5E5",
      "include_colab_link": true
    },
    "kernelspec": {
      "name": "python3",
      "display_name": "Python 3"
    },
    "language_info": {
      "name": "python"
    }
  },
  "cells": [
    {
      "cell_type": "markdown",
      "metadata": {
        "id": "view-in-github",
        "colab_type": "text"
      },
      "source": [
        "<a href=\"https://colab.research.google.com/github/viperact/pythondemo/blob/main/python_08_numpy.ipynb\" target=\"_parent\"><img src=\"https://colab.research.google.com/assets/colab-badge.svg\" alt=\"Open In Colab\"/></a>"
      ]
    },
    {
      "cell_type": "markdown",
      "source": [
        "### Numpy\n",
        "- Numpy는 Numerical Python의 줄임말로, 파이썬에서 산술 계산을 위한 가장 필수 패키지중 하나이다.\n",
        "- 과학계산을 위한 대부분의 패키지는 Numpy의 배열 객체를 데이터 교환을 위한 공통 언어처럼 사용한다.\n",
        "- 반복문을 작성할 필요없이 전체 데이터 배열을 빠르게 계산할 수 있는 표준 수학 함수이다.\n",
        "-배열 데어터를 디스크에 쓰거나 읽을 수 있는 도구와 메모리에 적재된 파일을 다루는 도구이다.\n",
        "- 선형대수, 난수 생성기등에 사용된다.\n",
        "- C, C++, 포트란으로 작성한 코드를 연결할 수 있는 C API가 제공된다.\n",
        "\n",
        "공식문서 http://numpy.org/doc/stable/  \n",
        "numpy 100 문제 http://github.com/rougier/numpy-100  \n",
        "numpy dtype https://numpy.org/doc/stable/reference/arrays.dtypes.html  \n",
        "https://engineer-mole.tistory.com/85"
      ],
      "metadata": {
        "id": "8UxgOBZdY53c"
      }
    },
    {
      "cell_type": "code",
      "execution_count": 2,
      "metadata": {
        "id": "wdnZtxFGVa5H"
      },
      "outputs": [],
      "source": [
        "# !pip install numpy\n",
        "import numpy as np"
      ]
    },
    {
      "cell_type": "code",
      "source": [
        "a = np.zeros(3) # 1차원 배열 = 벡터\n",
        "a"
      ],
      "metadata": {
        "colab": {
          "base_uri": "https://localhost:8080/"
        },
        "id": "s-wnKsrnZfKz",
        "outputId": "175ca206-969f-4c6c-b4f4-b49174cdbeb9"
      },
      "execution_count": null,
      "outputs": [
        {
          "output_type": "execute_result",
          "data": {
            "text/plain": [
              "array([0., 0., 0.])"
            ]
          },
          "metadata": {},
          "execution_count": 5
        }
      ]
    },
    {
      "cell_type": "code",
      "source": [
        "print(a)"
      ],
      "metadata": {
        "colab": {
          "base_uri": "https://localhost:8080/"
        },
        "id": "hot1r7-MZzRj",
        "outputId": "b509d7d6-f54b-46d1-a9f5-e23dbfad5947"
      },
      "execution_count": null,
      "outputs": [
        {
          "output_type": "stream",
          "name": "stdout",
          "text": [
            "[0. 0. 0.]\n"
          ]
        }
      ]
    },
    {
      "cell_type": "code",
      "source": [
        "# 처음 객체들은 type( ), dir( )을 해본다.\n",
        "print(type(a))\n",
        "print(dir(a))"
      ],
      "metadata": {
        "colab": {
          "base_uri": "https://localhost:8080/"
        },
        "id": "vsLy_rASZ7-z",
        "outputId": "b9384747-1b73-48cd-853d-aace82659996"
      },
      "execution_count": null,
      "outputs": [
        {
          "output_type": "stream",
          "name": "stdout",
          "text": [
            "<class 'numpy.ndarray'>\n",
            "['T', '__abs__', '__add__', '__and__', '__array__', '__array_finalize__', '__array_function__', '__array_interface__', '__array_prepare__', '__array_priority__', '__array_struct__', '__array_ufunc__', '__array_wrap__', '__bool__', '__class__', '__complex__', '__contains__', '__copy__', '__deepcopy__', '__delattr__', '__delitem__', '__dir__', '__divmod__', '__doc__', '__eq__', '__float__', '__floordiv__', '__format__', '__ge__', '__getattribute__', '__getitem__', '__gt__', '__hash__', '__iadd__', '__iand__', '__ifloordiv__', '__ilshift__', '__imatmul__', '__imod__', '__imul__', '__index__', '__init__', '__init_subclass__', '__int__', '__invert__', '__ior__', '__ipow__', '__irshift__', '__isub__', '__iter__', '__itruediv__', '__ixor__', '__le__', '__len__', '__lshift__', '__lt__', '__matmul__', '__mod__', '__mul__', '__ne__', '__neg__', '__new__', '__or__', '__pos__', '__pow__', '__radd__', '__rand__', '__rdivmod__', '__reduce__', '__reduce_ex__', '__repr__', '__rfloordiv__', '__rlshift__', '__rmatmul__', '__rmod__', '__rmul__', '__ror__', '__rpow__', '__rrshift__', '__rshift__', '__rsub__', '__rtruediv__', '__rxor__', '__setattr__', '__setitem__', '__setstate__', '__sizeof__', '__str__', '__sub__', '__subclasshook__', '__truediv__', '__xor__', 'all', 'any', 'argmax', 'argmin', 'argpartition', 'argsort', 'astype', 'base', 'byteswap', 'choose', 'clip', 'compress', 'conj', 'conjugate', 'copy', 'ctypes', 'cumprod', 'cumsum', 'data', 'diagonal', 'dot', 'dtype', 'dump', 'dumps', 'fill', 'flags', 'flat', 'flatten', 'getfield', 'imag', 'item', 'itemset', 'itemsize', 'max', 'mean', 'min', 'nbytes', 'ndim', 'newbyteorder', 'nonzero', 'partition', 'prod', 'ptp', 'put', 'ravel', 'real', 'repeat', 'reshape', 'resize', 'round', 'searchsorted', 'setfield', 'setflags', 'shape', 'size', 'sort', 'squeeze', 'std', 'strides', 'sum', 'swapaxes', 'take', 'tobytes', 'tofile', 'tolist', 'tostring', 'trace', 'transpose', 'var', 'view']\n"
          ]
        }
      ]
    },
    {
      "cell_type": "code",
      "source": [
        "# 1차원 배열 = 벡터 \n",
        "a = np.array([1, 2, 3])\n",
        "a\n"
      ],
      "metadata": {
        "colab": {
          "base_uri": "https://localhost:8080/"
        },
        "id": "Na5hX49PaJCK",
        "outputId": "ac1673be-a83c-4a90-e263-1b582a8f83f1"
      },
      "execution_count": null,
      "outputs": [
        {
          "output_type": "execute_result",
          "data": {
            "text/plain": [
              "array([1, 2, 3])"
            ]
          },
          "metadata": {},
          "execution_count": 10
        }
      ]
    },
    {
      "cell_type": "code",
      "source": [
        "print(type(a))\n",
        "print(dir(a))\n",
        "print(len(dir(a)))"
      ],
      "metadata": {
        "colab": {
          "base_uri": "https://localhost:8080/"
        },
        "id": "e0Z_8VzRcejb",
        "outputId": "65fef2eb-a118-4e81-da0a-074bb7e3bad1"
      },
      "execution_count": null,
      "outputs": [
        {
          "output_type": "stream",
          "name": "stdout",
          "text": [
            "<class 'numpy.ndarray'>\n",
            "['T', '__abs__', '__add__', '__and__', '__array__', '__array_finalize__', '__array_function__', '__array_interface__', '__array_prepare__', '__array_priority__', '__array_struct__', '__array_ufunc__', '__array_wrap__', '__bool__', '__class__', '__complex__', '__contains__', '__copy__', '__deepcopy__', '__delattr__', '__delitem__', '__dir__', '__divmod__', '__doc__', '__eq__', '__float__', '__floordiv__', '__format__', '__ge__', '__getattribute__', '__getitem__', '__gt__', '__hash__', '__iadd__', '__iand__', '__ifloordiv__', '__ilshift__', '__imatmul__', '__imod__', '__imul__', '__index__', '__init__', '__init_subclass__', '__int__', '__invert__', '__ior__', '__ipow__', '__irshift__', '__isub__', '__iter__', '__itruediv__', '__ixor__', '__le__', '__len__', '__lshift__', '__lt__', '__matmul__', '__mod__', '__mul__', '__ne__', '__neg__', '__new__', '__or__', '__pos__', '__pow__', '__radd__', '__rand__', '__rdivmod__', '__reduce__', '__reduce_ex__', '__repr__', '__rfloordiv__', '__rlshift__', '__rmatmul__', '__rmod__', '__rmul__', '__ror__', '__rpow__', '__rrshift__', '__rshift__', '__rsub__', '__rtruediv__', '__rxor__', '__setattr__', '__setitem__', '__setstate__', '__sizeof__', '__str__', '__sub__', '__subclasshook__', '__truediv__', '__xor__', 'all', 'any', 'argmax', 'argmin', 'argpartition', 'argsort', 'astype', 'base', 'byteswap', 'choose', 'clip', 'compress', 'conj', 'conjugate', 'copy', 'ctypes', 'cumprod', 'cumsum', 'data', 'diagonal', 'dot', 'dtype', 'dump', 'dumps', 'fill', 'flags', 'flat', 'flatten', 'getfield', 'imag', 'item', 'itemset', 'itemsize', 'max', 'mean', 'min', 'nbytes', 'ndim', 'newbyteorder', 'nonzero', 'partition', 'prod', 'ptp', 'put', 'ravel', 'real', 'repeat', 'reshape', 'resize', 'round', 'searchsorted', 'setfield', 'setflags', 'shape', 'size', 'sort', 'squeeze', 'std', 'strides', 'sum', 'swapaxes', 'take', 'tobytes', 'tofile', 'tolist', 'tostring', 'trace', 'transpose', 'var', 'view']\n",
            "162\n"
          ]
        }
      ]
    },
    {
      "cell_type": "code",
      "source": [
        "# 2차원 배열 = 행렬\n",
        "b = np.array([[1,2], [3,4]])\n",
        "b"
      ],
      "metadata": {
        "colab": {
          "base_uri": "https://localhost:8080/"
        },
        "id": "JqIMBm3wafg7",
        "outputId": "b302dd41-13ea-4de2-c711-6ae9eeaa7470"
      },
      "execution_count": null,
      "outputs": [
        {
          "output_type": "execute_result",
          "data": {
            "text/plain": [
              "array([[1, 2],\n",
              "       [3, 4]])"
            ]
          },
          "metadata": {},
          "execution_count": 12
        }
      ]
    },
    {
      "cell_type": "code",
      "source": [
        "print(type(b))\n",
        "print(dir(b))\n",
        "print(len(dir(b)))"
      ],
      "metadata": {
        "colab": {
          "base_uri": "https://localhost:8080/"
        },
        "id": "bCSkXvnQavJ7",
        "outputId": "577486bc-c516-4ee1-a107-ddfd74e1baab"
      },
      "execution_count": null,
      "outputs": [
        {
          "output_type": "stream",
          "name": "stdout",
          "text": [
            "<class 'numpy.ndarray'>\n",
            "['T', '__abs__', '__add__', '__and__', '__array__', '__array_finalize__', '__array_function__', '__array_interface__', '__array_prepare__', '__array_priority__', '__array_struct__', '__array_ufunc__', '__array_wrap__', '__bool__', '__class__', '__complex__', '__contains__', '__copy__', '__deepcopy__', '__delattr__', '__delitem__', '__dir__', '__divmod__', '__doc__', '__eq__', '__float__', '__floordiv__', '__format__', '__ge__', '__getattribute__', '__getitem__', '__gt__', '__hash__', '__iadd__', '__iand__', '__ifloordiv__', '__ilshift__', '__imatmul__', '__imod__', '__imul__', '__index__', '__init__', '__init_subclass__', '__int__', '__invert__', '__ior__', '__ipow__', '__irshift__', '__isub__', '__iter__', '__itruediv__', '__ixor__', '__le__', '__len__', '__lshift__', '__lt__', '__matmul__', '__mod__', '__mul__', '__ne__', '__neg__', '__new__', '__or__', '__pos__', '__pow__', '__radd__', '__rand__', '__rdivmod__', '__reduce__', '__reduce_ex__', '__repr__', '__rfloordiv__', '__rlshift__', '__rmatmul__', '__rmod__', '__rmul__', '__ror__', '__rpow__', '__rrshift__', '__rshift__', '__rsub__', '__rtruediv__', '__rxor__', '__setattr__', '__setitem__', '__setstate__', '__sizeof__', '__str__', '__sub__', '__subclasshook__', '__truediv__', '__xor__', 'all', 'any', 'argmax', 'argmin', 'argpartition', 'argsort', 'astype', 'base', 'byteswap', 'choose', 'clip', 'compress', 'conj', 'conjugate', 'copy', 'ctypes', 'cumprod', 'cumsum', 'data', 'diagonal', 'dot', 'dtype', 'dump', 'dumps', 'fill', 'flags', 'flat', 'flatten', 'getfield', 'imag', 'item', 'itemset', 'itemsize', 'max', 'mean', 'min', 'nbytes', 'ndim', 'newbyteorder', 'nonzero', 'partition', 'prod', 'ptp', 'put', 'ravel', 'real', 'repeat', 'reshape', 'resize', 'round', 'searchsorted', 'setfield', 'setflags', 'shape', 'size', 'sort', 'squeeze', 'std', 'strides', 'sum', 'swapaxes', 'take', 'tobytes', 'tofile', 'tolist', 'tostring', 'trace', 'transpose', 'var', 'view']\n",
            "162\n"
          ]
        }
      ]
    },
    {
      "cell_type": "code",
      "source": [
        "# 3차원 배열 이상 = 텐서(tensor)\n",
        "c = np.array([[[1,2],[3,4]],\n",
        "              [[5,6],[7,8]]])\n",
        "c"
      ],
      "metadata": {
        "colab": {
          "base_uri": "https://localhost:8080/"
        },
        "id": "WuM7C5VVa6Kz",
        "outputId": "4cfc1a99-3125-49ba-89f3-7a82aa56cfcf"
      },
      "execution_count": null,
      "outputs": [
        {
          "output_type": "execute_result",
          "data": {
            "text/plain": [
              "array([[[1, 2],\n",
              "        [3, 4]],\n",
              "\n",
              "       [[5, 6],\n",
              "        [7, 8]]])"
            ]
          },
          "metadata": {},
          "execution_count": 21
        }
      ]
    },
    {
      "cell_type": "code",
      "source": [
        "print(type(c))\n",
        "print(dir(c))\n",
        "print(len(dir(c)))"
      ],
      "metadata": {
        "colab": {
          "base_uri": "https://localhost:8080/"
        },
        "id": "vn9qtk3EbOAa",
        "outputId": "28c6f525-5f01-4944-b32f-3571684e870e"
      },
      "execution_count": null,
      "outputs": [
        {
          "output_type": "stream",
          "name": "stdout",
          "text": [
            "<class 'numpy.ndarray'>\n",
            "['T', '__abs__', '__add__', '__and__', '__array__', '__array_finalize__', '__array_function__', '__array_interface__', '__array_prepare__', '__array_priority__', '__array_struct__', '__array_ufunc__', '__array_wrap__', '__bool__', '__class__', '__complex__', '__contains__', '__copy__', '__deepcopy__', '__delattr__', '__delitem__', '__dir__', '__divmod__', '__doc__', '__eq__', '__float__', '__floordiv__', '__format__', '__ge__', '__getattribute__', '__getitem__', '__gt__', '__hash__', '__iadd__', '__iand__', '__ifloordiv__', '__ilshift__', '__imatmul__', '__imod__', '__imul__', '__index__', '__init__', '__init_subclass__', '__int__', '__invert__', '__ior__', '__ipow__', '__irshift__', '__isub__', '__iter__', '__itruediv__', '__ixor__', '__le__', '__len__', '__lshift__', '__lt__', '__matmul__', '__mod__', '__mul__', '__ne__', '__neg__', '__new__', '__or__', '__pos__', '__pow__', '__radd__', '__rand__', '__rdivmod__', '__reduce__', '__reduce_ex__', '__repr__', '__rfloordiv__', '__rlshift__', '__rmatmul__', '__rmod__', '__rmul__', '__ror__', '__rpow__', '__rrshift__', '__rshift__', '__rsub__', '__rtruediv__', '__rxor__', '__setattr__', '__setitem__', '__setstate__', '__sizeof__', '__str__', '__sub__', '__subclasshook__', '__truediv__', '__xor__', 'all', 'any', 'argmax', 'argmin', 'argpartition', 'argsort', 'astype', 'base', 'byteswap', 'choose', 'clip', 'compress', 'conj', 'conjugate', 'copy', 'ctypes', 'cumprod', 'cumsum', 'data', 'diagonal', 'dot', 'dtype', 'dump', 'dumps', 'fill', 'flags', 'flat', 'flatten', 'getfield', 'imag', 'item', 'itemset', 'itemsize', 'max', 'mean', 'min', 'nbytes', 'ndim', 'newbyteorder', 'nonzero', 'partition', 'prod', 'ptp', 'put', 'ravel', 'real', 'repeat', 'reshape', 'resize', 'round', 'searchsorted', 'setfield', 'setflags', 'shape', 'size', 'sort', 'squeeze', 'std', 'strides', 'sum', 'swapaxes', 'take', 'tobytes', 'tofile', 'tolist', 'tostring', 'trace', 'transpose', 'var', 'view']\n",
            "162\n"
          ]
        }
      ]
    },
    {
      "cell_type": "code",
      "source": [
        "# 문자 데이터가 하나라도 있으면 전체가 문자로 바뀐다.\n",
        "# numpy는 homogeneous 이다\n",
        "a = np.array([1, '2', 3])\n",
        "print(a)\n",
        "print(type(a))\n",
        "print(type(a[0])) # str_"
      ],
      "metadata": {
        "colab": {
          "base_uri": "https://localhost:8080/"
        },
        "id": "KmtGBNMacPXm",
        "outputId": "a4b1b1c3-0739-4263-86e8-0d97004a18fe"
      },
      "execution_count": null,
      "outputs": [
        {
          "output_type": "stream",
          "name": "stdout",
          "text": [
            "['1' '2' '3']\n",
            "<class 'numpy.ndarray'>\n",
            "<class 'numpy.str_'>\n"
          ]
        }
      ]
    },
    {
      "cell_type": "code",
      "source": [
        "b = np.array(['a', 1, True])\n",
        "print(b)\n",
        "print(type(b))\n",
        "b\n",
        "# dtype='<u21' : 유니코드 사용중"
      ],
      "metadata": {
        "colab": {
          "base_uri": "https://localhost:8080/"
        },
        "id": "xhpIo3Wkc-iD",
        "outputId": "ed970437-93a8-49a2-8236-f6ccbf8481e2"
      },
      "execution_count": null,
      "outputs": [
        {
          "output_type": "stream",
          "name": "stdout",
          "text": [
            "['a' '1' 'True']\n",
            "<class 'numpy.ndarray'>\n"
          ]
        },
        {
          "output_type": "execute_result",
          "data": {
            "text/plain": [
              "array(['a', '1', 'True'], dtype='<U21')"
            ]
          },
          "metadata": {},
          "execution_count": 34
        }
      ]
    },
    {
      "cell_type": "code",
      "source": [
        "# True, False 는 int값을 상속받는다. / True = 1, False = 0\n",
        "c = np.array([1, True, 2, False])\n",
        "print(c)\n",
        "print(type(c))\n",
        "c\n",
        "print(type(c[0])) "
      ],
      "metadata": {
        "colab": {
          "base_uri": "https://localhost:8080/"
        },
        "id": "b7t3Obg2doCT",
        "outputId": "0ef6361c-69fc-4a1d-cfdc-143b9e42eb89"
      },
      "execution_count": null,
      "outputs": [
        {
          "output_type": "stream",
          "name": "stdout",
          "text": [
            "[1 1 2 0]\n",
            "<class 'numpy.ndarray'>\n",
            "<class 'numpy.int64'>\n"
          ]
        }
      ]
    },
    {
      "cell_type": "markdown",
      "source": [
        "### np.zeros\n",
        "- tuple로 인자를 넣으면 그대로 모양을 만든다.\n",
        "- (2, 3) : 2행 3열 행렬을 만든다.\n",
        "- zeros는 기본값으로 0.으로 값을 모두 채운다.  \n",
        "a = np.zeros((2, 3))  \n",
        "a = np.zeros([2, 3])"
      ],
      "metadata": {
        "id": "GPYjSP7ZgAsD"
      }
    },
    {
      "cell_type": "code",
      "source": [
        "a = np.zeros([2, 3])\n",
        "a"
      ],
      "metadata": {
        "colab": {
          "base_uri": "https://localhost:8080/"
        },
        "id": "8ets3zoZga-t",
        "outputId": "55d51f0b-9573-48a2-ef8f-de6a3e3cb15c"
      },
      "execution_count": null,
      "outputs": [
        {
          "output_type": "execute_result",
          "data": {
            "text/plain": [
              "array([[0., 0., 0.],\n",
              "       [0., 0., 0.]])"
            ]
          },
          "metadata": {},
          "execution_count": 38
        }
      ]
    },
    {
      "cell_type": "code",
      "source": [
        "c = np.zeros([2, 3, 2])\n",
        "c"
      ],
      "metadata": {
        "colab": {
          "base_uri": "https://localhost:8080/"
        },
        "id": "LGV9TzYWeCTS",
        "outputId": "d324d25e-482a-4ba7-979b-a2e4837790dd"
      },
      "execution_count": null,
      "outputs": [
        {
          "output_type": "execute_result",
          "data": {
            "text/plain": [
              "array([[[0., 0.],\n",
              "        [0., 0.],\n",
              "        [0., 0.]],\n",
              "\n",
              "       [[0., 0.],\n",
              "        [0., 0.],\n",
              "        [0., 0.]]])"
            ]
          },
          "metadata": {},
          "execution_count": 40
        }
      ]
    },
    {
      "cell_type": "markdown",
      "source": [
        "### np.eye\n",
        "- eye는 단위 행렬\n",
        "- 숫자만 사용할 수 있다.\n"
      ],
      "metadata": {
        "id": "zR0ObQRAhLma"
      }
    },
    {
      "cell_type": "code",
      "source": [
        "# 인자값이 1개이면 행과 열이 같다.\n",
        "# 3행 3열의 행렬을 생성한다.\n",
        "a = np.eye(3) \n",
        "a"
      ],
      "metadata": {
        "colab": {
          "base_uri": "https://localhost:8080/"
        },
        "id": "on4oVN4tg18y",
        "outputId": "bd973d36-2e0e-4a91-8549-0aeb4ca37163"
      },
      "execution_count": null,
      "outputs": [
        {
          "output_type": "execute_result",
          "data": {
            "text/plain": [
              "array([[1., 0., 0.],\n",
              "       [0., 1., 0.],\n",
              "       [0., 0., 1.]])"
            ]
          },
          "metadata": {},
          "execution_count": 42
        }
      ]
    },
    {
      "cell_type": "code",
      "source": [
        "# eye는 행과 열의 크기를 지정할 수 있다.\n",
        "# 3행 2열 행렬 생성\n",
        "b = np.eye(3, 2)\n",
        "b"
      ],
      "metadata": {
        "colab": {
          "base_uri": "https://localhost:8080/"
        },
        "id": "xeN_3iykhUD6",
        "outputId": "8b5a1835-ce44-4cea-c8cc-784afcd85b8f"
      },
      "execution_count": null,
      "outputs": [
        {
          "output_type": "execute_result",
          "data": {
            "text/plain": [
              "array([[1., 0.],\n",
              "       [0., 1.],\n",
              "       [0., 0.]])"
            ]
          },
          "metadata": {},
          "execution_count": 43
        }
      ]
    },
    {
      "cell_type": "code",
      "source": [
        "# 크기(1)가 시작되는 위치를 지정할 수 있다.\n",
        "c = np.eye(3, 4, k = 1) # k는 keyword값\n",
        "c"
      ],
      "metadata": {
        "colab": {
          "base_uri": "https://localhost:8080/"
        },
        "id": "CVhrRn4uhlL5",
        "outputId": "4e7145c9-cbff-4643-9ae6-6d2f65d31f7b"
      },
      "execution_count": null,
      "outputs": [
        {
          "output_type": "execute_result",
          "data": {
            "text/plain": [
              "array([[0., 1., 0., 0.],\n",
              "       [0., 0., 1., 0.],\n",
              "       [0., 0., 0., 1.]])"
            ]
          },
          "metadata": {},
          "execution_count": 47
        }
      ]
    },
    {
      "cell_type": "markdown",
      "source": [
        "### np.identity\n",
        "- 수학에서 단위행렬은 영어로 identity matrix\n",
        "- 크기한개만 지정해서 생성할 수 있다."
      ],
      "metadata": {
        "id": "lBZLzyFsinYj"
      }
    },
    {
      "cell_type": "code",
      "source": [
        "a = np.identity(3)\n",
        "a"
      ],
      "metadata": {
        "colab": {
          "base_uri": "https://localhost:8080/"
        },
        "id": "KIQirUyViQ-i",
        "outputId": "0f6afe9f-b8f9-4a43-9a0f-1aa216ae1b96"
      },
      "execution_count": null,
      "outputs": [
        {
          "output_type": "execute_result",
          "data": {
            "text/plain": [
              "array([[1., 0., 0.],\n",
              "       [0., 1., 0.],\n",
              "       [0., 0., 1.]])"
            ]
          },
          "metadata": {},
          "execution_count": 53
        }
      ]
    },
    {
      "cell_type": "code",
      "source": [
        "# TypeError\n",
        "# 인자 하나만 지정할 수 있다.\n",
        "b = np.identity(3, 2) \n",
        "b"
      ],
      "metadata": {
        "colab": {
          "base_uri": "https://localhost:8080/",
          "height": 345
        },
        "id": "s6S7c1YNi-Hx",
        "outputId": "142e679b-9ffb-4cd5-997c-907a435d62d9"
      },
      "execution_count": null,
      "outputs": [
        {
          "output_type": "error",
          "ename": "TypeError",
          "evalue": "ignored",
          "traceback": [
            "\u001b[0;31m---------------------------------------------------------------------------\u001b[0m",
            "\u001b[0;31mTypeError\u001b[0m                                 Traceback (most recent call last)",
            "\u001b[0;32m<ipython-input-50-494848090972>\u001b[0m in \u001b[0;36m<module>\u001b[0;34m\u001b[0m\n\u001b[0;32m----> 1\u001b[0;31m \u001b[0mb\u001b[0m \u001b[0;34m=\u001b[0m \u001b[0mnp\u001b[0m\u001b[0;34m.\u001b[0m\u001b[0midentity\u001b[0m\u001b[0;34m(\u001b[0m\u001b[0;36m3\u001b[0m\u001b[0;34m,\u001b[0m \u001b[0;36m2\u001b[0m\u001b[0;34m)\u001b[0m\u001b[0;34m\u001b[0m\u001b[0;34m\u001b[0m\u001b[0m\n\u001b[0m\u001b[1;32m      2\u001b[0m \u001b[0mb\u001b[0m\u001b[0;34m\u001b[0m\u001b[0;34m\u001b[0m\u001b[0m\n",
            "\u001b[0;32m/usr/local/lib/python3.8/dist-packages/numpy/core/numeric.py\u001b[0m in \u001b[0;36midentity\u001b[0;34m(n, dtype, like)\u001b[0m\n\u001b[1;32m   2165\u001b[0m \u001b[0;34m\u001b[0m\u001b[0m\n\u001b[1;32m   2166\u001b[0m     \u001b[0;32mfrom\u001b[0m \u001b[0mnumpy\u001b[0m \u001b[0;32mimport\u001b[0m \u001b[0meye\u001b[0m\u001b[0;34m\u001b[0m\u001b[0;34m\u001b[0m\u001b[0m\n\u001b[0;32m-> 2167\u001b[0;31m     \u001b[0;32mreturn\u001b[0m \u001b[0meye\u001b[0m\u001b[0;34m(\u001b[0m\u001b[0mn\u001b[0m\u001b[0;34m,\u001b[0m \u001b[0mdtype\u001b[0m\u001b[0;34m=\u001b[0m\u001b[0mdtype\u001b[0m\u001b[0;34m,\u001b[0m \u001b[0mlike\u001b[0m\u001b[0;34m=\u001b[0m\u001b[0mlike\u001b[0m\u001b[0;34m)\u001b[0m\u001b[0;34m\u001b[0m\u001b[0;34m\u001b[0m\u001b[0m\n\u001b[0m\u001b[1;32m   2168\u001b[0m \u001b[0;34m\u001b[0m\u001b[0m\n\u001b[1;32m   2169\u001b[0m \u001b[0;34m\u001b[0m\u001b[0m\n",
            "\u001b[0;32m/usr/local/lib/python3.8/dist-packages/numpy/lib/twodim_base.py\u001b[0m in \u001b[0;36meye\u001b[0;34m(N, M, k, dtype, order, like)\u001b[0m\n\u001b[1;32m    212\u001b[0m     \u001b[0;32mif\u001b[0m \u001b[0mM\u001b[0m \u001b[0;32mis\u001b[0m \u001b[0;32mNone\u001b[0m\u001b[0;34m:\u001b[0m\u001b[0;34m\u001b[0m\u001b[0;34m\u001b[0m\u001b[0m\n\u001b[1;32m    213\u001b[0m         \u001b[0mM\u001b[0m \u001b[0;34m=\u001b[0m \u001b[0mN\u001b[0m\u001b[0;34m\u001b[0m\u001b[0;34m\u001b[0m\u001b[0m\n\u001b[0;32m--> 214\u001b[0;31m     \u001b[0mm\u001b[0m \u001b[0;34m=\u001b[0m \u001b[0mzeros\u001b[0m\u001b[0;34m(\u001b[0m\u001b[0;34m(\u001b[0m\u001b[0mN\u001b[0m\u001b[0;34m,\u001b[0m \u001b[0mM\u001b[0m\u001b[0;34m)\u001b[0m\u001b[0;34m,\u001b[0m \u001b[0mdtype\u001b[0m\u001b[0;34m=\u001b[0m\u001b[0mdtype\u001b[0m\u001b[0;34m,\u001b[0m \u001b[0morder\u001b[0m\u001b[0;34m=\u001b[0m\u001b[0morder\u001b[0m\u001b[0;34m)\u001b[0m\u001b[0;34m\u001b[0m\u001b[0;34m\u001b[0m\u001b[0m\n\u001b[0m\u001b[1;32m    215\u001b[0m     \u001b[0;32mif\u001b[0m \u001b[0mk\u001b[0m \u001b[0;34m>=\u001b[0m \u001b[0mM\u001b[0m\u001b[0;34m:\u001b[0m\u001b[0;34m\u001b[0m\u001b[0;34m\u001b[0m\u001b[0m\n\u001b[1;32m    216\u001b[0m         \u001b[0;32mreturn\u001b[0m \u001b[0mm\u001b[0m\u001b[0;34m\u001b[0m\u001b[0;34m\u001b[0m\u001b[0m\n",
            "\u001b[0;31mTypeError\u001b[0m: Cannot interpret '2' as a data type"
          ]
        }
      ]
    },
    {
      "cell_type": "markdown",
      "source": [
        "### np.full\n",
        "- 지정한 크기의 배열을 생성하고 채울값을 지정한다.\n",
        "- 2행 2열의 배열을 생성후 1로 채워준다.  \n",
        "np.full((2, 2), 1)"
      ],
      "metadata": {
        "id": "-FY8G_TYjdwL"
      }
    },
    {
      "cell_type": "code",
      "source": [
        "# 2행 2열의 행렬을 생성하고 1로 초기화 해준다\n",
        "a = np.full((2, 2), 1)\n",
        "a"
      ],
      "metadata": {
        "colab": {
          "base_uri": "https://localhost:8080/"
        },
        "id": "Lqm_kyrNjGOq",
        "outputId": "35040908-3041-42ec-bf29-ad92263be517"
      },
      "execution_count": null,
      "outputs": [
        {
          "output_type": "execute_result",
          "data": {
            "text/plain": [
              "array([[1, 1],\n",
              "       [1, 1]])"
            ]
          },
          "metadata": {},
          "execution_count": 55
        }
      ]
    },
    {
      "cell_type": "code",
      "source": [
        "# 1행 3열의 배열 생성 후 4로 채워준다.\n",
        "b = np.full(3, 4) # 3개의 벡터 생성후 4로 값을 채운다\n",
        "b"
      ],
      "metadata": {
        "colab": {
          "base_uri": "https://localhost:8080/"
        },
        "id": "7aDFF-HDme7i",
        "outputId": "d48deb12-e26a-4540-9a4f-c1f52414516f"
      },
      "execution_count": null,
      "outputs": [
        {
          "output_type": "execute_result",
          "data": {
            "text/plain": [
              "array([4, 4, 4])"
            ]
          },
          "metadata": {},
          "execution_count": 56
        }
      ]
    },
    {
      "cell_type": "code",
      "source": [
        "c = np.full((2, 2), [1, 2]) # 각 행마다 들어갈 값을 지정\n",
        "c"
      ],
      "metadata": {
        "colab": {
          "base_uri": "https://localhost:8080/"
        },
        "id": "7ecyNcC6m-6R",
        "outputId": "a9baadcc-0b34-4673-e73a-32d09eeb508d"
      },
      "execution_count": null,
      "outputs": [
        {
          "output_type": "execute_result",
          "data": {
            "text/plain": [
              "array([[1, 2],\n",
              "       [1, 2]])"
            ]
          },
          "metadata": {},
          "execution_count": 57
        }
      ]
    },
    {
      "cell_type": "code",
      "source": [
        "d = np.full((2, 2), [[1, 2], [3, 4]])\n",
        "d"
      ],
      "metadata": {
        "colab": {
          "base_uri": "https://localhost:8080/"
        },
        "id": "NgCgyu8HnZ8q",
        "outputId": "b6a0c4ac-ba1b-47bc-ca0c-e0de3bbc0e98"
      },
      "execution_count": null,
      "outputs": [
        {
          "output_type": "execute_result",
          "data": {
            "text/plain": [
              "array([[1, 2],\n",
              "       [3, 4]])"
            ]
          },
          "metadata": {},
          "execution_count": 59
        }
      ]
    },
    {
      "cell_type": "markdown",
      "source": [
        "### np.empty\n",
        "- 배열을 생성하고 초기화를 지정하지 않는다.\n",
        "- 메모리에 있는 값이나 이전에 사용했던 값들로 채워진다."
      ],
      "metadata": {
        "id": "JQbnYzKFnpp6"
      }
    },
    {
      "cell_type": "code",
      "source": [
        "a = np.empty(3)\n",
        "a"
      ],
      "metadata": {
        "colab": {
          "base_uri": "https://localhost:8080/"
        },
        "id": "pJTw7HdrnkQ6",
        "outputId": "a823a4c7-e884-494d-df0d-a99b443071cf"
      },
      "execution_count": null,
      "outputs": [
        {
          "output_type": "execute_result",
          "data": {
            "text/plain": [
              "array([1., 1., 1.])"
            ]
          },
          "metadata": {},
          "execution_count": 69
        }
      ]
    },
    {
      "cell_type": "code",
      "source": [
        "k = np.zeros((2, 3))\n",
        "k"
      ],
      "metadata": {
        "colab": {
          "base_uri": "https://localhost:8080/"
        },
        "id": "t5Hl9n73n4bJ",
        "outputId": "f5736904-fd05-4a43-b1a3-251e10ca42ca"
      },
      "execution_count": null,
      "outputs": [
        {
          "output_type": "execute_result",
          "data": {
            "text/plain": [
              "array([[0., 0., 0.],\n",
              "       [0., 0., 0.]])"
            ]
          },
          "metadata": {},
          "execution_count": 75
        }
      ]
    },
    {
      "cell_type": "code",
      "source": [
        "# zeros해서 생성한 배열이 있으면 배열의 값을 0으로 채워 준다.\n",
        "b = np.empty((2, 3))\n",
        "b"
      ],
      "metadata": {
        "colab": {
          "base_uri": "https://localhost:8080/"
        },
        "id": "ZYTxVWSSocHy",
        "outputId": "4b292b1e-a673-47f9-8d44-1e1d71801de1"
      },
      "execution_count": null,
      "outputs": [
        {
          "output_type": "execute_result",
          "data": {
            "text/plain": [
              "array([[0., 0., 0.],\n",
              "       [0., 0., 0.]])"
            ]
          },
          "metadata": {},
          "execution_count": 76
        }
      ]
    },
    {
      "cell_type": "code",
      "source": [
        "c = np.empty((2, 5)) # 크기를 다르게 지정하면 다시 임의의 값 출력\n",
        "c"
      ],
      "metadata": {
        "colab": {
          "base_uri": "https://localhost:8080/"
        },
        "id": "Y5MbSoaMop2q",
        "outputId": "04bd1590-d6cc-4f53-e7b8-8bbd2d9cce90"
      },
      "execution_count": null,
      "outputs": [
        {
          "output_type": "execute_result",
          "data": {
            "text/plain": [
              "array([[3.71044644e-316, 1.77863633e-322, 0.00000000e+000,\n",
              "        0.00000000e+000, 2.41907520e-312],\n",
              "       [6.09539802e+170, 4.99027428e+174, 4.47129455e-090,\n",
              "        1.16002765e-046, 8.22214933e-315]])"
            ]
          },
          "metadata": {},
          "execution_count": 78
        }
      ]
    },
    {
      "cell_type": "markdown",
      "source": [
        "### np.ones\n",
        "- 배열의 모든 값을 1로 채운다."
      ],
      "metadata": {
        "id": "YFnJ1R-Apdhq"
      }
    },
    {
      "cell_type": "code",
      "source": [
        "# 1행 3열의 배열 생성 후 모든 값을 1로 채운다.\n",
        "a = np.ones(3)\n",
        "a"
      ],
      "metadata": {
        "colab": {
          "base_uri": "https://localhost:8080/"
        },
        "id": "I1AKE-Ano66S",
        "outputId": "632fdc81-4bd2-4749-d428-f311771b7561"
      },
      "execution_count": null,
      "outputs": [
        {
          "output_type": "execute_result",
          "data": {
            "text/plain": [
              "array([1., 1., 1.])"
            ]
          },
          "metadata": {},
          "execution_count": 80
        }
      ]
    },
    {
      "cell_type": "code",
      "source": [
        "#b = np.ones((2, 3))\n",
        "b = np.ones([2, 3])\n",
        "b"
      ],
      "metadata": {
        "colab": {
          "base_uri": "https://localhost:8080/"
        },
        "id": "y7a36esbpnCq",
        "outputId": "3489f086-e1b5-4064-9003-2680eff040b6"
      },
      "execution_count": null,
      "outputs": [
        {
          "output_type": "execute_result",
          "data": {
            "text/plain": [
              "array([[1., 1., 1.],\n",
              "       [1., 1., 1.]])"
            ]
          },
          "metadata": {},
          "execution_count": 82
        }
      ]
    },
    {
      "cell_type": "code",
      "source": [
        "c = np.empty((2, 3))\n",
        "c"
      ],
      "metadata": {
        "colab": {
          "base_uri": "https://localhost:8080/"
        },
        "id": "Ozg0X4s5p4g6",
        "outputId": "c0489f91-656f-4fd4-82d3-e7c1e1530f79"
      },
      "execution_count": null,
      "outputs": [
        {
          "output_type": "execute_result",
          "data": {
            "text/plain": [
              "array([[1., 1., 1.],\n",
              "       [1., 1., 1.]])"
            ]
          },
          "metadata": {},
          "execution_count": 83
        }
      ]
    },
    {
      "cell_type": "code",
      "source": [
        "e = np.eye(3, 4)\n",
        "e"
      ],
      "metadata": {
        "colab": {
          "base_uri": "https://localhost:8080/"
        },
        "id": "vb-j7wphqEKi",
        "outputId": "b763dbff-32aa-4bdf-d981-cba68dd40cc4"
      },
      "execution_count": null,
      "outputs": [
        {
          "output_type": "execute_result",
          "data": {
            "text/plain": [
              "array([[1., 0., 0., 0.],\n",
              "       [0., 1., 0., 0.],\n",
              "       [0., 0., 1., 0.]])"
            ]
          },
          "metadata": {},
          "execution_count": 86
        }
      ]
    },
    {
      "cell_type": "code",
      "source": [
        "# 똑같은 크기로 메모리를 생성하면 앞의 똑같은 크기의 행렬을 그대로 가져옴\n",
        "d = np.empty((3, 4))\n",
        "d"
      ],
      "metadata": {
        "colab": {
          "base_uri": "https://localhost:8080/"
        },
        "id": "HA1VO_m4qPya",
        "outputId": "f6372598-506a-4c7e-a56c-91f3e3d054e1"
      },
      "execution_count": null,
      "outputs": [
        {
          "output_type": "execute_result",
          "data": {
            "text/plain": [
              "array([[1., 0., 0., 0.],\n",
              "       [0., 1., 0., 0.],\n",
              "       [0., 0., 1., 0.]])"
            ]
          },
          "metadata": {},
          "execution_count": 88
        }
      ]
    },
    {
      "cell_type": "code",
      "source": [
        "e = np.full((3, 4), 0)\n",
        "e"
      ],
      "metadata": {
        "colab": {
          "base_uri": "https://localhost:8080/"
        },
        "id": "qQ7iuhgaqX4J",
        "outputId": "d21caaef-f458-4739-88cf-a36e1a16e7d2"
      },
      "execution_count": null,
      "outputs": [
        {
          "output_type": "execute_result",
          "data": {
            "text/plain": [
              "array([[0, 0, 0, 0],\n",
              "       [0, 0, 0, 0],\n",
              "       [0, 0, 0, 0]])"
            ]
          },
          "metadata": {},
          "execution_count": 90
        }
      ]
    },
    {
      "cell_type": "code",
      "source": [
        "f = np.empty((3, 4))\n",
        "f"
      ],
      "metadata": {
        "colab": {
          "base_uri": "https://localhost:8080/"
        },
        "id": "VP4n5iNZqvcC",
        "outputId": "2f437df6-8114-4b59-9ecf-2a6add9e3955"
      },
      "execution_count": 35,
      "outputs": [
        {
          "output_type": "execute_result",
          "data": {
            "text/plain": [
              "array([[2.68868311e-316, 2.47032823e-322, 0.00000000e+000,\n",
              "        0.00000000e+000],\n",
              "       [6.92789186e-310, 2.92966904e-033, 7.12417897e-091,\n",
              "        6.38124962e-067],\n",
              "       [2.38202945e+179, 6.52421337e-038, 3.99910963e+252,\n",
              "        5.99486855e+173]])"
            ]
          },
          "metadata": {},
          "execution_count": 35
        }
      ]
    },
    {
      "cell_type": "markdown",
      "source": [
        "### _like\n",
        "- _like가 붙으면 shape가 같게 만들어진다.\n",
        "- 연산하기 위해서 shape를 맞춰야 하는 경우가 있다.\n"
      ],
      "metadata": {
        "id": "R5bgP5CfrJTy"
      }
    },
    {
      "cell_type": "code",
      "source": [
        "a = np.array([[1,2,3],[4,5,6]])\n",
        "a"
      ],
      "metadata": {
        "colab": {
          "base_uri": "https://localhost:8080/"
        },
        "id": "0PkhS1CgqyYZ",
        "outputId": "475b3aae-7e64-445f-abce-56ca0a623d08"
      },
      "execution_count": null,
      "outputs": [
        {
          "output_type": "execute_result",
          "data": {
            "text/plain": [
              "array([[1, 2, 3],\n",
              "       [4, 5, 6]])"
            ]
          },
          "metadata": {},
          "execution_count": 93
        }
      ]
    },
    {
      "cell_type": "code",
      "source": [
        "a.shape"
      ],
      "metadata": {
        "colab": {
          "base_uri": "https://localhost:8080/"
        },
        "id": "3SWSO75crada",
        "outputId": "b2cdd703-60f2-4f39-bf4d-4e500e4cb5f6"
      },
      "execution_count": null,
      "outputs": [
        {
          "output_type": "execute_result",
          "data": {
            "text/plain": [
              "(2, 3)"
            ]
          },
          "metadata": {},
          "execution_count": 94
        }
      ]
    },
    {
      "cell_type": "code",
      "source": [
        "# 모양(행렬)은 그대로 가져오지만 값은 empty로 채워짐\n",
        "b = np.empty_like(a)\n",
        "b"
      ],
      "metadata": {
        "colab": {
          "base_uri": "https://localhost:8080/"
        },
        "id": "pZUPJxS1rgEh",
        "outputId": "00e45aa7-8b96-47a0-f271-83933468693a"
      },
      "execution_count": null,
      "outputs": [
        {
          "output_type": "execute_result",
          "data": {
            "text/plain": [
              "array([[4607182418800017408, 4607182418800017408, 4607182418800017408],\n",
              "       [4607182418800017408, 4607182418800017408, 4607182418800017408]])"
            ]
          },
          "metadata": {},
          "execution_count": 95
        }
      ]
    },
    {
      "cell_type": "code",
      "source": [
        "c = np.eye(2)\n",
        "c"
      ],
      "metadata": {
        "colab": {
          "base_uri": "https://localhost:8080/"
        },
        "id": "OzRxSeBQrnxq",
        "outputId": "cdfceeba-16fb-4081-fe4b-2e8cb106a75f"
      },
      "execution_count": null,
      "outputs": [
        {
          "output_type": "execute_result",
          "data": {
            "text/plain": [
              "array([[1., 0.],\n",
              "       [0., 1.]])"
            ]
          },
          "metadata": {},
          "execution_count": 97
        }
      ]
    },
    {
      "cell_type": "code",
      "source": [
        "c.shape"
      ],
      "metadata": {
        "colab": {
          "base_uri": "https://localhost:8080/"
        },
        "id": "opVUa6XYrwx5",
        "outputId": "fba3c813-e7ce-46b9-b232-761a4158bc04"
      },
      "execution_count": null,
      "outputs": [
        {
          "output_type": "execute_result",
          "data": {
            "text/plain": [
              "(2, 2)"
            ]
          },
          "metadata": {},
          "execution_count": 98
        }
      ]
    },
    {
      "cell_type": "code",
      "source": [
        "d = np.eye(3)\n",
        "d"
      ],
      "metadata": {
        "colab": {
          "base_uri": "https://localhost:8080/"
        },
        "id": "drI_fGv2r1iR",
        "outputId": "9e9a567f-4300-4f33-bfba-ba746adc85c8"
      },
      "execution_count": null,
      "outputs": [
        {
          "output_type": "execute_result",
          "data": {
            "text/plain": [
              "array([[1., 0., 0.],\n",
              "       [0., 1., 0.],\n",
              "       [0., 0., 1.]])"
            ]
          },
          "metadata": {},
          "execution_count": 99
        }
      ]
    },
    {
      "cell_type": "code",
      "source": [
        "d.shape"
      ],
      "metadata": {
        "colab": {
          "base_uri": "https://localhost:8080/"
        },
        "id": "5HH84_SZr6ri",
        "outputId": "dbc2cf50-1a62-4329-d9ca-fbc8260055f3"
      },
      "execution_count": null,
      "outputs": [
        {
          "output_type": "execute_result",
          "data": {
            "text/plain": [
              "(3, 3)"
            ]
          },
          "metadata": {},
          "execution_count": 100
        }
      ]
    },
    {
      "cell_type": "code",
      "source": [
        "# ValueError : shape (2,2) (2,3)가 맞지않아 연산이 불가능\n",
        "c + b"
      ],
      "metadata": {
        "colab": {
          "base_uri": "https://localhost:8080/",
          "height": 174
        },
        "id": "8f_z7dWrr8k6",
        "outputId": "3d3819f9-fe47-4645-b979-160c7b3bd684"
      },
      "execution_count": null,
      "outputs": [
        {
          "output_type": "error",
          "ename": "ValueError",
          "evalue": "ignored",
          "traceback": [
            "\u001b[0;31m---------------------------------------------------------------------------\u001b[0m",
            "\u001b[0;31mValueError\u001b[0m                                Traceback (most recent call last)",
            "\u001b[0;32m<ipython-input-101-93e37e1cb2c9>\u001b[0m in \u001b[0;36m<module>\u001b[0;34m\u001b[0m\n\u001b[0;32m----> 1\u001b[0;31m \u001b[0mc\u001b[0m \u001b[0;34m+\u001b[0m \u001b[0mb\u001b[0m\u001b[0;34m\u001b[0m\u001b[0;34m\u001b[0m\u001b[0m\n\u001b[0m",
            "\u001b[0;31mValueError\u001b[0m: operands could not be broadcast together with shapes (2,2) (2,3) "
          ]
        }
      ]
    },
    {
      "cell_type": "markdown",
      "source": [
        "### linspace\n",
        "- 동등한 간격으로 값을 생성한다.\n",
        "- 0부터 49까지 50개가 생성된다면 세번째 num인자 값이 생량되어 있으므로 start와 end를 계산해서 default 50이 생성된다.  \n",
        "  linspace(start, end, num)  \n",
        "  linspace(0, 49) #num = 50"
      ],
      "metadata": {
        "id": "3kTtc21os0Hb"
      }
    },
    {
      "cell_type": "code",
      "source": [
        "a = np.linspace(0, 49)\n",
        "a"
      ],
      "metadata": {
        "colab": {
          "base_uri": "https://localhost:8080/"
        },
        "id": "NhgXfLNWsALS",
        "outputId": "3fcad7a0-074d-4790-fad4-0ff301a0e571"
      },
      "execution_count": null,
      "outputs": [
        {
          "output_type": "execute_result",
          "data": {
            "text/plain": [
              "array([ 0.,  1.,  2.,  3.,  4.,  5.,  6.,  7.,  8.,  9., 10., 11., 12.,\n",
              "       13., 14., 15., 16., 17., 18., 19., 20., 21., 22., 23., 24., 25.,\n",
              "       26., 27., 28., 29., 30., 31., 32., 33., 34., 35., 36., 37., 38.,\n",
              "       39., 40., 41., 42., 43., 44., 45., 46., 47., 48., 49.])"
            ]
          },
          "metadata": {},
          "execution_count": 104
        }
      ]
    },
    {
      "cell_type": "code",
      "source": [
        "b = np.linspace(1, 5)\n",
        "b"
      ],
      "metadata": {
        "colab": {
          "base_uri": "https://localhost:8080/"
        },
        "id": "PSasVTeEtbD5",
        "outputId": "254cfbeb-c091-41c9-cbae-c0788865c95e"
      },
      "execution_count": null,
      "outputs": [
        {
          "output_type": "execute_result",
          "data": {
            "text/plain": [
              "array([1.        , 1.08163265, 1.16326531, 1.24489796, 1.32653061,\n",
              "       1.40816327, 1.48979592, 1.57142857, 1.65306122, 1.73469388,\n",
              "       1.81632653, 1.89795918, 1.97959184, 2.06122449, 2.14285714,\n",
              "       2.2244898 , 2.30612245, 2.3877551 , 2.46938776, 2.55102041,\n",
              "       2.63265306, 2.71428571, 2.79591837, 2.87755102, 2.95918367,\n",
              "       3.04081633, 3.12244898, 3.20408163, 3.28571429, 3.36734694,\n",
              "       3.44897959, 3.53061224, 3.6122449 , 3.69387755, 3.7755102 ,\n",
              "       3.85714286, 3.93877551, 4.02040816, 4.10204082, 4.18367347,\n",
              "       4.26530612, 4.34693878, 4.42857143, 4.51020408, 4.59183673,\n",
              "       4.67346939, 4.75510204, 4.83673469, 4.91836735, 5.        ])"
            ]
          },
          "metadata": {},
          "execution_count": 106
        }
      ]
    },
    {
      "cell_type": "code",
      "source": [
        "len(b)"
      ],
      "metadata": {
        "colab": {
          "base_uri": "https://localhost:8080/"
        },
        "id": "6VLfcfK2tqti",
        "outputId": "f2bed75f-a919-4221-87cc-77c4fb2d59dd"
      },
      "execution_count": null,
      "outputs": [
        {
          "output_type": "execute_result",
          "data": {
            "text/plain": [
              "50"
            ]
          },
          "metadata": {},
          "execution_count": 107
        }
      ]
    },
    {
      "cell_type": "code",
      "source": [
        "# 1부터 10까지 3개의 요소를 생성한다. (일정한 간격으로)\n",
        "# 기본은 endpoint = True 로 설정되어 있기 때문에 10이 포함이 된다.\n",
        "np.linspace(1, 10, 3)"
      ],
      "metadata": {
        "colab": {
          "base_uri": "https://localhost:8080/"
        },
        "id": "WzWrhFzUtuAK",
        "outputId": "f1aa4a17-a612-4698-c87d-2d53baa93b34"
      },
      "execution_count": null,
      "outputs": [
        {
          "output_type": "execute_result",
          "data": {
            "text/plain": [
              "array([ 1. ,  5.5, 10. ])"
            ]
          },
          "metadata": {},
          "execution_count": 108
        }
      ]
    },
    {
      "cell_type": "code",
      "source": [
        "# 1부터 10미만 사이에서 3개의 요소를 생성한다.\n",
        "# endpoint = False로 설정되어 있으므로 10이 포함이 안된다.\n",
        "np.linspace(1, 10, 3, endpoint = False)"
      ],
      "metadata": {
        "colab": {
          "base_uri": "https://localhost:8080/"
        },
        "id": "e-_3CmuGt0rR",
        "outputId": "5c10baaa-1343-4113-e8f7-85922aec79d6"
      },
      "execution_count": null,
      "outputs": [
        {
          "output_type": "execute_result",
          "data": {
            "text/plain": [
              "array([1., 4., 7.])"
            ]
          },
          "metadata": {},
          "execution_count": 109
        }
      ]
    },
    {
      "cell_type": "markdown",
      "source": [
        "### logspace\n",
        "- linspace와 비슷하다.\n",
        "- log scale을 사용하는 차이가 있다.  \n",
        "- 1부터 50까지 사이의 10개의 요소를 생성한다.  \n",
        "  np.logspace(1, 50, 10)"
      ],
      "metadata": {
        "id": "RIQaLcj_utBr"
      }
    },
    {
      "cell_type": "code",
      "source": [
        "np.logspace(1, 50, 10)"
      ],
      "metadata": {
        "colab": {
          "base_uri": "https://localhost:8080/"
        },
        "id": "tb56xu_wuaXi",
        "outputId": "62baa6e2-23d5-48b8-95c5-72290de7489e"
      },
      "execution_count": null,
      "outputs": [
        {
          "output_type": "execute_result",
          "data": {
            "text/plain": [
              "array([1.00000000e+01, 2.78255940e+06, 7.74263683e+11, 2.15443469e+17,\n",
              "       5.99484250e+22, 1.66810054e+28, 4.64158883e+33, 1.29154967e+39,\n",
              "       3.59381366e+44, 1.00000000e+50])"
            ]
          },
          "metadata": {},
          "execution_count": 110
        }
      ]
    },
    {
      "cell_type": "markdown",
      "source": [
        "### dtype\n",
        "\n",
        "- numpy는 c언어를 기반으로 해서 만들었기 때문에 c의 데이터 타입을 차용할 수 있다."
      ],
      "metadata": {
        "id": "fnSKF1cYvoWB"
      }
    },
    {
      "cell_type": "code",
      "source": [
        "a = np.array([1, 2, 3])\n",
        "a"
      ],
      "metadata": {
        "colab": {
          "base_uri": "https://localhost:8080/"
        },
        "id": "CZygvLAUuR5x",
        "outputId": "b6eb2773-71e8-4746-9513-656be5128595"
      },
      "execution_count": null,
      "outputs": [
        {
          "output_type": "execute_result",
          "data": {
            "text/plain": [
              "array([1, 2, 3])"
            ]
          },
          "metadata": {},
          "execution_count": 111
        }
      ]
    },
    {
      "cell_type": "code",
      "source": [
        "print(type(a))\n",
        "print(a.dtype)"
      ],
      "metadata": {
        "colab": {
          "base_uri": "https://localhost:8080/"
        },
        "id": "AjFe9BGAv4pZ",
        "outputId": "7de7cb65-d410-46be-e776-95062be78f3c"
      },
      "execution_count": null,
      "outputs": [
        {
          "output_type": "stream",
          "name": "stdout",
          "text": [
            "<class 'numpy.ndarray'>\n",
            "int64\n"
          ]
        }
      ]
    },
    {
      "cell_type": "code",
      "source": [
        "b = np.array([1, 2, 3], dtype = np.int8)\n",
        "b"
      ],
      "metadata": {
        "colab": {
          "base_uri": "https://localhost:8080/"
        },
        "id": "J70VzBXLv6z5",
        "outputId": "ee152fd8-e9f1-400a-da7b-eea55218f7f2"
      },
      "execution_count": null,
      "outputs": [
        {
          "output_type": "execute_result",
          "data": {
            "text/plain": [
              "array([1, 2, 3], dtype=int8)"
            ]
          },
          "metadata": {},
          "execution_count": 114
        }
      ]
    },
    {
      "cell_type": "code",
      "source": [
        "# np.int8은 -128 ~ 127 사이의 값을 저장할 수 있다.\n",
        "c = np.array([-127, -128, 17, 2, 3, -127, -128, 127], dtype = np.int8)\n",
        "c"
      ],
      "metadata": {
        "colab": {
          "base_uri": "https://localhost:8080/"
        },
        "id": "DJuQsmEpwRMx",
        "outputId": "06375770-cbb3-47c4-c5e1-3050679e227a"
      },
      "execution_count": null,
      "outputs": [
        {
          "output_type": "execute_result",
          "data": {
            "text/plain": [
              "array([-127, -128,   17,    2,    3, -127, -128,  127], dtype=int8)"
            ]
          },
          "metadata": {},
          "execution_count": 116
        }
      ]
    },
    {
      "cell_type": "code",
      "source": [
        "# int는 python의 int를 사용한다.\n",
        "d = np.array([127, 2, 3, -127, -128], dtype=int)\n",
        "d"
      ],
      "metadata": {
        "colab": {
          "base_uri": "https://localhost:8080/"
        },
        "id": "0F3H2Wq2wwHZ",
        "outputId": "9161999c-9f0f-48e8-af17-45538c430ce2"
      },
      "execution_count": null,
      "outputs": [
        {
          "output_type": "execute_result",
          "data": {
            "text/plain": [
              "array([ 127,    2,    3, -127, -128])"
            ]
          },
          "metadata": {},
          "execution_count": 118
        }
      ]
    },
    {
      "cell_type": "code",
      "source": [
        "type(d[0])"
      ],
      "metadata": {
        "colab": {
          "base_uri": "https://localhost:8080/"
        },
        "id": "xPK0mQ2Vw61q",
        "outputId": "77613a30-1201-4a5a-b1e5-4ae040020890"
      },
      "execution_count": null,
      "outputs": [
        {
          "output_type": "execute_result",
          "data": {
            "text/plain": [
              "numpy.int64"
            ]
          },
          "metadata": {},
          "execution_count": 119
        }
      ]
    },
    {
      "cell_type": "markdown",
      "source": [
        "### python 도움말"
      ],
      "metadata": {
        "id": "MVhYygYI5R25"
      }
    },
    {
      "cell_type": "code",
      "source": [
        "?sum"
      ],
      "metadata": {
        "id": "WcAyqtoUxKj5"
      },
      "execution_count": null,
      "outputs": []
    },
    {
      "cell_type": "code",
      "source": [
        "help(sum)"
      ],
      "metadata": {
        "colab": {
          "base_uri": "https://localhost:8080/"
        },
        "id": "X666zMqC5HlJ",
        "outputId": "ac5e3e29-a2bf-4a77-e915-2e2d3450828d"
      },
      "execution_count": null,
      "outputs": [
        {
          "output_type": "stream",
          "name": "stdout",
          "text": [
            "Help on built-in function sum in module builtins:\n",
            "\n",
            "sum(iterable, /, start=0)\n",
            "    Return the sum of a 'start' value (default: 0) plus an iterable of numbers\n",
            "    \n",
            "    When the iterable is empty, return the start value.\n",
            "    This function is intended specifically for use with numeric values and may\n",
            "    reject non-numeric types.\n",
            "\n"
          ]
        }
      ]
    },
    {
      "cell_type": "markdown",
      "source": [
        "### numpy 도움말"
      ],
      "metadata": {
        "id": "xJAyzoFM5m0A"
      }
    },
    {
      "cell_type": "code",
      "source": [
        "np.lookfor('sum')"
      ],
      "metadata": {
        "colab": {
          "base_uri": "https://localhost:8080/"
        },
        "id": "e0bJ5vsq5Igh",
        "outputId": "7dc67590-a957-4f8c-c5b9-a4d366235cee"
      },
      "execution_count": null,
      "outputs": [
        {
          "output_type": "stream",
          "name": "stdout",
          "text": [
            "Search results for 'sum'\n",
            "------------------------\n",
            "numpy.sum\n",
            "    Sum of array elements over a given axis.\n",
            "numpy.cumsum\n",
            "    Return the cumulative sum of the elements along a given axis.\n",
            "numpy.einsum\n",
            "    einsum(subscripts, *operands, out=None, dtype=None, order='K',\n",
            "numpy.nansum\n",
            "    Return the sum of array elements over a given axis treating Not a\n",
            "numpy.nancumsum\n",
            "    Return the cumulative sum of array elements over a given axis treating Not a\n",
            "numpy.einsum_path\n",
            "    Evaluates the lowest cost contraction order for an einsum expression by\n",
            "numpy.trace\n",
            "    Return the sum along diagonals of the array.\n",
            "numpy.ma.sum\n",
            "    Return the sum of the array elements over the given axis.\n",
            "numpy.Bytes0.sum\n",
            "    Scalar method identical to the corresponding array attribute.\n",
            "numpy.polyadd\n",
            "    Find the sum of two polynomials.\n",
            "numpy.ma.cumsum\n",
            "    Return the cumulative sum of the array elements over the given axis.\n",
            "numpy.logaddexp\n",
            "    Logarithm of the sum of exponentiations of the inputs.\n",
            "numpy.Bytes0.cumsum\n",
            "    Scalar method identical to the corresponding array attribute.\n",
            "numpy.logaddexp2\n",
            "    Logarithm of the sum of exponentiations of the inputs in base-2.\n",
            "numpy.matrix.sum\n",
            "    Returns the sum of the matrix elements, along the given axis.\n",
            "numpy.chararray.sum\n",
            "    Return the sum of the array elements over the given axis.\n",
            "numpy.mask_indices\n",
            "    Return the indices to access (n, n) arrays, given a masking function.\n",
            "numpy.chararray.cumsum\n",
            "    Return the cumulative sum of the elements along the given axis.\n",
            "numpy.Str0.expandtabs\n",
            "    Return a copy where all tab characters are expanded using spaces.\n",
            "numpy.chararray.trace\n",
            "    Return the sum along diagonals of the array.\n",
            "numpy.Bytes0.expandtabs\n",
            "    Return a copy where all tab characters are expanded using spaces.\n",
            "numpy.format_float_positional\n",
            "    Format a floating-point scalar as a decimal string in positional notation.\n",
            "numpy.format_float_scientific\n",
            "    Format a floating-point scalar as a decimal string in scientific notation.\n",
            "numpy.linalg.tensorsolve\n",
            "    Solve the tensor equation ``a x = b`` for x.\n",
            "numpy.ma.MaskedArray.sum\n",
            "    Return the sum of the array elements over the given axis.\n",
            "numpy.ma.MaskedArray.cumsum\n",
            "    Return the cumulative sum of the array elements over the given axis.\n",
            "numpy.core._umath_tests.cumsum\n",
            "    Cumulative sum of the input (n)->(n)\n",
            "numpy.ma.MaskedArray.trace\n",
            "    Return the sum along diagonals of the array.\n",
            "numpy.core._multiarray_umath.c_einsum\n",
            "    c_einsum(subscripts, *operands, out=None, dtype=None, order='K',\n",
            "numpy.polynomial.Hermite._add\n",
            "    Add one Hermite series to another.\n",
            "numpy.polynomial.HermiteE._add\n",
            "    Add one Hermite series to another.\n",
            "numpy.polynomial.Laguerre._add\n",
            "    Add one Laguerre series to another.\n",
            "numpy.polynomial.Legendre._add\n",
            "    Add one Legendre series to another.\n",
            "numpy.polynomial.Chebyshev._add\n",
            "    Add one Chebyshev series to another.\n",
            "numpy.polynomial.Polynomial._add\n",
            "    Add one polynomial to another.\n",
            "numpy.AxisError.__class__.__sizeof__\n",
            "    Return memory consumption of the type object.\n",
            "numpy.add\n",
            "    Add arguments element-wise.\n",
            "numpy.cov\n",
            "    Estimate a covariance matrix, given data and weights.\n",
            "numpy.dot\n",
            "    Dot product of two arrays. Specifically,\n",
            "numpy.std\n",
            "    Compute the standard deviation along the specified axis.\n",
            "numpy.var\n",
            "    Compute the variance along the specified axis.\n",
            "numpy.diag\n",
            "    Extract a diagonal or construct a diagonal array.\n",
            "numpy.diff\n",
            "    Calculate the n-th discrete difference along the given axis.\n",
            "numpy.in1d\n",
            "    Test whether each element of a 1-D array is also present in a second array.\n",
            "numpy.isin\n",
            "    Calculates `element in test_elements`, broadcasting over `element` only.\n",
            "numpy.kron\n",
            "    Kronecker product of two arrays.\n",
            "numpy.core.setup_common.get_api_versions\n",
            "    Return current C API checksum and the recorded checksum.\n",
            "numpy.mean\n",
            "    Compute the arithmetic mean along the specified axis.\n",
            "numpy.poly\n",
            "    Find the coefficients of a polynomial with the given sequence of roots.\n",
            "numpy.cross\n",
            "    Return the cross product of two (arrays of) vectors.\n",
            "numpy.inner\n",
            "    Inner product of two arrays.\n",
            "numpy.outer\n",
            "    Compute the outer product of two vectors.\n",
            "numpy.roots\n",
            "    Return the roots of a polynomial with coefficients given in p.\n",
            "numpy.trapz\n",
            "    Integrate along the given axis using the composite trapezoidal rule.\n",
            "numpy.choose\n",
            "    Construct an array from an index array and a list of arrays to choose from.\n",
            "numpy.matmul\n",
            "    Matrix product of two arrays.\n",
            "numpy.nanstd\n",
            "    Compute the standard deviation along the specified axis, while\n",
            "numpy.nanvar\n",
            "    Compute the variance along the specified axis, while ignoring NaNs.\n",
            "numpy.nditer\n",
            "    Efficient multi-dimensional iterator object to iterate over arrays.\n",
            "numpy.poly1d\n",
            "    A one-dimensional polynomial class.\n",
            "numpy.average\n",
            "    Compute the weighted average along the specified axis.\n",
            "numpy.isclose\n",
            "    Returns a boolean array where two arrays are element-wise equal within a\n",
            "numpy.nanmean\n",
            "    Compute the arithmetic mean along the specified axis, ignoring NaNs.\n",
            "numpy.nanprod\n",
            "    Return the product of array elements over a given axis treating Not a\n",
            "numpy.polyder\n",
            "    Return the derivative of the specified order of a polynomial.\n",
            "numpy.polydiv\n",
            "    Returns the quotient and remainder of polynomial division.\n",
            "numpy.polyfit\n",
            "    Least squares polynomial fit.\n",
            "numpy.polyint\n",
            "    Return an antiderivative (indefinite integral) of a polynomial.\n",
            "numpy.polymul\n",
            "    Find the product of two polynomials.\n",
            "numpy.polysub\n",
            "    Difference (subtraction) of two polynomials.\n",
            "numpy.polyval\n",
            "    Evaluate a polynomial at specific values.\n",
            "numpy.bincount\n",
            "    Count number of occurrences of each value in array of non-negative ints.\n",
            "numpy.blackman\n",
            "    Return the Blackman window.\n",
            "numpy.convolve\n",
            "    Returns the discrete, linear convolution of two one-dimensional sequences.\n",
            "numpy.diagflat\n",
            "    Create a two-dimensional array with the flattened input as a diagonal.\n",
            "numpy.diagonal\n",
            "    Return specified diagonals.\n",
            "numpy.gradient\n",
            "    Return the gradient of an N-dimensional array.\n",
            "numpy.setxor1d\n",
            "    Find the set exclusive-or of two arrays.\n",
            "numpy.correlate\n",
            "    Cross-correlation of two 1-dimensional sequences.\n",
            "numpy.histogram\n",
            "    Compute the histogram of a dataset.\n",
            "numpy.isrealobj\n",
            "    Return True if x is a not complex type or an array of complex numbers.\n",
            "numpy.piecewise\n",
            "    Evaluate a piecewise-defined function.\n",
            "numpy.setdiff1d\n",
            "    Find the set difference of two arrays.\n",
            "numpy.tensordot\n",
            "    Compute tensor dot product along specified axes.\n",
            "numpy.vectorize\n",
            "    vectorize(pyfunc, otypes=None, doc=None, excluded=None, cache=False,\n",
            "numpy.histogram2d\n",
            "    Compute the bi-dimensional histogram of two data samples.\n",
            "numpy.histogramdd\n",
            "    Compute the multidimensional histogram of some data.\n",
            "numpy.intersect1d\n",
            "    Find the intersection of two arrays.\n",
            "numpy.ma.add\n",
            "    Add arguments element-wise.\n",
            "numpy.array2string\n",
            "    Return a string representation of an array.\n",
            "numpy.ma.var\n",
            "    Compute the variance along the specified axis.\n",
            "numpy.searchsorted\n",
            "    Find indices where elements should be inserted to maintain order.\n",
            "numpy.lib.tests.test_utils.old_func4\n",
            "    Summary.\n",
            "numpy.lib.tests.test_utils.old_func5\n",
            "    Summary.\n",
            "numpy.fft.hfft\n",
            "    Compute the FFT of a signal that has Hermitian symmetry, i.e., a real\n",
            "numpy.fft.ifft\n",
            "    Compute the one-dimensional inverse discrete Fourier Transform.\n",
            "numpy.fft.irfft\n",
            "    Computes the inverse of `rfft`.\n",
            "numpy.ma.inner\n",
            "    Inner product of two arrays.\n",
            "numpy.ma.outer\n",
            "    Compute the outer product of two vectors.\n",
            "numpy.ma.trace\n",
            "    a.trace(offset=0, axis1=0, axis2=1, dtype=None, out=None)\n",
            "numpy.apply_over_axes\n",
            "    Apply a function repeatedly over multiple axes.\n",
            "numpy.fft.irfftn\n",
            "    Computes the inverse of `rfftn`.\n",
            "numpy.linalg.svd\n",
            "    Singular Value Decomposition.\n",
            "numpy.ma.average\n",
            "    Return the weighted average of array over the given axis.\n",
            "numpy.ma.polyfit\n",
            "    Least squares polynomial fit.\n",
            "numpy.set_printoptions\n",
            "    Set printing options.\n",
            "numpy.linalg.cond\n",
            "    Compute the condition number of a matrix.\n",
            "numpy.linalg.norm\n",
            "    Matrix or vector norm.\n",
            "numpy.linalg.pinv\n",
            "    Compute the (Moore-Penrose) pseudo-inverse of a matrix.\n",
            "numpy.ma.convolve\n",
            "    Returns the discrete, linear convolution of two one-dimensional sequences.\n",
            "numpy.ma.diagflat\n",
            "    Create a two-dimensional array with the flattened input as a diagonal.\n",
            "numpy.linalg.lstsq\n",
            "    Return the least-squares solution to a linear matrix equation.\n",
            "numpy.random.PCG64\n",
            "    BitGenerator for the PCG-64 pseudo-random number generator.\n",
            "numpy.random.SFC64\n",
            "    BitGenerator for Chris Doty-Humphrey's Small Fast Chaotic PRNG.\n",
            "numpy.ufunc.reduce\n",
            "    Reduces `array`'s dimension by one, by applying ufunc along one axis.\n",
            "numpy.histogram_bin_edges\n",
            "    Function to calculate only the edges of the bins used by the `histogram`\n",
            "numpy.random.Philox\n",
            "    Container for the Philox (4x64) pseudo-random number generator.\n",
            "numpy.random.MT19937\n",
            "    Container for the Mersenne Twister pseudo-random number generator.\n",
            "numpy.ufunc.reduceat\n",
            "    Performs a (local) reduce with specified slices over a single axis.\n",
            "numpy.linalg.multi_dot\n",
            "    Compute the dot product of two or more arrays in a single function call,\n",
            "numpy.linalg.tensorinv\n",
            "    Compute the 'inverse' of an N-dimensional array.\n",
            "numpy.random.PCG64DXSM\n",
            "    BitGenerator for the PCG-64 DXSM pseudo-random number generator.\n",
            "numpy.ufunc.accumulate\n",
            "    Accumulate the result of applying the operator to all elements.\n",
            "numpy.linalg.matrix_rank\n",
            "    Return matrix rank of array using SVD method\n",
            "numpy.ma.apply_over_axes\n",
            "    Apply a function repeatedly over multiple axes.\n",
            "numpy.ma.MaskedArray.var\n",
            "    Compute the variance along the specified axis.\n",
            "numpy.random.Generator.f\n",
            "    Draw samples from an F distribution.\n",
            "numpy.distutils.command.sdist.sdist.write_manifest\n",
            "    Write the file list in 'self.filelist' (presumably as filled in\n",
            "numpy.random.RandomState.f\n",
            "    Draw samples from an F distribution.\n",
            "numpy.random.MT19937.jumped\n",
            "    Returns a new bit generator with the state jumped\n",
            "numpy.polynomial.Hermite.fit\n",
            "    Least squares fit to data.\n",
            "numpy.polynomial.Hermite._fit\n",
            "    Least squares fit of Hermite series to data.\n",
            "numpy.core._multiarray_umath.dot\n",
            "    Dot product of two arrays. Specifically,\n",
            "numpy.polynomial.HermiteE.fit\n",
            "    Least squares fit to data.\n",
            "numpy.polynomial.Laguerre.fit\n",
            "    Least squares fit to data.\n",
            "numpy.polynomial.Legendre.fit\n",
            "    Least squares fit to data.\n",
            "numpy.random.Generator.choice\n",
            "    Generates a random sample from a given array\n",
            "numpy.polynomial.Chebyshev.fit\n",
            "    Least squares fit to data.\n",
            "numpy.polynomial.HermiteE._fit\n",
            "    Least squares fit of Hermite series to data.\n",
            "numpy.polynomial.Laguerre._fit\n",
            "    Least squares fit of Laguerre series to data.\n",
            "numpy.polynomial.Legendre._fit\n",
            "    Least squares fit of Legendre series to data.\n",
            "numpy.polynomial.Chebyshev._fit\n",
            "    Least squares fit of Chebyshev series to data.\n",
            "numpy.polynomial.Hermite._roots\n",
            "    Compute the roots of a Hermite series.\n",
            "numpy.core._multiarray_umath.inner\n",
            "    Inner product of two arrays.\n",
            "numpy.polynomial.Polynomial.fit\n",
            "    Least squares fit to data.\n",
            "numpy.random.Generator.binomial\n",
            "    Draw samples from a binomial distribution.\n",
            "numpy.random.Generator.logistic\n",
            "    Draw samples from a logistic distribution.\n",
            "numpy.random.Generator.rayleigh\n",
            "    Draw samples from a Rayleigh distribution.\n",
            "numpy.random.RandomState.choice\n",
            "    Generates a random sample from a given 1-D array\n",
            "numpy.polynomial.HermiteE._roots\n",
            "    Compute the roots of a HermiteE series.\n",
            "numpy.polynomial.Laguerre._roots\n",
            "    Compute the roots of a Laguerre series.\n",
            "numpy.polynomial.Legendre._roots\n",
            "    Compute the roots of a Legendre series.\n",
            "numpy.polynomial.Polynomial._fit\n",
            "    Least-squares fit of a polynomial to data.\n",
            "numpy.random.Generator.chisquare\n",
            "    Draw samples from a chi-square distribution.\n",
            "numpy.random.Generator.dirichlet\n",
            "    Draw samples from the Dirichlet distribution.\n",
            "numpy.random.Generator.geometric\n",
            "    Draw samples from the geometric distribution.\n",
            "numpy.random.Generator.lognormal\n",
            "    Draw samples from a log-normal distribution.\n",
            "numpy.polynomial.Chebyshev._roots\n",
            "    Compute the roots of a Chebyshev series.\n",
            "numpy.random.Generator.standard_t\n",
            "    Draw samples from a standard Student's t distribution with `df` degrees\n",
            "numpy.random.RandomState.binomial\n",
            "    Draw samples from a binomial distribution.\n",
            "numpy.random.RandomState.logistic\n",
            "    Draw samples from a logistic distribution.\n",
            "numpy.random.RandomState.rayleigh\n",
            "    Draw samples from a Rayleigh distribution.\n",
            "numpy.core._multiarray_umath.bincount\n",
            "    Count number of occurrences of each value in array of non-negative ints.\n",
            "numpy.polynomial.Polynomial._roots\n",
            "    Compute the roots of a polynomial.\n",
            "numpy.polynomial.hermite.hermval2d\n",
            "    Evaluate a 2-D Hermite series at points (x, y).\n",
            "numpy.polynomial.hermite.hermval3d\n",
            "    Evaluate a 3-D Hermite series at points (x, y, z).\n",
            "numpy.polynomial.laguerre.lagval2d\n",
            "    Evaluate a 2-D Laguerre series at points (x, y).\n",
            "numpy.polynomial.laguerre.lagval3d\n",
            "    Evaluate a 3-D Laguerre series at points (x, y, z).\n",
            "numpy.polynomial.legendre.legval2d\n",
            "    Evaluate a 2-D Legendre series at points (x, y).\n",
            "numpy.polynomial.legendre.legval3d\n",
            "    Evaluate a 3-D Legendre series at points (x, y, z).\n",
            "numpy.random.Generator.multinomial\n",
            "    Draw samples from a multinomial distribution.\n",
            "numpy.random.RandomState.chisquare\n",
            "    Draw samples from a chi-square distribution.\n",
            "numpy.random.RandomState.dirichlet\n",
            "    Draw samples from the Dirichlet distribution.\n",
            "numpy.random.RandomState.geometric\n",
            "    Draw samples from the geometric distribution.\n",
            "numpy.random.RandomState.lognormal\n",
            "    Draw samples from a log-normal distribution.\n",
            "numpy.random.RandomState.set_state\n",
            "    set_state(state)\n",
            "numpy.polynomial.hermite.hermgrid2d\n",
            "    Evaluate a 2-D Hermite series on the Cartesian product of x and y.\n",
            "numpy.polynomial.hermite.hermgrid3d\n",
            "    Evaluate a 3-D Hermite series on the Cartesian product of x, y, and z.\n",
            "numpy.polynomial.laguerre.laggrid2d\n",
            "    Evaluate a 2-D Laguerre series on the Cartesian product of x and y.\n",
            "numpy.polynomial.laguerre.laggrid3d\n",
            "    Evaluate a 3-D Laguerre series on the Cartesian product of x, y, and z.\n",
            "numpy.polynomial.legendre.leggrid2d\n",
            "    Evaluate a 2-D Legendre series on the Cartesian product of x and y.\n",
            "numpy.polynomial.legendre.leggrid3d\n",
            "    Evaluate a 3-D Legendre series on the Cartesian product of x, y, and z.\n",
            "numpy.random.Generator.noncentral_f\n",
            "    Draw samples from the noncentral F distribution.\n",
            "numpy.random.RandomState.standard_t\n",
            "    Draw samples from a standard Student's t distribution with `df` degrees\n",
            "numpy.polynomial.chebyshev.chebval2d\n",
            "    Evaluate a 2-D Chebyshev series at points (x, y).\n",
            "numpy.polynomial.chebyshev.chebval3d\n",
            "    Evaluate a 3-D Chebyshev series at points (x, y, z).\n",
            "numpy.random.RandomState.multinomial\n",
            "    Draw samples from a multinomial distribution.\n",
            "numpy.polynomial.chebyshev.chebgrid2d\n",
            "    Evaluate a 2-D Chebyshev series on the Cartesian product of x and y.\n",
            "numpy.polynomial.chebyshev.chebgrid3d\n",
            "    Evaluate a 3-D Chebyshev series on the Cartesian product of x, y, and z.\n",
            "numpy.polynomial.hermite_e.hermeval2d\n",
            "    Evaluate a 2-D HermiteE series at points (x, y).\n",
            "numpy.polynomial.hermite_e.hermeval3d\n",
            "    Evaluate a 3-D Hermite_e series at points (x, y, z).\n",
            "numpy.polynomial.polynomial.polyval2d\n",
            "    Evaluate a 2-D polynomial at points (x, y).\n",
            "numpy.polynomial.polynomial.polyval3d\n",
            "    Evaluate a 3-D polynomial at points (x, y, z).\n",
            "numpy.random.Generator.hypergeometric\n",
            "    Draw samples from a Hypergeometric distribution.\n",
            "numpy.random.RandomState.noncentral_f\n",
            "    Draw samples from the noncentral F distribution.\n",
            "numpy.polynomial.hermite_e.hermegrid2d\n",
            "    Evaluate a 2-D HermiteE series on the Cartesian product of x and y.\n",
            "numpy.polynomial.hermite_e.hermegrid3d\n",
            "    Evaluate a 3-D HermiteE series on the Cartesian product of x, y, and z.\n",
            "numpy.polynomial.polynomial.polygrid2d\n",
            "    Evaluate a 2-D polynomial on the Cartesian product of x and y.\n",
            "numpy.polynomial.polynomial.polygrid3d\n",
            "    Evaluate a 3-D polynomial on the Cartesian product of x, y and z.\n",
            "numpy.random.Generator.standard_cauchy\n",
            "    Draw samples from a standard Cauchy distribution with mode = 0.\n",
            "numpy.distutils.command.build_clib.build_clib.check_library_list\n",
            "    Ensure that the list of libraries is valid.\n",
            "numpy.distutils.command.build_ext.build_ext.check_extensions_list\n",
            "    Ensure that the list of extensions (presumably provided as a\n",
            "numpy.random.RandomState.hypergeometric\n",
            "    Draw samples from a Hypergeometric distribution.\n",
            "numpy.lib.recfunctions.apply_along_fields\n",
            "    Apply function 'func' as a reduction across fields of a structured array.\n",
            "numpy.random.Generator.negative_binomial\n",
            "    Draw samples from a negative binomial distribution.\n",
            "numpy.distutils.command.develop.develop.create_index.__getitem__\n",
            "    Return a newest-to-oldest list of distributions for `project_name`\n",
            "numpy.random.RandomState.random_integers\n",
            "    Random integers of type `np.int_` between `low` and `high`, inclusive.\n",
            "numpy.random.RandomState.standard_cauchy\n",
            "    Draw samples from a standard Cauchy distribution with mode = 0.\n",
            "numpy.random.RandomState.negative_binomial\n",
            "    Draw samples from a negative binomial distribution.\n",
            "numpy.random.Generator.noncentral_chisquare\n",
            "    Draw samples from a noncentral chi-square distribution.\n",
            "numpy.random.RandomState.noncentral_chisquare\n",
            "    Draw samples from a noncentral chi-square distribution.\n",
            "numpy.core.tests.test_simd.Test_SIMD_FP64_128_SSE42_f64.test_conversions\n",
            "    Round to nearest even integer, assume CPU control register is set to rounding.\n",
            "numpy.core.tests.test_simd.Test_SIMD_FP32_128_SSE42_f32.test_conversions\n",
            "    Round to nearest even integer, assume CPU control register is set to rounding.\n",
            "numpy.core.tests.test_simd.Test_SIMD_ALL_128_SSE42_f32.test_arithmetic_reduce_sum\n",
            "    Test reduce sum intrinsics:\n",
            "numpy.random.Generator.multivariate_hypergeometric\n",
            "    multivariate_hypergeometric(colors, nsample, size=None,\n",
            "numpy.core.tests.test_simd.Test_SIMD_ALL_128_SSE42_f32.test_arithmetic_reduce_sumup\n",
            "    Test extend reduce sum intrinsics:\n",
            "numpy.distutils.misc_util.Configuration.set_options\n",
            "    Configure Configuration instance.\n",
            "numpy.distutils.misc_util.Configuration.add_subpackage\n",
            "    Add a sub-package to the current Configuration instance.\n",
            "numpy.distutils.misc_util.Configuration.get_subpackage\n",
            "    Return list of subpackage configurations.\n",
            "numpy.distutils.ccompiler_opt.CCompilerOpt.feature_ahead\n",
            "    Return list of features in 'names' after remove any\n",
            "numpy.distutils.ccompiler_opt.CCompilerOpt.feature_untied\n",
            "    same as 'feature_ahead()' but if both features implied each other\n",
            "numpy.distutils.misc_util.Configuration.add_npy_pkg_config\n",
            "    Generate and install a npy-pkg config file from a template.\n",
            "numpy.linalg.tests.test_deprecations.test_qr_mode_full_future_warning\n",
            "    Check mode='full' FutureWarning.\n",
            "numpy.distutils.tests.test_ccompiler_opt_conf.TestConfFeatures.subTest\n",
            "    Return a context manager that will return the enclosed block"
          ]
        }
      ]
    },
    {
      "cell_type": "code",
      "source": [
        "a = np.array([[1, 2, 3], [4, 5, 6]])\n",
        "# array의 shape를 알려준다.\n",
        "a.shape"
      ],
      "metadata": {
        "colab": {
          "base_uri": "https://localhost:8080/"
        },
        "id": "jcLxRZ2j5ZYJ",
        "outputId": "ac765e79-7c9d-4f55-a329-75dd9462307a"
      },
      "execution_count": null,
      "outputs": [
        {
          "output_type": "execute_result",
          "data": {
            "text/plain": [
              "(2, 3)"
            ]
          },
          "metadata": {},
          "execution_count": 124
        }
      ]
    },
    {
      "cell_type": "code",
      "source": [
        "# array가 몇 차원인지 알려준다.\n",
        "# shape의 모양으로도 알 수는 있다.\n",
        "a.ndim"
      ],
      "metadata": {
        "colab": {
          "base_uri": "https://localhost:8080/"
        },
        "id": "IS4FIPkP5oxg",
        "outputId": "83f0bfd8-6b0c-4e57-c3e6-675234ddf3a3"
      },
      "execution_count": null,
      "outputs": [
        {
          "output_type": "execute_result",
          "data": {
            "text/plain": [
              "2"
            ]
          },
          "metadata": {},
          "execution_count": 125
        }
      ]
    },
    {
      "cell_type": "code",
      "source": [
        "# 데이터의 타입을 알려준다.\n",
        "# numpy표기법 -> 한 요소당 8byte\n",
        "a.dtype"
      ],
      "metadata": {
        "colab": {
          "base_uri": "https://localhost:8080/"
        },
        "id": "mFK32y8b59cI",
        "outputId": "2d8e1f9f-02e5-4e7d-b7fa-367043d673c4"
      },
      "execution_count": null,
      "outputs": [
        {
          "output_type": "execute_result",
          "data": {
            "text/plain": [
              "dtype('int64')"
            ]
          },
          "metadata": {},
          "execution_count": 128
        }
      ]
    },
    {
      "cell_type": "code",
      "source": [
        "# 요소의 개수를 알려준다.\n",
        "# shape로도 알 수 있다.\n",
        "a.size"
      ],
      "metadata": {
        "colab": {
          "base_uri": "https://localhost:8080/"
        },
        "id": "bSHNpz5t6MW5",
        "outputId": "d028ca0b-5648-4422-b6bb-bdacaad505ff"
      },
      "execution_count": null,
      "outputs": [
        {
          "output_type": "execute_result",
          "data": {
            "text/plain": [
              "6"
            ]
          },
          "metadata": {},
          "execution_count": 129
        }
      ]
    },
    {
      "cell_type": "code",
      "source": [
        "# 요소당 byte수를 알려준다.\n",
        "a.itemsize"
      ],
      "metadata": {
        "colab": {
          "base_uri": "https://localhost:8080/"
        },
        "id": "WEob9k_i6UAQ",
        "outputId": "30e637e1-e7e7-484e-b814-b2a93c15354f"
      },
      "execution_count": null,
      "outputs": [
        {
          "output_type": "execute_result",
          "data": {
            "text/plain": [
              "8"
            ]
          },
          "metadata": {},
          "execution_count": 130
        }
      ]
    },
    {
      "cell_type": "markdown",
      "source": [
        "### 2. numpy와 python의 속도차이"
      ],
      "metadata": {
        "id": "dn_1EPhf7b4R"
      }
    },
    {
      "cell_type": "code",
      "source": [
        "np.arange(10) # range"
      ],
      "metadata": {
        "colab": {
          "base_uri": "https://localhost:8080/"
        },
        "id": "GivF01u96kVB",
        "outputId": "4bcf84cc-0560-4e6f-be60-324282b764ca"
      },
      "execution_count": null,
      "outputs": [
        {
          "output_type": "execute_result",
          "data": {
            "text/plain": [
              "array([0, 1, 2, 3, 4, 5, 6, 7, 8, 9])"
            ]
          },
          "metadata": {},
          "execution_count": 131
        }
      ]
    },
    {
      "cell_type": "markdown",
      "source": [
        "값이 작을때는 속도가 비슷하다.  \n",
        "값이 커지면 속도 차이가 난다. (numpy가 더 빠르다)"
      ],
      "metadata": {
        "id": "4CX8opYP70iw"
      }
    },
    {
      "cell_type": "code",
      "source": [
        "# numpy를 이용한 계산\n",
        "%time np.sum(np.arange(1000000000))"
      ],
      "metadata": {
        "colab": {
          "base_uri": "https://localhost:8080/"
        },
        "id": "EhnVMex17svI",
        "outputId": "a1bd3717-8915-45e8-a0bd-2fce4ab9440e"
      },
      "execution_count": null,
      "outputs": [
        {
          "output_type": "stream",
          "name": "stdout",
          "text": [
            "CPU times: user 1.97 s, sys: 4.58 s, total: 6.55 s\n",
            "Wall time: 6.54 s\n"
          ]
        },
        {
          "output_type": "execute_result",
          "data": {
            "text/plain": [
              "499999999500000000"
            ]
          },
          "metadata": {},
          "execution_count": 132
        }
      ]
    },
    {
      "cell_type": "code",
      "source": [
        "# python을 이용한 계산\n",
        "%time sum(range(1000000000))"
      ],
      "metadata": {
        "colab": {
          "base_uri": "https://localhost:8080/"
        },
        "id": "xBDECiA579Ow",
        "outputId": "6a2bb5fe-fc1b-458c-d3da-ed56f36fb290"
      },
      "execution_count": null,
      "outputs": [
        {
          "output_type": "stream",
          "name": "stdout",
          "text": [
            "CPU times: user 20.8 s, sys: 11.3 ms, total: 20.8 s\n",
            "Wall time: 21.2 s\n"
          ]
        },
        {
          "output_type": "execute_result",
          "data": {
            "text/plain": [
              "499999999500000000"
            ]
          },
          "metadata": {},
          "execution_count": 133
        }
      ]
    },
    {
      "cell_type": "markdown",
      "source": [
        "같은 np.sum()을 사용하더라도 값을 생성하는 방법에 따라 속도가 달라진다."
      ],
      "metadata": {
        "id": "2NK566tV9bdp"
      }
    },
    {
      "cell_type": "code",
      "source": [
        "%time np.sum(np.arange(1000000000))"
      ],
      "metadata": {
        "colab": {
          "base_uri": "https://localhost:8080/"
        },
        "id": "mslvjWEl8Gcw",
        "outputId": "fa6355bf-f848-4bc2-8d89-664f041db429"
      },
      "execution_count": null,
      "outputs": [
        {
          "output_type": "stream",
          "name": "stdout",
          "text": [
            "CPU times: user 2.48 s, sys: 28.7 ms, total: 2.51 s\n",
            "Wall time: 2.51 s\n"
          ]
        },
        {
          "output_type": "execute_result",
          "data": {
            "text/plain": [
              "499999999500000000"
            ]
          },
          "metadata": {},
          "execution_count": 134
        }
      ]
    },
    {
      "cell_type": "code",
      "source": [
        "%time np.sum(range(1000000000))"
      ],
      "metadata": {
        "colab": {
          "base_uri": "https://localhost:8080/",
          "height": 156
        },
        "id": "B5z8bPHK8k3Z",
        "outputId": "f2c3ad3d-fcae-4ed0-de98-3087c3408e2a"
      },
      "execution_count": null,
      "outputs": [
        {
          "output_type": "error",
          "ename": "NameError",
          "evalue": "ignored",
          "traceback": [
            "\u001b[0;31m---------------------------------------------------------------------------\u001b[0m",
            "\u001b[0;31mNameError\u001b[0m                                 Traceback (most recent call last)",
            "\u001b[0;32m<timed eval>\u001b[0m in \u001b[0;36m<module>\u001b[0;34m\u001b[0m\n",
            "\u001b[0;31mNameError\u001b[0m: name 'np' is not defined"
          ]
        }
      ]
    },
    {
      "cell_type": "markdown",
      "source": [
        "### 3. copy  \n",
        "대입문 6가지  \n",
        "- a = 1\n",
        "- a = b = 1\n",
        "- a,b = 1, 2\n",
        "- a, *b = 1, 2, 3\n",
        "- a += 1  \n",
        "- global, nonlocal"
      ],
      "metadata": {
        "id": "_UB0-lLl-Pqp"
      }
    },
    {
      "cell_type": "markdown",
      "source": [
        "### python 에서 copy"
      ],
      "metadata": {
        "id": "m1RTjV7I-nsw"
      }
    },
    {
      "cell_type": "code",
      "source": [
        "a = [1, 2, 3] # heterogeneous, sequence, mutable"
      ],
      "metadata": {
        "id": "bxYJMd6V8rxo"
      },
      "execution_count": 3,
      "outputs": []
    },
    {
      "cell_type": "code",
      "source": [
        "b = a"
      ],
      "metadata": {
        "id": "WVhkSt6196kv"
      },
      "execution_count": 4,
      "outputs": []
    },
    {
      "cell_type": "code",
      "source": [
        "b"
      ],
      "metadata": {
        "colab": {
          "base_uri": "https://localhost:8080/"
        },
        "id": "PpHxMWkk-uOA",
        "outputId": "05ac386a-2cd2-4a73-d063-fe071976031b"
      },
      "execution_count": 5,
      "outputs": [
        {
          "output_type": "execute_result",
          "data": {
            "text/plain": [
              "[1, 2, 3]"
            ]
          },
          "metadata": {},
          "execution_count": 5
        }
      ]
    },
    {
      "cell_type": "code",
      "source": [
        "a is b # 메모리 주소 비교"
      ],
      "metadata": {
        "colab": {
          "base_uri": "https://localhost:8080/"
        },
        "id": "LQnH3w4m-uoA",
        "outputId": "acd37738-28f4-4900-99be-09030c799a84"
      },
      "execution_count": 6,
      "outputs": [
        {
          "output_type": "execute_result",
          "data": {
            "text/plain": [
              "True"
            ]
          },
          "metadata": {},
          "execution_count": 6
        }
      ]
    },
    {
      "cell_type": "code",
      "source": [
        "# a 와 b가 메모리 주소를 공유\n",
        "# b값을 변경하면 a도 같이 변경이 된다.\n",
        "b[0] = 7"
      ],
      "metadata": {
        "id": "MztIOOw1-yhw"
      },
      "execution_count": 7,
      "outputs": []
    },
    {
      "cell_type": "code",
      "source": [
        "b"
      ],
      "metadata": {
        "colab": {
          "base_uri": "https://localhost:8080/"
        },
        "id": "R4ZLGZcX-2kI",
        "outputId": "8293ed2e-3727-4b60-c1c6-8a640b8a3c00"
      },
      "execution_count": 8,
      "outputs": [
        {
          "output_type": "execute_result",
          "data": {
            "text/plain": [
              "[7, 2, 3]"
            ]
          },
          "metadata": {},
          "execution_count": 8
        }
      ]
    },
    {
      "cell_type": "code",
      "source": [
        "a"
      ],
      "metadata": {
        "colab": {
          "base_uri": "https://localhost:8080/"
        },
        "id": "LGOXib0Z-33A",
        "outputId": "b78f1a3b-f1d0-4507-80a1-099a664a53bb"
      },
      "execution_count": 9,
      "outputs": [
        {
          "output_type": "execute_result",
          "data": {
            "text/plain": [
              "[7, 2, 3]"
            ]
          },
          "metadata": {},
          "execution_count": 9
        }
      ]
    },
    {
      "cell_type": "markdown",
      "source": [
        "list copy"
      ],
      "metadata": {
        "id": "x5eAHUID_o9I"
      }
    },
    {
      "cell_type": "code",
      "source": [
        "a = [1, 2, 3]"
      ],
      "metadata": {
        "id": "Y2DMrQMG-4OA"
      },
      "execution_count": 10,
      "outputs": []
    },
    {
      "cell_type": "code",
      "source": [
        "# copy()는 똑같은 값만 가지고 메모리는 공유하지 않는다.\n",
        "b = a.copy()"
      ],
      "metadata": {
        "id": "OdaFL_--_q7n"
      },
      "execution_count": 11,
      "outputs": []
    },
    {
      "cell_type": "code",
      "source": [
        "# 메모리 주소비교\n",
        "a is b"
      ],
      "metadata": {
        "colab": {
          "base_uri": "https://localhost:8080/"
        },
        "id": "_nm1nsF8_uqf",
        "outputId": "16cc5a73-142b-400f-a1b8-9d9a12557370"
      },
      "execution_count": 12,
      "outputs": [
        {
          "output_type": "execute_result",
          "data": {
            "text/plain": [
              "False"
            ]
          },
          "metadata": {},
          "execution_count": 12
        }
      ]
    },
    {
      "cell_type": "code",
      "source": [
        "id(a)"
      ],
      "metadata": {
        "colab": {
          "base_uri": "https://localhost:8080/"
        },
        "id": "Y_fomN_D_wrP",
        "outputId": "89adc6b8-a840-400f-b639-d87cb401fcc8"
      },
      "execution_count": 13,
      "outputs": [
        {
          "output_type": "execute_result",
          "data": {
            "text/plain": [
              "140223638276800"
            ]
          },
          "metadata": {},
          "execution_count": 13
        }
      ]
    },
    {
      "cell_type": "code",
      "source": [
        "\n",
        "id(b)"
      ],
      "metadata": {
        "colab": {
          "base_uri": "https://localhost:8080/"
        },
        "id": "-y0XkI4zAB23",
        "outputId": "cdb3188c-d6f3-4daa-c1aa-c635422d5131"
      },
      "execution_count": 14,
      "outputs": [
        {
          "output_type": "execute_result",
          "data": {
            "text/plain": [
              "140223638423296"
            ]
          },
          "metadata": {},
          "execution_count": 14
        }
      ]
    },
    {
      "cell_type": "code",
      "source": [
        "# 값의 비교\n",
        "a == b"
      ],
      "metadata": {
        "colab": {
          "base_uri": "https://localhost:8080/"
        },
        "id": "p_G_YIgUAC1Z",
        "outputId": "bae71798-3038-41ac-e2ac-e215570be07f"
      },
      "execution_count": 15,
      "outputs": [
        {
          "output_type": "execute_result",
          "data": {
            "text/plain": [
              "True"
            ]
          },
          "metadata": {},
          "execution_count": 15
        }
      ]
    },
    {
      "cell_type": "code",
      "source": [
        "b[0] = 8\n",
        "# a는 안바뀐다.\n",
        "print(a)\n",
        "print(b)"
      ],
      "metadata": {
        "colab": {
          "base_uri": "https://localhost:8080/"
        },
        "id": "duD5lIhhAF6n",
        "outputId": "b491db81-65c4-4a4d-cc21-0bb182953d38"
      },
      "execution_count": 16,
      "outputs": [
        {
          "output_type": "stream",
          "name": "stdout",
          "text": [
            "[1, 2, 3]\n",
            "[8, 2, 3]\n"
          ]
        }
      ]
    },
    {
      "cell_type": "code",
      "source": [
        "print(a is b)\n",
        "print(a == b)"
      ],
      "metadata": {
        "colab": {
          "base_uri": "https://localhost:8080/"
        },
        "id": "9x8Tbj6IAUP_",
        "outputId": "3ea7a4a1-25e5-4b32-92e3-52a6dbb81ab5"
      },
      "execution_count": 17,
      "outputs": [
        {
          "output_type": "stream",
          "name": "stdout",
          "text": [
            "False\n",
            "False\n"
          ]
        }
      ]
    },
    {
      "cell_type": "markdown",
      "source": [
        "list가 2차원일때"
      ],
      "metadata": {
        "id": "dCyh-V5qAlKA"
      }
    },
    {
      "cell_type": "code",
      "source": [
        "a = [1, 2, 3]"
      ],
      "metadata": {
        "id": "9R498OZgAZHn"
      },
      "execution_count": 18,
      "outputs": []
    },
    {
      "cell_type": "code",
      "source": [
        "type(a)"
      ],
      "metadata": {
        "colab": {
          "base_uri": "https://localhost:8080/"
        },
        "id": "klv2ex1rAsZP",
        "outputId": "1e123c57-d3ca-451f-fc7e-9c6e78adcd75"
      },
      "execution_count": 19,
      "outputs": [
        {
          "output_type": "execute_result",
          "data": {
            "text/plain": [
              "list"
            ]
          },
          "metadata": {},
          "execution_count": 19
        }
      ]
    },
    {
      "cell_type": "code",
      "source": [
        "# shallow copy (얇은 복사)\n",
        "b = a.copy()"
      ],
      "metadata": {
        "id": "9MgEwk-MAtJg"
      },
      "execution_count": 20,
      "outputs": []
    },
    {
      "cell_type": "code",
      "source": [
        "print(a is b)\n",
        "print(a == b)"
      ],
      "metadata": {
        "colab": {
          "base_uri": "https://localhost:8080/"
        },
        "id": "J6EzaoRnAvHP",
        "outputId": "c876ccdd-2453-4935-8f04-397ce0f4cdce"
      },
      "execution_count": 21,
      "outputs": [
        {
          "output_type": "stream",
          "name": "stdout",
          "text": [
            "False\n",
            "True\n"
          ]
        }
      ]
    },
    {
      "cell_type": "code",
      "source": [
        "print(a[0] is b[0])\n",
        "print(a[0] == b[0])"
      ],
      "metadata": {
        "colab": {
          "base_uri": "https://localhost:8080/"
        },
        "id": "KX4lVL24A2DX",
        "outputId": "487bfe32-84f0-4a51-913f-899d3d308af6"
      },
      "execution_count": 22,
      "outputs": [
        {
          "output_type": "stream",
          "name": "stdout",
          "text": [
            "True\n",
            "True\n"
          ]
        }
      ]
    },
    {
      "cell_type": "markdown",
      "source": [
        "list depp copy"
      ],
      "metadata": {
        "id": "lAtgwwh5BsOC"
      }
    },
    {
      "cell_type": "code",
      "source": [
        "import copy"
      ],
      "metadata": {
        "id": "EgnFFGkyBKUw"
      },
      "execution_count": 23,
      "outputs": []
    },
    {
      "cell_type": "code",
      "source": [
        "a = [[1,2,3]]\n",
        "b = copy.deepcopy(a)"
      ],
      "metadata": {
        "id": "rO7Su_xfBvhH"
      },
      "execution_count": 24,
      "outputs": []
    },
    {
      "cell_type": "code",
      "source": [
        "print(a)\n",
        "print(b)"
      ],
      "metadata": {
        "colab": {
          "base_uri": "https://localhost:8080/"
        },
        "id": "bdLUBO8oB0Jw",
        "outputId": "edc39325-507f-4dfc-d88c-92e08fc0c5f0"
      },
      "execution_count": 25,
      "outputs": [
        {
          "output_type": "stream",
          "name": "stdout",
          "text": [
            "[[1, 2, 3]]\n",
            "[[1, 2, 3]]\n"
          ]
        }
      ]
    },
    {
      "cell_type": "code",
      "source": [
        "print(a is b)\n",
        "print(a == b)\n",
        "print(a[0] is b[0]) # deep copy가 됨\n",
        "print(a[0] == b[0])"
      ],
      "metadata": {
        "colab": {
          "base_uri": "https://localhost:8080/"
        },
        "id": "Xmd8XHmMB3R4",
        "outputId": "90c381a4-51d6-48cc-9b43-39c6f8f228a5"
      },
      "execution_count": 27,
      "outputs": [
        {
          "output_type": "stream",
          "name": "stdout",
          "text": [
            "False\n",
            "True\n",
            "False\n",
            "True\n"
          ]
        }
      ]
    },
    {
      "cell_type": "markdown",
      "source": [
        "[:]는 전체라는 뜻이다.  \n",
        "슬라이싱 방식으로 1차 리스트일때는 재할당하면 deep copy가 발생된다.  \n",
        "슬라이싱 2차 리스트 이상인 경우 shallow copy가 발생한다."
      ],
      "metadata": {
        "id": "K6z1iRPkCPpg"
      }
    },
    {
      "cell_type": "code",
      "source": [
        "a = [1, 2, 3]\n",
        "b = a[:]\n",
        "print(a is b)\n",
        "print(a == b)\n",
        "b[0] = 7\n",
        "print(a is b)\n",
        "print(a == b)\n"
      ],
      "metadata": {
        "colab": {
          "base_uri": "https://localhost:8080/"
        },
        "id": "lA7Fs4vuB7Xv",
        "outputId": "2b433615-eeb2-4306-c94c-6279cd6b0efb"
      },
      "execution_count": 29,
      "outputs": [
        {
          "output_type": "stream",
          "name": "stdout",
          "text": [
            "False\n",
            "True\n",
            "False\n",
            "False\n"
          ]
        }
      ]
    },
    {
      "cell_type": "code",
      "source": [
        "a = [[1, 2, 3]] # 2차원\n",
        "# 슬라이싱 2차 이상인 경우 shallow copy가 된다.\n",
        "b = a[:]\n",
        "print(a is b)\n",
        "print(a == b)\n",
        "b[0][0] = 7\n",
        "print(a is b)\n",
        "print(a == b)\n"
      ],
      "metadata": {
        "colab": {
          "base_uri": "https://localhost:8080/"
        },
        "id": "s0iap89TC3PX",
        "outputId": "c5cb975f-3095-491e-fd67-ea1f082377c3"
      },
      "execution_count": 30,
      "outputs": [
        {
          "output_type": "stream",
          "name": "stdout",
          "text": [
            "False\n",
            "True\n",
            "False\n",
            "True\n"
          ]
        }
      ]
    },
    {
      "cell_type": "markdown",
      "source": [
        "python의 copy는 기본적으로 shallow copy를 한다."
      ],
      "metadata": {
        "id": "gP5d0xGiDYdY"
      }
    },
    {
      "cell_type": "markdown",
      "source": [
        "### numpy 의 copy"
      ],
      "metadata": {
        "id": "Winx-SPRDmpw"
      }
    },
    {
      "cell_type": "code",
      "source": [
        "a = b = np.array([1, 2, 3])"
      ],
      "metadata": {
        "id": "ZR3TDppLDGl5"
      },
      "execution_count": 33,
      "outputs": []
    },
    {
      "cell_type": "code",
      "source": [
        "print(a is b)\n",
        "print(a == b)"
      ],
      "metadata": {
        "colab": {
          "base_uri": "https://localhost:8080/"
        },
        "id": "CXnPaBTgDvtQ",
        "outputId": "8c2caf94-dfe7-43ee-88f0-d41070c1d783"
      },
      "execution_count": 34,
      "outputs": [
        {
          "output_type": "stream",
          "name": "stdout",
          "text": [
            "True\n",
            "[ True  True  True]\n"
          ]
        }
      ]
    },
    {
      "cell_type": "markdown",
      "source": [
        "array는 sequence타입으로 인덱싱과 슬라이싱이 가능하다."
      ],
      "metadata": {
        "id": "h1SCQVNWHRl4"
      }
    },
    {
      "cell_type": "code",
      "source": [
        "a[0] # indexing"
      ],
      "metadata": {
        "colab": {
          "base_uri": "https://localhost:8080/"
        },
        "id": "yLMAXUzOEDiw",
        "outputId": "f8e08675-6b7d-4667-caa0-d34ec8d073a0"
      },
      "execution_count": 36,
      "outputs": [
        {
          "output_type": "execute_result",
          "data": {
            "text/plain": [
              "1"
            ]
          },
          "metadata": {},
          "execution_count": 36
        }
      ]
    },
    {
      "cell_type": "code",
      "source": [
        "a[:] # slicing"
      ],
      "metadata": {
        "colab": {
          "base_uri": "https://localhost:8080/"
        },
        "id": "JydZqM8HHYqP",
        "outputId": "e3a71487-c0d7-4883-b9f6-5d5aa6ba64b8"
      },
      "execution_count": 37,
      "outputs": [
        {
          "output_type": "execute_result",
          "data": {
            "text/plain": [
              "array([1, 2, 3])"
            ]
          },
          "metadata": {},
          "execution_count": 37
        }
      ]
    },
    {
      "cell_type": "code",
      "source": [
        "# array는 mutable 이다.\n",
        "# 예외가 몇 가지 있지만 mutable에 가깝다.\n",
        "a[0] = 100\n",
        "print(a)\n",
        "print(b)"
      ],
      "metadata": {
        "colab": {
          "base_uri": "https://localhost:8080/"
        },
        "id": "Z1ivyOTDHa23",
        "outputId": "eb04fe78-4516-4e0a-db4a-8c0e972827e8"
      },
      "execution_count": 40,
      "outputs": [
        {
          "output_type": "stream",
          "name": "stdout",
          "text": [
            "[100   2   3]\n",
            "[100   2   3]\n"
          ]
        }
      ]
    },
    {
      "cell_type": "markdown",
      "source": [
        "array는 homogeneous, sequence, mutable 이다."
      ],
      "metadata": {
        "id": "R0yFD4U2H5rQ"
      }
    },
    {
      "cell_type": "markdown",
      "source": [
        "array deepcopy"
      ],
      "metadata": {
        "id": "o8eYQOkCIAg4"
      }
    },
    {
      "cell_type": "code",
      "source": [
        "a = np.array([1, 2, 3])\n",
        "# numpy는 기본적으로 deepcopy이다.\n",
        "b = a.copy()"
      ],
      "metadata": {
        "id": "87QINBIMHjWI"
      },
      "execution_count": 41,
      "outputs": []
    },
    {
      "cell_type": "code",
      "source": [
        "print(a is b)"
      ],
      "metadata": {
        "colab": {
          "base_uri": "https://localhost:8080/"
        },
        "id": "YSGgwkb2IPFX",
        "outputId": "56407335-04f6-43e1-9258-aee85c881d39"
      },
      "execution_count": 42,
      "outputs": [
        {
          "output_type": "stream",
          "name": "stdout",
          "text": [
            "False\n"
          ]
        }
      ]
    },
    {
      "cell_type": "code",
      "source": [
        "print(a[0] is b[0])"
      ],
      "metadata": {
        "colab": {
          "base_uri": "https://localhost:8080/"
        },
        "id": "n2Ma02URIQGQ",
        "outputId": "4d9f7040-73f8-4eec-efff-fb50ab7a3050"
      },
      "execution_count": 43,
      "outputs": [
        {
          "output_type": "stream",
          "name": "stdout",
          "text": [
            "False\n"
          ]
        }
      ]
    },
    {
      "cell_type": "markdown",
      "source": [
        "### 4 as 계열\n",
        "다른 데이터 타입을 가져와서 바꿔서 사용할 때는 as라는 이름이 보통 붙는다."
      ],
      "metadata": {
        "id": "j4BhjDY9Iedf"
      }
    },
    {
      "cell_type": "code",
      "source": [
        "#python list데이터 타입을 int ndarray로 변환\n",
        "a = [1, 2, 3] # python의 list\n",
        "print(type(a))\n",
        "print(type(a[0]))\n",
        "b = np.array(a) # 산술연산이 가능\n",
        "print(type(b))\n",
        "print(type(b[0]))\n"
      ],
      "metadata": {
        "colab": {
          "base_uri": "https://localhost:8080/"
        },
        "id": "FGx0vCx0IZkn",
        "outputId": "049ca94e-0359-4a44-f46e-8009e5ac8cec"
      },
      "execution_count": 83,
      "outputs": [
        {
          "output_type": "stream",
          "name": "stdout",
          "text": [
            "<class 'list'>\n",
            "<class 'int'>\n",
            "<class 'numpy.ndarray'>\n",
            "<class 'numpy.int64'>\n"
          ]
        }
      ]
    },
    {
      "cell_type": "code",
      "source": [
        "#python list데이터 타입을 int ndarray로 변환 (asarray())\n",
        "a = [1, 2, 3] # python의 list\n",
        "print(type(a))\n",
        "print(type(a[0]))\n",
        "b = np.asarray(a)\n",
        "print(type(b))\n",
        "print(type(b[0]))\n"
      ],
      "metadata": {
        "colab": {
          "base_uri": "https://localhost:8080/"
        },
        "id": "bb6cC7oNJUyX",
        "outputId": "464a3da1-27f9-4436-d5d3-9e2a1c075735"
      },
      "execution_count": 84,
      "outputs": [
        {
          "output_type": "stream",
          "name": "stdout",
          "text": [
            "<class 'list'>\n",
            "<class 'int'>\n",
            "<class 'numpy.ndarray'>\n",
            "<class 'numpy.int64'>\n"
          ]
        }
      ]
    },
    {
      "cell_type": "code",
      "source": [
        "#python list데이터 타입을 float ndarray로 변환\n",
        "a = [1, 2, 3] # python의 list\n",
        "print(type(a))\n",
        "print(type(a[0]))\n",
        "b = np.asfarray(a) # 실수값으로 변경\n",
        "print(type(b))\n",
        "print(type(b[0]))\n"
      ],
      "metadata": {
        "colab": {
          "base_uri": "https://localhost:8080/"
        },
        "id": "FJoxTmojJwj3",
        "outputId": "6b9c0408-2dd0-4796-9b9a-ad634e60aa38"
      },
      "execution_count": 85,
      "outputs": [
        {
          "output_type": "stream",
          "name": "stdout",
          "text": [
            "<class 'list'>\n",
            "<class 'int'>\n",
            "<class 'numpy.ndarray'>\n",
            "<class 'numpy.float64'>\n"
          ]
        }
      ]
    },
    {
      "cell_type": "code",
      "source": [
        "# python의 list 데이터 타입 float이면 float ndarray로 변환\n",
        "# python의 list 데이터 타입 int이면 int ndarray로 변환\n",
        "a = [1., 2., 3.]\n",
        "print(type(a))\n",
        "print(type(a[0]))\n",
        "\n",
        "b = np.asarray(a)\n",
        "print(type(b))\n",
        "print(type(b[0]))\n",
        "\n",
        "c = np.array(a)\n",
        "print(type(c))\n",
        "print(type(c[0]))"
      ],
      "metadata": {
        "colab": {
          "base_uri": "https://localhost:8080/"
        },
        "id": "4-aSApPAKL9H",
        "outputId": "cd83f2e2-b490-4b02-a697-1d6ef34c0747"
      },
      "execution_count": 86,
      "outputs": [
        {
          "output_type": "stream",
          "name": "stdout",
          "text": [
            "<class 'list'>\n",
            "<class 'float'>\n",
            "<class 'numpy.ndarray'>\n",
            "<class 'numpy.float64'>\n",
            "<class 'numpy.ndarray'>\n",
            "<class 'numpy.float64'>\n"
          ]
        }
      ]
    },
    {
      "cell_type": "markdown",
      "source": [
        "### 5. 값 가져오기"
      ],
      "metadata": {
        "id": "CqWUf2NUL6pf"
      }
    },
    {
      "cell_type": "markdown",
      "source": [
        "###(1).comma로 값 가져오기"
      ],
      "metadata": {
        "id": "UdfCRtOPMBLf"
      }
    },
    {
      "cell_type": "code",
      "source": [
        "a = [[1, 2, 3], [4, 5, 6]] # python\n",
        "b = np.array([[1, 2, 3], [4, 5, 6]]) # numpy"
      ],
      "metadata": {
        "id": "CN4CRsf9L1Qn"
      },
      "execution_count": 56,
      "outputs": []
    },
    {
      "cell_type": "code",
      "source": [
        "# 1차원 리스트로 가져온다.\n",
        "a[0]"
      ],
      "metadata": {
        "colab": {
          "base_uri": "https://localhost:8080/"
        },
        "id": "7QDZgW1KMRRP",
        "outputId": "82a9ba2b-9de7-4f0a-a8f5-5d87ce95d3f7"
      },
      "execution_count": 57,
      "outputs": [
        {
          "output_type": "execute_result",
          "data": {
            "text/plain": [
              "[1, 2, 3]"
            ]
          },
          "metadata": {},
          "execution_count": 57
        }
      ]
    },
    {
      "cell_type": "code",
      "source": [
        "# TypeError 인덱싱에서는 comma를 사용할 수 없다\n",
        "a[0, 1]"
      ],
      "metadata": {
        "colab": {
          "base_uri": "https://localhost:8080/",
          "height": 193
        },
        "id": "t06sI6qQMZC_",
        "outputId": "e1c6939e-ab37-4041-87b7-bc2d3b2329b4"
      },
      "execution_count": 60,
      "outputs": [
        {
          "output_type": "error",
          "ename": "TypeError",
          "evalue": "ignored",
          "traceback": [
            "\u001b[0;31m---------------------------------------------------------------------------\u001b[0m",
            "\u001b[0;31mTypeError\u001b[0m                                 Traceback (most recent call last)",
            "\u001b[0;32m<ipython-input-60-29cc919c8a20>\u001b[0m in \u001b[0;36m<module>\u001b[0;34m\u001b[0m\n\u001b[1;32m      1\u001b[0m \u001b[0;31m# TypeError 인덱싱에서는 comma를 사용할 수 없다\u001b[0m\u001b[0;34m\u001b[0m\u001b[0;34m\u001b[0m\u001b[0;34m\u001b[0m\u001b[0m\n\u001b[0;32m----> 2\u001b[0;31m \u001b[0ma\u001b[0m\u001b[0;34m[\u001b[0m\u001b[0;36m0\u001b[0m\u001b[0;34m,\u001b[0m \u001b[0;36m1\u001b[0m\u001b[0;34m]\u001b[0m\u001b[0;34m\u001b[0m\u001b[0;34m\u001b[0m\u001b[0m\n\u001b[0m",
            "\u001b[0;31mTypeError\u001b[0m: list indices must be integers or slices, not tuple"
          ]
        }
      ]
    },
    {
      "cell_type": "markdown",
      "source": [
        "슬라이스 함수를 이용해서 comma를 사용하는 방법은 가능하다."
      ],
      "metadata": {
        "id": "Egr2bLzuNFXP"
      }
    },
    {
      "cell_type": "code",
      "source": [
        "# 2차원 리스트로 가져온다.\n",
        "a[slice(0, 1)] # 0번째 행 에서부터 1번째 행 미만의 데이터를 가져온다"
      ],
      "metadata": {
        "colab": {
          "base_uri": "https://localhost:8080/"
        },
        "id": "RMLyt3bWMcVf",
        "outputId": "9df88506-ea07-43a9-9c24-d92682961039"
      },
      "execution_count": 61,
      "outputs": [
        {
          "output_type": "execute_result",
          "data": {
            "text/plain": [
              "[[1, 2, 3]]"
            ]
          },
          "metadata": {},
          "execution_count": 61
        }
      ]
    },
    {
      "cell_type": "code",
      "source": [
        "a[slice(0, 2)] # 0번째 행 에서부터 2번째 행 미만의 데이터를 가져온다"
      ],
      "metadata": {
        "colab": {
          "base_uri": "https://localhost:8080/"
        },
        "id": "WP0W8MDuM2-u",
        "outputId": "d6c8561b-157d-4abf-da91-72e9a256778c"
      },
      "execution_count": 62,
      "outputs": [
        {
          "output_type": "execute_result",
          "data": {
            "text/plain": [
              "[[1, 2, 3], [4, 5, 6]]"
            ]
          },
          "metadata": {},
          "execution_count": 62
        }
      ]
    },
    {
      "cell_type": "code",
      "source": [
        "a[0:1]"
      ],
      "metadata": {
        "colab": {
          "base_uri": "https://localhost:8080/"
        },
        "id": "OnbHbCHTNR63",
        "outputId": "f461196d-7c28-45bd-ac42-71eac0acf256"
      },
      "execution_count": 63,
      "outputs": [
        {
          "output_type": "execute_result",
          "data": {
            "text/plain": [
              "[[1, 2, 3]]"
            ]
          },
          "metadata": {},
          "execution_count": 63
        }
      ]
    },
    {
      "cell_type": "code",
      "source": [
        "a[0:2]"
      ],
      "metadata": {
        "colab": {
          "base_uri": "https://localhost:8080/"
        },
        "id": "ps7a9cQGNfJo",
        "outputId": "1c525319-b051-409e-dbdc-9df11e748341"
      },
      "execution_count": 64,
      "outputs": [
        {
          "output_type": "execute_result",
          "data": {
            "text/plain": [
              "[[1, 2, 3], [4, 5, 6]]"
            ]
          },
          "metadata": {},
          "execution_count": 64
        }
      ]
    },
    {
      "cell_type": "markdown",
      "source": [
        "numpy는 기본적으로 인덱싱 / 슬라이싱을 할때 comma를 사용할 수 있다."
      ],
      "metadata": {
        "id": "xqJuzLGrNmg3"
      }
    },
    {
      "cell_type": "code",
      "source": [
        "# numpy\n",
        "# b[행, 열]\n",
        "print(b[0, 2]) # 0행 2열\n",
        "print(b[0, -1]) # 0행 끝열"
      ],
      "metadata": {
        "colab": {
          "base_uri": "https://localhost:8080/"
        },
        "id": "GSRYW2DtNhGH",
        "outputId": "ac69319c-82d2-463d-fedf-bf332e29113e"
      },
      "execution_count": 67,
      "outputs": [
        {
          "output_type": "stream",
          "name": "stdout",
          "text": [
            "3\n",
            "3\n"
          ]
        }
      ]
    },
    {
      "cell_type": "code",
      "source": [
        "# python\n",
        "# a[행][열]\n",
        "print(a[0][2])\n",
        "print(a[0][-1])"
      ],
      "metadata": {
        "colab": {
          "base_uri": "https://localhost:8080/"
        },
        "id": "bpNL7biSNw6G",
        "outputId": "d7eb4252-a7ee-4dc3-97a9-44feb1ffd84c"
      },
      "execution_count": 69,
      "outputs": [
        {
          "output_type": "stream",
          "name": "stdout",
          "text": [
            "3\n",
            "3\n"
          ]
        }
      ]
    },
    {
      "cell_type": "markdown",
      "source": [
        "### (2) boolean indexing"
      ],
      "metadata": {
        "id": "n3Ad_qWKOgxv"
      }
    },
    {
      "cell_type": "code",
      "source": [
        "a = [[1, 2, 3, 4]] #python list"
      ],
      "metadata": {
        "id": "Kg_a-claOaaP"
      },
      "execution_count": 70,
      "outputs": []
    },
    {
      "cell_type": "code",
      "source": [
        "# TypeError\n",
        "a > 3 # list는 연산이 되지 않는다."
      ],
      "metadata": {
        "colab": {
          "base_uri": "https://localhost:8080/",
          "height": 193
        },
        "id": "-m9K5basOnYP",
        "outputId": "b3e49762-a157-4fdc-8d33-6972a98e0461"
      },
      "execution_count": 72,
      "outputs": [
        {
          "output_type": "error",
          "ename": "TypeError",
          "evalue": "ignored",
          "traceback": [
            "\u001b[0;31m---------------------------------------------------------------------------\u001b[0m",
            "\u001b[0;31mTypeError\u001b[0m                                 Traceback (most recent call last)",
            "\u001b[0;32m<ipython-input-72-c954f636df40>\u001b[0m in \u001b[0;36m<module>\u001b[0;34m\u001b[0m\n\u001b[1;32m      1\u001b[0m \u001b[0;31m# TypeError\u001b[0m\u001b[0;34m\u001b[0m\u001b[0;34m\u001b[0m\u001b[0;34m\u001b[0m\u001b[0m\n\u001b[0;32m----> 2\u001b[0;31m \u001b[0ma\u001b[0m \u001b[0;34m>\u001b[0m \u001b[0;36m3\u001b[0m \u001b[0;31m# list는 연산이 되지 않는다.\u001b[0m\u001b[0;34m\u001b[0m\u001b[0;34m\u001b[0m\u001b[0m\n\u001b[0m",
            "\u001b[0;31mTypeError\u001b[0m: '>' not supported between instances of 'list' and 'int'"
          ]
        }
      ]
    },
    {
      "cell_type": "code",
      "source": [
        "b = np.array([1, 2, 3, 4])\n",
        "b"
      ],
      "metadata": {
        "colab": {
          "base_uri": "https://localhost:8080/"
        },
        "id": "DrG7gsyMOoj3",
        "outputId": "5cf556e6-aa01-4214-ae49-195db525b5ad"
      },
      "execution_count": 73,
      "outputs": [
        {
          "output_type": "execute_result",
          "data": {
            "text/plain": [
              "array([1, 2, 3, 4])"
            ]
          },
          "metadata": {},
          "execution_count": 73
        }
      ]
    },
    {
      "cell_type": "markdown",
      "source": [
        "array를 scalar와 연산하면 elementwise로 계산한다.  \n",
        "(elementwise : 원소별로 각각 계산이 된다.)"
      ],
      "metadata": {
        "id": "N1RWXUriPEyg"
      }
    },
    {
      "cell_type": "code",
      "source": [
        "# 원소별로 비교해서 True / False로 계산한다.\n",
        "# 1 > 2, 2 > 2, 3 > 2, 4 > 2\n",
        "# numpy에서는 가능하고 python에서는 안된다.\n",
        "b > 2"
      ],
      "metadata": {
        "colab": {
          "base_uri": "https://localhost:8080/"
        },
        "id": "bWLhzq10O09P",
        "outputId": "638bb6a6-84c9-4f3b-edd1-c78bb739792c"
      },
      "execution_count": 77,
      "outputs": [
        {
          "output_type": "execute_result",
          "data": {
            "text/plain": [
              "array([False, False,  True,  True])"
            ]
          },
          "metadata": {},
          "execution_count": 77
        }
      ]
    },
    {
      "cell_type": "markdown",
      "source": [
        "numpy는 indexing, slicing 자리에 조건도 쓸 수 있다.\n",
        "True에 해당되는 값만 가져온다."
      ],
      "metadata": {
        "id": "zbzxTgxFQDBm"
      }
    },
    {
      "cell_type": "code",
      "source": [
        "# boolean indexing\n",
        "b[np.array([False, False, True, True])] # b[1, 2, 3, 4]"
      ],
      "metadata": {
        "colab": {
          "base_uri": "https://localhost:8080/"
        },
        "id": "pPXc3a7dPZrv",
        "outputId": "07682cfa-7d64-46a8-ff17-a9d6f78ea1b7"
      },
      "execution_count": 80,
      "outputs": [
        {
          "output_type": "execute_result",
          "data": {
            "text/plain": [
              "array([3, 4])"
            ]
          },
          "metadata": {},
          "execution_count": 80
        }
      ]
    },
    {
      "cell_type": "code",
      "source": [
        "b[b > 2] # 조건에 맞는 True값만 가져옴"
      ],
      "metadata": {
        "colab": {
          "base_uri": "https://localhost:8080/"
        },
        "id": "SVVr5KqcQiyX",
        "outputId": "795088c9-cb14-4b5d-8e97-b3551be83d1b"
      },
      "execution_count": 81,
      "outputs": [
        {
          "output_type": "execute_result",
          "data": {
            "text/plain": [
              "array([3, 4])"
            ]
          },
          "metadata": {},
          "execution_count": 81
        }
      ]
    },
    {
      "cell_type": "markdown",
      "source": [
        "numpy에서 boolean indexing조건\n",
        "- array만 가능하다.\n",
        "- numpy True, False로만 가능하다.\n",
        "- shape가 맞아야 한다. (개수가 맞을때만 사용할 수 있다)"
      ],
      "metadata": {
        "id": "DHWH4oUoQ__n"
      }
    },
    {
      "cell_type": "code",
      "source": [
        "# python에서는 지원 안한다.\n",
        "a = [1, 2, 3, 4]\n",
        "a[True, True, False, False]"
      ],
      "metadata": {
        "colab": {
          "base_uri": "https://localhost:8080/",
          "height": 211
        },
        "id": "MZ4sSmykQj0n",
        "outputId": "6e71615d-60cb-4712-f0de-5b519ccf3db4"
      },
      "execution_count": 82,
      "outputs": [
        {
          "output_type": "error",
          "ename": "TypeError",
          "evalue": "ignored",
          "traceback": [
            "\u001b[0;31m---------------------------------------------------------------------------\u001b[0m",
            "\u001b[0;31mTypeError\u001b[0m                                 Traceback (most recent call last)",
            "\u001b[0;32m<ipython-input-82-844c6b7762d2>\u001b[0m in \u001b[0;36m<module>\u001b[0;34m\u001b[0m\n\u001b[1;32m      1\u001b[0m \u001b[0;31m# python에서는 지원 안한다.\u001b[0m\u001b[0;34m\u001b[0m\u001b[0;34m\u001b[0m\u001b[0;34m\u001b[0m\u001b[0m\n\u001b[1;32m      2\u001b[0m \u001b[0ma\u001b[0m \u001b[0;34m=\u001b[0m \u001b[0;34m[\u001b[0m\u001b[0;36m1\u001b[0m\u001b[0;34m,\u001b[0m \u001b[0;36m2\u001b[0m\u001b[0;34m,\u001b[0m \u001b[0;36m3\u001b[0m\u001b[0;34m,\u001b[0m \u001b[0;36m4\u001b[0m\u001b[0;34m]\u001b[0m\u001b[0;34m\u001b[0m\u001b[0;34m\u001b[0m\u001b[0m\n\u001b[0;32m----> 3\u001b[0;31m \u001b[0ma\u001b[0m\u001b[0;34m[\u001b[0m\u001b[0;32mTrue\u001b[0m\u001b[0;34m,\u001b[0m \u001b[0;32mTrue\u001b[0m\u001b[0;34m,\u001b[0m \u001b[0;32mFalse\u001b[0m\u001b[0;34m,\u001b[0m \u001b[0;32mFalse\u001b[0m\u001b[0;34m]\u001b[0m\u001b[0;34m\u001b[0m\u001b[0;34m\u001b[0m\u001b[0m\n\u001b[0m",
            "\u001b[0;31mTypeError\u001b[0m: list indices must be integers or slices, not tuple"
          ]
        }
      ]
    },
    {
      "cell_type": "markdown",
      "source": [
        "### (3) fancy indexing"
      ],
      "metadata": {
        "id": "By_7UtlLUSmo"
      }
    },
    {
      "cell_type": "code",
      "source": [
        "b = np.arange(100).reshape(20, 5) # reshape(행, 열) 배열의 구조 변경\n",
        "b"
      ],
      "metadata": {
        "colab": {
          "base_uri": "https://localhost:8080/"
        },
        "id": "RIwE-y7qUWc6",
        "outputId": "502d3453-1c36-44bf-dcfb-ebc2f11de691"
      },
      "execution_count": 90,
      "outputs": [
        {
          "output_type": "execute_result",
          "data": {
            "text/plain": [
              "array([[ 0,  1,  2,  3,  4],\n",
              "       [ 5,  6,  7,  8,  9],\n",
              "       [10, 11, 12, 13, 14],\n",
              "       [15, 16, 17, 18, 19],\n",
              "       [20, 21, 22, 23, 24],\n",
              "       [25, 26, 27, 28, 29],\n",
              "       [30, 31, 32, 33, 34],\n",
              "       [35, 36, 37, 38, 39],\n",
              "       [40, 41, 42, 43, 44],\n",
              "       [45, 46, 47, 48, 49],\n",
              "       [50, 51, 52, 53, 54],\n",
              "       [55, 56, 57, 58, 59],\n",
              "       [60, 61, 62, 63, 64],\n",
              "       [65, 66, 67, 68, 69],\n",
              "       [70, 71, 72, 73, 74],\n",
              "       [75, 76, 77, 78, 79],\n",
              "       [80, 81, 82, 83, 84],\n",
              "       [85, 86, 87, 88, 89],\n",
              "       [90, 91, 92, 93, 94],\n",
              "       [95, 96, 97, 98, 99]])"
            ]
          },
          "metadata": {},
          "execution_count": 90
        }
      ]
    },
    {
      "cell_type": "markdown",
      "source": [
        "인덱싱, 슬라이싱 자리에 괄호를 하나 더 넣으면 fancy indexing 할 수 있다.  \n",
        "여러개를 한번에 인덱싱 할 수 있다."
      ],
      "metadata": {
        "id": "ChU2dSEgUwXQ"
      }
    },
    {
      "cell_type": "code",
      "source": [
        "b[:] # 전체행을 가져온다. b[:,:]와 같다 슬라이싱기법\n",
        "b[0, :] # 0번째 행의 모든 열\n",
        "# b[행, 열]\n",
        "print(b[1:3]) # 1행부터 3행 미만의 데이터를 가져온다.\n",
        "print(b[1:3, 2:4]) # 1행부터 3행미만 이면서 2열부터 4열 미만\n",
        "print(b[[1, 3, 5]]) # b[[1, 3, 5], :] 1행, 3행, 5행의 데이터를 가져온다.\n",
        "print(b[[1, 3, 5], [0, 2, 4]]) # 1행 0열, 3행 2열, 5행 4열의 데이터를 가져온다."
      ],
      "metadata": {
        "colab": {
          "base_uri": "https://localhost:8080/"
        },
        "id": "6zY8vAdVUZGG",
        "outputId": "78ea3709-3db6-4b51-abc3-e6dcb413753c"
      },
      "execution_count": 106,
      "outputs": [
        {
          "output_type": "stream",
          "name": "stdout",
          "text": [
            "[[ 5  6  7  8  9]\n",
            " [10 11 12 13 14]]\n",
            "[[ 7  8]\n",
            " [12 13]]\n",
            "[[ 5  6  7  8  9]\n",
            " [15 16 17 18 19]\n",
            " [25 26 27 28 29]]\n",
            "[ 5 17 29]\n"
          ]
        }
      ]
    },
    {
      "cell_type": "markdown",
      "source": [
        "fancying indexing은 인덱싱 기법만 사용할 수 있다.  \n",
        "\" : \"(콜론)은 슬라이싱 기법이므로 지원하지 않는다."
      ],
      "metadata": {
        "id": "zpWoCdxSXSQ3"
      }
    },
    {
      "cell_type": "code",
      "source": [
        "# Error\n",
        "b[[2:5]]"
      ],
      "metadata": {
        "colab": {
          "base_uri": "https://localhost:8080/",
          "height": 137
        },
        "id": "aC0UFOkoU9Bm",
        "outputId": "ace5c55a-e812-409b-fc1f-8d44454e43e8"
      },
      "execution_count": 108,
      "outputs": [
        {
          "output_type": "error",
          "ename": "SyntaxError",
          "evalue": "ignored",
          "traceback": [
            "\u001b[0;36m  File \u001b[0;32m\"<ipython-input-108-4dd318ecbc54>\"\u001b[0;36m, line \u001b[0;32m1\u001b[0m\n\u001b[0;31m    b[[2:5]]\u001b[0m\n\u001b[0m        ^\u001b[0m\n\u001b[0;31mSyntaxError\u001b[0m\u001b[0;31m:\u001b[0m invalid syntax\n"
          ]
        }
      ]
    },
    {
      "cell_type": "code",
      "source": [
        "# 0열, 2열, 4열에 해당하는 모든 행을 가져온다.\n",
        "b[:, [0, 2, 4]] # 전체행의 0열 2열 4열"
      ],
      "metadata": {
        "colab": {
          "base_uri": "https://localhost:8080/"
        },
        "id": "s4Ii01K6XfeO",
        "outputId": "92d01834-d342-4f64-8bde-1743c92542f2"
      },
      "execution_count": 109,
      "outputs": [
        {
          "output_type": "execute_result",
          "data": {
            "text/plain": [
              "array([[ 0,  2,  4],\n",
              "       [ 5,  7,  9],\n",
              "       [10, 12, 14],\n",
              "       [15, 17, 19],\n",
              "       [20, 22, 24],\n",
              "       [25, 27, 29],\n",
              "       [30, 32, 34],\n",
              "       [35, 37, 39],\n",
              "       [40, 42, 44],\n",
              "       [45, 47, 49],\n",
              "       [50, 52, 54],\n",
              "       [55, 57, 59],\n",
              "       [60, 62, 64],\n",
              "       [65, 67, 69],\n",
              "       [70, 72, 74],\n",
              "       [75, 77, 79],\n",
              "       [80, 82, 84],\n",
              "       [85, 87, 89],\n",
              "       [90, 92, 94],\n",
              "       [95, 97, 99]])"
            ]
          },
          "metadata": {},
          "execution_count": 109
        }
      ]
    },
    {
      "cell_type": "code",
      "source": [
        "# 개수가 같게 지정되야 한다.\n",
        "print(b[[1, 3, 4], [0, 2, 1]]) # 1행의 0열, 3행의 2열, 4행의 1열 - 정상처리\n",
        "b[[1, 3, 4], [0, 2]] # indexError / shape가 맞지않아 오류 3개, 2개"
      ],
      "metadata": {
        "colab": {
          "base_uri": "https://localhost:8080/",
          "height": 229
        },
        "id": "zi-sS81bYERT",
        "outputId": "32202a15-f626-4aef-816c-26a1686f1216"
      },
      "execution_count": 114,
      "outputs": [
        {
          "output_type": "stream",
          "name": "stdout",
          "text": [
            "[ 5 17 21]\n"
          ]
        },
        {
          "output_type": "error",
          "ename": "IndexError",
          "evalue": "ignored",
          "traceback": [
            "\u001b[0;31m---------------------------------------------------------------------------\u001b[0m",
            "\u001b[0;31mIndexError\u001b[0m                                Traceback (most recent call last)",
            "\u001b[0;32m<ipython-input-114-9f3dae498a3b>\u001b[0m in \u001b[0;36m<module>\u001b[0;34m\u001b[0m\n\u001b[1;32m      1\u001b[0m \u001b[0;31m# 개수가 같게 지정되야 한다.\u001b[0m\u001b[0;34m\u001b[0m\u001b[0;34m\u001b[0m\u001b[0;34m\u001b[0m\u001b[0m\n\u001b[1;32m      2\u001b[0m \u001b[0mprint\u001b[0m\u001b[0;34m(\u001b[0m\u001b[0mb\u001b[0m\u001b[0;34m[\u001b[0m\u001b[0;34m[\u001b[0m\u001b[0;36m1\u001b[0m\u001b[0;34m,\u001b[0m \u001b[0;36m3\u001b[0m\u001b[0;34m,\u001b[0m \u001b[0;36m4\u001b[0m\u001b[0;34m]\u001b[0m\u001b[0;34m,\u001b[0m \u001b[0;34m[\u001b[0m\u001b[0;36m0\u001b[0m\u001b[0;34m,\u001b[0m \u001b[0;36m2\u001b[0m\u001b[0;34m,\u001b[0m \u001b[0;36m1\u001b[0m\u001b[0;34m]\u001b[0m\u001b[0;34m]\u001b[0m\u001b[0;34m)\u001b[0m \u001b[0;31m# 1행의 0열, 3행의 2열, 4행의 1열\u001b[0m\u001b[0;34m\u001b[0m\u001b[0;34m\u001b[0m\u001b[0m\n\u001b[0;32m----> 3\u001b[0;31m \u001b[0mb\u001b[0m\u001b[0;34m[\u001b[0m\u001b[0;34m[\u001b[0m\u001b[0;36m1\u001b[0m\u001b[0;34m,\u001b[0m \u001b[0;36m3\u001b[0m\u001b[0;34m,\u001b[0m \u001b[0;36m4\u001b[0m\u001b[0;34m]\u001b[0m\u001b[0;34m,\u001b[0m \u001b[0;34m[\u001b[0m\u001b[0;36m0\u001b[0m\u001b[0;34m,\u001b[0m \u001b[0;36m2\u001b[0m\u001b[0;34m]\u001b[0m\u001b[0;34m]\u001b[0m \u001b[0;31m# indexError / shape가 맞지않아 오류 3개, 2개\u001b[0m\u001b[0;34m\u001b[0m\u001b[0;34m\u001b[0m\u001b[0m\n\u001b[0m",
            "\u001b[0;31mIndexError\u001b[0m: shape mismatch: indexing arrays could not be broadcast together with shapes (3,) (2,) "
          ]
        }
      ]
    },
    {
      "cell_type": "code",
      "source": [],
      "metadata": {
        "id": "IkGqizy3YNcm"
      },
      "execution_count": null,
      "outputs": []
    }
  ]
}