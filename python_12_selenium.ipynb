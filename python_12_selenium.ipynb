{
  "nbformat": 4,
  "nbformat_minor": 0,
  "metadata": {
    "colab": {
      "provenance": [],
      "authorship_tag": "ABX9TyO99yJdTbrC2mngbnGOBxIE",
      "include_colab_link": true
    },
    "kernelspec": {
      "name": "python3",
      "display_name": "Python 3"
    },
    "language_info": {
      "name": "python"
    }
  },
  "cells": [
    {
      "cell_type": "markdown",
      "metadata": {
        "id": "view-in-github",
        "colab_type": "text"
      },
      "source": [
        "<a href=\"https://colab.research.google.com/github/viperact/pythondemo/blob/main/python_12_selenium.ipynb\" target=\"_parent\"><img src=\"https://colab.research.google.com/assets/colab-badge.svg\" alt=\"Open In Colab\"/></a>"
      ]
    },
    {
      "cell_type": "markdown",
      "source": [
        "### Selenium\n",
        "- \"Web Application\"의 테스트를 자동화하기 위한 도구이다.\n",
        "- !pip install selenium\n",
        "- 참고사이트 \n",
        " - https://www.selenium.dev/documentation/webdriver/getting_started/upgrade_to_selenium_4/\n",
        " - https://kibua20.tistory.com/228\n",
        " - https://wikidocs.net/177133"
      ],
      "metadata": {
        "id": "0tFTeMNI2UAf"
      }
    },
    {
      "cell_type": "markdown",
      "source": [
        "### 구글 드라이브 연결"
      ],
      "metadata": {
        "id": "HUY_XVuF5KHv"
      }
    },
    {
      "cell_type": "code",
      "source": [
        "### 구글 드라이브 연동\n",
        "from google.colab import drive\n",
        "drive.mount('/content/drive')\n",
        "%cd /content/drive/MyDrive/python_demo"
      ],
      "metadata": {
        "colab": {
          "base_uri": "https://localhost:8080/"
        },
        "id": "PpbqLvfk5JTu",
        "outputId": "9f37149e-89b7-4dff-81cc-6dc287493634"
      },
      "execution_count": null,
      "outputs": [
        {
          "output_type": "stream",
          "name": "stdout",
          "text": [
            "Drive already mounted at /content/drive; to attempt to forcibly remount, call drive.mount(\"/content/drive\", force_remount=True).\n",
            "/content/drive/MyDrive/python_demo\n"
          ]
        }
      ]
    },
    {
      "cell_type": "markdown",
      "source": [
        "### selenium V4"
      ],
      "metadata": {
        "id": "fAYR3njo2AOO"
      }
    },
    {
      "cell_type": "code",
      "source": [
        "!pip install selenium\n",
        "\n",
        "# 특정 버전 설치\n",
        "#!pip install selenium == 4.4.3\n",
        "\n",
        "# selenium V4\n",
        "#!pip install webdriver-manager\n",
        "\n",
        "# 구글코랩 selenium4\n",
        "!apt-get update\n",
        "!apt install chromium-chromedriver\n",
        "!cp /usr/lib/chromium-browser/chromedriver /usr/bin"
      ],
      "metadata": {
        "colab": {
          "base_uri": "https://localhost:8080/",
          "height": 1000
        },
        "id": "vk6-2w7E4x6_",
        "outputId": "27567a85-b9a2-4dcf-fece-376f4c9c1241"
      },
      "execution_count": null,
      "outputs": [
        {
          "output_type": "stream",
          "name": "stdout",
          "text": [
            "Looking in indexes: https://pypi.org/simple, https://us-python.pkg.dev/colab-wheels/public/simple/\n",
            "Requirement already satisfied: selenium in /usr/local/lib/python3.8/dist-packages (4.7.2)\n",
            "Requirement already satisfied: trio-websocket~=0.9 in /usr/local/lib/python3.8/dist-packages (from selenium) (0.9.2)\n",
            "Collecting urllib3[socks]~=1.26\n",
            "  Using cached urllib3-1.26.13-py2.py3-none-any.whl (140 kB)\n",
            "Requirement already satisfied: certifi>=2021.10.8 in /usr/local/lib/python3.8/dist-packages (from selenium) (2022.9.24)\n",
            "Requirement already satisfied: trio~=0.17 in /usr/local/lib/python3.8/dist-packages (from selenium) (0.22.0)\n",
            "Requirement already satisfied: attrs>=19.2.0 in /usr/local/lib/python3.8/dist-packages (from trio~=0.17->selenium) (22.1.0)\n",
            "Requirement already satisfied: sortedcontainers in /usr/local/lib/python3.8/dist-packages (from trio~=0.17->selenium) (2.4.0)\n",
            "Requirement already satisfied: async-generator>=1.9 in /usr/local/lib/python3.8/dist-packages (from trio~=0.17->selenium) (1.10)\n",
            "Requirement already satisfied: exceptiongroup>=1.0.0rc9 in /usr/local/lib/python3.8/dist-packages (from trio~=0.17->selenium) (1.0.4)\n",
            "Requirement already satisfied: idna in /usr/local/lib/python3.8/dist-packages (from trio~=0.17->selenium) (2.10)\n",
            "Requirement already satisfied: sniffio in /usr/local/lib/python3.8/dist-packages (from trio~=0.17->selenium) (1.3.0)\n",
            "Requirement already satisfied: outcome in /usr/local/lib/python3.8/dist-packages (from trio~=0.17->selenium) (1.2.0)\n",
            "Requirement already satisfied: wsproto>=0.14 in /usr/local/lib/python3.8/dist-packages (from trio-websocket~=0.9->selenium) (1.2.0)\n",
            "Requirement already satisfied: PySocks!=1.5.7,<2.0,>=1.5.6 in /usr/local/lib/python3.8/dist-packages (from urllib3[socks]~=1.26->selenium) (1.7.1)\n",
            "Requirement already satisfied: h11<1,>=0.9.0 in /usr/local/lib/python3.8/dist-packages (from wsproto>=0.14->trio-websocket~=0.9->selenium) (0.14.0)\n",
            "Installing collected packages: urllib3\n",
            "  Attempting uninstall: urllib3\n",
            "    Found existing installation: urllib3 1.25.11\n",
            "    Uninstalling urllib3-1.25.11:\n",
            "      Successfully uninstalled urllib3-1.25.11\n",
            "\u001b[31mERROR: pip's dependency resolver does not currently take into account all the packages that are installed. This behaviour is the source of the following dependency conflicts.\n",
            "requests 2.23.0 requires urllib3!=1.25.0,!=1.25.1,<1.26,>=1.21.1, but you have urllib3 1.26.13 which is incompatible.\u001b[0m\n",
            "Successfully installed urllib3-1.26.13\n"
          ]
        },
        {
          "output_type": "display_data",
          "data": {
            "application/vnd.colab-display-data+json": {
              "pip_warning": {
                "packages": [
                  "urllib3"
                ]
              }
            }
          },
          "metadata": {}
        },
        {
          "output_type": "stream",
          "name": "stdout",
          "text": [
            "\r0% [Working]\r            \rGet:1 http://security.ubuntu.com/ubuntu bionic-security InRelease [88.7 kB]\n",
            "\r0% [Connecting to archive.ubuntu.com] [1 InRelease 14.2 kB/88.7 kB 16%] [Connec\r                                                                               \rHit:2 https://cloud.r-project.org/bin/linux/ubuntu bionic-cran40/ InRelease\n",
            "\r0% [Connecting to archive.ubuntu.com (91.189.91.39)] [1 InRelease 43.1 kB/88.7 \r0% [2 InRelease gpgv 3,626 B] [Connecting to archive.ubuntu.com (91.189.91.39)]\r0% [2 InRelease gpgv 3,626 B] [Waiting for headers] [Waiting for headers] [Conn\r                                                                               \rHit:3 http://archive.ubuntu.com/ubuntu bionic InRelease\n",
            "\r0% [2 InRelease gpgv 3,626 B] [Waiting for headers] [Waiting for headers] [Conn\r                                                                               \rIgn:4 https://developer.download.nvidia.com/compute/machine-learning/repos/ubuntu1804/x86_64  InRelease\n",
            "\r0% [2 InRelease gpgv 3,626 B] [Waiting for headers] [Waiting for headers] [Conn\r                                                                               \rGet:5 http://archive.ubuntu.com/ubuntu bionic-updates InRelease [88.7 kB]\n",
            "\r0% [2 InRelease gpgv 3,626 B] [5 InRelease 14.2 kB/88.7 kB 16%] [Waiting for he\r                                                                               \rHit:6 https://developer.download.nvidia.com/compute/cuda/repos/ubuntu1804/x86_64  InRelease\n",
            "Hit:7 https://developer.download.nvidia.com/compute/machine-learning/repos/ubuntu1804/x86_64  Release\n",
            "Hit:8 http://ppa.launchpad.net/c2d4u.team/c2d4u4.0+/ubuntu bionic InRelease\n",
            "Get:9 http://archive.ubuntu.com/ubuntu bionic-backports InRelease [83.3 kB]\n",
            "Hit:10 http://ppa.launchpad.net/cran/libgit2/ubuntu bionic InRelease\n",
            "Hit:11 http://ppa.launchpad.net/deadsnakes/ppa/ubuntu bionic InRelease\n",
            "Hit:12 http://ppa.launchpad.net/graphics-drivers/ppa/ubuntu bionic InRelease\n",
            "Fetched 261 kB in 3s (80.2 kB/s)\n",
            "Reading package lists... Done\n",
            "Reading package lists... Done\n",
            "Building dependency tree       \n",
            "Reading state information... Done\n",
            "chromium-chromedriver is already the newest version (108.0.5359.71-0ubuntu0.18.04.5).\n",
            "The following package was automatically installed and is no longer required:\n",
            "  libnvidia-common-460\n",
            "Use 'apt autoremove' to remove it.\n",
            "0 upgraded, 0 newly installed, 0 to remove and 21 not upgraded.\n",
            "cp: '/usr/lib/chromium-browser/chromedriver' and '/usr/bin/chromedriver' are the same file\n"
          ]
        }
      ]
    },
    {
      "cell_type": "markdown",
      "source": [
        "### import"
      ],
      "metadata": {
        "id": "OrvidMbI6ATV"
      }
    },
    {
      "cell_type": "code",
      "source": [
        "import requests\n",
        "from bs4 import BeautifulSoup\n",
        "import time\n",
        "from datetime import datetime\n",
        "\n",
        "from selenium import webdriver\n",
        "\n",
        "from selenium.webdriver.common.by import By\n",
        "from selenium.webdriver.support.ui import WebDriverWait \n",
        "from selenium.webdriver.support import expected_conditions as EC\n",
        "from selenium.webdriver.common.keys import Keys\n",
        "\n"
      ],
      "metadata": {
        "id": "12m3l7Xz5fP-"
      },
      "execution_count": null,
      "outputs": []
    },
    {
      "cell_type": "code",
      "source": [
        "# selenium V3\n",
        "# path = './lib/chromedriver.exe'\n",
        "# driver.get(path)\n",
        "\n",
        "# selenium V4\n",
        "# chrome_options = webdriver.ChromeOptions()\n",
        "# driver = webdriver.Chrome(service = Service(ChromeDriverManager().install()))\n",
        "\n",
        "# Colab에선 웹브라우저 창이 뜨지 않으므로 별도 설정한다.\n",
        "# 로그인 코드 재실행시 이 코드도 재실행\n",
        "options = webdriver.ChromeOptions()\n",
        "options.add_argument('--headless')        # Head-less 설정\n",
        "options.add_argument('--no-sandbox')\n",
        "options.add_argument('--disable-dev-shm-usage')\n",
        "driver = webdriver.Chrome('chromedriver', options=options)"
      ],
      "metadata": {
        "id": "sXrOBJew7V-v"
      },
      "execution_count": null,
      "outputs": []
    },
    {
      "cell_type": "markdown",
      "source": [
        "### Naver에서 id가 1개일때 & 검색어 입력"
      ],
      "metadata": {
        "id": "nsuvaLEd6ht9"
      }
    },
    {
      "cell_type": "code",
      "source": [
        "# url페이지를 가져옴\n",
        "url = 'https://www.naver.com/'\n",
        "driver.get(url)"
      ],
      "metadata": {
        "id": "tglz92wE6no2"
      },
      "execution_count": null,
      "outputs": []
    },
    {
      "cell_type": "code",
      "source": [
        "# 페이지의 소스를 가져옴(크롤링 데이터 확인) \n",
        "print(type(driver)) # WebDriver\n",
        "# print(driver.page_source)\n",
        "# print(type(driver.page_source))"
      ],
      "metadata": {
        "colab": {
          "base_uri": "https://localhost:8080/"
        },
        "id": "3VxeHli69u6u",
        "outputId": "2b1bdb8f-a61d-4b7e-e8bb-11c6ce40d4f6"
      },
      "execution_count": null,
      "outputs": [
        {
          "output_type": "stream",
          "name": "stdout",
          "text": [
            "<class 'selenium.webdriver.chrome.webdriver.WebDriver'>\n"
          ]
        }
      ]
    },
    {
      "cell_type": "code",
      "source": [
        "# WebElement로 리턴\n",
        "inputSearch = driver.find_element(By.ID, 'query')\n",
        "print(inputSearch)\n",
        "print(dir(inputSearch)) # WebElement에서 사용 가능한 자원들\n",
        "\n",
        "# 검색어를 입력한다.\n",
        "inputSearch.send_keys('겨울왕국')\n",
        "\n",
        "# id = 'search_btn' 인 검색버튼을 찾는다.\n",
        "buttonSearch = driver.find_element(By.ID, 'search_btn')\n",
        "\n",
        "print(inputSearch.get_attribute('value'))\n",
        "\n",
        "# 검색버튼 클릭처리 (객체에서 강제적으로 이벤트 발생시키기)\n",
        "buttonSearch.click()"
      ],
      "metadata": {
        "colab": {
          "base_uri": "https://localhost:8080/"
        },
        "id": "0jFcGE1Q9_bP",
        "outputId": "7b0e2f54-22db-412e-9a6d-3740630c287c"
      },
      "execution_count": null,
      "outputs": [
        {
          "output_type": "stream",
          "name": "stdout",
          "text": [
            "<selenium.webdriver.remote.webelement.WebElement (session=\"956889d48c99ea967c0354571173d1fe\", element=\"716e8c27-0ff4-4370-9b68-b5556fbf6480\")>\n",
            "['__abstractmethods__', '__class__', '__delattr__', '__dict__', '__dir__', '__doc__', '__eq__', '__format__', '__ge__', '__getattribute__', '__gt__', '__hash__', '__init__', '__init_subclass__', '__le__', '__lt__', '__module__', '__ne__', '__new__', '__reduce__', '__reduce_ex__', '__repr__', '__setattr__', '__sizeof__', '__str__', '__subclasshook__', '__weakref__', '_abc_impl', '_execute', '_id', '_parent', '_upload', 'accessible_name', 'aria_role', 'clear', 'click', 'find_element', 'find_elements', 'get_attribute', 'get_dom_attribute', 'get_property', 'id', 'is_displayed', 'is_enabled', 'is_selected', 'location', 'location_once_scrolled_into_view', 'parent', 'rect', 'screenshot', 'screenshot_as_base64', 'screenshot_as_png', 'send_keys', 'shadow_root', 'size', 'submit', 'tag_name', 'text', 'value_of_css_property']\n",
            "겨울왕국\n"
          ]
        }
      ]
    },
    {
      "cell_type": "markdown",
      "source": [
        "### Google에서 class가 1개일 때 & 검색어 입력"
      ],
      "metadata": {
        "id": "Gh12f1v9EFK1"
      }
    },
    {
      "cell_type": "code",
      "source": [
        "url = 'https://www.google.com/'\n",
        "driver.get(url)"
      ],
      "metadata": {
        "id": "pJXh1kleD4iO"
      },
      "execution_count": null,
      "outputs": []
    },
    {
      "cell_type": "code",
      "source": [
        "btns = driver.find_element(By.CLASS_NAME, 'gLFyf')\n",
        "\n",
        "# 검색어 입력\n",
        "btns.send_keys('겨울왕국')\n",
        "\n",
        "print(btns.get_attribute('value'))\n",
        "\n",
        "# btns.click() # click안됨 (버튼이 아니기때문에)\n",
        "btns.submit()"
      ],
      "metadata": {
        "colab": {
          "base_uri": "https://localhost:8080/"
        },
        "id": "bXlXM_OuEYlv",
        "outputId": "61c118a7-389f-4b24-c2e1-e6ee96412128"
      },
      "execution_count": null,
      "outputs": [
        {
          "output_type": "stream",
          "name": "stdout",
          "text": [
            "겨울왕국\n"
          ]
        }
      ]
    },
    {
      "cell_type": "markdown",
      "source": [
        "### Daum에서 css가 여러개 일때 "
      ],
      "metadata": {
        "id": "t4bdVJmeF4pN"
      }
    },
    {
      "cell_type": "code",
      "source": [
        "url = 'https://www.daum.net/'\n",
        "driver.get(url)"
      ],
      "metadata": {
        "id": "2XgAnTdBF95u"
      },
      "execution_count": null,
      "outputs": []
    },
    {
      "cell_type": "code",
      "source": [
        "# selector가 여러개 일때\n",
        "\n",
        "ahtml = driver.find_element(By.CSS_SELECTOR, '.menu_service > ul > li:nth-child(4) a')\n",
        "print(type(ahtml)) # WebElement\n",
        "print(ahtml.text)\n",
        "ahtml.click()"
      ],
      "metadata": {
        "colab": {
          "base_uri": "https://localhost:8080/"
        },
        "id": "GM0KCwolGnkz",
        "outputId": "3584a006-a489-4986-f139-32762617174c"
      },
      "execution_count": null,
      "outputs": [
        {
          "output_type": "stream",
          "name": "stdout",
          "text": [
            "<class 'selenium.webdriver.remote.webelement.WebElement'>\n",
            "지도\n"
          ]
        }
      ]
    },
    {
      "cell_type": "markdown",
      "source": [
        "### Naver에서 많이 본 뉴스 목록 보기"
      ],
      "metadata": {
        "id": "n0XL9vsJHyZN"
      }
    },
    {
      "cell_type": "code",
      "source": [
        "url = 'https://www.naver.com/'\n",
        "driver.get(url)"
      ],
      "metadata": {
        "id": "oym6_YCKH5c5"
      },
      "execution_count": null,
      "outputs": []
    },
    {
      "cell_type": "code",
      "source": [
        "# class가 두개인경우 .으로 붙여서 써줌\n",
        "news = driver.find_element(By.CSS_SELECTOR, '#NM_FAVORITE > div.group_nav > ul.list_nav.NM_FAVORITE_LIST > li:nth-child(2) > a.nav')\n",
        "print(news.text)\n",
        "news.click()\n",
        "\n",
        "div_cjs_list = driver.find_elements(By.CSS_SELECTOR, 'div.cjs_journal_wrap._item_contents div.cjs_news_tw > div.cjs_t')\n",
        "\n",
        "print(len(div_cjs_list))\n",
        "\n",
        "for element_cjs in div_cjs_list:\n",
        "  print(element_cjs.text)\n"
      ],
      "metadata": {
        "colab": {
          "base_uri": "https://localhost:8080/"
        },
        "id": "z6oQYTeQI5iF",
        "outputId": "fdaa6ec3-8581-4022-f2ba-3f5c75a0a517"
      },
      "execution_count": null,
      "outputs": [
        {
          "output_type": "stream",
          "name": "stdout",
          "text": [
            "뉴스\n",
            "81\n",
            "[현장연결] BTS 맏형 진 입대…팀에서 첫 군복 입는다\n",
            "\"조작의 신, 표절국\" 중국 보도에…서경덕 \"선 넘었다\"\n",
            "\"자식 팔아 한몫\" 창원시의원, 이태원 유족에 막말\n",
            "\"나라구하다 죽었냐\"..창원시의원, 이태원 참사 유족 향해 막말\n",
            "\"만 0세 아이 키우면 월70만원\"…내년부터 부모급여 지급\n",
            "\n",
            "\n",
            "\n",
            "\n",
            "\n",
            "\n",
            "\n",
            "\n",
            "\n",
            "\n",
            "\n",
            "\n",
            "\n",
            "\n",
            "\n",
            "\n",
            "\n",
            "\n",
            "\n",
            "\n",
            "\n",
            "\n",
            "\n",
            "\n",
            "\n",
            "\n",
            "\n",
            "\n",
            "\n",
            "\n",
            "\n",
            "\n",
            "\n",
            "\n",
            "\n",
            "\n",
            "\n",
            "\n",
            "\n",
            "\n",
            "\n",
            "\n",
            "\n",
            "\n",
            "\n",
            "\n",
            "\n",
            "\n",
            "\n",
            "\n",
            "\n",
            "\n",
            "\n",
            "\n",
            "\n",
            "\n",
            "\n",
            "\n",
            "\n",
            "\n",
            "\n",
            "\n",
            "\n",
            "\n",
            "\n",
            "\n",
            "\n",
            "\n",
            "\n",
            "\n",
            "\n",
            "\n",
            "\n",
            "\n",
            "\n",
            "\n"
          ]
        }
      ]
    },
    {
      "cell_type": "markdown",
      "source": [
        "### 시간창 대기 3가지\n",
        "- 일반적으로 시간창 대기는 time.sleep, implicity_wait, Explicit Waits 3가지 사용\n",
        " - time.sleep : 그냥 지정한 시간만큼 기다린 뒤에 작업을 진행\n",
        " - implicitly_wait : 지정한 시간만큼 기다려주고 그 이후는 기다리지 않음 (기다린동안 작업을 처리하면 시간이 안되도 넘어감)\n",
        " - Explicit Waits : 특정 상태가 될때까지 기다리고, 상태가 되면 바로 다음 실행"
      ],
      "metadata": {
        "id": "hX0tHdzJQhnN"
      }
    },
    {
      "cell_type": "code",
      "source": [
        "# 무조건 지정된 time만큼 대기\n",
        "# time.sleep(5) # 5초까지 기다려준다.\n",
        "\n",
        "# 5초 driver.implicity_wait(5)의 경우, 페이지가 2초만에 로딩된다면,\n",
        "# 5초를 기다리지 않고 바로 다음 코드로 넘어간다.\n",
        "driver.implicitly_wait(5)\n",
        "\n",
        "url = 'https://daum.net/'\n",
        "driver.get(url)\n",
        "\n",
        "# 버튼을 찾아서 누를건데, 최대 5초까지만 기다리겠다는 의미\n",
        "# button = WebDriverWait(driver, 5).until(EC.presence_of_element_located((By.CSS_SELECTOR), '.menu_service > ul > li:nth-child(4) > a'))\n",
        "button = WebDriverWait(driver, 5).until(EC.presence_of_element_located((By.CSS_SELECTOR, '.menu_service > ul > li:nth-child(4) > a')))\n",
        "print(button.text)\n",
        "button.click()\n"
      ],
      "metadata": {
        "colab": {
          "base_uri": "https://localhost:8080/"
        },
        "id": "kqJhLgHOJZhE",
        "outputId": "19427471-f669-4b1c-ef1e-991091a39132"
      },
      "execution_count": null,
      "outputs": [
        {
          "output_type": "stream",
          "name": "stdout",
          "text": [
            "지도\n"
          ]
        }
      ]
    },
    {
      "cell_type": "markdown",
      "source": [
        "### daum 로그인"
      ],
      "metadata": {
        "id": "hSWL9yfqWeNk"
      }
    },
    {
      "cell_type": "code",
      "source": [
        "# Colab에선 웹브라우저 창이 뜨지 않으므로 별도 설정한다.\n",
        "# 로그인 코드 재실행시 이 코드도 재실행\n",
        "options = webdriver.ChromeOptions()\n",
        "options.add_argument('--headless')        # Head-less 설정\n",
        "options.add_argument('--no-sandbox')\n",
        "options.add_argument('--disable-dev-shm-usage')\n",
        "driver = webdriver.Chrome('chromedriver', options=options)"
      ],
      "metadata": {
        "id": "RsUYmpuxdPG2"
      },
      "execution_count": null,
      "outputs": []
    },
    {
      "cell_type": "code",
      "source": [
        "url = 'https://www.daum.net/'\n",
        "driver.get(url)\n",
        "\n",
        "next = driver.find_element(By.XPATH, '//*[@id=\"inner_login\"]/a[1]')\n",
        "next.click()\n",
        "\n",
        "inputid = driver.find_element(By.ID, 'input-loginKey')\n",
        "\n",
        "inputpwd = driver.find_element(By.ID, 'input-password')\n",
        "\n",
        "time.sleep(3)\n",
        "\n",
        "inputid.send_keys('as3429038@naver.com')\n",
        "inputpwd.send_keys('whddka10sla!')\n",
        "\n",
        "login = driver.find_element(By.CLASS_NAME, 'btn_g.highlight')\n",
        "login.click()"
      ],
      "metadata": {
        "id": "9jK0mdehVHBM"
      },
      "execution_count": null,
      "outputs": []
    },
    {
      "cell_type": "code",
      "source": [
        "url = 'https://www.daum.net/'\n",
        "driver.get(url)\n",
        "\n",
        "button = WebDriverWait(driver, 5).until(EC.presence_of_element_located((By.CLASS_NAME, 'txt_pctop.link_mail')))\n",
        "print(button.text)\n",
        "button.click()\n",
        "\n",
        "\n",
        "button3 = WebDriverWait(driver, 5).until(EC.presence_of_element_located((By.CLASS_NAME, 'fst.link_mail')))\n",
        "print(button3.text)\n",
        "button3.click()"
      ],
      "metadata": {
        "colab": {
          "base_uri": "https://localhost:8080/"
        },
        "id": "QDppjPNhgX2e",
        "outputId": "a698fbaa-770e-4f30-ff43-2eb83752f514"
      },
      "execution_count": null,
      "outputs": [
        {
          "output_type": "stream",
          "name": "stdout",
          "text": [
            "메일\n",
            "전체\n"
          ]
        }
      ]
    },
    {
      "cell_type": "code",
      "source": [
        "# 네이버 로그인\n",
        "\n",
        "options = webdriver.ChromeOptions()\n",
        "options.add_argument('--headless')        # Head-less 설정\n",
        "options.add_argument('--no-sandbox')\n",
        "options.add_argument('--disable-dev-shm-usage')\n",
        "driver = webdriver.Chrome('chromedriver', options=options)\n",
        "\n",
        "url = 'https://www.naver.com/'\n",
        "driver.get(url)\n",
        "\n",
        "next = driver.find_element(By.XPATH, '//*[@id=\"account\"]/a')\n",
        "next.click()\n",
        "\n",
        "inputid = driver.find_element(By.ID, 'id')\n",
        "\n",
        "inputpwd = driver.find_element(By.ID, 'pw')\n",
        "\n",
        "time.sleep(3)\n",
        "\n",
        "inputid.send_keys('viperact')\n",
        "inputpwd.send_keys('whddka10sla!')\n",
        "\n",
        "login = driver.find_element(By.CLASS_NAME, 'btn_login')\n",
        "login.click()"
      ],
      "metadata": {
        "id": "0y7QAHW4jZft"
      },
      "execution_count": null,
      "outputs": []
    },
    {
      "cell_type": "code",
      "source": [
        "# !pip freeze"
      ],
      "metadata": {
        "id": "U27Py9kjWm-j"
      },
      "execution_count": null,
      "outputs": []
    },
    {
      "cell_type": "markdown",
      "source": [
        "![이미지](https://t1.daumcdn.net/daumtop_chanel/op/20200723055344399.png)\n",
        "\n"
      ],
      "metadata": {
        "id": "k6A-iSjVmNLd"
      }
    },
    {
      "cell_type": "markdown",
      "source": [],
      "metadata": {
        "id": "31OlWa26nwVl"
      }
    },
    {
      "cell_type": "code",
      "source": [
        "url=\"https://drive.google.com/file/d/1xSaXBU5nmTBawvU3MirEezdk25XXAlnR/view?usp=share_link\" \n",
        "path='https://drive.google.com/uc?export=download&id='+url.split('/')[-2]\n",
        "size=\"width=\\\"\\\" \"+\"height =\\\"\\\" \"\n",
        "tag=\"<img src='\"+path+\"' \"+size+\"/><br>\"\n",
        "print(\" ▶ Path : \", path)\n",
        "print('\\n',\"▶ Tag : \", tag)"
      ],
      "metadata": {
        "colab": {
          "base_uri": "https://localhost:8080/"
        },
        "id": "p9SWMZ52nY3N",
        "outputId": "25886f47-4a29-4dcb-cd89-99d0588b4f41"
      },
      "execution_count": null,
      "outputs": [
        {
          "output_type": "stream",
          "name": "stdout",
          "text": [
            " ▶ Path :  https://drive.google.com/uc?export=download&id=1xSaXBU5nmTBawvU3MirEezdk25XXAlnR\n",
            "\n",
            " ▶ Tag :  <img src='https://drive.google.com/uc?export=download&id=1xSaXBU5nmTBawvU3MirEezdk25XXAlnR' width=\"\" height =\"\" /><br>\n"
          ]
        }
      ]
    },
    {
      "cell_type": "markdown",
      "source": [
        "![이미지](https://drive.google.com/uc?export=download&id=1xSaXBU5nmTBawvU3MirEezdk25XXAlnR)"
      ],
      "metadata": {
        "id": "4jk8u18soAuV"
      }
    }
  ]
}