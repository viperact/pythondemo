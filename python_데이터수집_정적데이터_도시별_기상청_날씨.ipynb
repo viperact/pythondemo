{
  "nbformat": 4,
  "nbformat_minor": 0,
  "metadata": {
    "colab": {
      "provenance": [],
      "include_colab_link": true
    },
    "kernelspec": {
      "name": "python3",
      "display_name": "Python 3"
    },
    "language_info": {
      "name": "python"
    }
  },
  "cells": [
    {
      "cell_type": "markdown",
      "metadata": {
        "id": "view-in-github",
        "colab_type": "text"
      },
      "source": [
        "<a href=\"https://colab.research.google.com/github/viperact/pythondemo/blob/main/python_%EB%8D%B0%EC%9D%B4%ED%84%B0%EC%88%98%EC%A7%91_%EC%A0%95%EC%A0%81%EB%8D%B0%EC%9D%B4%ED%84%B0_%EB%8F%84%EC%8B%9C%EB%B3%84_%EA%B8%B0%EC%83%81%EC%B2%AD_%EB%82%A0%EC%94%A8.ipynb\" target=\"_parent\"><img src=\"https://colab.research.google.com/assets/colab-badge.svg\" alt=\"Open In Colab\"/></a>"
      ]
    },
    {
      "cell_type": "markdown",
      "source": [
        "## 도시별 기상청 날씨 크로링하기\n",
        "https://www.weather.go.kr/w/obs-climate/land/city-obs.do"
      ],
      "metadata": {
        "id": "hePSkcdjhveo"
      }
    },
    {
      "cell_type": "markdown",
      "source": [
        "### 구글 드라이브 연결\n"
      ],
      "metadata": {
        "id": "vcIufNLxh7ZN"
      }
    },
    {
      "cell_type": "code",
      "execution_count": 1,
      "metadata": {
        "colab": {
          "base_uri": "https://localhost:8080/"
        },
        "id": "6fPRbhojhtWb",
        "outputId": "c7aa06db-5bd5-43ba-cd2e-e8885774b104"
      },
      "outputs": [
        {
          "output_type": "stream",
          "name": "stdout",
          "text": [
            "Mounted at /content/drive\n",
            "/content/drive/MyDrive/python_demo\n"
          ]
        }
      ],
      "source": [
        "from google.colab import drive\n",
        "drive.mount('/content/drive')\n",
        "\n",
        "%cd /content/drive/MyDrive/python_demo"
      ]
    },
    {
      "cell_type": "markdown",
      "source": [
        "### 1 import"
      ],
      "metadata": {
        "id": "3mx2Gn-_jZ7v"
      }
    },
    {
      "cell_type": "code",
      "source": [
        "from bs4 import BeautifulSoup\n",
        "import requests"
      ],
      "metadata": {
        "id": "ZEq0ZwxajJZ4"
      },
      "execution_count": null,
      "outputs": []
    },
    {
      "cell_type": "markdown",
      "source": [
        "### 2. 작업결과를 저장할 리스트 준비"
      ],
      "metadata": {
        "id": "j-V3ErB59Ao7"
      }
    },
    {
      "cell_type": "code",
      "source": [
        "result = [ ]"
      ],
      "metadata": {
        "id": "gjr3Uol29B8R"
      },
      "execution_count": null,
      "outputs": []
    },
    {
      "cell_type": "markdown",
      "source": [
        "### 3 BeautifulSoup 객체 생성하여 파싱\n"
      ],
      "metadata": {
        "id": "azGy5cGBjhkE"
      }
    },
    {
      "cell_type": "code",
      "source": [
        "header = {\"User-Agent\":\"Mozilla/5.0 (Windows NT 10.0; Win64; x64) AppleWebKit/537.36 (KHTML, like Gecko) Chrome/91.0.4472.124 Safari/537.36\"}\n",
        "url = 'https://www.weather.go.kr/w/obs-climate/land/city-obs.do'\n",
        "\n",
        "\n",
        "res = requests.get(url, headers = header)\n",
        "soup = BeautifulSoup(res.text, 'html.parser')\n",
        "print(type(soup))\n",
        "\n",
        "tbody_tag = soup.find('tbody')\n",
        "tr_rs_tag = tbody_tag.find_all('tr')\n",
        "print(type(tr_rs_tag))\n",
        "#print(tr_rs_tag[0])\n",
        "\n",
        "for tr_tag in tr_rs_tag :\n",
        "   td_rs_tag = tr_tag.find_all('td')   \n",
        "   city = td_rs_tag[0].string\n",
        "   cur_temp = td_rs_tag[5].string\n",
        "   sen_temp = td_rs_tag[7].string\n",
        "   result.append([city, cur_temp, sen_temp])"
      ],
      "metadata": {
        "colab": {
          "base_uri": "https://localhost:8080/"
        },
        "id": "C_ZcIzVFjmjJ",
        "outputId": "245964a6-8675-428f-9f77-f431d805a2cd"
      },
      "execution_count": null,
      "outputs": [
        {
          "output_type": "stream",
          "name": "stdout",
          "text": [
            "<class 'bs4.BeautifulSoup'>\n",
            "<class 'bs4.element.ResultSet'>\n"
          ]
        }
      ]
    },
    {
      "cell_type": "markdown",
      "source": [
        "### 4 크롤링된 도시, 현재기온 , 체감온도 결과"
      ],
      "metadata": {
        "id": "Xs_GBe_m7WZm"
      }
    },
    {
      "cell_type": "code",
      "source": [
        "for element in result:\n",
        "  print(element)\n",
        "  break"
      ],
      "metadata": {
        "colab": {
          "base_uri": "https://localhost:8080/"
        },
        "id": "-zpfkMd07QUV",
        "outputId": "0f260c6a-e3db-408b-89b4-929d902e7dcd"
      },
      "execution_count": null,
      "outputs": [
        {
          "output_type": "stream",
          "name": "stdout",
          "text": [
            "['강릉', '4.8', '2.5']\n"
          ]
        }
      ]
    },
    {
      "cell_type": "markdown",
      "source": [
        "### 5. 테이블을 csv파일로 저장"
      ],
      "metadata": {
        "id": "o2tVFt-i82lw"
      }
    },
    {
      "cell_type": "code",
      "source": [
        "import csv \n",
        "# field names  \n",
        "fields = ['StoreArea', 'StoreName', 'StorePhone'] \n",
        "\n",
        "with open('./data_crowing/weather.csv', 'w',newline='') as f: \n",
        "   write = csv.writer(f)       \n",
        "   write.writerow(fields) \n",
        "   write.writerows(result)"
      ],
      "metadata": {
        "id": "G-lrJyLwkvqP"
      },
      "execution_count": null,
      "outputs": []
    },
    {
      "cell_type": "markdown",
      "source": [
        "### 6 기타 : 저장할때 날짜 지정"
      ],
      "metadata": {
        "id": "gzDBUGOl-DFn"
      }
    },
    {
      "cell_type": "code",
      "source": [
        "import datetime\n",
        "now = datetime.datetime.today()\n",
        "print(now)\n",
        "print(now.utcnow())\n",
        "print(now.year, now.month, now.day, now.hour, now.minute)\n",
        "print(now.date())\n",
        "print(now.time())\n"
      ],
      "metadata": {
        "id": "iZ9wnFG29kQF"
      },
      "execution_count": null,
      "outputs": []
    },
    {
      "cell_type": "code",
      "source": [
        "import time\n",
        "\n",
        "time.strftime('%Y-%m-%d', time.localtime(time.time()))"
      ],
      "metadata": {
        "id": "K83zTYjg-KOF",
        "colab": {
          "base_uri": "https://localhost:8080/",
          "height": 35
        },
        "outputId": "9e760573-1033-436c-d4e9-ba0627ade7e5"
      },
      "execution_count": null,
      "outputs": [
        {
          "output_type": "execute_result",
          "data": {
            "text/plain": [
              "'2022-12-11'"
            ],
            "application/vnd.google.colaboratory.intrinsic+json": {
              "type": "string"
            }
          },
          "metadata": {},
          "execution_count": 81
        }
      ]
    },
    {
      "cell_type": "markdown",
      "source": [
        "## 파이썬 파일 작성하여 크롤링하기"
      ],
      "metadata": {
        "id": "9vAyx6ei-RmD"
      }
    },
    {
      "cell_type": "code",
      "source": [
        "from bs4 import BeautifulSoup\n",
        "import requests\n",
        "\n",
        "import csv\n",
        "import datetime\n",
        "\n",
        "\n",
        "def weather_temp():\n",
        "  result = []\n",
        "  header = {\"User-Agent\":\"Mozilla/5.0 (Windows NT 10.0; Win64; x64) AppleWebKit/537.36 (KHTML, like Gecko) Chrome/91.0.4472.124 Safari/537.36\"}\n",
        "  url = 'https://www.weather.go.kr/w/obs-climate/land/city-obs.do'\n",
        "\n",
        "  res = requests.get(url, headers = header)\n",
        "  soup = BeautifulSoup(res.text, 'html.parser')\n",
        "\n",
        "  tbody_tag = soup.find('tbody')\n",
        "  tr_rs_tag = tbody_tag.find_all('tr')\n",
        "\n",
        "\n",
        "  for tr_tag in tr_rs_tag :\n",
        "      td_rs_tag = tr_tag.find_all('td')   \n",
        "      city = td_rs_tag[0].string\n",
        "      cur_temp = td_rs_tag[5].string\n",
        "      sen_temp = td_rs_tag[7].string\n",
        "      result.append([city, cur_temp, sen_temp])\n",
        "  return result\n",
        "\n",
        "def main():    \n",
        "    result = weather_temp()   \n",
        "    print('result',result) \n",
        "    # 2022-10-10-weathers.csv\n",
        "    to_now = datetime.datetime.today().date()\n",
        "    \n",
        "    # field names  \n",
        "    fields = ['도시', '현재기온', '체감온도'] \n",
        "\n",
        "    with open('./data_crowling/%s-weathers.csv' % to_now, 'w',newline='') as f: \n",
        "       write = csv.writer(f)       \n",
        "       write.writerow(fields) \n",
        "       write.writerows(result)     \n",
        "   \n",
        "    print('weather 데이터 저장 완료')\n",
        "    del result[:]\n",
        "\n",
        "if __name__ =='__main__':\n",
        "    main()"
      ],
      "metadata": {
        "colab": {
          "base_uri": "https://localhost:8080/"
        },
        "id": "wy76wiDB-K6W",
        "outputId": "699f3bc2-532d-4d58-eecd-551d1fcd8c02"
      },
      "execution_count": 3,
      "outputs": [
        {
          "output_type": "stream",
          "name": "stdout",
          "text": [
            "result [['강릉', '7.1', '5.4'], ['강진군', '6.2', '6.2'], ['강화', '1.3', '1.3'], ['거제', '7.7', '6.9'], ['거창', '4.9', '4.9'], ['경주시', '7.2', '3.2'], ['고산', '8.8', '4.7'], ['고창', '5.1', '3.6'], ['고창군', '3.5', '3.5'], ['고흥', '6.4', '5.3'], ['광양시', '5.4', '5.4'], ['광주', '5.8', '5.8'], ['구미', '6.7', '6.7'], ['군산', '4.9', '2.2'], ['금산', '1.7', '1.7'], ['김해시', '7.0', '4.8'], ['남원', '3.1', '3.1'], ['남해', '4.8', '4.8'], ['대관령', '-1.0', '-7.5'], ['대구', '5.7', '4.2'], ['대전', '3.8', '2.6'], ['동두천', '0.6', '0.6'], ['동해', '8.7', '7.4'], ['목포', '6.6', '6.6'], ['문경', '2.9', '2.9'], ['밀양', '7.0', '7.0'], ['백령도', '5.4', '1.5'], ['보령', '5.4', '2.8'], ['보성군', '7.0', '4.8'], ['보은', '3.0', '3.0'], ['봉화', '5.8', '5.8'], ['부산', '8.3', '5.8'], ['부안', '4.9', '4.9'], ['부여', '5.0', '4.1'], ['북강릉', '6.6', '4.2'], ['북창원', '6.5', '5.0'], ['북춘천', '4.1', '2.2'], ['산청', '5.1', '3.4'], ['상주', '5.0', '5.0'], ['서귀포', '10.0', '8.0'], ['서산', '4.8', '1.8'], ['서울', '3.5', '0.9'], ['성산', '8.9', '6.6'], ['세종', '4.2', '4.2'], ['속초', '5.4', '3.9'], ['수원', '3.6', '3.6'], ['순창군', '2.6', '2.6'], ['순천', '5.1', '2.8'], ['안동', '5.4', '3.5'], ['양산시', '9.0', '8.1'], ['양평', '5.0', '5.0'], ['여수', '6.1', '3.6'], ['영광군', '5.8', '5.8'], ['영덕', '5.7', '3.1'], ['영월', '3.4', '3.4'], ['영주', '4.4', '3.4'], ['영천', '4.7', '4.7'], ['완도', '7.5', '5.6'], ['울릉도', '8.6', '6.9'], ['울산', '10.6', '8.8'], ['울진', '7.8', '5.9'], ['원주', '4.9', '4.9'], ['의령군', '5.2', '2.7'], ['의성', '6.4', '6.4'], ['이천', '5.3', '4.0'], ['인제', '4.1', '2.6'], ['인천', '3.4', '3.4'], ['임실', '2.4', '2.4'], ['장수', '0.4', '0.4'], ['장흥', '6.4', '4.7'], ['전주', '4.8', '3.6'], ['정선군', '3.1', '-0.3'], ['정읍', '4.7', '3.5'], ['제주', '9.7', '7.4'], ['제천', '1.1', '1.1'], ['진도군', '6.4', '5.0'], ['진주', '5.3', '5.3'], ['창원', '6.0', '6.0'], ['천안', '5.4', '4.3'], ['철원', '0.7', '-0.8'], ['청송군', '3.2', '1.3'], ['청주', '5.0', '5.0'], ['추풍령', '3.5', '0.8'], ['춘천', '4.8', '3.3'], ['충주', '1.5', '1.5'], ['태백', '0.9', '-2.3'], ['통영', '6.9', '4.6'], ['파주', '0.3', '0.3'], ['포항', '8.8', '6.8'], ['함양군', '5.0', '2.8'], ['합천', '6.9', '6.9'], ['해남', '5.3', '5.3'], ['홍성', '4.6', '1.8'], ['홍천', '4.3', '4.3'], ['흑산도', '7.1', '5.7']]\n",
            "weather 데이터 저장 완료\n"
          ]
        }
      ]
    },
    {
      "cell_type": "code",
      "source": [
        "\n",
        "to_now = datetime.datetime.today().date()\n",
        "with open('./data_crowling/%s-weathers.csv' % to_now, 'r') as f:\n",
        "   #print(type(list(f.read())))  \n",
        "   print(f.readline())\n",
        "   for element in f :\n",
        "     #print(element)\n",
        "     #print(type(element))\n",
        "     td_list = element.split(',')\n",
        "     print(td_list[0], td_list[1], td_list[2])\n",
        "    # break\n",
        "       \n",
        "    \n",
        "    \n",
        "     \n",
        "\n"
      ],
      "metadata": {
        "colab": {
          "base_uri": "https://localhost:8080/"
        },
        "id": "y0HcX7Iq_gK_",
        "outputId": "f8362b55-d746-45a6-b888-b50963cda36b"
      },
      "execution_count": 4,
      "outputs": [
        {
          "output_type": "stream",
          "name": "stdout",
          "text": [
            "도시,현재기온,체감온도\n",
            "\n",
            "강릉 7.1 5.4\n",
            "\n",
            "강진군 6.2 6.2\n",
            "\n",
            "강화 1.3 1.3\n",
            "\n",
            "거제 7.7 6.9\n",
            "\n",
            "거창 4.9 4.9\n",
            "\n",
            "경주시 7.2 3.2\n",
            "\n",
            "고산 8.8 4.7\n",
            "\n",
            "고창 5.1 3.6\n",
            "\n",
            "고창군 3.5 3.5\n",
            "\n",
            "고흥 6.4 5.3\n",
            "\n",
            "광양시 5.4 5.4\n",
            "\n",
            "광주 5.8 5.8\n",
            "\n",
            "구미 6.7 6.7\n",
            "\n",
            "군산 4.9 2.2\n",
            "\n",
            "금산 1.7 1.7\n",
            "\n",
            "김해시 7.0 4.8\n",
            "\n",
            "남원 3.1 3.1\n",
            "\n",
            "남해 4.8 4.8\n",
            "\n",
            "대관령 -1.0 -7.5\n",
            "\n",
            "대구 5.7 4.2\n",
            "\n",
            "대전 3.8 2.6\n",
            "\n",
            "동두천 0.6 0.6\n",
            "\n",
            "동해 8.7 7.4\n",
            "\n",
            "목포 6.6 6.6\n",
            "\n",
            "문경 2.9 2.9\n",
            "\n",
            "밀양 7.0 7.0\n",
            "\n",
            "백령도 5.4 1.5\n",
            "\n",
            "보령 5.4 2.8\n",
            "\n",
            "보성군 7.0 4.8\n",
            "\n",
            "보은 3.0 3.0\n",
            "\n",
            "봉화 5.8 5.8\n",
            "\n",
            "부산 8.3 5.8\n",
            "\n",
            "부안 4.9 4.9\n",
            "\n",
            "부여 5.0 4.1\n",
            "\n",
            "북강릉 6.6 4.2\n",
            "\n",
            "북창원 6.5 5.0\n",
            "\n",
            "북춘천 4.1 2.2\n",
            "\n",
            "산청 5.1 3.4\n",
            "\n",
            "상주 5.0 5.0\n",
            "\n",
            "서귀포 10.0 8.0\n",
            "\n",
            "서산 4.8 1.8\n",
            "\n",
            "서울 3.5 0.9\n",
            "\n",
            "성산 8.9 6.6\n",
            "\n",
            "세종 4.2 4.2\n",
            "\n",
            "속초 5.4 3.9\n",
            "\n",
            "수원 3.6 3.6\n",
            "\n",
            "순창군 2.6 2.6\n",
            "\n",
            "순천 5.1 2.8\n",
            "\n",
            "안동 5.4 3.5\n",
            "\n",
            "양산시 9.0 8.1\n",
            "\n",
            "양평 5.0 5.0\n",
            "\n",
            "여수 6.1 3.6\n",
            "\n",
            "영광군 5.8 5.8\n",
            "\n",
            "영덕 5.7 3.1\n",
            "\n",
            "영월 3.4 3.4\n",
            "\n",
            "영주 4.4 3.4\n",
            "\n",
            "영천 4.7 4.7\n",
            "\n",
            "완도 7.5 5.6\n",
            "\n",
            "울릉도 8.6 6.9\n",
            "\n",
            "울산 10.6 8.8\n",
            "\n",
            "울진 7.8 5.9\n",
            "\n",
            "원주 4.9 4.9\n",
            "\n",
            "의령군 5.2 2.7\n",
            "\n",
            "의성 6.4 6.4\n",
            "\n",
            "이천 5.3 4.0\n",
            "\n",
            "인제 4.1 2.6\n",
            "\n",
            "인천 3.4 3.4\n",
            "\n",
            "임실 2.4 2.4\n",
            "\n",
            "장수 0.4 0.4\n",
            "\n",
            "장흥 6.4 4.7\n",
            "\n",
            "전주 4.8 3.6\n",
            "\n",
            "정선군 3.1 -0.3\n",
            "\n",
            "정읍 4.7 3.5\n",
            "\n",
            "제주 9.7 7.4\n",
            "\n",
            "제천 1.1 1.1\n",
            "\n",
            "진도군 6.4 5.0\n",
            "\n",
            "진주 5.3 5.3\n",
            "\n",
            "창원 6.0 6.0\n",
            "\n",
            "천안 5.4 4.3\n",
            "\n",
            "철원 0.7 -0.8\n",
            "\n",
            "청송군 3.2 1.3\n",
            "\n",
            "청주 5.0 5.0\n",
            "\n",
            "추풍령 3.5 0.8\n",
            "\n",
            "춘천 4.8 3.3\n",
            "\n",
            "충주 1.5 1.5\n",
            "\n",
            "태백 0.9 -2.3\n",
            "\n",
            "통영 6.9 4.6\n",
            "\n",
            "파주 0.3 0.3\n",
            "\n",
            "포항 8.8 6.8\n",
            "\n",
            "함양군 5.0 2.8\n",
            "\n",
            "합천 6.9 6.9\n",
            "\n",
            "해남 5.3 5.3\n",
            "\n",
            "홍성 4.6 1.8\n",
            "\n",
            "홍천 4.3 4.3\n",
            "\n",
            "흑산도 7.1 5.7\n",
            "\n"
          ]
        }
      ]
    },
    {
      "cell_type": "code",
      "source": [],
      "metadata": {
        "id": "CHWLBmrQ_ahO"
      },
      "execution_count": null,
      "outputs": []
    }
  ]
}